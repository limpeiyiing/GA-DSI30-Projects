{
 "cells": [
  {
   "cell_type": "markdown",
   "id": "a2e1c0b8-f0f0-4b3e-97c1-3a1dd6f12639",
   "metadata": {},
   "source": [
    "<img src=\"http://imgur.com/1ZcRyrc.png\" style=\"float: left; margin: 20px; height: 55px\">\n",
    "\n",
    "# Project 2: Modelling Ames Housing Data and Kaggle Challenge  \n",
    "## PART 2/2: Linear Regression Modeling and Conclusion"
   ]
  },
  {
   "cell_type": "markdown",
   "id": "a158234a-a551-473b-ad2d-c8dfd00e368c",
   "metadata": {},
   "source": [
    "----"
   ]
  },
  {
   "cell_type": "markdown",
   "id": "b511aa17-d774-4f1d-af53-4cc63e76775b",
   "metadata": {},
   "source": [
    "### Re-importing Data"
   ]
  },
  {
   "cell_type": "code",
   "execution_count": 1,
   "id": "08830e34-7b94-46c7-b68a-a552f475b5e5",
   "metadata": {},
   "outputs": [],
   "source": [
    "import pandas as pd\n",
    "import numpy as np\n",
    "import matplotlib.pyplot as plt\n",
    "import matplotlib.ticker as ticker\n",
    "import seaborn as sns"
   ]
  },
  {
   "cell_type": "code",
   "execution_count": 2,
   "id": "3aca877c-2780-4d56-8cb5-ffb1fabf6106",
   "metadata": {},
   "outputs": [],
   "source": [
    "train = pd.read_csv('../dataset/train_clean.csv')\n",
    "test = pd.read_csv('../dataset/test_clean.csv')"
   ]
  },
  {
   "cell_type": "code",
   "execution_count": 3,
   "id": "7ad13bc6-5804-4d47-9a6f-fb7de85748e0",
   "metadata": {
    "tags": []
   },
   "outputs": [
    {
     "name": "stdout",
     "output_type": "stream",
     "text": [
      "train\n",
      "nullvalues = 0\n",
      "Index(['Id', 'PID', 'MS SubClass', 'MS Zoning', 'Lot Frontage', 'Lot Area',\n",
      "       'Street', 'Alley', 'Lot Shape', 'Land Contour', 'Utilities',\n",
      "       'Lot Config', 'Land Slope', 'Neighborhood', 'Condition 1',\n",
      "       'Condition 2', 'Bldg Type', 'House Style', 'Overall Qual',\n",
      "       'Overall Cond', 'Year Built', 'Year Remod/Add', 'Roof Style',\n",
      "       'Roof Matl', 'Exterior 1st', 'Exterior 2nd', 'Mas Vnr Type',\n",
      "       'Mas Vnr Area', 'Exter Cond', 'Foundation', 'Bsmt Qual', 'Bsmt Cond',\n",
      "       'Bsmt Exposure', 'BsmtFin Type 1', 'BsmtFin SF 1', 'BsmtFin Type 2',\n",
      "       'BsmtFin SF 2', 'Bsmt Unf SF', 'Total Bsmt SF', 'Heating', 'Heating QC',\n",
      "       'Central Air', 'Electrical', '1st Flr SF', '2nd Flr SF',\n",
      "       'Low Qual Fin SF', 'Gr Liv Area', 'Bsmt Full Bath', 'Bsmt Half Bath',\n",
      "       'Full Bath', 'Half Bath', 'Bedroom AbvGr', 'Kitchen AbvGr',\n",
      "       'Kitchen Qual', 'TotRms AbvGrd', 'Functional', 'Fireplaces',\n",
      "       'Fireplace Qu', 'Garage Type', 'Garage Yr Blt', 'Garage Finish',\n",
      "       'Garage Cars', 'Garage Area', 'Garage Qual', 'Garage Cond',\n",
      "       'Paved Drive', 'Wood Deck SF', 'Open Porch SF', 'Enclosed Porch',\n",
      "       '3Ssn Porch', 'Screen Porch', 'Pool Area', 'Pool QC', 'Fence',\n",
      "       'Misc Feature', 'Misc Val', 'Mo Sold', 'Yr Sold', 'Sale Type',\n",
      "       'SalePrice', 'price_per_lot_area', 'price_per_gr_liv_area',\n",
      "       'age_at_sale', 'years_since_remod', 'age_vs_remod', 'remod_cat',\n",
      "       'Exter Qual_Ex', 'Exter Qual_Fa', 'Exter Qual_Gd', 'low_tier',\n",
      "       'mid_tier', 'high_tier', 'Neighborhood_cat'],\n",
      "      dtype='object')\n",
      "-------\n",
      "test\n",
      "nullvalues = 0\n",
      "Index(['Id', 'PID', 'MS SubClass', 'MS Zoning', 'Lot Frontage', 'Lot Area',\n",
      "       'Street', 'Alley', 'Lot Shape', 'Land Contour', 'Utilities',\n",
      "       'Lot Config', 'Land Slope', 'Neighborhood', 'Condition 1',\n",
      "       'Condition 2', 'Bldg Type', 'House Style', 'Overall Qual',\n",
      "       'Overall Cond', 'Year Built', 'Year Remod/Add', 'Roof Style',\n",
      "       'Roof Matl', 'Exterior 1st', 'Exterior 2nd', 'Mas Vnr Type',\n",
      "       'Mas Vnr Area', 'Exter Cond', 'Foundation', 'Bsmt Qual', 'Bsmt Cond',\n",
      "       'Bsmt Exposure', 'BsmtFin Type 1', 'BsmtFin SF 1', 'BsmtFin Type 2',\n",
      "       'BsmtFin SF 2', 'Bsmt Unf SF', 'Total Bsmt SF', 'Heating', 'Heating QC',\n",
      "       'Central Air', 'Electrical', '1st Flr SF', '2nd Flr SF',\n",
      "       'Low Qual Fin SF', 'Gr Liv Area', 'Bsmt Full Bath', 'Bsmt Half Bath',\n",
      "       'Full Bath', 'Half Bath', 'Bedroom AbvGr', 'Kitchen AbvGr',\n",
      "       'Kitchen Qual', 'TotRms AbvGrd', 'Functional', 'Fireplaces',\n",
      "       'Fireplace Qu', 'Garage Type', 'Garage Yr Blt', 'Garage Finish',\n",
      "       'Garage Cars', 'Garage Area', 'Garage Qual', 'Garage Cond',\n",
      "       'Paved Drive', 'Wood Deck SF', 'Open Porch SF', 'Enclosed Porch',\n",
      "       '3Ssn Porch', 'Screen Porch', 'Pool Area', 'Pool QC', 'Fence',\n",
      "       'Misc Feature', 'Misc Val', 'Mo Sold', 'Yr Sold', 'Sale Type',\n",
      "       'age_at_sale', 'years_since_remod', 'age_vs_remod', 'Exter Qual_Ex',\n",
      "       'Exter Qual_Fa', 'Exter Qual_Gd', 'low_tier', 'mid_tier', 'high_tier'],\n",
      "      dtype='object')\n",
      "-------\n"
     ]
    }
   ],
   "source": [
    "for name,df in zip(['train','test'],[train,test]):\n",
    "    print(name)\n",
    "    print(f\"nullvalues = {df.isnull().sum().sum()}\")\n",
    "    print(df.columns)\n",
    "    print('-------')"
   ]
  },
  {
   "cell_type": "markdown",
   "id": "e86160a3-53e6-47e7-8af6-bede1fb9f112",
   "metadata": {},
   "source": [
    "### 3. Hypothesis Testing"
   ]
  },
  {
   "cell_type": "markdown",
   "id": "76c2647b-4c30-4765-b248-a34beb6ef854",
   "metadata": {},
   "source": [
    "Do Above Ground Living Area, Age of Property at Sale and Neighborhood have any impact on Property Sale Price?\n",
    "\n",
    "**Null hypothesis**: Gr Liv Area, Age of Property at Sale, External Quality and Neighborhood DO NOT have any impact on Property Sale Price. The coefficients of these features are equal to zero. \n",
    "\n",
    "**Alternative hypothesis**: Gr Liv Area, Age of Property at Sale, External Quality and Neighborhood are significant predictors of Property Sale Price. The coefficients of these features are not equal to zero. \n",
    "\n",
    "We will revisit this after modelling the data"
   ]
  },
  {
   "cell_type": "markdown",
   "id": "5f67f7be-fd70-4536-afbc-5818f46aefdb",
   "metadata": {},
   "source": [
    "### 4. Modelling with Linear Regression"
   ]
  },
  {
   "cell_type": "code",
   "execution_count": 4,
   "id": "a8646200-efcb-4b35-b83f-c0a9a3b3ad8e",
   "metadata": {},
   "outputs": [],
   "source": [
    "from sklearn.model_selection import train_test_split, cross_val_score\n",
    "from sklearn.linear_model import LinearRegression, RidgeCV, Ridge, Lasso, LassoCV\n",
    "# from sklearn.metrics import r2_score, mean_squared_error\n",
    "from sklearn import metrics\n",
    "from sklearn.preprocessing import StandardScaler"
   ]
  },
  {
   "cell_type": "markdown",
   "id": "cebb5069-4d1c-47a2-b430-1abefe41d055",
   "metadata": {},
   "source": [
    "##### 4.1 Feature Selection"
   ]
  },
  {
   "cell_type": "code",
   "execution_count": 5,
   "id": "a64db37b-685f-404c-92a4-d07a16f7ff07",
   "metadata": {},
   "outputs": [],
   "source": [
    "all_cont_feat = ['1st Flr SF',\n",
    " '2nd Flr SF',\n",
    " '3Ssn Porch',\n",
    " 'Bedroom AbvGr',\n",
    " 'Bsmt Full Bath',\n",
    " 'Bsmt Half Bath',\n",
    " 'Bsmt Unf SF',\n",
    " 'BsmtFin SF 1',\n",
    " 'BsmtFin SF 2',\n",
    " 'Enclosed Porch',\n",
    " 'Fireplaces',\n",
    " 'Full Bath',\n",
    " 'Garage Area',\n",
    " 'Garage Cars',\n",
    " 'Gr Liv Area',\n",
    " 'Half Bath',\n",
    " 'Kitchen AbvGr',\n",
    " 'Lot Area',\n",
    " 'Lot Frontage',\n",
    " 'Low Qual Fin SF',\n",
    " 'Mas Vnr Area',\n",
    " 'Misc Val',\n",
    " 'Mo Sold',\n",
    " 'Open Porch SF',\n",
    " 'Pool Area',\n",
    " 'Screen Porch',\n",
    " 'TotRms AbvGrd',\n",
    " 'Total Bsmt SF',\n",
    " 'Wood Deck SF',\n",
    " 'age_at_sale',\n",
    " 'years_since_remod',\n",
    " 'age_vs_remod',\n",
    " 'Overall Qual',\n",
    " 'Overall Cond']\n",
    "\n",
    "one_hot_encoded = ['Exter Qual_Ex', 'Exter Qual_Fa', 'Exter Qual_Gd', \n",
    "                   'low_tier','mid_tier', 'high_tier']\n",
    "\n",
    "combined_feat = all_cont_feat+one_hot_encoded\n",
    "\n",
    "trim_feat = ['Gr Liv Area','Total Bsmt SF','Garage Area',\n",
    "             'TotRms AbvGrd',\n",
    "             'Bsmt Full Bath','Full Bath',\n",
    "             'age_at_sale','years_since_remod',\n",
    "             'Overall Qual', 'Overall Cond',\n",
    "             'low_tier', 'high_tier']"
   ]
  },
  {
   "cell_type": "code",
   "execution_count": 6,
   "id": "6103f4c2-380c-4f48-a186-e66809fd80f4",
   "metadata": {},
   "outputs": [
    {
     "data": {
      "text/html": [
       "<div>\n",
       "<style scoped>\n",
       "    .dataframe tbody tr th:only-of-type {\n",
       "        vertical-align: middle;\n",
       "    }\n",
       "\n",
       "    .dataframe tbody tr th {\n",
       "        vertical-align: top;\n",
       "    }\n",
       "\n",
       "    .dataframe thead th {\n",
       "        text-align: right;\n",
       "    }\n",
       "</style>\n",
       "<table border=\"1\" class=\"dataframe\">\n",
       "  <thead>\n",
       "    <tr style=\"text-align: right;\">\n",
       "      <th></th>\n",
       "      <th>1st Flr SF</th>\n",
       "      <th>2nd Flr SF</th>\n",
       "      <th>3Ssn Porch</th>\n",
       "      <th>Bedroom AbvGr</th>\n",
       "      <th>Bsmt Full Bath</th>\n",
       "      <th>Bsmt Half Bath</th>\n",
       "      <th>Bsmt Unf SF</th>\n",
       "      <th>BsmtFin SF 1</th>\n",
       "      <th>BsmtFin SF 2</th>\n",
       "      <th>Enclosed Porch</th>\n",
       "      <th>...</th>\n",
       "      <th>years_since_remod</th>\n",
       "      <th>age_vs_remod</th>\n",
       "      <th>Overall Qual</th>\n",
       "      <th>Overall Cond</th>\n",
       "      <th>Exter Qual_Ex</th>\n",
       "      <th>Exter Qual_Fa</th>\n",
       "      <th>Exter Qual_Gd</th>\n",
       "      <th>low_tier</th>\n",
       "      <th>mid_tier</th>\n",
       "      <th>high_tier</th>\n",
       "    </tr>\n",
       "  </thead>\n",
       "  <tbody>\n",
       "    <tr>\n",
       "      <th>0</th>\n",
       "      <td>908</td>\n",
       "      <td>1020</td>\n",
       "      <td>0</td>\n",
       "      <td>4</td>\n",
       "      <td>0</td>\n",
       "      <td>0</td>\n",
       "      <td>1020</td>\n",
       "      <td>0</td>\n",
       "      <td>0</td>\n",
       "      <td>112</td>\n",
       "      <td>...</td>\n",
       "      <td>56</td>\n",
       "      <td>1.714286</td>\n",
       "      <td>6</td>\n",
       "      <td>8</td>\n",
       "      <td>0</td>\n",
       "      <td>0</td>\n",
       "      <td>0</td>\n",
       "      <td>1.0</td>\n",
       "      <td>0.0</td>\n",
       "      <td>0.0</td>\n",
       "    </tr>\n",
       "    <tr>\n",
       "      <th>1</th>\n",
       "      <td>1967</td>\n",
       "      <td>0</td>\n",
       "      <td>0</td>\n",
       "      <td>6</td>\n",
       "      <td>0</td>\n",
       "      <td>0</td>\n",
       "      <td>1967</td>\n",
       "      <td>0</td>\n",
       "      <td>0</td>\n",
       "      <td>0</td>\n",
       "      <td>...</td>\n",
       "      <td>29</td>\n",
       "      <td>1.000000</td>\n",
       "      <td>5</td>\n",
       "      <td>4</td>\n",
       "      <td>0</td>\n",
       "      <td>0</td>\n",
       "      <td>0</td>\n",
       "      <td>1.0</td>\n",
       "      <td>0.0</td>\n",
       "      <td>0.0</td>\n",
       "    </tr>\n",
       "    <tr>\n",
       "      <th>2</th>\n",
       "      <td>664</td>\n",
       "      <td>832</td>\n",
       "      <td>0</td>\n",
       "      <td>3</td>\n",
       "      <td>1</td>\n",
       "      <td>0</td>\n",
       "      <td>100</td>\n",
       "      <td>554</td>\n",
       "      <td>0</td>\n",
       "      <td>0</td>\n",
       "      <td>...</td>\n",
       "      <td>0</td>\n",
       "      <td>0.000000</td>\n",
       "      <td>7</td>\n",
       "      <td>5</td>\n",
       "      <td>0</td>\n",
       "      <td>0</td>\n",
       "      <td>1</td>\n",
       "      <td>0.0</td>\n",
       "      <td>1.0</td>\n",
       "      <td>0.0</td>\n",
       "    </tr>\n",
       "    <tr>\n",
       "      <th>3</th>\n",
       "      <td>968</td>\n",
       "      <td>0</td>\n",
       "      <td>0</td>\n",
       "      <td>2</td>\n",
       "      <td>0</td>\n",
       "      <td>0</td>\n",
       "      <td>968</td>\n",
       "      <td>0</td>\n",
       "      <td>0</td>\n",
       "      <td>184</td>\n",
       "      <td>...</td>\n",
       "      <td>1</td>\n",
       "      <td>84.000000</td>\n",
       "      <td>5</td>\n",
       "      <td>6</td>\n",
       "      <td>0</td>\n",
       "      <td>0</td>\n",
       "      <td>1</td>\n",
       "      <td>1.0</td>\n",
       "      <td>0.0</td>\n",
       "      <td>0.0</td>\n",
       "    </tr>\n",
       "    <tr>\n",
       "      <th>4</th>\n",
       "      <td>1394</td>\n",
       "      <td>0</td>\n",
       "      <td>0</td>\n",
       "      <td>3</td>\n",
       "      <td>1</td>\n",
       "      <td>0</td>\n",
       "      <td>785</td>\n",
       "      <td>609</td>\n",
       "      <td>0</td>\n",
       "      <td>0</td>\n",
       "      <td>...</td>\n",
       "      <td>46</td>\n",
       "      <td>1.000000</td>\n",
       "      <td>6</td>\n",
       "      <td>5</td>\n",
       "      <td>0</td>\n",
       "      <td>0</td>\n",
       "      <td>0</td>\n",
       "      <td>1.0</td>\n",
       "      <td>0.0</td>\n",
       "      <td>0.0</td>\n",
       "    </tr>\n",
       "  </tbody>\n",
       "</table>\n",
       "<p>5 rows × 40 columns</p>\n",
       "</div>"
      ],
      "text/plain": [
       "   1st Flr SF  2nd Flr SF  3Ssn Porch  Bedroom AbvGr  Bsmt Full Bath  \\\n",
       "0         908        1020           0              4               0   \n",
       "1        1967           0           0              6               0   \n",
       "2         664         832           0              3               1   \n",
       "3         968           0           0              2               0   \n",
       "4        1394           0           0              3               1   \n",
       "\n",
       "   Bsmt Half Bath  Bsmt Unf SF  BsmtFin SF 1  BsmtFin SF 2  Enclosed Porch  \\\n",
       "0               0         1020             0             0             112   \n",
       "1               0         1967             0             0               0   \n",
       "2               0          100           554             0               0   \n",
       "3               0          968             0             0             184   \n",
       "4               0          785           609             0               0   \n",
       "\n",
       "   ...  years_since_remod  age_vs_remod  Overall Qual  Overall Cond  \\\n",
       "0  ...                 56      1.714286             6             8   \n",
       "1  ...                 29      1.000000             5             4   \n",
       "2  ...                  0      0.000000             7             5   \n",
       "3  ...                  1     84.000000             5             6   \n",
       "4  ...                 46      1.000000             6             5   \n",
       "\n",
       "   Exter Qual_Ex  Exter Qual_Fa  Exter Qual_Gd  low_tier  mid_tier  high_tier  \n",
       "0              0              0              0       1.0       0.0        0.0  \n",
       "1              0              0              0       1.0       0.0        0.0  \n",
       "2              0              0              1       0.0       1.0        0.0  \n",
       "3              0              0              1       1.0       0.0        0.0  \n",
       "4              0              0              0       1.0       0.0        0.0  \n",
       "\n",
       "[5 rows x 40 columns]"
      ]
     },
     "execution_count": 6,
     "metadata": {},
     "output_type": "execute_result"
    }
   ],
   "source": [
    "##just to check that the Kaggle test set has all the columns needed:\n",
    "\n",
    "test.loc[:,combined_feat].head()"
   ]
  },
  {
   "cell_type": "markdown",
   "id": "a05dba2c-2d8d-4721-ba58-8f6c2369e52f",
   "metadata": {},
   "source": [
    "##### 4.2 Modelling"
   ]
  },
  {
   "cell_type": "code",
   "execution_count": 7,
   "id": "e2e0830c-0788-44d4-8bf5-75e70da888cc",
   "metadata": {
    "tags": []
   },
   "outputs": [],
   "source": [
    "def model(cont_feat,lasso_n_alphas,ridge_lower_alpha,ridge_upper_alpha):\n",
    "    X = train.loc[:,cont_feat]\n",
    "    y = train[\"SalePrice\"]\n",
    "    X_train, X_test, y_train, y_test = train_test_split(X,y,random_state = 48,train_size = 0.8)\n",
    "    \n",
    "    ss = StandardScaler()\n",
    "    ss.fit(X_train)\n",
    "    X_train_sc = ss.transform(X_train)\n",
    "    X_test_sc = ss.transform(X_test)\n",
    "    \n",
    "    lr = LinearRegression()\n",
    "    \n",
    "    lasso_cv = LassoCV(n_alphas=lasso_n_alphas)\n",
    "    lasso_cv.fit(X_train_sc,y_train)\n",
    "    lasso = Lasso(alpha = lasso_cv.alpha_)\n",
    "    print(f\"lasso_alpha = {lasso_cv.alpha_}\")\n",
    "    \n",
    "    ridge_cv = RidgeCV(alphas=range(ridge_lower_alpha,ridge_upper_alpha))\n",
    "    ridge_cv.fit(X_train_sc,y_train)\n",
    "    ridge = Ridge(alpha = ridge_cv.alpha_)\n",
    "    print(f\"ridge_alpha = {ridge_cv.alpha_}\")\n",
    "    \n",
    "    print(\"----------\")\n",
    "    \n",
    "    lr_scores = cross_val_score(lr,X_train_sc,y_train,cv=5,scoring = 'neg_root_mean_squared_error')\n",
    "    lasso_scores = cross_val_score(lasso,X_train_sc,y_train,cv=5,scoring = 'neg_root_mean_squared_error')\n",
    "    ridge_scores = cross_val_score(ridge,X_train_sc,y_train,cv=5,scoring = 'neg_root_mean_squared_error')\n",
    "    \n",
    "    print(\"CV Scores (Root Mean Squared Error)\")\n",
    "    print(f\"LR_score = {(-1*lr_scores).mean()}\")\n",
    "    print(f\"Lasso_score = {(-1*lasso_scores).mean()}\")\n",
    "    print(f\"Ridge_score = {(-1*ridge_scores).mean()}\")\n",
    "    \n",
    "    model.lr_scores = -1*lr_scores\n",
    "    model.lasso_scores = -1*lasso_scores\n",
    "    model.ridge_scores = -1*ridge_scores\n",
    "    \n",
    "    model.X_train = X_train\n",
    "    model.X_train_sc = X_train_sc\n",
    "    model.X_test_sc = X_test_sc\n",
    "    model.y_train = y_train \n",
    "    model.y_test = y_test\n",
    "    \n",
    "    model.lr = lr\n",
    "    model.lasso = lasso\n",
    "    model.ridge = ridge\n",
    "    model.lasso_alpha = lasso_cv.alpha_\n",
    "    model.ridge_alpha = ridge_cv.alpha_\n",
    "    "
   ]
  },
  {
   "cell_type": "code",
   "execution_count": 8,
   "id": "1a9f9c6f-a8b3-4fa5-b66c-d061f9bdcdb4",
   "metadata": {},
   "outputs": [
    {
     "name": "stdout",
     "output_type": "stream",
     "text": [
      "lasso_alpha = 394.3179838005772\n",
      "ridge_alpha = 47\n",
      "----------\n",
      "CV Scores (Root Mean Squared Error)\n",
      "LR_score = 25026.816257399572\n",
      "Lasso_score = 24840.02699432386\n",
      "Ridge_score = 24986.585366622145\n"
     ]
    },
    {
     "name": "stderr",
     "output_type": "stream",
     "text": [
      "/Users/kenneththesheep/opt/anaconda3/envs/dsi30/lib/python3.8/site-packages/sklearn/linear_model/_ridge.py:1791: RuntimeWarning: invalid value encountered in reciprocal\n",
      "  w = ((singvals_sq + alpha) ** -1) - (alpha ** -1)\n"
     ]
    }
   ],
   "source": [
    "feat = combined_feat\n",
    "lasso_n_alphas = 100\n",
    "ridge_lower_alpha = 1\n",
    "ridge_upper_alpha = 50\n",
    "\n",
    "model(feat,lasso_n_alphas,ridge_lower_alpha,ridge_upper_alpha)\n",
    "\n",
    "X_train_sc = model.X_train_sc\n",
    "X_test_sc = model.X_test_sc\n",
    "y_train = model.y_train\n",
    "y_test = model.y_test"
   ]
  },
  {
   "cell_type": "code",
   "execution_count": 9,
   "id": "932f837a-da0d-460c-805c-6864ce71cdd7",
   "metadata": {
    "tags": []
   },
   "outputs": [],
   "source": [
    "def lr_mod(lr,feat):\n",
    "    lr.fit(X_train_sc,y_train)\n",
    "    print(\"Linear Regression Train vs Test Scores\")\n",
    "    print(\"R2 Scores:\")\n",
    "    lr_train_score_r2 = lr.score(X_train_sc,y_train)\n",
    "    lr_test_score_r2 = lr.score(X_test_sc,y_test)\n",
    "    print(f\"train scores = {lr_train_score_r2}\")\n",
    "    print(f\"test scores = {lr_test_score_r2}\")\n",
    "    lr_preds = lr.predict(X_test_sc)\n",
    "    lr_RMSE = metrics.mean_squared_error(y_test,lr_preds, squared = False)\n",
    "    \n",
    "    lr_mod.lr_train_score_r2 = lr_train_score_r2\n",
    "    lr_mod.lr_test_score_r2 = lr_test_score_r2\n",
    "    lr_mod.lr_RMSE = lr_RMSE\n",
    "    \n",
    "    print(f\"RMSE(test): {lr_RMSE}\")\n",
    "    \n",
    "    print(\"Linear Regression Coef:\")\n",
    "    \n",
    "    pd.Series(lr.coef_, index = feat).sort_values(ascending=False).plot.bar(figsize = (15,7),alpha=0.5,color='red');\n",
    "    \n",
    "    lr_mod.coef_df = pd.Series(lr.coef_, index = feat).sort_values(ascending=False)"
   ]
  },
  {
   "cell_type": "code",
   "execution_count": 10,
   "id": "0264af34-219a-4daf-b36c-5b83bd2b805f",
   "metadata": {
    "tags": []
   },
   "outputs": [],
   "source": [
    "def lasso_mod(lasso,feat,lasso_alpha):\n",
    "    lasso = Lasso(alpha = lasso_alpha)\n",
    "    lasso.fit(X_train_sc,y_train)\n",
    "    lasso_train_score_r2 = lasso.score(X_train_sc,y_train)\n",
    "    lasso_test_score_r2 = lasso.score(X_test_sc,y_test)\n",
    "    print(f\"train scores = {lasso_train_score_r2}\")\n",
    "    print(f\"test scores = {lasso_test_score_r2}\")\n",
    "    lasso_preds = lasso.predict(X_test_sc)\n",
    "    lasso_RMSE = metrics.mean_squared_error(y_test,lasso_preds, squared = False)\n",
    "    print(f\"RMSE(test): {lasso_RMSE}\")\n",
    "    \n",
    "    lasso_mod.lasso_train_score_r2 = lasso_train_score_r2\n",
    "    lasso_mod.lasso_test_score_r2 = lasso_test_score_r2\n",
    "    lasso_mod.lasso_RMSE = lasso_RMSE\n",
    "    \n",
    "    print(\"Lasso Coef:\")\n",
    "    \n",
    "    lasso_mod.coef = pd.Series(lasso.coef_, index = feat).sort_values(ascending=False)\n",
    "    \n",
    "    pd.Series(lasso.coef_, index = feat).sort_values(ascending=False).plot.bar(figsize = (15,7),\n",
    "                                                                                           alpha=0.5,color='blue')"
   ]
  },
  {
   "cell_type": "code",
   "execution_count": 11,
   "id": "5390aefc-4be3-4d2c-a49b-4cd8828339b7",
   "metadata": {
    "tags": []
   },
   "outputs": [],
   "source": [
    "def ridge_mod(ridge,feat,ridge_alpha):\n",
    "    ridge = Ridge(alpha = ridge_alpha)\n",
    "    ridge.fit(X_train_sc,y_train)\n",
    "    print(\"Ridge Train vs Test Scores\")\n",
    "    print(\"R2 Scores:\")\n",
    "    ridge_train_score_r2 = ridge.score(X_train_sc,y_train)\n",
    "    ridge_test_score_r2 = ridge.score(X_test_sc,y_test)\n",
    "    print(f\"train scores = {ridge_train_score_r2}\")\n",
    "    print(f\"test scores = {ridge_test_score_r2}\")\n",
    "    ridge_preds = ridge.predict(X_test_sc)\n",
    "    ridge_RMSE = metrics.mean_squared_error(y_test,ridge_preds, squared = False)\n",
    "    print(f\"RMSE(test): {ridge_RMSE}\")\n",
    "    \n",
    "    ridge_mod.ridge_train_score_r2 = ridge_train_score_r2\n",
    "    ridge_mod.ridge_test_score_r2 = ridge_test_score_r2\n",
    "    ridge_mod.ridge_RMSE = ridge_RMSE\n",
    "    \n",
    "    print(\"-------\")\n",
    "    print(\"Ridge Coef:\")\n",
    "    \n",
    "    ridge_mod.coef = pd.Series(ridge.coef_, index = feat).sort_values(ascending=False)\n",
    "    \n",
    "    pd.Series(ridge.coef_, index = feat).sort_values(ascending=False).plot.bar(figsize = (15,7),\n",
    "                                                                                           alpha=0.5,color='green');"
   ]
  },
  {
   "cell_type": "markdown",
   "id": "36355423-32f7-4bb1-9be5-bb6705a19695",
   "metadata": {
    "tags": []
   },
   "source": [
    "##### 4.3 Refining Model"
   ]
  },
  {
   "cell_type": "markdown",
   "id": "c5f60687-ca06-44f5-8e53-425a70276d6c",
   "metadata": {},
   "source": [
    "###### 4.3.1 **First Iteration: Max Number of Features**"
   ]
  },
  {
   "cell_type": "code",
   "execution_count": 12,
   "id": "91ae8d67-cbe6-4eeb-8e70-4ac5d2df4de2",
   "metadata": {},
   "outputs": [],
   "source": [
    "feat = combined_feat\n",
    "lasso_n_alphas = 100\n",
    "ridge_lower_alpha = 1\n",
    "ridge_upper_alpha = 5\n",
    "   "
   ]
  },
  {
   "cell_type": "code",
   "execution_count": 13,
   "id": "e087274b-fa9d-4163-9490-1ec6e6a8fffc",
   "metadata": {
    "tags": []
   },
   "outputs": [
    {
     "name": "stdout",
     "output_type": "stream",
     "text": [
      "lasso_alpha = 394.3179838005772\n",
      "ridge_alpha = 4\n",
      "----------\n",
      "CV Scores (Root Mean Squared Error)\n",
      "LR_score = 25026.816257399572\n",
      "Lasso_score = 24840.02699432386\n",
      "Ridge_score = 25019.69682117698\n"
     ]
    },
    {
     "name": "stderr",
     "output_type": "stream",
     "text": [
      "/Users/kenneththesheep/opt/anaconda3/envs/dsi30/lib/python3.8/site-packages/sklearn/linear_model/_ridge.py:1791: RuntimeWarning: invalid value encountered in reciprocal\n",
      "  w = ((singvals_sq + alpha) ** -1) - (alpha ** -1)\n"
     ]
    }
   ],
   "source": [
    "model(feat,lasso_n_alphas,ridge_lower_alpha,ridge_upper_alpha)\n",
    "\n",
    "X_train_sc = model.X_train_sc\n",
    "X_test_sc = model.X_test_sc\n",
    "y_train = model.y_train\n",
    "y_test = model.y_test"
   ]
  },
  {
   "cell_type": "code",
   "execution_count": 14,
   "id": "53d9b691-a68c-4dbf-b564-0b6ae6d61e5a",
   "metadata": {
    "tags": []
   },
   "outputs": [
    {
     "name": "stdout",
     "output_type": "stream",
     "text": [
      "Linear Regression Train vs Test Scores\n",
      "R2 Scores:\n",
      "train scores = 0.8970430892840076\n",
      "test scores = 0.898263259440767\n",
      "RMSE(test): 24775.1694519882\n",
      "Linear Regression Coef:\n"
     ]
    },
    {
     "data": {
      "image/png": "[encoded data removed]",
      "text/plain": [
       "<Figure size 1080x504 with 1 Axes>"
      ]
     },
     "metadata": {
      "needs_background": "light"
     },
     "output_type": "display_data"
    }
   ],
   "source": [
    "lr_mod(model.lr,feat)"
   ]
  },
  {
   "cell_type": "code",
   "execution_count": 15,
   "id": "55180cf6-87e9-4489-b8bc-5ef90ce38b94",
   "metadata": {
    "tags": []
   },
   "outputs": [
    {
     "name": "stdout",
     "output_type": "stream",
     "text": [
      "train scores = 0.8964263538475773\n",
      "test scores = 0.8980160581462567\n",
      "RMSE(test): 24805.250709356627\n",
      "Lasso Coef:\n"
     ]
    },
    {
     "data": {
      "image/png": "[encoded data removed]",
      "text/plain": [
       "<Figure size 1080x504 with 1 Axes>"
      ]
     },
     "metadata": {
      "needs_background": "light"
     },
     "output_type": "display_data"
    }
   ],
   "source": [
    "lasso_mod(model.lasso,feat,model.lasso_alpha)"
   ]
  },
  {
   "cell_type": "code",
   "execution_count": 16,
   "id": "c5bc9ce4-32a0-42e5-b1b2-a2853db00b3e",
   "metadata": {
    "tags": []
   },
   "outputs": [
    {
     "name": "stdout",
     "output_type": "stream",
     "text": [
      "Ridge Train vs Test Scores\n",
      "R2 Scores:\n",
      "train scores = 0.8970409692841538\n",
      "test scores = 0.8982851545324924\n",
      "RMSE(test): 24772.503336513735\n",
      "-------\n",
      "Ridge Coef:\n"
     ]
    },
    {
     "data": {
      "image/png": "[encoded data removed]",
      "text/plain": [
       "<Figure size 1080x504 with 1 Axes>"
      ]
     },
     "metadata": {
      "needs_background": "light"
     },
     "output_type": "display_data"
    }
   ],
   "source": [
    "ridge_mod(model.ridge,feat,model.ridge_alpha)"
   ]
  },
  {
   "cell_type": "code",
   "execution_count": 17,
   "id": "aa855b1f-7e36-4770-bb49-77351440d1d9",
   "metadata": {
    "tags": []
   },
   "outputs": [],
   "source": [
    "dict_1 = {\"n_features\": len(feat),\n",
    "          \"lasso_n_alphas\": lasso_n_alphas,\n",
    "          \"ridge_lower_alpha\": ridge_lower_alpha,\n",
    "          \"ridge_upper_alpha\": ridge_upper_alpha,\n",
    "          \"best_lasso_alpha\": model.lasso_alpha,\n",
    "          \"best_ridge_alpha\": model.ridge_alpha,\n",
    "          \"LR_CV_score\": model.lr_scores,\n",
    "          \"lasso_CV_score\": model.lasso_scores,\n",
    "          \"ridge_CV_score\": model.ridge_scores,\n",
    "          \"lr_train_r2\": lr_mod.lr_train_score_r2,\n",
    "          \"lr_test_r2\": lr_mod.lr_test_score_r2,\n",
    "          \"lr_rmse\": lr_mod.lr_RMSE,\n",
    "          \"lasso_train_r2\": lasso_mod.lasso_train_score_r2,\n",
    "          \"lasso_test_r2\": lasso_mod.lasso_test_score_r2,\n",
    "          \"lasso_rmse\": lasso_mod.lasso_RMSE,\n",
    "          \"ridge_train_r2\": ridge_mod.ridge_train_score_r2,\n",
    "          \"ridge_test_r2\": ridge_mod.ridge_test_score_r2,\n",
    "          \"ridge_rmse\": ridge_mod.ridge_RMSE\n",
    "         }"
   ]
  },
  {
   "cell_type": "code",
   "execution_count": 18,
   "id": "0a9d4155-2707-41c9-9ccb-cbca625b9e7c",
   "metadata": {
    "tags": []
   },
   "outputs": [
    {
     "data": {
      "text/plain": [
       "n_features              40.000000\n",
       "lasso_n_alphas         100.000000\n",
       "ridge_lower_alpha        1.000000\n",
       "ridge_upper_alpha        5.000000\n",
       "best_lasso_alpha       394.317984\n",
       "best_ridge_alpha         4.000000\n",
       "LR_CV_score          22579.439592\n",
       "lasso_CV_score       22319.153713\n",
       "ridge_CV_score       22574.482147\n",
       "lr_train_r2              0.897043\n",
       "lr_test_r2               0.898263\n",
       "lr_rmse              24775.169452\n",
       "lasso_train_r2           0.896426\n",
       "lasso_test_r2            0.898016\n",
       "lasso_rmse           24805.250709\n",
       "ridge_train_r2           0.897041\n",
       "ridge_test_r2            0.898285\n",
       "ridge_rmse           24772.503337\n",
       "Name: 0, dtype: float64"
      ]
     },
     "execution_count": 18,
     "metadata": {},
     "output_type": "execute_result"
    }
   ],
   "source": [
    "results_1 = pd.DataFrame.from_dict(dict_1).T[0]\n",
    "results_1"
   ]
  },
  {
   "cell_type": "markdown",
   "id": "736fd80f-1cfd-4bda-803c-d5f1212df9b5",
   "metadata": {},
   "source": [
    "###### 4.3.2 **Second Iteration: Reduce Number of Features, keep alpha parameters**"
   ]
  },
  {
   "cell_type": "code",
   "execution_count": 19,
   "id": "99a5a0fa-2d2c-472a-a43e-f87edf990c9c",
   "metadata": {},
   "outputs": [],
   "source": [
    "feat = trim_feat"
   ]
  },
  {
   "cell_type": "code",
   "execution_count": 20,
   "id": "32588f07-7a8c-401d-937f-10ebef113327",
   "metadata": {
    "tags": []
   },
   "outputs": [
    {
     "name": "stdout",
     "output_type": "stream",
     "text": [
      "lasso_alpha = 59.93282737861531\n",
      "ridge_alpha = 4\n",
      "----------\n",
      "CV Scores (Root Mean Squared Error)\n",
      "LR_score = 28419.48009123921\n",
      "Lasso_score = 28421.69279881026\n",
      "Ridge_score = 28417.480505319952\n"
     ]
    },
    {
     "name": "stderr",
     "output_type": "stream",
     "text": [
      "/Users/kenneththesheep/opt/anaconda3/envs/dsi30/lib/python3.8/site-packages/sklearn/linear_model/_ridge.py:1791: RuntimeWarning: invalid value encountered in reciprocal\n",
      "  w = ((singvals_sq + alpha) ** -1) - (alpha ** -1)\n"
     ]
    }
   ],
   "source": [
    "model(feat,lasso_n_alphas,ridge_lower_alpha,ridge_upper_alpha)\n",
    "\n",
    "X_train_sc = model.X_train_sc\n",
    "X_test_sc = model.X_test_sc\n",
    "y_train = model.y_train\n",
    "y_test = model.y_test"
   ]
  },
  {
   "cell_type": "code",
   "execution_count": 21,
   "id": "f0344804-296f-469e-843f-c721fda55272",
   "metadata": {
    "tags": []
   },
   "outputs": [
    {
     "name": "stdout",
     "output_type": "stream",
     "text": [
      "Linear Regression Train vs Test Scores\n",
      "R2 Scores:\n",
      "train scores = 0.858024153201465\n",
      "test scores = 0.8590621185218903\n",
      "RMSE(test): 29160.273520210874\n",
      "Linear Regression Coef:\n"
     ]
    },
    {
     "data": {
      "image/png": "[encoded data removed]",
      "text/plain": [
       "<Figure size 1080x504 with 1 Axes>"
      ]
     },
     "metadata": {
      "needs_background": "light"
     },
     "output_type": "display_data"
    }
   ],
   "source": [
    "lr_mod(model.lr,feat)"
   ]
  },
  {
   "cell_type": "code",
   "execution_count": 22,
   "id": "0f27db3d-32e0-41fb-9ba7-68168b4f9d62",
   "metadata": {
    "tags": []
   },
   "outputs": [
    {
     "name": "stdout",
     "output_type": "stream",
     "text": [
      "train scores = 0.8580125396038595\n",
      "test scores = 0.8589398064308497\n",
      "RMSE(test): 29172.924059948564\n",
      "Lasso Coef:\n"
     ]
    },
    {
     "data": {
      "image/png": "[encoded data removed]",
      "text/plain": [
       "<Figure size 1080x504 with 1 Axes>"
      ]
     },
     "metadata": {
      "needs_background": "light"
     },
     "output_type": "display_data"
    }
   ],
   "source": [
    "lasso_mod(model.lasso,feat,model.lasso_alpha)"
   ]
  },
  {
   "cell_type": "code",
   "execution_count": 23,
   "id": "ee3167bb-4452-4b79-8b21-fd6c7756d33f",
   "metadata": {
    "tags": []
   },
   "outputs": [
    {
     "name": "stdout",
     "output_type": "stream",
     "text": [
      "Ridge Train vs Test Scores\n",
      "R2 Scores:\n",
      "train scores = 0.8580196388799427\n",
      "test scores = 0.8589636092685591\n",
      "RMSE(test): 29170.462601278254\n",
      "-------\n",
      "Ridge Coef:\n"
     ]
    },
    {
     "data": {
      "image/png": "[encoded data removed]",
      "text/plain": [
       "<Figure size 1080x504 with 1 Axes>"
      ]
     },
     "metadata": {
      "needs_background": "light"
     },
     "output_type": "display_data"
    }
   ],
   "source": [
    "ridge_mod(model.ridge,feat,model.ridge_alpha)"
   ]
  },
  {
   "cell_type": "code",
   "execution_count": 24,
   "id": "f34a928a-4bbf-4be8-a505-60fd6ce09802",
   "metadata": {},
   "outputs": [],
   "source": [
    "dict_2 = {\"n_features\": len(feat),\n",
    "          \"lasso_n_alphas\": lasso_n_alphas,\n",
    "          \"ridge_lower_alpha\": ridge_lower_alpha,\n",
    "          \"ridge_upper_alpha\": ridge_upper_alpha,\n",
    "          \"best_lasso_alpha\": model.lasso_alpha,\n",
    "          \"best_ridge_alpha\": model.ridge_alpha,\n",
    "          \"LR_CV_score\": model.lr_scores,\n",
    "          \"lasso_CV_score\": model.lasso_scores,\n",
    "          \"ridge_CV_score\": model.ridge_scores,\n",
    "          \"lr_train_r2\": lr_mod.lr_train_score_r2,\n",
    "          \"lr_test_r2\": lr_mod.lr_test_score_r2,\n",
    "          \"lr_rmse\": lr_mod.lr_RMSE,\n",
    "          \"lasso_train_r2\": lasso_mod.lasso_train_score_r2,\n",
    "          \"lasso_test_r2\": lasso_mod.lasso_test_score_r2,\n",
    "          \"lasso_rmse\": lasso_mod.lasso_RMSE,\n",
    "          \"ridge_train_r2\": ridge_mod.ridge_train_score_r2,\n",
    "          \"ridge_test_r2\": ridge_mod.ridge_test_score_r2,\n",
    "          \"ridge_rmse\": ridge_mod.ridge_RMSE\n",
    "         }"
   ]
  },
  {
   "cell_type": "code",
   "execution_count": 25,
   "id": "63dc6ca6-3d64-472a-ae03-a54d3a12f224",
   "metadata": {},
   "outputs": [
    {
     "data": {
      "text/plain": [
       "n_features              12.000000\n",
       "lasso_n_alphas         100.000000\n",
       "ridge_lower_alpha        1.000000\n",
       "ridge_upper_alpha        5.000000\n",
       "best_lasso_alpha        59.932827\n",
       "best_ridge_alpha         4.000000\n",
       "LR_CV_score          27039.673057\n",
       "lasso_CV_score       27014.533551\n",
       "ridge_CV_score       27026.707665\n",
       "lr_train_r2              0.858024\n",
       "lr_test_r2               0.859062\n",
       "lr_rmse              29160.273520\n",
       "lasso_train_r2           0.858013\n",
       "lasso_test_r2            0.858940\n",
       "lasso_rmse           29172.924060\n",
       "ridge_train_r2           0.858020\n",
       "ridge_test_r2            0.858964\n",
       "ridge_rmse           29170.462601\n",
       "Name: 0, dtype: float64"
      ]
     },
     "execution_count": 25,
     "metadata": {},
     "output_type": "execute_result"
    }
   ],
   "source": [
    "results_2 = pd.DataFrame.from_dict(dict_2).T[0]\n",
    "results_2"
   ]
  },
  {
   "cell_type": "markdown",
   "id": "fe51baf5-615a-4998-8dc7-8a46c7b914a3",
   "metadata": {},
   "source": [
    "###### 4.3.3 **Third Iteration: Use trim_feat, update lasso alpha parameters**"
   ]
  },
  {
   "cell_type": "code",
   "execution_count": 26,
   "id": "53318f7f-d320-43da-b53e-9abeac96af1c",
   "metadata": {
    "tags": []
   },
   "outputs": [
    {
     "name": "stdout",
     "output_type": "stream",
     "text": [
      "lasso_alpha = 59.93282737861531\n",
      "ridge_alpha = 6\n",
      "----------\n",
      "CV Scores (Root Mean Squared Error)\n",
      "LR_score = 28419.48009123921\n",
      "Lasso_score = 28421.69279881026\n",
      "Ridge_score = 28417.00829758758\n"
     ]
    },
    {
     "name": "stderr",
     "output_type": "stream",
     "text": [
      "/Users/kenneththesheep/opt/anaconda3/envs/dsi30/lib/python3.8/site-packages/sklearn/linear_model/_ridge.py:1791: RuntimeWarning: invalid value encountered in reciprocal\n",
      "  w = ((singvals_sq + alpha) ** -1) - (alpha ** -1)\n"
     ]
    }
   ],
   "source": [
    "lasso_n_alphas = 500\n",
    "ridge_lower_alpha = 1\n",
    "ridge_upper_alpha = 50\n",
    "\n",
    "model(feat,lasso_n_alphas,ridge_lower_alpha,ridge_upper_alpha)\n",
    "\n",
    "X_train_sc = model.X_train_sc\n",
    "X_test_sc = model.X_test_sc\n",
    "y_train = model.y_train\n",
    "y_test = model.y_test\n"
   ]
  },
  {
   "cell_type": "code",
   "execution_count": 27,
   "id": "ac2db100-6639-4ea9-9f51-3567609ba984",
   "metadata": {},
   "outputs": [
    {
     "name": "stdout",
     "output_type": "stream",
     "text": [
      "Linear Regression Train vs Test Scores\n",
      "R2 Scores:\n",
      "train scores = 0.858024153201465\n",
      "test scores = 0.8590621185218903\n",
      "RMSE(test): 29160.273520210874\n",
      "Linear Regression Coef:\n"
     ]
    },
    {
     "data": {
      "image/png": "[encoded data removed]",
      "text/plain": [
       "<Figure size 1080x504 with 1 Axes>"
      ]
     },
     "metadata": {
      "needs_background": "light"
     },
     "output_type": "display_data"
    }
   ],
   "source": [
    "lr_mod(model.lr,feat)"
   ]
  },
  {
   "cell_type": "code",
   "execution_count": 28,
   "id": "d0a91304-c682-4536-b016-087ad5de7d2b",
   "metadata": {},
   "outputs": [
    {
     "name": "stdout",
     "output_type": "stream",
     "text": [
      "train scores = 0.8580125396038595\n",
      "test scores = 0.8589398064308497\n",
      "RMSE(test): 29172.924059948564\n",
      "Lasso Coef:\n"
     ]
    },
    {
     "data": {
      "image/png": "[encoded data removed]",
      "text/plain": [
       "<Figure size 1080x504 with 1 Axes>"
      ]
     },
     "metadata": {
      "needs_background": "light"
     },
     "output_type": "display_data"
    }
   ],
   "source": [
    "lasso_mod(model.lasso,feat,model.lasso_alpha)"
   ]
  },
  {
   "cell_type": "code",
   "execution_count": 29,
   "id": "fe41f1c2-e5f8-48e8-92f4-5b4b31a74107",
   "metadata": {},
   "outputs": [
    {
     "name": "stdout",
     "output_type": "stream",
     "text": [
      "Ridge Train vs Test Scores\n",
      "R2 Scores:\n",
      "train scores = 0.8580141363763709\n",
      "test scores = 0.8589122927552773\n",
      "RMSE(test): 29175.768998737898\n",
      "-------\n",
      "Ridge Coef:\n"
     ]
    },
    {
     "data": {
      "image/png": "[encoded data removed]",
      "text/plain": [
       "<Figure size 1080x504 with 1 Axes>"
      ]
     },
     "metadata": {
      "needs_background": "light"
     },
     "output_type": "display_data"
    }
   ],
   "source": [
    "ridge_mod(model.ridge,feat,model.ridge_alpha)"
   ]
  },
  {
   "cell_type": "code",
   "execution_count": 30,
   "id": "d11a8e85-dc19-4d93-bf1e-b29bff43a7c9",
   "metadata": {},
   "outputs": [
    {
     "data": {
      "text/plain": [
       "n_features              12.000000\n",
       "lasso_n_alphas         500.000000\n",
       "ridge_lower_alpha        1.000000\n",
       "ridge_upper_alpha       50.000000\n",
       "best_lasso_alpha        59.932827\n",
       "best_ridge_alpha         6.000000\n",
       "LR_CV_score          27039.673057\n",
       "lasso_CV_score       27014.533551\n",
       "ridge_CV_score       27020.807243\n",
       "lr_train_r2              0.858024\n",
       "lr_test_r2               0.859062\n",
       "lr_rmse              29160.273520\n",
       "lasso_train_r2           0.858013\n",
       "lasso_test_r2            0.858940\n",
       "lasso_rmse           29172.924060\n",
       "ridge_train_r2           0.858014\n",
       "ridge_test_r2            0.858912\n",
       "ridge_rmse           29175.768999\n",
       "Name: 0, dtype: float64"
      ]
     },
     "execution_count": 30,
     "metadata": {},
     "output_type": "execute_result"
    }
   ],
   "source": [
    "dict_3 = {\"n_features\": len(feat),\n",
    "          \"lasso_n_alphas\": lasso_n_alphas,\n",
    "          \"ridge_lower_alpha\": ridge_lower_alpha,\n",
    "          \"ridge_upper_alpha\": ridge_upper_alpha,\n",
    "          \"best_lasso_alpha\": model.lasso_alpha,\n",
    "          \"best_ridge_alpha\": model.ridge_alpha,\n",
    "          \"LR_CV_score\": model.lr_scores,\n",
    "          \"lasso_CV_score\": model.lasso_scores,\n",
    "          \"ridge_CV_score\": model.ridge_scores,\n",
    "          \"lr_train_r2\": lr_mod.lr_train_score_r2,\n",
    "          \"lr_test_r2\": lr_mod.lr_test_score_r2,\n",
    "          \"lr_rmse\": lr_mod.lr_RMSE,\n",
    "          \"lasso_train_r2\": lasso_mod.lasso_train_score_r2,\n",
    "          \"lasso_test_r2\": lasso_mod.lasso_test_score_r2,\n",
    "          \"lasso_rmse\": lasso_mod.lasso_RMSE,\n",
    "          \"ridge_train_r2\": ridge_mod.ridge_train_score_r2,\n",
    "          \"ridge_test_r2\": ridge_mod.ridge_test_score_r2,\n",
    "          \"ridge_rmse\": ridge_mod.ridge_RMSE\n",
    "         }\n",
    "\n",
    "results_3 = pd.DataFrame.from_dict(dict_3).T[0]\n",
    "results_3"
   ]
  },
  {
   "cell_type": "markdown",
   "id": "2179a6f6-02f5-4ec0-bd00-e7499a1be0a9",
   "metadata": {},
   "source": [
    "###### 4.3.4 **Fourth Iteration: Further trim features, keep alpha parameters the same as third iteration**"
   ]
  },
  {
   "cell_type": "markdown",
   "id": "3434818d-d637-412f-99c1-66c9eb8304c1",
   "metadata": {},
   "source": [
    "Dropping Exter Qual_Fa and 'mid_tier' dummies from from Exter_Qual and Neighborhood clusters since coefficients are close to 0."
   ]
  },
  {
   "cell_type": "code",
   "execution_count": 31,
   "id": "3ab5c2af-725e-446b-9196-826c5848bf64",
   "metadata": {},
   "outputs": [],
   "source": [
    "trim_feat_2 = ['Gr Liv Area',\n",
    " '1st Flr SF',\n",
    " 'Total Bsmt SF',\n",
    " 'Garage Area',\n",
    " 'Garage Cars',\n",
    " 'TotRms AbvGrd',\n",
    " 'Bedroom AbvGr',\n",
    " 'Bsmt Full Bath',\n",
    " 'Full Bath',\n",
    " 'age_at_sale',\n",
    " 'years_since_remod',\n",
    " 'Overall Qual',\n",
    " 'Overall Cond',\n",
    " 'Exter Qual_Ex',\n",
    " 'Exter Qual_Gd',\n",
    " 'low_tier',\n",
    " 'high_tier']\n"
   ]
  },
  {
   "cell_type": "code",
   "execution_count": 32,
   "id": "fb32589f-a3c0-49b7-b691-c32799c88080",
   "metadata": {
    "tags": []
   },
   "outputs": [
    {
     "name": "stdout",
     "output_type": "stream",
     "text": [
      "lasso_alpha = 59.93282737861531\n",
      "ridge_alpha = 8\n",
      "----------\n",
      "CV Scores (Root Mean Squared Error)\n",
      "LR_score = 26531.688785393962\n",
      "Lasso_score = 26529.308739485383\n",
      "Ridge_score = 26526.455627333133\n"
     ]
    }
   ],
   "source": [
    "feat = trim_feat_2\n",
    "lasso_n_alphas = 500\n",
    "ridge_lower_alpha = 1\n",
    "ridge_upper_alpha = 50\n",
    "\n",
    "model(feat,lasso_n_alphas,ridge_lower_alpha,ridge_upper_alpha)\n",
    "\n",
    "X_train_sc = model.X_train_sc\n",
    "X_test_sc = model.X_test_sc\n",
    "y_train = model.y_train\n",
    "y_test = model.y_test\n"
   ]
  },
  {
   "cell_type": "code",
   "execution_count": 33,
   "id": "ad94ee28-7498-48e3-a14a-197ef4e4461b",
   "metadata": {},
   "outputs": [
    {
     "name": "stdout",
     "output_type": "stream",
     "text": [
      "Linear Regression Train vs Test Scores\n",
      "R2 Scores:\n",
      "train scores = 0.8781160548304078\n",
      "test scores = 0.876650991410673\n",
      "RMSE(test): 27280.074711219786\n",
      "Linear Regression Coef:\n"
     ]
    },
    {
     "data": {
      "image/png": "[encoded data removed]",
      "text/plain": [
       "<Figure size 1080x504 with 1 Axes>"
      ]
     },
     "metadata": {
      "needs_background": "light"
     },
     "output_type": "display_data"
    }
   ],
   "source": [
    "lr_mod(model.lr,feat)"
   ]
  },
  {
   "cell_type": "code",
   "execution_count": 34,
   "id": "a56b0989-6c14-4489-9dce-7002a60c6604",
   "metadata": {},
   "outputs": [
    {
     "name": "stdout",
     "output_type": "stream",
     "text": [
      "train scores = 0.8781059610226787\n",
      "test scores = 0.8766807502081231\n",
      "RMSE(test): 27276.783759807327\n",
      "Lasso Coef:\n"
     ]
    },
    {
     "data": {
      "image/png": "[encoded data removed]",
      "text/plain": [
       "<Figure size 1080x504 with 1 Axes>"
      ]
     },
     "metadata": {
      "needs_background": "light"
     },
     "output_type": "display_data"
    }
   ],
   "source": [
    "lasso_mod(model.lasso,feat,model.lasso_alpha)"
   ]
  },
  {
   "cell_type": "code",
   "execution_count": 35,
   "id": "66e70923-8700-4c09-ba87-de1426eaed1c",
   "metadata": {},
   "outputs": [
    {
     "name": "stdout",
     "output_type": "stream",
     "text": [
      "Ridge Train vs Test Scores\n",
      "R2 Scores:\n",
      "train scores = 0.8780925676999514\n",
      "test scores = 0.8766072458953081\n",
      "RMSE(test): 27284.911698367934\n",
      "-------\n",
      "Ridge Coef:\n"
     ]
    },
    {
     "data": {
      "image/png": "[encoded data removed]",
      "text/plain": [
       "<Figure size 1080x504 with 1 Axes>"
      ]
     },
     "metadata": {
      "needs_background": "light"
     },
     "output_type": "display_data"
    }
   ],
   "source": [
    "ridge_mod(model.ridge,feat,model.ridge_alpha)"
   ]
  },
  {
   "cell_type": "code",
   "execution_count": 36,
   "id": "624e05f1-d8b5-4cc0-818f-bd9a7bd24fd2",
   "metadata": {},
   "outputs": [
    {
     "data": {
      "text/plain": [
       "n_features              17.000000\n",
       "lasso_n_alphas         500.000000\n",
       "ridge_lower_alpha        1.000000\n",
       "ridge_upper_alpha       50.000000\n",
       "best_lasso_alpha        59.932827\n",
       "best_ridge_alpha         8.000000\n",
       "LR_CV_score          24838.507789\n",
       "lasso_CV_score       24807.864320\n",
       "ridge_CV_score       24805.606166\n",
       "lr_train_r2              0.878116\n",
       "lr_test_r2               0.876651\n",
       "lr_rmse              27280.074711\n",
       "lasso_train_r2           0.878106\n",
       "lasso_test_r2            0.876681\n",
       "lasso_rmse           27276.783760\n",
       "ridge_train_r2           0.878093\n",
       "ridge_test_r2            0.876607\n",
       "ridge_rmse           27284.911698\n",
       "Name: 0, dtype: float64"
      ]
     },
     "execution_count": 36,
     "metadata": {},
     "output_type": "execute_result"
    }
   ],
   "source": [
    "dict_4 = {\"n_features\": len(feat),\n",
    "          \"lasso_n_alphas\": lasso_n_alphas,\n",
    "          \"ridge_lower_alpha\": ridge_lower_alpha,\n",
    "          \"ridge_upper_alpha\": ridge_upper_alpha,\n",
    "          \"best_lasso_alpha\": model.lasso_alpha,\n",
    "          \"best_ridge_alpha\": model.ridge_alpha,\n",
    "          \"LR_CV_score\": model.lr_scores,\n",
    "          \"lasso_CV_score\": model.lasso_scores,\n",
    "          \"ridge_CV_score\": model.ridge_scores,\n",
    "          \"lr_train_r2\": lr_mod.lr_train_score_r2,\n",
    "          \"lr_test_r2\": lr_mod.lr_test_score_r2,\n",
    "          \"lr_rmse\": lr_mod.lr_RMSE,\n",
    "          \"lasso_train_r2\": lasso_mod.lasso_train_score_r2,\n",
    "          \"lasso_test_r2\": lasso_mod.lasso_test_score_r2,\n",
    "          \"lasso_rmse\": lasso_mod.lasso_RMSE,\n",
    "          \"ridge_train_r2\": ridge_mod.ridge_train_score_r2,\n",
    "          \"ridge_test_r2\": ridge_mod.ridge_test_score_r2,\n",
    "          \"ridge_rmse\": ridge_mod.ridge_RMSE\n",
    "         }\n",
    "\n",
    "results_4 = pd.DataFrame.from_dict(dict_4).T[0]\n",
    "results_4"
   ]
  },
  {
   "cell_type": "markdown",
   "id": "e8acc09e-0b7e-4797-b9bd-6157a2ef313a",
   "metadata": {},
   "source": [
    "###### 4.3.5 Fifth Iteration: Remove 2 features from original feat list**, keep alpha parameters the same as fourth iteration"
   ]
  },
  {
   "cell_type": "markdown",
   "id": "3e507750-4976-4d43-bc72-e2c22fa4638a",
   "metadata": {},
   "source": [
    "**removing one dummy each from Exter Qual and Neigbourhood features)"
   ]
  },
  {
   "cell_type": "code",
   "execution_count": 37,
   "id": "b73ff459-e9e5-4b34-b974-1e7f066dc508",
   "metadata": {},
   "outputs": [],
   "source": [
    "combined_feat_2 = ['1st Flr SF',\n",
    " '2nd Flr SF',\n",
    " '3Ssn Porch',\n",
    " 'Bedroom AbvGr',\n",
    " 'Bsmt Full Bath',\n",
    " 'Bsmt Half Bath',\n",
    " 'Bsmt Unf SF',\n",
    " 'BsmtFin SF 1',\n",
    " 'BsmtFin SF 2',\n",
    " 'Enclosed Porch',\n",
    " 'Fireplaces',\n",
    " 'Full Bath',\n",
    " 'Garage Area',\n",
    " 'Garage Cars',\n",
    " 'Gr Liv Area',\n",
    " 'Half Bath',\n",
    " 'Kitchen AbvGr',\n",
    " 'Lot Area',\n",
    " 'Lot Frontage',\n",
    " 'Low Qual Fin SF',\n",
    " 'Mas Vnr Area',\n",
    " 'Misc Val',\n",
    " 'Mo Sold',\n",
    " 'Open Porch SF',\n",
    " 'Pool Area',\n",
    " 'Screen Porch',\n",
    " 'TotRms AbvGrd',\n",
    " 'Total Bsmt SF',\n",
    " 'Wood Deck SF',\n",
    " 'age_at_sale',\n",
    " 'years_since_remod',\n",
    " 'age_vs_remod',\n",
    " 'Overall Qual',\n",
    " 'Overall Cond',\n",
    " 'Exter Qual_Ex',\n",
    " 'Exter Qual_Gd',\n",
    " 'low_tier',\n",
    " 'high_tier']"
   ]
  },
  {
   "cell_type": "code",
   "execution_count": 38,
   "id": "97d1417c-a406-4514-99bc-390baddfa980",
   "metadata": {},
   "outputs": [
    {
     "name": "stdout",
     "output_type": "stream",
     "text": [
      "lasso_alpha = 377.8017495604227\n",
      "ridge_alpha = 46\n",
      "----------\n",
      "CV Scores (Root Mean Squared Error)\n",
      "LR_score = 25006.199053616685\n",
      "Lasso_score = 24840.26950545405\n",
      "Ridge_score = 24966.896833559316\n"
     ]
    },
    {
     "name": "stderr",
     "output_type": "stream",
     "text": [
      "/Users/kenneththesheep/opt/anaconda3/envs/dsi30/lib/python3.8/site-packages/sklearn/linear_model/_ridge.py:1791: RuntimeWarning: invalid value encountered in reciprocal\n",
      "  w = ((singvals_sq + alpha) ** -1) - (alpha ** -1)\n"
     ]
    }
   ],
   "source": [
    "feat = combined_feat_2\n",
    "lasso_n_alphas = 500\n",
    "ridge_lower_alpha = 1\n",
    "ridge_upper_alpha = 50\n",
    "\n",
    "model(feat,lasso_n_alphas,ridge_lower_alpha,ridge_upper_alpha)\n",
    "\n",
    "X_train_sc = model.X_train_sc\n",
    "X_test_sc = model.X_test_sc\n",
    "y_train = model.y_train\n",
    "y_test = model.y_test"
   ]
  },
  {
   "cell_type": "code",
   "execution_count": 39,
   "id": "d6217f90-48bb-4c7f-8882-7ffb4dd7f3c5",
   "metadata": {},
   "outputs": [
    {
     "name": "stdout",
     "output_type": "stream",
     "text": [
      "Linear Regression Train vs Test Scores\n",
      "R2 Scores:\n",
      "train scores = 0.8970312092313686\n",
      "test scores = 0.8980634144855555\n",
      "RMSE(test): 24799.490869886213\n",
      "Linear Regression Coef:\n"
     ]
    },
    {
     "data": {
      "image/png": "[encoded data removed]",
      "text/plain": [
       "<Figure size 1080x504 with 1 Axes>"
      ]
     },
     "metadata": {
      "needs_background": "light"
     },
     "output_type": "display_data"
    }
   ],
   "source": [
    "lr_mod(model.lr,feat)"
   ]
  },
  {
   "cell_type": "code",
   "execution_count": 40,
   "id": "fefe4554-9e21-4193-a51e-5e59e4f7905d",
   "metadata": {},
   "outputs": [
    {
     "name": "stdout",
     "output_type": "stream",
     "text": [
      "train scores = 0.8964703683171547\n",
      "test scores = 0.8980305024060508\n",
      "RMSE(test): 24803.494029989237\n",
      "Lasso Coef:\n"
     ]
    },
    {
     "data": {
      "image/png": "[encoded data removed]",
      "text/plain": [
       "<Figure size 1080x504 with 1 Axes>"
      ]
     },
     "metadata": {
      "needs_background": "light"
     },
     "output_type": "display_data"
    }
   ],
   "source": [
    "lasso_mod(model.lasso,feat,model.lasso_alpha)"
   ]
  },
  {
   "cell_type": "code",
   "execution_count": 41,
   "id": "8c288f4c-904d-4503-b8c6-8ad0f016964e",
   "metadata": {},
   "outputs": [
    {
     "name": "stdout",
     "output_type": "stream",
     "text": [
      "Ridge Train vs Test Scores\n",
      "R2 Scores:\n",
      "train scores = 0.8968070125810286\n",
      "test scores = 0.8981690524744522\n",
      "RMSE(test): 24786.63754836563\n",
      "-------\n",
      "Ridge Coef:\n"
     ]
    },
    {
     "data": {
      "image/png": "[encoded data removed]",
      "text/plain": [
       "<Figure size 1080x504 with 1 Axes>"
      ]
     },
     "metadata": {
      "needs_background": "light"
     },
     "output_type": "display_data"
    }
   ],
   "source": [
    "ridge_mod(model.ridge,feat,model.ridge_alpha)"
   ]
  },
  {
   "cell_type": "code",
   "execution_count": 42,
   "id": "ee935246-8f7c-427d-9012-3af3e062450c",
   "metadata": {},
   "outputs": [
    {
     "data": {
      "text/plain": [
       "n_features              38.000000\n",
       "lasso_n_alphas         500.000000\n",
       "ridge_lower_alpha        1.000000\n",
       "ridge_upper_alpha       50.000000\n",
       "best_lasso_alpha       377.801750\n",
       "best_ridge_alpha        46.000000\n",
       "LR_CV_score          22537.484648\n",
       "lasso_CV_score       22322.205166\n",
       "ridge_CV_score       22542.076733\n",
       "lr_train_r2              0.897031\n",
       "lr_test_r2               0.898063\n",
       "lr_rmse              24799.490870\n",
       "lasso_train_r2           0.896470\n",
       "lasso_test_r2            0.898031\n",
       "lasso_rmse           24803.494030\n",
       "ridge_train_r2           0.896807\n",
       "ridge_test_r2            0.898169\n",
       "ridge_rmse           24786.637548\n",
       "Name: 0, dtype: float64"
      ]
     },
     "execution_count": 42,
     "metadata": {},
     "output_type": "execute_result"
    }
   ],
   "source": [
    "dict_5 = {\"n_features\": len(feat),\n",
    "          \"lasso_n_alphas\": lasso_n_alphas,\n",
    "          \"ridge_lower_alpha\": ridge_lower_alpha,\n",
    "          \"ridge_upper_alpha\": ridge_upper_alpha,\n",
    "          \"best_lasso_alpha\": model.lasso_alpha,\n",
    "          \"best_ridge_alpha\": model.ridge_alpha,\n",
    "          \"LR_CV_score\": model.lr_scores,\n",
    "          \"lasso_CV_score\": model.lasso_scores,\n",
    "          \"ridge_CV_score\": model.ridge_scores,\n",
    "          \"lr_train_r2\": lr_mod.lr_train_score_r2,\n",
    "          \"lr_test_r2\": lr_mod.lr_test_score_r2,\n",
    "          \"lr_rmse\": lr_mod.lr_RMSE,\n",
    "          \"lasso_train_r2\": lasso_mod.lasso_train_score_r2,\n",
    "          \"lasso_test_r2\": lasso_mod.lasso_test_score_r2,\n",
    "          \"lasso_rmse\": lasso_mod.lasso_RMSE,\n",
    "          \"ridge_train_r2\": ridge_mod.ridge_train_score_r2,\n",
    "          \"ridge_test_r2\": ridge_mod.ridge_test_score_r2,\n",
    "          \"ridge_rmse\": ridge_mod.ridge_RMSE\n",
    "         }\n",
    "\n",
    "results_5 = pd.DataFrame.from_dict(dict_5).T[0]\n",
    "results_5"
   ]
  },
  {
   "cell_type": "markdown",
   "id": "0eca5b92-854f-4ef8-b763-ab538edac3d1",
   "metadata": {},
   "source": [
    "##### 4.4 Summary of modelling results"
   ]
  },
  {
   "cell_type": "code",
   "execution_count": 43,
   "id": "0c4bd666-e19a-41b5-9e90-85e0c31a0e7c",
   "metadata": {},
   "outputs": [],
   "source": [
    "final_results = pd.concat([results_1, results_2,results_3,results_4,results_5], axis=1).reset_index()"
   ]
  },
  {
   "cell_type": "code",
   "execution_count": 44,
   "id": "21cd6af7-8d64-473c-8c2f-b2d65e42e386",
   "metadata": {},
   "outputs": [
    {
     "data": {
      "text/html": [
       "<div>\n",
       "<style scoped>\n",
       "    .dataframe tbody tr th:only-of-type {\n",
       "        vertical-align: middle;\n",
       "    }\n",
       "\n",
       "    .dataframe tbody tr th {\n",
       "        vertical-align: top;\n",
       "    }\n",
       "\n",
       "    .dataframe thead th {\n",
       "        text-align: right;\n",
       "    }\n",
       "</style>\n",
       "<table border=\"1\" class=\"dataframe\">\n",
       "  <thead>\n",
       "    <tr style=\"text-align: right;\">\n",
       "      <th></th>\n",
       "      <th>index</th>\n",
       "      <th>1</th>\n",
       "      <th>2</th>\n",
       "      <th>3</th>\n",
       "      <th>4</th>\n",
       "      <th>5</th>\n",
       "    </tr>\n",
       "  </thead>\n",
       "  <tbody>\n",
       "    <tr>\n",
       "      <th>0</th>\n",
       "      <td>n_features</td>\n",
       "      <td>40.000000</td>\n",
       "      <td>12.000000</td>\n",
       "      <td>12.000000</td>\n",
       "      <td>17.000000</td>\n",
       "      <td>38.000000</td>\n",
       "    </tr>\n",
       "    <tr>\n",
       "      <th>1</th>\n",
       "      <td>lasso_n_alphas</td>\n",
       "      <td>100.000000</td>\n",
       "      <td>100.000000</td>\n",
       "      <td>500.000000</td>\n",
       "      <td>500.000000</td>\n",
       "      <td>500.000000</td>\n",
       "    </tr>\n",
       "    <tr>\n",
       "      <th>2</th>\n",
       "      <td>ridge_lower_alpha</td>\n",
       "      <td>1.000000</td>\n",
       "      <td>1.000000</td>\n",
       "      <td>1.000000</td>\n",
       "      <td>1.000000</td>\n",
       "      <td>1.000000</td>\n",
       "    </tr>\n",
       "    <tr>\n",
       "      <th>3</th>\n",
       "      <td>ridge_upper_alpha</td>\n",
       "      <td>5.000000</td>\n",
       "      <td>5.000000</td>\n",
       "      <td>50.000000</td>\n",
       "      <td>50.000000</td>\n",
       "      <td>50.000000</td>\n",
       "    </tr>\n",
       "    <tr>\n",
       "      <th>4</th>\n",
       "      <td>best_lasso_alpha</td>\n",
       "      <td>394.317984</td>\n",
       "      <td>59.932827</td>\n",
       "      <td>59.932827</td>\n",
       "      <td>59.932827</td>\n",
       "      <td>377.801750</td>\n",
       "    </tr>\n",
       "    <tr>\n",
       "      <th>5</th>\n",
       "      <td>best_ridge_alpha</td>\n",
       "      <td>4.000000</td>\n",
       "      <td>4.000000</td>\n",
       "      <td>6.000000</td>\n",
       "      <td>8.000000</td>\n",
       "      <td>46.000000</td>\n",
       "    </tr>\n",
       "    <tr>\n",
       "      <th>6</th>\n",
       "      <td>LR_CV_score</td>\n",
       "      <td>22579.439592</td>\n",
       "      <td>27039.673057</td>\n",
       "      <td>27039.673057</td>\n",
       "      <td>24838.507789</td>\n",
       "      <td>22537.484648</td>\n",
       "    </tr>\n",
       "    <tr>\n",
       "      <th>7</th>\n",
       "      <td>lasso_CV_score</td>\n",
       "      <td>22319.153713</td>\n",
       "      <td>27014.533551</td>\n",
       "      <td>27014.533551</td>\n",
       "      <td>24807.864320</td>\n",
       "      <td>22322.205166</td>\n",
       "    </tr>\n",
       "    <tr>\n",
       "      <th>8</th>\n",
       "      <td>ridge_CV_score</td>\n",
       "      <td>22574.482147</td>\n",
       "      <td>27026.707665</td>\n",
       "      <td>27020.807243</td>\n",
       "      <td>24805.606166</td>\n",
       "      <td>22542.076733</td>\n",
       "    </tr>\n",
       "    <tr>\n",
       "      <th>9</th>\n",
       "      <td>lr_train_r2</td>\n",
       "      <td>0.897043</td>\n",
       "      <td>0.858024</td>\n",
       "      <td>0.858024</td>\n",
       "      <td>0.878116</td>\n",
       "      <td>0.897031</td>\n",
       "    </tr>\n",
       "    <tr>\n",
       "      <th>10</th>\n",
       "      <td>lr_test_r2</td>\n",
       "      <td>0.898263</td>\n",
       "      <td>0.859062</td>\n",
       "      <td>0.859062</td>\n",
       "      <td>0.876651</td>\n",
       "      <td>0.898063</td>\n",
       "    </tr>\n",
       "    <tr>\n",
       "      <th>12</th>\n",
       "      <td>lasso_train_r2</td>\n",
       "      <td>0.896426</td>\n",
       "      <td>0.858013</td>\n",
       "      <td>0.858013</td>\n",
       "      <td>0.878106</td>\n",
       "      <td>0.896470</td>\n",
       "    </tr>\n",
       "    <tr>\n",
       "      <th>13</th>\n",
       "      <td>lasso_test_r2</td>\n",
       "      <td>0.898016</td>\n",
       "      <td>0.858940</td>\n",
       "      <td>0.858940</td>\n",
       "      <td>0.876681</td>\n",
       "      <td>0.898031</td>\n",
       "    </tr>\n",
       "    <tr>\n",
       "      <th>15</th>\n",
       "      <td>ridge_train_r2</td>\n",
       "      <td>0.897041</td>\n",
       "      <td>0.858020</td>\n",
       "      <td>0.858014</td>\n",
       "      <td>0.878093</td>\n",
       "      <td>0.896807</td>\n",
       "    </tr>\n",
       "    <tr>\n",
       "      <th>16</th>\n",
       "      <td>ridge_test_r2</td>\n",
       "      <td>0.898285</td>\n",
       "      <td>0.858964</td>\n",
       "      <td>0.858912</td>\n",
       "      <td>0.876607</td>\n",
       "      <td>0.898169</td>\n",
       "    </tr>\n",
       "  </tbody>\n",
       "</table>\n",
       "</div>"
      ],
      "text/plain": [
       "                index             1             2             3             4  \\\n",
       "0          n_features     40.000000     12.000000     12.000000     17.000000   \n",
       "1      lasso_n_alphas    100.000000    100.000000    500.000000    500.000000   \n",
       "2   ridge_lower_alpha      1.000000      1.000000      1.000000      1.000000   \n",
       "3   ridge_upper_alpha      5.000000      5.000000     50.000000     50.000000   \n",
       "4    best_lasso_alpha    394.317984     59.932827     59.932827     59.932827   \n",
       "5    best_ridge_alpha      4.000000      4.000000      6.000000      8.000000   \n",
       "6         LR_CV_score  22579.439592  27039.673057  27039.673057  24838.507789   \n",
       "7      lasso_CV_score  22319.153713  27014.533551  27014.533551  24807.864320   \n",
       "8      ridge_CV_score  22574.482147  27026.707665  27020.807243  24805.606166   \n",
       "9         lr_train_r2      0.897043      0.858024      0.858024      0.878116   \n",
       "10         lr_test_r2      0.898263      0.859062      0.859062      0.876651   \n",
       "12     lasso_train_r2      0.896426      0.858013      0.858013      0.878106   \n",
       "13      lasso_test_r2      0.898016      0.858940      0.858940      0.876681   \n",
       "15     ridge_train_r2      0.897041      0.858020      0.858014      0.878093   \n",
       "16      ridge_test_r2      0.898285      0.858964      0.858912      0.876607   \n",
       "\n",
       "               5  \n",
       "0      38.000000  \n",
       "1     500.000000  \n",
       "2       1.000000  \n",
       "3      50.000000  \n",
       "4     377.801750  \n",
       "5      46.000000  \n",
       "6   22537.484648  \n",
       "7   22322.205166  \n",
       "8   22542.076733  \n",
       "9       0.897031  \n",
       "10      0.898063  \n",
       "12      0.896470  \n",
       "13      0.898031  \n",
       "15      0.896807  \n",
       "16      0.898169  "
      ]
     },
     "execution_count": 44,
     "metadata": {},
     "output_type": "execute_result"
    }
   ],
   "source": [
    "final_results.columns = ['index','1','2','3','4','5']\n",
    "index_filter = [i for i in range(18) if i not in [11,14,17]]\n",
    "final_results.iloc[index_filter,:]"
   ]
  },
  {
   "cell_type": "markdown",
   "id": "120ce11d-f047-4c34-9c4a-bc329a19a161",
   "metadata": {},
   "source": [
    "**Comments**:\n",
    "\n",
    "1) CV scores here are based on Root Mean Squared Error, so the best performing model is the one with the lowest RMSE.   \n",
    "2) The more features are incorporated, the better the CV scores, as demonstrated by iterations 1 and 5 above. \n",
    "3) The more features are incorporated, the model needs to regularize more by increasing the alpha parameter.\n",
    "4) In the Lasso model, some features are regularized to zero, as demonstrated in the bar plots above (there is more empty space in the middle of the plots of lasso coefficients as compared to the Linear Regression and Ridge models). \n",
    "5) In general, based on R2 scores for both train and test datasets, there is minimal overfitting, and the models above generalize pretty well to new data. \n",
    "6) The more features are added, the higher the R2 scores. A R2 score of nearly 90%, indicates that 90% of the variability in Sales Price can be explained by the features chosen in the model. \n",
    "7) However, a higher R2 score doesn't necessarily mean the best model, as more features can simply add more noise into the model. \n",
    "8) Ideally, we manually select features to reduce multicollinearity. For example, logically, the higher the quality of the house exterior, the better the Overall Quality of the house. Or, the larger the total basement area, the larger the finished area of the basement. \n",
    "9) Hence, I have not found the best model here, as iteration 1 and 5 have too many features which are possibly multicollinear, whereas model 3 (with the manually selected features), have too few features at the moment. \n",
    "10) For future improvement, I would work on adding more one-hot-encoded categorical features to the model in iteration 3. \n",
    "\n",
    "**For the time being, the model selected for Kaggle submission will be the one with the best (lowest) RMSE score, ie: iteration 5.**\n",
    "\n"
   ]
  },
  {
   "cell_type": "code",
   "execution_count": 45,
   "id": "9dd0d06b-6411-4a81-a379-428c9709e7eb",
   "metadata": {},
   "outputs": [
    {
     "name": "stdout",
     "output_type": "stream",
     "text": [
      "lasso_alpha = 377.8017495604227\n",
      "ridge_alpha = 46\n",
      "----------\n",
      "CV Scores (Root Mean Squared Error)\n",
      "LR_score = 25006.199053616685\n",
      "Lasso_score = 24840.26950545405\n",
      "Ridge_score = 24966.896833559316\n"
     ]
    },
    {
     "name": "stderr",
     "output_type": "stream",
     "text": [
      "/Users/kenneththesheep/opt/anaconda3/envs/dsi30/lib/python3.8/site-packages/sklearn/linear_model/_ridge.py:1791: RuntimeWarning: invalid value encountered in reciprocal\n",
      "  w = ((singvals_sq + alpha) ** -1) - (alpha ** -1)\n"
     ]
    }
   ],
   "source": [
    "feat = combined_feat_2\n",
    "lasso_n_alphas = 500\n",
    "ridge_lower_alpha = 1\n",
    "ridge_upper_alpha = 50\n",
    "\n",
    "model(feat,lasso_n_alphas,ridge_lower_alpha,ridge_upper_alpha)\n",
    "\n",
    "X_train_sc = model.X_train_sc\n",
    "X_test_sc = model.X_test_sc\n",
    "X_train = model.X_train\n",
    "y_train = model.y_train\n",
    "y_test = model.y_test"
   ]
  },
  {
   "cell_type": "code",
   "execution_count": 46,
   "id": "0012a959-a126-4350-8874-c42b0eabf931",
   "metadata": {},
   "outputs": [],
   "source": [
    "kaggle_x = test[combined_feat_2]\n",
    "\n",
    "ss = StandardScaler()\n",
    "ss.fit(X_train)\n",
    "X_train_sc = ss.transform(X_train)\n",
    "kaggle_x_sc = ss.transform(kaggle_x)\n",
    "\n",
    "lasso = Lasso(alpha = 377.801750)\n",
    "lasso.fit(X_train_sc,y_train)\n",
    "\n",
    "lasso_pred = lasso.predict(kaggle_x_sc)\n"
   ]
  },
  {
   "cell_type": "code",
   "execution_count": 47,
   "id": "662fce26-2a65-41c1-8d30-9da161db37f4",
   "metadata": {},
   "outputs": [],
   "source": [
    "ID = pd.DataFrame(test[\"Id\"])"
   ]
  },
  {
   "cell_type": "code",
   "execution_count": 48,
   "id": "b22c701d-5735-481b-bc96-d99be39f366d",
   "metadata": {},
   "outputs": [],
   "source": [
    "lasso_pred = pd.DataFrame(lasso_pred)"
   ]
  },
  {
   "cell_type": "code",
   "execution_count": 49,
   "id": "00f0a4b2-4647-4c40-beea-8879f27bb0e7",
   "metadata": {},
   "outputs": [
    {
     "data": {
      "text/html": [
       "<div>\n",
       "<style scoped>\n",
       "    .dataframe tbody tr th:only-of-type {\n",
       "        vertical-align: middle;\n",
       "    }\n",
       "\n",
       "    .dataframe tbody tr th {\n",
       "        vertical-align: top;\n",
       "    }\n",
       "\n",
       "    .dataframe thead th {\n",
       "        text-align: right;\n",
       "    }\n",
       "</style>\n",
       "<table border=\"1\" class=\"dataframe\">\n",
       "  <thead>\n",
       "    <tr style=\"text-align: right;\">\n",
       "      <th></th>\n",
       "      <th>Id</th>\n",
       "      <th>0</th>\n",
       "    </tr>\n",
       "  </thead>\n",
       "  <tbody>\n",
       "    <tr>\n",
       "      <th>0</th>\n",
       "      <td>2658</td>\n",
       "      <td>151499.196771</td>\n",
       "    </tr>\n",
       "    <tr>\n",
       "      <th>1</th>\n",
       "      <td>2718</td>\n",
       "      <td>167440.615498</td>\n",
       "    </tr>\n",
       "    <tr>\n",
       "      <th>2</th>\n",
       "      <td>2414</td>\n",
       "      <td>196363.962768</td>\n",
       "    </tr>\n",
       "    <tr>\n",
       "      <th>3</th>\n",
       "      <td>1989</td>\n",
       "      <td>112964.659165</td>\n",
       "    </tr>\n",
       "    <tr>\n",
       "      <th>4</th>\n",
       "      <td>625</td>\n",
       "      <td>179764.083568</td>\n",
       "    </tr>\n",
       "  </tbody>\n",
       "</table>\n",
       "</div>"
      ],
      "text/plain": [
       "     Id              0\n",
       "0  2658  151499.196771\n",
       "1  2718  167440.615498\n",
       "2  2414  196363.962768\n",
       "3  1989  112964.659165\n",
       "4   625  179764.083568"
      ]
     },
     "execution_count": 49,
     "metadata": {},
     "output_type": "execute_result"
    }
   ],
   "source": [
    "kaggle = ID.merge(lasso_pred, left_index= True, right_index=True, how=\"inner\")\n",
    "kaggle.head()"
   ]
  },
  {
   "cell_type": "code",
   "execution_count": 50,
   "id": "da80463a-4e3a-449c-8130-057eda09f5e2",
   "metadata": {},
   "outputs": [],
   "source": [
    "kaggle.rename(columns={0:\"SalePrice\",\"Id_x\":\"Id\"},inplace= True)\n"
   ]
  },
  {
   "cell_type": "code",
   "execution_count": 51,
   "id": "de53fe8a-b715-4c0f-820d-4dd28ed18c9e",
   "metadata": {},
   "outputs": [
    {
     "data": {
      "text/html": [
       "<div>\n",
       "<style scoped>\n",
       "    .dataframe tbody tr th:only-of-type {\n",
       "        vertical-align: middle;\n",
       "    }\n",
       "\n",
       "    .dataframe tbody tr th {\n",
       "        vertical-align: top;\n",
       "    }\n",
       "\n",
       "    .dataframe thead th {\n",
       "        text-align: right;\n",
       "    }\n",
       "</style>\n",
       "<table border=\"1\" class=\"dataframe\">\n",
       "  <thead>\n",
       "    <tr style=\"text-align: right;\">\n",
       "      <th></th>\n",
       "      <th>Id</th>\n",
       "      <th>SalePrice</th>\n",
       "    </tr>\n",
       "  </thead>\n",
       "  <tbody>\n",
       "    <tr>\n",
       "      <th>0</th>\n",
       "      <td>2658</td>\n",
       "      <td>151499.196771</td>\n",
       "    </tr>\n",
       "    <tr>\n",
       "      <th>1</th>\n",
       "      <td>2718</td>\n",
       "      <td>167440.615498</td>\n",
       "    </tr>\n",
       "    <tr>\n",
       "      <th>2</th>\n",
       "      <td>2414</td>\n",
       "      <td>196363.962768</td>\n",
       "    </tr>\n",
       "    <tr>\n",
       "      <th>3</th>\n",
       "      <td>1989</td>\n",
       "      <td>112964.659165</td>\n",
       "    </tr>\n",
       "    <tr>\n",
       "      <th>4</th>\n",
       "      <td>625</td>\n",
       "      <td>179764.083568</td>\n",
       "    </tr>\n",
       "    <tr>\n",
       "      <th>...</th>\n",
       "      <td>...</td>\n",
       "      <td>...</td>\n",
       "    </tr>\n",
       "    <tr>\n",
       "      <th>873</th>\n",
       "      <td>1662</td>\n",
       "      <td>202447.044119</td>\n",
       "    </tr>\n",
       "    <tr>\n",
       "      <th>874</th>\n",
       "      <td>1234</td>\n",
       "      <td>225897.893384</td>\n",
       "    </tr>\n",
       "    <tr>\n",
       "      <th>875</th>\n",
       "      <td>1373</td>\n",
       "      <td>125368.195877</td>\n",
       "    </tr>\n",
       "    <tr>\n",
       "      <th>876</th>\n",
       "      <td>1672</td>\n",
       "      <td>107733.696687</td>\n",
       "    </tr>\n",
       "    <tr>\n",
       "      <th>877</th>\n",
       "      <td>1939</td>\n",
       "      <td>121446.295972</td>\n",
       "    </tr>\n",
       "  </tbody>\n",
       "</table>\n",
       "<p>878 rows × 2 columns</p>\n",
       "</div>"
      ],
      "text/plain": [
       "       Id      SalePrice\n",
       "0    2658  151499.196771\n",
       "1    2718  167440.615498\n",
       "2    2414  196363.962768\n",
       "3    1989  112964.659165\n",
       "4     625  179764.083568\n",
       "..    ...            ...\n",
       "873  1662  202447.044119\n",
       "874  1234  225897.893384\n",
       "875  1373  125368.195877\n",
       "876  1672  107733.696687\n",
       "877  1939  121446.295972\n",
       "\n",
       "[878 rows x 2 columns]"
      ]
     },
     "execution_count": 51,
     "metadata": {},
     "output_type": "execute_result"
    }
   ],
   "source": [
    "kaggle"
   ]
  },
  {
   "cell_type": "code",
   "execution_count": 52,
   "id": "010e5143-1093-461f-a1fb-9ef64aee3f80",
   "metadata": {},
   "outputs": [],
   "source": [
    "kaggle.to_csv(\"../dataset/final_pred.csv\", index=False)"
   ]
  },
  {
   "cell_type": "markdown",
   "id": "359f9d43-0b7b-4132-b2e5-703bb1d76019",
   "metadata": {},
   "source": [
    "<img src=\"../images/KaggleResults.png\"\n",
    "     alt=\"Kaggle Results\"\n",
    "     style=\"float: left; margin-right: 10px;\" />"
   ]
  },
  {
   "cell_type": "markdown",
   "id": "727cefbc-f05d-4f24-b6a1-a8d1b796bfaa",
   "metadata": {},
   "source": [
    "The **baseline score** (ie: predictions equal to the mean Sales Price) is 75105.52711. Hence, the model is doing significantly better than the baseline score. "
   ]
  },
  {
   "cell_type": "markdown",
   "id": "8a7fb4a0-1445-4221-93b3-74cd3da8308e",
   "metadata": {},
   "source": [
    "### Hypothesis Testing (continued)"
   ]
  },
  {
   "cell_type": "markdown",
   "id": "86312157-6214-422e-a603-c2b8b8312d77",
   "metadata": {},
   "source": [
    "**RECAP**: Do Above Ground Living Area, Age of Property at Sale, External Quality and Neighborhood have any impact on Property Sale Price?\n",
    "\n",
    "**Null hypothesis**: Gr Liv Area, Age of Property at Sale, External Quality and Neighborhood DO NOT have any impact on Property Sale Price. The coefficient of these features are equal to zero. \n",
    "\n",
    "**Alternative hypothesis**: Gr Liv Area, Age of Property at Sale, External Quality and Neighborhood are significant predictors of Property Sale Price. The coefficient of these features are not equal to zero. \n",
    "\n",
    "We will conduct this test assuming $\\alpha=0.05$."
   ]
  },
  {
   "cell_type": "code",
   "execution_count": 53,
   "id": "dc6e3ecf-831a-444c-9591-2e5e0b0f4cca",
   "metadata": {
    "tags": []
   },
   "outputs": [
    {
     "data": {
      "text/html": [
       "<table class=\"simpletable\">\n",
       "<caption>OLS Regression Results</caption>\n",
       "<tr>\n",
       "  <th>Dep. Variable:</th>        <td>SalePrice</td>    <th>  R-squared:         </th> <td>   0.897</td> \n",
       "</tr>\n",
       "<tr>\n",
       "  <th>Model:</th>                   <td>OLS</td>       <th>  Adj. R-squared:    </th> <td>   0.895</td> \n",
       "</tr>\n",
       "<tr>\n",
       "  <th>Method:</th>             <td>Least Squares</td>  <th>  F-statistic:       </th> <td>   384.3</td> \n",
       "</tr>\n",
       "<tr>\n",
       "  <th>Date:</th>             <td>Mon, 18 Jul 2022</td> <th>  Prob (F-statistic):</th>  <td>  0.00</td>  \n",
       "</tr>\n",
       "<tr>\n",
       "  <th>Time:</th>                 <td>02:13:40</td>     <th>  Log-Likelihood:    </th> <td> -18698.</td> \n",
       "</tr>\n",
       "<tr>\n",
       "  <th>No. Observations:</th>      <td>  1625</td>      <th>  AIC:               </th> <td>3.747e+04</td>\n",
       "</tr>\n",
       "<tr>\n",
       "  <th>Df Residuals:</th>          <td>  1588</td>      <th>  BIC:               </th> <td>3.767e+04</td>\n",
       "</tr>\n",
       "<tr>\n",
       "  <th>Df Model:</th>              <td>    36</td>      <th>                     </th>     <td> </td>    \n",
       "</tr>\n",
       "<tr>\n",
       "  <th>Covariance Type:</th>      <td>nonrobust</td>    <th>                     </th>     <td> </td>    \n",
       "</tr>\n",
       "</table>\n",
       "<table class=\"simpletable\">\n",
       "<tr>\n",
       "          <td></td>             <th>coef</th>     <th>std err</th>      <th>t</th>      <th>P>|t|</th>  <th>[0.025</th>    <th>0.975]</th>  \n",
       "</tr>\n",
       "<tr>\n",
       "  <th>const</th>             <td> -2.78e+04</td> <td> 7478.256</td> <td>   -3.718</td> <td> 0.000</td> <td>-4.25e+04</td> <td>-1.31e+04</td>\n",
       "</tr>\n",
       "<tr>\n",
       "  <th>1st Flr SF</th>        <td>   24.9200</td> <td>    3.658</td> <td>    6.812</td> <td> 0.000</td> <td>   17.745</td> <td>   32.095</td>\n",
       "</tr>\n",
       "<tr>\n",
       "  <th>2nd Flr SF</th>        <td>   22.4483</td> <td>    3.352</td> <td>    6.697</td> <td> 0.000</td> <td>   15.874</td> <td>   29.023</td>\n",
       "</tr>\n",
       "<tr>\n",
       "  <th>3Ssn Porch</th>        <td>   12.0244</td> <td>   22.866</td> <td>    0.526</td> <td> 0.599</td> <td>  -32.826</td> <td>   56.875</td>\n",
       "</tr>\n",
       "<tr>\n",
       "  <th>Bedroom AbvGr</th>     <td>-5645.5084</td> <td> 1150.594</td> <td>   -4.907</td> <td> 0.000</td> <td>-7902.352</td> <td>-3388.665</td>\n",
       "</tr>\n",
       "<tr>\n",
       "  <th>Bsmt Full Bath</th>    <td>  888.8554</td> <td> 1728.784</td> <td>    0.514</td> <td> 0.607</td> <td>-2502.084</td> <td> 4279.795</td>\n",
       "</tr>\n",
       "<tr>\n",
       "  <th>Bsmt Half Bath</th>    <td>   56.1832</td> <td> 2625.017</td> <td>    0.021</td> <td> 0.983</td> <td>-5092.681</td> <td> 5205.047</td>\n",
       "</tr>\n",
       "<tr>\n",
       "  <th>Bsmt Unf SF</th>       <td>   -1.2306</td> <td>    1.532</td> <td>   -0.803</td> <td> 0.422</td> <td>   -4.235</td> <td>    1.774</td>\n",
       "</tr>\n",
       "<tr>\n",
       "  <th>BsmtFin SF 1</th>      <td>   17.2700</td> <td>    1.677</td> <td>   10.297</td> <td> 0.000</td> <td>   13.980</td> <td>   20.560</td>\n",
       "</tr>\n",
       "<tr>\n",
       "  <th>BsmtFin SF 2</th>      <td>    4.7507</td> <td>    2.864</td> <td>    1.659</td> <td> 0.097</td> <td>   -0.867</td> <td>   10.368</td>\n",
       "</tr>\n",
       "<tr>\n",
       "  <th>Enclosed Porch</th>    <td>   13.9692</td> <td>   11.277</td> <td>    1.239</td> <td> 0.216</td> <td>   -8.150</td> <td>   36.089</td>\n",
       "</tr>\n",
       "<tr>\n",
       "  <th>Fireplaces</th>        <td> 4327.1877</td> <td> 1207.093</td> <td>    3.585</td> <td> 0.000</td> <td> 1959.525</td> <td> 6694.851</td>\n",
       "</tr>\n",
       "<tr>\n",
       "  <th>Full Bath</th>         <td>-1177.4731</td> <td> 1813.859</td> <td>   -0.649</td> <td> 0.516</td> <td>-4735.283</td> <td> 2380.337</td>\n",
       "</tr>\n",
       "<tr>\n",
       "  <th>Garage Area</th>       <td>   23.7162</td> <td>    6.792</td> <td>    3.492</td> <td> 0.000</td> <td>   10.393</td> <td>   37.039</td>\n",
       "</tr>\n",
       "<tr>\n",
       "  <th>Garage Cars</th>       <td>  463.6710</td> <td> 1943.165</td> <td>    0.239</td> <td> 0.811</td> <td>-3347.768</td> <td> 4275.110</td>\n",
       "</tr>\n",
       "<tr>\n",
       "  <th>Gr Liv Area</th>       <td>   32.8734</td> <td>    3.466</td> <td>    9.484</td> <td> 0.000</td> <td>   26.075</td> <td>   39.672</td>\n",
       "</tr>\n",
       "<tr>\n",
       "  <th>Half Bath</th>         <td>    3.1159</td> <td> 1784.676</td> <td>    0.002</td> <td> 0.999</td> <td>-3497.452</td> <td> 3503.684</td>\n",
       "</tr>\n",
       "<tr>\n",
       "  <th>Kitchen AbvGr</th>     <td> -1.62e+04</td> <td> 3413.388</td> <td>   -4.745</td> <td> 0.000</td> <td>-2.29e+04</td> <td>-9502.504</td>\n",
       "</tr>\n",
       "<tr>\n",
       "  <th>Lot Area</th>          <td>    0.5392</td> <td>    0.105</td> <td>    5.151</td> <td> 0.000</td> <td>    0.334</td> <td>    0.745</td>\n",
       "</tr>\n",
       "<tr>\n",
       "  <th>Lot Frontage</th>      <td>  182.9978</td> <td>   35.383</td> <td>    5.172</td> <td> 0.000</td> <td>  113.596</td> <td>  252.399</td>\n",
       "</tr>\n",
       "<tr>\n",
       "  <th>Low Qual Fin SF</th>   <td>  -14.4949</td> <td>    8.459</td> <td>   -1.714</td> <td> 0.087</td> <td>  -31.086</td> <td>    2.097</td>\n",
       "</tr>\n",
       "<tr>\n",
       "  <th>Mas Vnr Area</th>      <td>   10.1854</td> <td>    4.289</td> <td>    2.375</td> <td> 0.018</td> <td>    1.774</td> <td>   18.597</td>\n",
       "</tr>\n",
       "<tr>\n",
       "  <th>Misc Val</th>          <td>   -0.5736</td> <td>    1.275</td> <td>   -0.450</td> <td> 0.653</td> <td>   -3.074</td> <td>    1.927</td>\n",
       "</tr>\n",
       "<tr>\n",
       "  <th>Mo Sold</th>           <td>   46.3542</td> <td>  222.186</td> <td>    0.209</td> <td> 0.835</td> <td> -389.454</td> <td>  482.162</td>\n",
       "</tr>\n",
       "<tr>\n",
       "  <th>Open Porch SF</th>     <td>    4.3057</td> <td>   10.287</td> <td>    0.419</td> <td> 0.676</td> <td>  -15.872</td> <td>   24.483</td>\n",
       "</tr>\n",
       "<tr>\n",
       "  <th>Pool Area</th>         <td>   -5.5206</td> <td>   18.186</td> <td>   -0.304</td> <td> 0.761</td> <td>  -41.191</td> <td>   30.150</td>\n",
       "</tr>\n",
       "<tr>\n",
       "  <th>Screen Porch</th>      <td>   42.2641</td> <td>   11.365</td> <td>    3.719</td> <td> 0.000</td> <td>   19.972</td> <td>   64.557</td>\n",
       "</tr>\n",
       "<tr>\n",
       "  <th>TotRms AbvGrd</th>     <td> 2091.9209</td> <td>  827.762</td> <td>    2.527</td> <td> 0.012</td> <td>  468.300</td> <td> 3715.542</td>\n",
       "</tr>\n",
       "<tr>\n",
       "  <th>Total Bsmt SF</th>     <td>   20.7902</td> <td>    2.176</td> <td>    9.553</td> <td> 0.000</td> <td>   16.521</td> <td>   25.059</td>\n",
       "</tr>\n",
       "<tr>\n",
       "  <th>Wood Deck SF</th>      <td>   14.1214</td> <td>    5.428</td> <td>    2.601</td> <td> 0.009</td> <td>    3.474</td> <td>   24.769</td>\n",
       "</tr>\n",
       "<tr>\n",
       "  <th>age_at_sale</th>       <td> -289.9943</td> <td>   46.076</td> <td>   -6.294</td> <td> 0.000</td> <td> -380.371</td> <td> -199.618</td>\n",
       "</tr>\n",
       "<tr>\n",
       "  <th>years_since_remod</th> <td> -202.6406</td> <td>   54.029</td> <td>   -3.751</td> <td> 0.000</td> <td> -308.616</td> <td>  -96.666</td>\n",
       "</tr>\n",
       "<tr>\n",
       "  <th>age_vs_remod</th>      <td> -158.0880</td> <td>   83.884</td> <td>   -1.885</td> <td> 0.060</td> <td> -322.623</td> <td>    6.446</td>\n",
       "</tr>\n",
       "<tr>\n",
       "  <th>Overall Qual</th>      <td> 8965.7071</td> <td>  824.135</td> <td>   10.879</td> <td> 0.000</td> <td> 7349.200</td> <td> 1.06e+04</td>\n",
       "</tr>\n",
       "<tr>\n",
       "  <th>Overall Cond</th>      <td> 5589.7553</td> <td>  678.352</td> <td>    8.240</td> <td> 0.000</td> <td> 4259.196</td> <td> 6920.315</td>\n",
       "</tr>\n",
       "<tr>\n",
       "  <th>Exter Qual_Ex</th>     <td> 6.589e+04</td> <td> 4495.954</td> <td>   14.655</td> <td> 0.000</td> <td> 5.71e+04</td> <td> 7.47e+04</td>\n",
       "</tr>\n",
       "<tr>\n",
       "  <th>Exter Qual_Gd</th>     <td> 9717.7328</td> <td> 2057.930</td> <td>    4.722</td> <td> 0.000</td> <td> 5681.188</td> <td> 1.38e+04</td>\n",
       "</tr>\n",
       "<tr>\n",
       "  <th>low_tier</th>          <td> -512.1637</td> <td> 1976.770</td> <td>   -0.259</td> <td> 0.796</td> <td>-4389.517</td> <td> 3365.190</td>\n",
       "</tr>\n",
       "<tr>\n",
       "  <th>high_tier</th>         <td> 1.744e+04</td> <td> 2010.655</td> <td>    8.673</td> <td> 0.000</td> <td> 1.35e+04</td> <td> 2.14e+04</td>\n",
       "</tr>\n",
       "</table>\n",
       "<table class=\"simpletable\">\n",
       "<tr>\n",
       "  <th>Omnibus:</th>       <td>482.168</td> <th>  Durbin-Watson:     </th> <td>   2.060</td>\n",
       "</tr>\n",
       "<tr>\n",
       "  <th>Prob(Omnibus):</th> <td> 0.000</td>  <th>  Jarque-Bera (JB):  </th> <td>6582.519</td>\n",
       "</tr>\n",
       "<tr>\n",
       "  <th>Skew:</th>          <td> 0.996</td>  <th>  Prob(JB):          </th> <td>    0.00</td>\n",
       "</tr>\n",
       "<tr>\n",
       "  <th>Kurtosis:</th>      <td>12.657</td>  <th>  Cond. No.          </th> <td>1.19e+16</td>\n",
       "</tr>\n",
       "</table><br/><br/>Notes:<br/>[1] Standard Errors assume that the covariance matrix of the errors is correctly specified.<br/>[2] The smallest eigenvalue is 1.72e-21. This might indicate that there are<br/>strong multicollinearity problems or that the design matrix is singular."
      ],
      "text/plain": [
       "<class 'statsmodels.iolib.summary.Summary'>\n",
       "\"\"\"\n",
       "                            OLS Regression Results                            \n",
       "==============================================================================\n",
       "Dep. Variable:              SalePrice   R-squared:                       0.897\n",
       "Model:                            OLS   Adj. R-squared:                  0.895\n",
       "Method:                 Least Squares   F-statistic:                     384.3\n",
       "Date:                Mon, 18 Jul 2022   Prob (F-statistic):               0.00\n",
       "Time:                        02:13:40   Log-Likelihood:                -18698.\n",
       "No. Observations:                1625   AIC:                         3.747e+04\n",
       "Df Residuals:                    1588   BIC:                         3.767e+04\n",
       "Df Model:                          36                                         \n",
       "Covariance Type:            nonrobust                                         \n",
       "=====================================================================================\n",
       "                        coef    std err          t      P>|t|      [0.025      0.975]\n",
       "-------------------------------------------------------------------------------------\n",
       "const              -2.78e+04   7478.256     -3.718      0.000   -4.25e+04   -1.31e+04\n",
       "1st Flr SF           24.9200      3.658      6.812      0.000      17.745      32.095\n",
       "2nd Flr SF           22.4483      3.352      6.697      0.000      15.874      29.023\n",
       "3Ssn Porch           12.0244     22.866      0.526      0.599     -32.826      56.875\n",
       "Bedroom AbvGr     -5645.5084   1150.594     -4.907      0.000   -7902.352   -3388.665\n",
       "Bsmt Full Bath      888.8554   1728.784      0.514      0.607   -2502.084    4279.795\n",
       "Bsmt Half Bath       56.1832   2625.017      0.021      0.983   -5092.681    5205.047\n",
       "Bsmt Unf SF          -1.2306      1.532     -0.803      0.422      -4.235       1.774\n",
       "BsmtFin SF 1         17.2700      1.677     10.297      0.000      13.980      20.560\n",
       "BsmtFin SF 2          4.7507      2.864      1.659      0.097      -0.867      10.368\n",
       "Enclosed Porch       13.9692     11.277      1.239      0.216      -8.150      36.089\n",
       "Fireplaces         4327.1877   1207.093      3.585      0.000    1959.525    6694.851\n",
       "Full Bath         -1177.4731   1813.859     -0.649      0.516   -4735.283    2380.337\n",
       "Garage Area          23.7162      6.792      3.492      0.000      10.393      37.039\n",
       "Garage Cars         463.6710   1943.165      0.239      0.811   -3347.768    4275.110\n",
       "Gr Liv Area          32.8734      3.466      9.484      0.000      26.075      39.672\n",
       "Half Bath             3.1159   1784.676      0.002      0.999   -3497.452    3503.684\n",
       "Kitchen AbvGr      -1.62e+04   3413.388     -4.745      0.000   -2.29e+04   -9502.504\n",
       "Lot Area              0.5392      0.105      5.151      0.000       0.334       0.745\n",
       "Lot Frontage        182.9978     35.383      5.172      0.000     113.596     252.399\n",
       "Low Qual Fin SF     -14.4949      8.459     -1.714      0.087     -31.086       2.097\n",
       "Mas Vnr Area         10.1854      4.289      2.375      0.018       1.774      18.597\n",
       "Misc Val             -0.5736      1.275     -0.450      0.653      -3.074       1.927\n",
       "Mo Sold              46.3542    222.186      0.209      0.835    -389.454     482.162\n",
       "Open Porch SF         4.3057     10.287      0.419      0.676     -15.872      24.483\n",
       "Pool Area            -5.5206     18.186     -0.304      0.761     -41.191      30.150\n",
       "Screen Porch         42.2641     11.365      3.719      0.000      19.972      64.557\n",
       "TotRms AbvGrd      2091.9209    827.762      2.527      0.012     468.300    3715.542\n",
       "Total Bsmt SF        20.7902      2.176      9.553      0.000      16.521      25.059\n",
       "Wood Deck SF         14.1214      5.428      2.601      0.009       3.474      24.769\n",
       "age_at_sale        -289.9943     46.076     -6.294      0.000    -380.371    -199.618\n",
       "years_since_remod  -202.6406     54.029     -3.751      0.000    -308.616     -96.666\n",
       "age_vs_remod       -158.0880     83.884     -1.885      0.060    -322.623       6.446\n",
       "Overall Qual       8965.7071    824.135     10.879      0.000    7349.200    1.06e+04\n",
       "Overall Cond       5589.7553    678.352      8.240      0.000    4259.196    6920.315\n",
       "Exter Qual_Ex      6.589e+04   4495.954     14.655      0.000    5.71e+04    7.47e+04\n",
       "Exter Qual_Gd      9717.7328   2057.930      4.722      0.000    5681.188    1.38e+04\n",
       "low_tier           -512.1637   1976.770     -0.259      0.796   -4389.517    3365.190\n",
       "high_tier          1.744e+04   2010.655      8.673      0.000    1.35e+04    2.14e+04\n",
       "==============================================================================\n",
       "Omnibus:                      482.168   Durbin-Watson:                   2.060\n",
       "Prob(Omnibus):                  0.000   Jarque-Bera (JB):             6582.519\n",
       "Skew:                           0.996   Prob(JB):                         0.00\n",
       "Kurtosis:                      12.657   Cond. No.                     1.19e+16\n",
       "==============================================================================\n",
       "\n",
       "Notes:\n",
       "[1] Standard Errors assume that the covariance matrix of the errors is correctly specified.\n",
       "[2] The smallest eigenvalue is 1.72e-21. This might indicate that there are\n",
       "strong multicollinearity problems or that the design matrix is singular.\n",
       "\"\"\""
      ]
     },
     "execution_count": 53,
     "metadata": {},
     "output_type": "execute_result"
    }
   ],
   "source": [
    "import statsmodels.api as sm\n",
    "\n",
    "X_train = sm.add_constant(X_train)\n",
    "model_sm = sm.OLS(y_train, X_train).fit()\n",
    "model_sm.summary()"
   ]
  },
  {
   "cell_type": "markdown",
   "id": "a800d867-6aac-40f0-9248-a5d0a7496dd3",
   "metadata": {},
   "source": [
    "The $p$-value for the above 4 features in the summary table above are 0, which means that $p < \\alpha$ and we will reject $H_0$. This means we accept our alternative hypothesis, $H_A$, and accept that these features are a significant predictor of property Sale Price."
   ]
  },
  {
   "cell_type": "markdown",
   "id": "892ac065-40c1-4d61-95d1-12e535b80ab8",
   "metadata": {},
   "source": [
    "In addition, from the Lasso model above, the coefficients of the above features are significantly above/below 0, which indicates they are significant predictors of Sale Price."
   ]
  },
  {
   "cell_type": "markdown",
   "id": "742b9cc5-68f6-409e-8ad4-0a75ec8669dd",
   "metadata": {},
   "source": [
    "### 5. Conclusion"
   ]
  },
  {
   "cell_type": "markdown",
   "id": "7f40b67b-10b6-4fa2-9574-567867840583",
   "metadata": {},
   "source": [
    "The top 5 predictors of Property Sales Price in Ames, Iowa are:\n",
    "1) Above Ground Living Area\n",
    "2) Overall Quality of the Material and Finish of the house\n",
    "3) Total Basement Sqft Area\n",
    "4) Neighborhood\n",
    "5) Age of Property at Sale"
   ]
  },
  {
   "cell_type": "markdown",
   "id": "15800d91-40c3-4e98-a59b-f8268091b16d",
   "metadata": {},
   "source": [
    "<img src=\"../images/LassoCoef.png\"\n",
    "     alt=\"Graph\"\n",
    "     style=\"float: left; margin-right: 10px;\" />"
   ]
  },
  {
   "cell_type": "markdown",
   "id": "0b965187-93b9-4848-b6d7-1be3a876eb48",
   "metadata": {},
   "source": [
    "**Above Ground Living Area (AGLA)**: Is the strongest predictor of Sales Price. The increase in Sales Price per unit increase of AGLA is nearly double of the impact of Overall Quality. "
   ]
  },
  {
   "cell_type": "markdown",
   "id": "2d5bd244-b4da-4ff0-91c5-6238df782ac6",
   "metadata": {},
   "source": [
    "**Age of Property at Sale**: The older the property, the lower the Sales Price. It appears that the impact of remodelling on improving Sale Price is minimal.Ie: for older properties, remodelling does little to increase Sale Price. \n",
    "\n",
    "This is an important consideration for house-flippers (ie: investors who buy low, and sell high). The cost of remodelling (an old property) needs to be carefully balanced with the (limited) increase in reselling price."
   ]
  },
  {
   "cell_type": "markdown",
   "id": "b147a851-21e0-45eb-bd2f-d6bd54343a27",
   "metadata": {},
   "source": [
    "<img src=\"../images/AgeRemod.png\"\n",
    "     alt=\"Graph\"\n",
    "     style=\"float: left; margin-right: 10px;\" />"
   ]
  },
  {
   "cell_type": "markdown",
   "id": "7b0522f6-fca7-44fd-817c-16aa5fe379a9",
   "metadata": {},
   "source": [
    "**Neighborhood:** The range of Sale Prices varies by Neighborhood. This can be due to many reasons. \n",
    "\n",
    "1) Age of property in the Neighborhood: For example, properties in OldTown are older and thus priced lower. Conversely, properties in NorthRidge Heights are newer and therefore highly priced. \n",
    "\n",
    "2) Size of property: NorthRidge Heights are also more highly priced as they have larger above ground living area. \n",
    "\n",
    "3) Location and demographics: OldTown and CollegeCreek are nearer to downtown, where Iowa State University is. Prices are capped because most of the house occupants are students. \n",
    "\n",
    "*Reference*: [Data Analysis on Real Estate in Ames, Iowa](https://nycdatascience.com/blog/r/data-analysis-on-real-estate-in-ames-iowa/)"
   ]
  },
  {
   "cell_type": "markdown",
   "id": "2f46d6fb-cc62-4b1c-b959-ae86935d1dd3",
   "metadata": {},
   "source": [
    "<img src=\"../images/NeighborhoodPrice.png\"\n",
    "     alt=\"Graph\"\n",
    "     style=\"float: left; margin-right: 10px;\" />"
   ]
  },
  {
   "cell_type": "markdown",
   "id": "eda2ca9a-dc72-4437-a2d2-37a10e0e71eb",
   "metadata": {},
   "source": [
    "<img src=\"../images/NeighborhoodGLAAge.png\"\n",
    "     alt=\"Graph\"\n",
    "     style=\"float: left; margin-right: 10px;\" />"
   ]
  },
  {
   "cell_type": "markdown",
   "id": "314038b0-3213-4a83-ad1c-db3a1e38a021",
   "metadata": {},
   "source": [
    "#### 6. Proposed future improvements"
   ]
  },
  {
   "cell_type": "markdown",
   "id": "ee84a14a-a17e-4d84-acc0-65950f9aba86",
   "metadata": {},
   "source": [
    "1) Further refine the model by studying, selecting and adding more one-hot-encoded (categorical) features. \n",
    "2) Collect additional data to study impact of demographics, location and nearby amenities on Sales Price. This will enable property agents to better map seller supply to buyer demand. "
   ]
  },
  {
   "cell_type": "code",
   "execution_count": null,
   "id": "390fc3f5-0f4a-46bf-bd55-a464410d79d7",
   "metadata": {},
   "outputs": [],
   "source": []
  }
 ],
 "metadata": {
  "kernelspec": {
   "display_name": "Python 3 (ipykernel)",
   "language": "python",
   "name": "python3"
  },
  "language_info": {
   "codemirror_mode": {
    "name": "ipython",
    "version": 3
   },
   "file_extension": ".py",
   "mimetype": "text/x-python",
   "name": "python",
   "nbconvert_exporter": "python",
   "pygments_lexer": "ipython3",
   "version": "3.8.13"
  }
 },
 "nbformat": 4,
 "nbformat_minor": 5
}
