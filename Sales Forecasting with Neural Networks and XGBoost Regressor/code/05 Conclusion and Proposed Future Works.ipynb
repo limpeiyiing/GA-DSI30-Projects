{
 "cells": [
  {
   "cell_type": "markdown",
   "id": "f49668de-b696-49f7-b057-d0145f54af32",
   "metadata": {},
   "source": [
    "<img src=\"http://imgur.com/1ZcRyrc.png\" style=\"float: left; margin: 20px; height: 55px\">\n",
    "\n",
    "# Capstone Project : Predicting Sales - Time Series Analysis and Forecasting\n",
    "## PART 5/5: Conclusion and Proposed Future Works"
   ]
  },
  {
   "cell_type": "markdown",
   "id": "079b8bbe-66c7-4bc9-8855-7eaff7b29714",
   "metadata": {},
   "source": [
    "----------"
   ]
  },
  {
   "cell_type": "markdown",
   "id": "13d834fa-d9e4-43b7-b8b2-ea5929ec7540",
   "metadata": {},
   "source": [
    "## 5.1 Selection of best model"
   ]
  },
  {
   "cell_type": "markdown",
   "id": "922426f4-9510-4829-92a8-c7ff7bd5074b",
   "metadata": {},
   "source": [
    "**Kaggle Prediction Scores:**"
   ]
  },
  {
   "cell_type": "markdown",
   "id": "712de98c-2e1e-45db-89cc-4a247eb49477",
   "metadata": {},
   "source": [
    "<img src=\"../images/model_results.png\"\n",
    "     alt=\"kaggle_score\"\n",
    "     style=\"float: left; margin-centre: 10px; height: 250px\" />"
   ]
  },
  {
   "cell_type": "markdown",
   "id": "bdf9d709-81f9-41df-8313-358335360ff1",
   "metadata": {},
   "source": [
    "We can see that all 3 models performed significantly better than the baseline, but the best model based on lowest RMSE is the **XGBoost Regressor**. \n",
    "\n",
    "It might also be important to note that the baseline model is basically a single **float** of about 0.4 distributed equally across all shop-item combinations. However, this is not a realistic situation, as we can only sell products in whole numbers. Hence, for the evaluation of the trained models, prediction results were **rounded to full integers**. This may explain why there is such a significant difference between the aggregate sum of the baseline model compared to the actual models. \n",
    "\n",
    "For future improvement, it may be worthwhile to attempt to **optimize the threshold** used to convert predictions to full integers. \n"
   ]
  },
  {
   "cell_type": "markdown",
   "id": "67948dbf-f13b-4678-839f-2f2869805094",
   "metadata": {},
   "source": [
    "## 5.2 Conclusion"
   ]
  },
  {
   "cell_type": "markdown",
   "id": "200c2236-8551-47d6-9c16-3c5356a5ce5f",
   "metadata": {},
   "source": [
    "We basically needed a effective and efficient method to generate accurate forecasts in spite of the **complexities** involved. \n",
    "\n",
    "Given the **scale and scope of 1C’s product range and geographical presence**, it would be a challenge for traditional forecasting methods to address factors such as **seasonality and trends** at the granular level. \n",
    "\n",
    "However, we managed to develop a **XGBoost Regressor model** to consider all these factors and produce a forecast with a decent **RMSE of 1.038**. This model is also sufficiently robust to predict future sales for products with **little to no historical data**. \n",
    "\n",
    "This XGBoost model is also **relatively speedy**, and can complete training and predicting in under 10 mins. Definitely a big win for Planners who are currently slaving for many hours, or even days, to produce a reasonable forecast each month. With this model, Planners can now redirect their resources towards better cross-functional alignments in the Sales and Operations Planning process. \n"
   ]
  },
  {
   "cell_type": "markdown",
   "id": "0a6eafa1-3eb8-4c63-8e8b-d7f91ce39c2f",
   "metadata": {},
   "source": [
    "## 5.3 Proposed Future Works"
   ]
  },
  {
   "cell_type": "markdown",
   "id": "651b0f6d-392d-4441-8ad4-bfb3f11eadf1",
   "metadata": {},
   "source": [
    "1) **Fine-tune features:**\n",
    "   - At the moment, clusters were created based on total units sold. We can consider using other characteristics to cluster items or stores. For example, by actual geographical location of stores, or by average rate of sales per item. \n",
    "   \n",
    "   \n",
    "2) **Optimize model parameters or transformation thresholds**\n",
    "   - For example, we can optimize the threshold used to round predictions to full integers. \n",
    "   \n",
    "   \n",
    "3) **Explore other models and approaches for better results.** \n",
    "   - For example, instead of using a purely bottoms-up forecasting approach, we can experiment with a combination of top down and bottoms up approach with a Hierarchical Time Series model.\n"
   ]
  }
 ],
 "metadata": {
  "kernelspec": {
   "display_name": "Python 3 (ipykernel)",
   "language": "python",
   "name": "python3"
  },
  "language_info": {
   "codemirror_mode": {
    "name": "ipython",
    "version": 3
   },
   "file_extension": ".py",
   "mimetype": "text/x-python",
   "name": "python",
   "nbconvert_exporter": "python",
   "pygments_lexer": "ipython3",
   "version": "3.8.13"
  }
 },
 "nbformat": 4,
 "nbformat_minor": 5
}
