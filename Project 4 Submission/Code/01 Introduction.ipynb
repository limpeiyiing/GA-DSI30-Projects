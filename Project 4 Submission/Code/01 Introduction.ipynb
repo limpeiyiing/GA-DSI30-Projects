{
 "cells": [
  {
   "cell_type": "markdown",
   "id": "WDxVE7iLA0CW",
   "metadata": {
    "id": "WDxVE7iLA0CW"
   },
   "source": [
    "<img src=\"http://imgur.com/1ZcRyrc.png\" style=\"float: left; margin: 20px; height: 55px\">\n",
    "\n",
    "# Project 4 : Predicting West Nile Virus Infection of Mosquitos in Chicago \n",
    "## PART 1/4: Introduction and Problem Statement"
   ]
  },
  {
   "cell_type": "markdown",
   "id": "348e1995-780b-4caa-9864-4d297fdf1959",
   "metadata": {},
   "source": [
    "------"
   ]
  },
  {
   "cell_type": "markdown",
   "id": "a7c1a0dc",
   "metadata": {
    "id": "a7c1a0dc"
   },
   "source": [
    "## Background"
   ]
  },
  {
   "cell_type": "markdown",
   "id": "fa72d288",
   "metadata": {
    "id": "fa72d288"
   },
   "source": [
    "In the United States, the West Nile Virus is one the most common mosquito-borne disease [(source)](https://www.cdc.gov/mosquitoes/about/mosquitoes-in-the-us.html#:~:text=West%20Nile%20virus%20is%20one,Virgin%20Islands%2C%20and%20American%20Samoa.). Since its initial discovery in the country in 1999, it has rapidly spread throughout the country when an infected mosquito bites a human. In September 2001, the disease was initially discovered in two dead crows in Illinois. In contrast to the 149 cases and 19 deaths reported to the CDC cumulatively from 10 states during the three years from 1999 to 2001, the first significant WNV outbreak in the United States was observed in 2002, when more than 4,150 human cases and 284 deaths attributable to WNV infection were reported from 40 states.\n",
    "\n",
    "By 2015, a total of **43,900 cases and 1900 deaths** linked to the virus were reported to the US Center for Disease Control and Prevention (CDC). Cases of hospitalized WNV disease are estimated to cost an average of [$56 million per year in disease-associated morbidity and mortality.](https://www.sciencedirect.com/science/article/pii/S0264410X16311495) \n",
    "\n",
    "Although the majority of WNV carriers have no symptoms, one in five infected individuals have fever and other symptoms. Additionally, one in 150 infected individuals develops a serious, [occasionally deadly illness](https://www.cdc.gov/westnile/index.html?CDC_AA_refVal=https%3A%2F%2Fwww.cdc.gov%2Fwestnile%2Ffaq%2FgenQuestions.html). There are no vaccinations or treatments available currently for WNV in humans, and hence, the best way to manage WNV is by preventing it in the first place. This places a great importance on effective vector control strategies. \n",
    "\n",
    "In 2004, a thorough surveillance and control program had been built by the City of Chicago and the Chicago Department of Public Health (CDPH), and it is still in use today. Mosquitoes caught in traps placed throughout the city from late spring through the fall are examined weekly for the virus. The outcomes of these tests determine when and where the city will spray insecticides into the air to reduce adult mosquito populations[(source)](https://www.kaggle.com/c/predict-west-nile-virus/)."
   ]
  },
  {
   "cell_type": "markdown",
   "id": "6NoHqVjp6YeT",
   "metadata": {
    "id": "6NoHqVjp6YeT"
   },
   "source": [
    "## Localising the problem to the City of Chicago:\n",
    "\n",
    "Due to the constraints of this project, we were not able retrieve relevant economic and costs data specific to this locality. However, we can attempt to appreciate the scale of the problem based on other existing studies:\n",
    "\n",
    "> \"In **2005**, an outbreak of West Nile virus (WNV) disease occurred in **Sacramento County, California: 163 human cases were reported**. In response to WNV surveillance indicating increased WNV activity, an emergency aerial spray was conducted.  \n",
    "A [study](https://www.ncbi.nlm.nih.gov/pmc/articles/PMC3322011/) estimated the economic impact of the outbreak to be **\\$2.28 million for medical treatment and patients productivity loss** for both West Nile fever and West Nile neuroinvasive disease.\n",
    "**The vector control cost $701,790 including spray procedures and overtime hours**.   \n",
    "The cost-benefit analysis indicated that only **15 cases** of West Nile neuroinvasive disease would need to be prevented to make the emergency spray cost-effective.\"\n",
    "\n",
    "Based on the above study, and the following statistics, we would estimate that the healthcare and economic costs of a WNV outbreak in Chicago would be much higher due to the population density. In contrast, the area (and therefore, cost) to spray in Chicago would likely to be lower*. \n",
    "\n",
    ">**Sacramento County area**: 2,574 km²  \n",
    "**Sacramento County Population density**: 1,600/sq mi\n",
    "\n",
    ">**City of Chicago area**: 607.4 km²  \n",
    "**City of Chicago Population density**: 12,000/sq mi\n",
    "\n",
    "**assuming similar rate and method of vector control costs in both localities*\n"
   ]
  },
  {
   "cell_type": "markdown",
   "id": "_AcsoqKU-jXy",
   "metadata": {
    "id": "_AcsoqKU-jXy"
   },
   "source": [
    "\n",
    "For the purpose of this study, we will not be comparing the financial costs of vector control vs the economic impact of the disease. Rather, we would like to focus on exploring vector control stategies that can maximize the effect of reducing WNV infections in mosquitos (and therefore humans) at the lowest cost possible. "
   ]
  },
  {
   "cell_type": "markdown",
   "id": "230f00f2",
   "metadata": {
    "id": "230f00f2"
   },
   "source": [
    "## Problem Statement"
   ]
  },
  {
   "cell_type": "markdown",
   "id": "fb56d0cb",
   "metadata": {
    "id": "fb56d0cb"
   },
   "source": [
    "In order to find the most efficient way for vector control, this project aims to do a cost-benefit analysis and train a model that can predict the presence of the West Nile virus among mosquitoes in Chicago. \n",
    "\n",
    "By using the weather, spray and training dataset, we aim to meet the following objectives:\n",
    "1. To predict when and where various types of mosquitoes will test positive for West Nile virus, we will train a few classification models such as Logistic Regression, AdaBoost Classifier, Gradient Boost Classifier, XGBoost Classifier and Random Forest Classifier.\n",
    "2. Choose the best model for prediction by evaluating the models' performaces using ROC-AUC score, accuracy and recall as the key metrics.\n",
    "3. Conduct a cost-benefit analysis to determine when and where to apply vector control methods. "
   ]
  },
  {
   "cell_type": "markdown",
   "id": "f895a155",
   "metadata": {
    "id": "f895a155"
   },
   "source": [
    "## Overview of Dataset"
   ]
  },
  {
   "cell_type": "markdown",
   "id": "6d1473a2",
   "metadata": {
    "id": "6d1473a2"
   },
   "source": [
    "| **Dataset** |                                                     **Content**                                                    |                    **Source**                   | Year                   |\n",
    "|:-----------:|:------------------------------------------------------------------------------------------------------------------:|:-----------------------------------------------:|------------------------|\n",
    "|    Train    | - Date<br>- Trap location<br>- No. of mosquitoes caught<br>- Species of mosquitos<br>- Presence of West Nile Virus |       Chicago Department of Public Health       | 2007, 2009, 2011, 2013 |\n",
    "|   Weather   |          - Date<br>- Temperature related<br>- Humidity related<br>- Wind speed<br>- Sunset/ sunrise timing         | National Oceanic and Atmospheric Administration | 2007 - 2014            |\n",
    "|    Spray    |                                 - Date<br>- Time<br>- Location: latitude, longitude                                |       Chicago Department of Public Health       | 2011, 2013             |"
   ]
  }
 ],
 "metadata": {
  "colab": {
   "collapsed_sections": [],
   "name": "01 Introduction.ipynb",
   "provenance": []
  },
  "kernelspec": {
   "display_name": "Python 3 (ipykernel)",
   "language": "python",
   "name": "python3"
  },
  "language_info": {
   "codemirror_mode": {
    "name": "ipython",
    "version": 3
   },
   "file_extension": ".py",
   "mimetype": "text/x-python",
   "name": "python",
   "nbconvert_exporter": "python",
   "pygments_lexer": "ipython3",
   "version": "3.8.13"
  }
 },
 "nbformat": 4,
 "nbformat_minor": 5
}
