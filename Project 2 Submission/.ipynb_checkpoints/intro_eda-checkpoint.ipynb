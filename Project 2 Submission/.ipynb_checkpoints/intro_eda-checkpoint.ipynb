{
 "cells": [
  {
   "cell_type": "markdown",
   "id": "3a3a1e3a-c79d-40c8-96fb-78867992defb",
   "metadata": {},
   "source": [
    "<img src=\"http://imgur.com/1ZcRyrc.png\" style=\"float: left; margin: 20px; height: 55px\">\n",
    "\n",
    "# Project 2: Modelling Ames Housing Data and Kaggle Challenge"
   ]
  },
  {
   "cell_type": "markdown",
   "id": "d7b85d1d-c5ba-4887-ae9d-220a738d41ea",
   "metadata": {},
   "source": [
    "----"
   ]
  },
  {
   "cell_type": "markdown",
   "id": "124d03e5-a339-4021-930f-4c5efb8b288c",
   "metadata": {},
   "source": [
    "## Background"
   ]
  },
  {
   "cell_type": "code",
   "execution_count": null,
   "id": "34e2b956-96fb-4986-88b0-cdb4b34e562a",
   "metadata": {},
   "outputs": [],
   "source": []
  },
  {
   "cell_type": "markdown",
   "id": "a23f47c0-534f-47b2-b83b-f0d19462c879",
   "metadata": {},
   "source": [
    "## Project Statement"
   ]
  },
  {
   "cell_type": "code",
   "execution_count": null,
   "id": "6cde70b5-4510-46a2-9b75-198b19ce7b52",
   "metadata": {},
   "outputs": [],
   "source": []
  },
  {
   "cell_type": "markdown",
   "id": "d235c21b-7ae1-4943-a87a-1497c95bbdaf",
   "metadata": {},
   "source": [
    "## Workflow"
   ]
  },
  {
   "cell_type": "markdown",
   "id": "1e92c1d5-7b47-4aa4-b68d-00a0ab01425f",
   "metadata": {},
   "source": [
    "### Contents:\n",
    "1) Additional Research\n",
    "2) Data import and cleaning\n",
    "3) Data dictionary\n",
    "4) Exploratory Data Analysis (EDA)\n",
    "5) Modelling\n",
    "6) Conclusion\n"
   ]
  },
  {
   "cell_type": "markdown",
   "id": "3732ae30-5eb7-4a3f-9a8a-ecf78c1a3f2b",
   "metadata": {},
   "source": [
    "### 1. Additional Research"
   ]
  },
  {
   "cell_type": "code",
   "execution_count": null,
   "id": "76db4618-3c24-4c84-a513-e09f068c1d60",
   "metadata": {},
   "outputs": [],
   "source": []
  },
  {
   "cell_type": "markdown",
   "id": "0c4c3a7d-5a4b-45d2-a59f-8dabce93813c",
   "metadata": {},
   "source": [
    "### 2. Data Importing and Cleaning"
   ]
  },
  {
   "cell_type": "code",
   "execution_count": null,
   "id": "af1a9926-3ba2-48d5-a5ea-71c25cef5d55",
   "metadata": {},
   "outputs": [],
   "source": [
    "from "
   ]
  },
  {
   "cell_type": "code",
   "execution_count": null,
   "id": "bc7146d0-0bb8-4625-a0ea-ddbf331ac74e",
   "metadata": {},
   "outputs": [],
   "source": []
  }
 ],
 "metadata": {
  "kernelspec": {
   "display_name": "Python 3 (ipykernel)",
   "language": "python",
   "name": "python3"
  },
  "language_info": {
   "codemirror_mode": {
    "name": "ipython",
    "version": 3
   },
   "file_extension": ".py",
   "mimetype": "text/x-python",
   "name": "python",
   "nbconvert_exporter": "python",
   "pygments_lexer": "ipython3",
   "version": "3.8.13"
  }
 },
 "nbformat": 4,
 "nbformat_minor": 5
}
