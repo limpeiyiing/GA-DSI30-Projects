{
 "cells": [
  {
   "cell_type": "markdown",
   "id": "e0493da0-2392-46bc-8646-e999d1976792",
   "metadata": {},
   "source": [
    "<img src=\"http://imgur.com/1ZcRyrc.png\" style=\"float: left; margin: 20px; height: 55px\">\n",
    "\n",
    "# Project 4 : Predicting West Nile Virus Infection of Mosquitos in Chicago \n",
    "## PART 3/4: Modelling"
   ]
  },
  {
   "cell_type": "markdown",
   "id": "cf581911-dc95-41c2-a323-d0700364e7b0",
   "metadata": {},
   "source": [
    "-----"
   ]
  },
  {
   "cell_type": "code",
   "execution_count": 1,
   "id": "rwBDf4sfdOCk",
   "metadata": {
    "colab": {
     "base_uri": "https://localhost:8080/"
    },
    "executionInfo": {
     "elapsed": 2910,
     "status": "ok",
     "timestamp": 1660496227833,
     "user": {
      "displayName": "Keziah Sitinjak",
      "userId": "18293108177565735470"
     },
     "user_tz": -480
    },
    "id": "rwBDf4sfdOCk",
    "outputId": "340c0c37-ced3-4aca-c078-2e61a70eefa5"
   },
   "outputs": [],
   "source": [
    "# from google.colab import drive\n",
    "# drive.mount('/content/gdrive')"
   ]
  },
  {
   "cell_type": "code",
   "execution_count": 2,
   "id": "6cb18e82-ca32-402c-84eb-4946ff6d8f8d",
   "metadata": {
    "executionInfo": {
     "elapsed": 5,
     "status": "ok",
     "timestamp": 1660496227833,
     "user": {
      "displayName": "Keziah Sitinjak",
      "userId": "18293108177565735470"
     },
     "user_tz": -480
    },
    "id": "6cb18e82-ca32-402c-84eb-4946ff6d8f8d"
   },
   "outputs": [
    {
     "name": "stderr",
     "output_type": "stream",
     "text": [
      "/Users/kenneththesheep/opt/anaconda3/envs/dsi30/lib/python3.8/site-packages/xgboost/compat.py:36: FutureWarning: pandas.Int64Index is deprecated and will be removed from pandas in a future version. Use pandas.Index with the appropriate dtype instead.\n",
      "  from pandas import MultiIndex, Int64Index\n"
     ]
    }
   ],
   "source": [
    "import pandas as pd\n",
    "import numpy as np\n",
    "import matplotlib.pyplot as plt\n",
    "import seaborn as sns\n",
    "\n",
    "from sklearn.model_selection import train_test_split,GridSearchCV\n",
    "from sklearn.preprocessing import StandardScaler\n",
    "from sklearn.linear_model import LogisticRegression\n",
    "from sklearn.ensemble import RandomForestClassifier, AdaBoostClassifier, ExtraTreesClassifier, GradientBoostingClassifier\n",
    "from xgboost import XGBClassifier\n",
    "from sklearn.tree import DecisionTreeClassifier\n",
    "from imblearn.over_sampling import SMOTE\n",
    "from imblearn.pipeline import Pipeline\n",
    "\n",
    "from sklearn.metrics import confusion_matrix, ConfusionMatrixDisplay, plot_roc_curve, roc_auc_score, RocCurveDisplay\n",
    "from sklearn.metrics import classification_report, accuracy_score, precision_recall_fscore_support"
   ]
  },
  {
   "cell_type": "markdown",
   "id": "uTva_08dUIkG",
   "metadata": {
    "id": "uTva_08dUIkG"
   },
   "source": [
    "### Import Data"
   ]
  },
  {
   "cell_type": "code",
   "execution_count": 3,
   "id": "d5f3fb2a-9c05-4169-86bc-c1e3aab7e57e",
   "metadata": {
    "executionInfo": {
     "elapsed": 733,
     "status": "ok",
     "timestamp": 1660496228562,
     "user": {
      "displayName": "Keziah Sitinjak",
      "userId": "18293108177565735470"
     },
     "user_tz": -480
    },
    "id": "d5f3fb2a-9c05-4169-86bc-c1e3aab7e57e"
   },
   "outputs": [],
   "source": [
    "train = pd.read_csv('../Dataset/train_combined_final.csv')\n",
    "test = pd.read_csv('../Dataset/test_final.csv')"
   ]
  },
  {
   "cell_type": "code",
   "execution_count": 4,
   "id": "hdDPInwCvV-W",
   "metadata": {
    "executionInfo": {
     "elapsed": 10,
     "status": "ok",
     "timestamp": 1660496228563,
     "user": {
      "displayName": "Keziah Sitinjak",
      "userId": "18293108177565735470"
     },
     "user_tz": -480
    },
    "id": "hdDPInwCvV-W"
   },
   "outputs": [],
   "source": [
    "#train.columns"
   ]
  },
  {
   "cell_type": "code",
   "execution_count": 5,
   "id": "kwyTrEC2vS2m",
   "metadata": {
    "executionInfo": {
     "elapsed": 10,
     "status": "ok",
     "timestamp": 1660496228563,
     "user": {
      "displayName": "Keziah Sitinjak",
      "userId": "18293108177565735470"
     },
     "user_tz": -480
    },
    "id": "kwyTrEC2vS2m"
   },
   "outputs": [],
   "source": [
    "#test.columns"
   ]
  },
  {
   "cell_type": "code",
   "execution_count": 6,
   "id": "dc5df5b0-7bec-447b-83b9-4105419f28f3",
   "metadata": {
    "executionInfo": {
     "elapsed": 9,
     "status": "ok",
     "timestamp": 1660496228563,
     "user": {
      "displayName": "Keziah Sitinjak",
      "userId": "18293108177565735470"
     },
     "user_tz": -480
    },
    "id": "dc5df5b0-7bec-447b-83b9-4105419f28f3"
   },
   "outputs": [],
   "source": [
    "train.drop(labels = [\"Unnamed: 0\"],axis = 1, inplace=True)\n",
    "test.drop(labels = [\"Unnamed: 0\"],axis = 1, inplace=True)"
   ]
  },
  {
   "cell_type": "code",
   "execution_count": 7,
   "id": "6a7df494-9911-4d5d-b70a-5960ce345593",
   "metadata": {
    "executionInfo": {
     "elapsed": 10,
     "status": "ok",
     "timestamp": 1660496228564,
     "user": {
      "displayName": "Keziah Sitinjak",
      "userId": "18293108177565735470"
     },
     "user_tz": -480
    },
    "id": "6a7df494-9911-4d5d-b70a-5960ce345593"
   },
   "outputs": [],
   "source": [
    "#train.info()"
   ]
  },
  {
   "cell_type": "code",
   "execution_count": 8,
   "id": "7d57fd74-9b70-4fa3-b375-8074621a676b",
   "metadata": {
    "executionInfo": {
     "elapsed": 10,
     "status": "ok",
     "timestamp": 1660496228564,
     "user": {
      "displayName": "Keziah Sitinjak",
      "userId": "18293108177565735470"
     },
     "user_tz": -480
    },
    "id": "7d57fd74-9b70-4fa3-b375-8074621a676b"
   },
   "outputs": [],
   "source": [
    "#test.info()"
   ]
  },
  {
   "cell_type": "markdown",
   "id": "201177a6-2634-42a0-bfe6-d71fe67c5d1b",
   "metadata": {
    "id": "201177a6-2634-42a0-bfe6-d71fe67c5d1b"
   },
   "source": [
    "## Feature Selection"
   ]
  },
  {
   "cell_type": "code",
   "execution_count": 9,
   "id": "b688860f-5130-4e1e-9d65-41d3b3837b5d",
   "metadata": {
    "executionInfo": {
     "elapsed": 10,
     "status": "ok",
     "timestamp": 1660496228564,
     "user": {
      "displayName": "Keziah Sitinjak",
      "userId": "18293108177565735470"
     },
     "user_tz": -480
    },
    "id": "b688860f-5130-4e1e-9d65-41d3b3837b5d"
   },
   "outputs": [],
   "source": [
    "final_feat = ['week','distfrom_s1', 'distfrom_s2',  \n",
    "              'tavg', 'dewpoint', 'preciptotal','humidity', \n",
    "              'vcts', 'hz', 'tsra', 'ts', 'fg', 'dz', 'br', 'ra',\n",
    "       'species_culex pipiens', 'species_culex pipiens/restuans',\n",
    "       'species_culex restuans', 'trap_group_c2', 'trap_group_c3',\n",
    "       'trap_group_c4', 'trap_group_c5', 'tavg_lag3_rol3',\n",
    "       'humidity_lag3_rol3', 'preciptotal_lag3_rol3']\n",
    "\n",
    "#drop :'wetbulb',tmax','tmin', 'year', 'month','station'\n",
    "# year and month dropped, we only use week column\n",
    "# tmax and tmin are highly correlated with tavg so we are not using tmax and tmin because we already use tavg\n",
    "# we also drop station because we already have distance from station 1 and station 2\n",
    "# (bigger lag has less relationship to target variable )"
   ]
  },
  {
   "cell_type": "markdown",
   "id": "1f2ae7f0-4193-465b-a286-6a98c976bc32",
   "metadata": {
    "id": "1f2ae7f0-4193-465b-a286-6a98c976bc32"
   },
   "source": [
    "## Baseline Model"
   ]
  },
  {
   "cell_type": "code",
   "execution_count": 10,
   "id": "122df182-42d1-4be3-a8e1-4daca6e26093",
   "metadata": {
    "colab": {
     "base_uri": "https://localhost:8080/"
    },
    "executionInfo": {
     "elapsed": 9,
     "status": "ok",
     "timestamp": 1660496228564,
     "user": {
      "displayName": "Keziah Sitinjak",
      "userId": "18293108177565735470"
     },
     "user_tz": -480
    },
    "id": "122df182-42d1-4be3-a8e1-4daca6e26093",
    "outputId": "b0345d26-7d79-4894-d0cc-32d1305dd864"
   },
   "outputs": [
    {
     "data": {
      "text/plain": [
       "0    0.946077\n",
       "1    0.053923\n",
       "Name: wnvpresent, dtype: float64"
      ]
     },
     "execution_count": 10,
     "metadata": {},
     "output_type": "execute_result"
    }
   ],
   "source": [
    "train['wnvpresent'].value_counts(normalize=True)"
   ]
  },
  {
   "cell_type": "markdown",
   "id": "903ecd64-7729-48dd-b168-2f226de48003",
   "metadata": {
    "id": "903ecd64-7729-48dd-b168-2f226de48003"
   },
   "source": [
    "The data is a highly imbalance dataset where there are only 5% of the WNV presence. as such, we need to produce more data and the approach we find produce to find the best model is by using Synthetic Minority Oversampling Technique (SMOTE)."
   ]
  },
  {
   "cell_type": "markdown",
   "id": "68e92fab-9338-47cf-b678-9b91cef5cc36",
   "metadata": {
    "id": "68e92fab-9338-47cf-b678-9b91cef5cc36"
   },
   "source": [
    "## Data Preparation"
   ]
  },
  {
   "cell_type": "markdown",
   "id": "IEvJpWsduBTg",
   "metadata": {
    "id": "IEvJpWsduBTg"
   },
   "source": [
    "### Train/Test Split"
   ]
  },
  {
   "cell_type": "code",
   "execution_count": 11,
   "id": "c92fbebd-1662-46e7-a598-b557cedddf3b",
   "metadata": {
    "executionInfo": {
     "elapsed": 8,
     "status": "ok",
     "timestamp": 1660496228564,
     "user": {
      "displayName": "Keziah Sitinjak",
      "userId": "18293108177565735470"
     },
     "user_tz": -480
    },
    "id": "c92fbebd-1662-46e7-a598-b557cedddf3b"
   },
   "outputs": [],
   "source": [
    "X = train[final_feat]\n",
    "y = train[\"wnvpresent\"]\n",
    "\n",
    "X_train, X_val, y_train, y_val = train_test_split(X, y, test_size = 0.2, random_state = 42, stratify =y)"
   ]
  },
  {
   "cell_type": "markdown",
   "id": "7BvDvGleL933",
   "metadata": {
    "id": "7BvDvGleL933"
   },
   "source": [
    "### Preprocessing"
   ]
  },
  {
   "cell_type": "markdown",
   "id": "GjMnzov6MIHD",
   "metadata": {
    "id": "GjMnzov6MIHD"
   },
   "source": [
    "1. Standard Scaling"
   ]
  },
  {
   "cell_type": "code",
   "execution_count": 12,
   "id": "kRYKCJq0MWbe",
   "metadata": {
    "executionInfo": {
     "elapsed": 9,
     "status": "ok",
     "timestamp": 1660496228565,
     "user": {
      "displayName": "Keziah Sitinjak",
      "userId": "18293108177565735470"
     },
     "user_tz": -480
    },
    "id": "kRYKCJq0MWbe"
   },
   "outputs": [],
   "source": [
    "ss = StandardScaler()\n",
    "\n",
    "X_train_sc = ss.fit_transform(X_train)\n",
    "X_val_sc = ss.transform(X_val)"
   ]
  },
  {
   "cell_type": "markdown",
   "id": "pxkbYVXcNU43",
   "metadata": {
    "id": "pxkbYVXcNU43"
   },
   "source": [
    "2. Imbalanced Data Treatment"
   ]
  },
  {
   "cell_type": "markdown",
   "id": "iv6R0h8CM88i",
   "metadata": {
    "id": "iv6R0h8CM88i"
   },
   "source": [
    "To handle the imbalanced data, we will need to produce more data by using Synthetic Minority Oversampling Technique (SMOTE)."
   ]
  },
  {
   "cell_type": "code",
   "execution_count": 13,
   "id": "aXNOmUqBNXry",
   "metadata": {
    "executionInfo": {
     "elapsed": 9,
     "status": "ok",
     "timestamp": 1660496228565,
     "user": {
      "displayName": "Keziah Sitinjak",
      "userId": "18293108177565735470"
     },
     "user_tz": -480
    },
    "id": "aXNOmUqBNXry"
   },
   "outputs": [],
   "source": [
    "sm = SMOTE()\n",
    "\n",
    "X_train_sm, y_train_sm = sm.fit_resample(X_train_sc, y_train)"
   ]
  },
  {
   "cell_type": "code",
   "execution_count": 14,
   "id": "FwcbbTj9NrP1",
   "metadata": {
    "colab": {
     "base_uri": "https://localhost:8080/"
    },
    "executionInfo": {
     "elapsed": 9,
     "status": "ok",
     "timestamp": 1660496228565,
     "user": {
      "displayName": "Keziah Sitinjak",
      "userId": "18293108177565735470"
     },
     "user_tz": -480
    },
    "id": "FwcbbTj9NrP1",
    "outputId": "a6eb06a1-e194-4df5-b7ae-a8a98f8946f9"
   },
   "outputs": [
    {
     "name": "stdout",
     "output_type": "stream",
     "text": [
      "(12828, 25) (12828,)\n"
     ]
    }
   ],
   "source": [
    "print(X_train_sm.shape, y_train_sm.shape)"
   ]
  },
  {
   "cell_type": "markdown",
   "id": "320b6b8c-a378-47f2-a8a1-8641e05d8f9c",
   "metadata": {
    "id": "320b6b8c-a378-47f2-a8a1-8641e05d8f9c"
   },
   "source": [
    "## Modeling and Hyperparameter Tuning"
   ]
  },
  {
   "cell_type": "markdown",
   "id": "jrSBF0nYcGpp",
   "metadata": {
    "id": "jrSBF0nYcGpp"
   },
   "source": [
    "In order to obtain the various hyperparameters that are optimal for each model, we will fit all the models using GridSearchCV. We will then re-fit the model using these hyperparameters and evaluate the score metrics to determine the best model. Additionally, we wish to interpret the significant features that help the model to predict the results more accurately."
   ]
  },
  {
   "cell_type": "code",
   "execution_count": 15,
   "id": "G9mR6CoajSP7",
   "metadata": {
    "executionInfo": {
     "elapsed": 7,
     "status": "ok",
     "timestamp": 1660496228565,
     "user": {
      "displayName": "Keziah Sitinjak",
      "userId": "18293108177565735470"
     },
     "user_tz": -480
    },
    "id": "G9mR6CoajSP7"
   },
   "outputs": [],
   "source": [
    "def model_search(model_pipe, params):\n",
    "\n",
    "  scores = {}\n",
    "\n",
    "  gs = GridSearchCV(model_pipe, param_grid=params, cv=5, scoring='recall', n_jobs=-1)\n",
    "\n",
    "  gs.fit(X_train, y_train)\n",
    "\n",
    "  best_params = gs.best_params_\n",
    "\n",
    "  best_model = gs.best_estimator_\n",
    "\n",
    "  best_model.fit(X_train, y_train)\n",
    "\n",
    "  preds = best_model.predict(X_val)\n",
    "\n",
    "  #ROC-AUC Score\n",
    "  roc_auc_train = roc_auc_score(y_train, best_model.predict_proba(X_train)[:,1])\n",
    "  roc_auc_val = roc_auc_score(y_val, best_model.predict_proba(X_val)[:,1])\n",
    "\n",
    "  #Confusion matrix\n",
    "  tn, fp, fn, tp = confusion_matrix(y_val, preds).ravel()\n",
    "  sensitivity = tp/(tp + fn)\n",
    "  specificity = tn/(tn + fp)\n",
    "  accuracy = (tn + tp)/(tn + tp + fn + fp)\n",
    "\n",
    "  #Append scores\n",
    "  scores['roc_auc_train'] = roc_auc_train\n",
    "  scores['roc_auc_val'] = roc_auc_val\n",
    "  scores['accuracy'] = accuracy\n",
    "  scores['sensitivity'] = sensitivity\n",
    "  scores['specificity'] = specificity\n",
    "  \n",
    "  return (best_params, best_model, scores)"
   ]
  },
  {
   "cell_type": "markdown",
   "id": "vQkqXz-JhR2J",
   "metadata": {
    "id": "vQkqXz-JhR2J"
   },
   "source": [
    "### Model 1 - Logistic Regression"
   ]
  },
  {
   "cell_type": "code",
   "execution_count": 16,
   "id": "09e03f3b-1f12-4852-95ed-4f1e5f393602",
   "metadata": {
    "colab": {
     "base_uri": "https://localhost:8080/"
    },
    "executionInfo": {
     "elapsed": 2625,
     "status": "ok",
     "timestamp": 1660496231183,
     "user": {
      "displayName": "Keziah Sitinjak",
      "userId": "18293108177565735470"
     },
     "user_tz": -480
    },
    "id": "09e03f3b-1f12-4852-95ed-4f1e5f393602",
    "outputId": "dede400c-173f-4f25-878e-413b0cbf356b"
   },
   "outputs": [
    {
     "name": "stdout",
     "output_type": "stream",
     "text": [
      "iter  1 act 5.268e+02 pre 4.774e+02 delta 1.117e+00 f 2.881e+03 |g| 1.180e+03 CG   4\n",
      "iter  1 act 5.987e+02 pre 5.394e+02 delta 1.184e+00 f 2.881e+03 |g| 1.316e+03 CG   4\n",
      "iter  1 act 5.991e+02 pre 5.377e+02 delta 1.171e+00 f 2.881e+03 |g| 1.291e+03 CG   4\n",
      "cg reaches trust region boundary\n",
      "iter  2 act 7.653e+01 pre 6.787e+01 delta 1.364e+00 f 2.282e+03 |g| 2.433e+02 CG   8\n",
      "cg reaches trust region boundary\n",
      "cg reaches trust region boundary\n",
      "iter  2 act 7.859e+01 pre 6.931e+01 delta 1.357e+00 f 2.281e+03 |g| 2.435e+02 CG   8\n",
      "iter  2 act 6.625e+01 pre 5.945e+01 delta 1.267e+00 f 2.354e+03 |g| 2.113e+02 CG   8\n",
      "iter  3 act 1.286e+01 pre 1.117e+01 delta 1.267e+00 f 2.287e+03 |g| 4.794e+01 CG  11\n",
      "iter  3 act 1.247e+01 pre 1.098e+01 delta 1.357e+00 f 2.203e+03 |g| 5.457e+01 CG  12\n",
      "iter  3 act 1.339e+01 pre 1.176e+01 delta 1.364e+00 f 2.205e+03 |g| 5.303e+01 CG  12\n",
      "iter  4 act 1.490e+00 pre 1.315e+00 delta 1.364e+00 f 2.192e+03 |g| 7.674e+00 CG  15\n",
      "iter  4 act 1.374e+00 pre 1.208e+00 delta 1.357e+00 f 2.190e+03 |g| 6.788e+00 CG  15\n",
      "iter  4 act 1.661e+00 pre 1.452e+00 delta 1.267e+00 f 2.275e+03 |g| 8.406e+00 CG  15\n",
      "iter  1 act 5.455e+02 pre 4.947e+02 delta 1.132e+00 f 2.881e+03 |g| 1.215e+03 CG   4\n",
      "cg reaches trust region boundary\n",
      "iter  2 act 6.911e+01 pre 6.150e+01 delta 1.317e+00 f 2.335e+03 |g| 2.120e+02 CG   8\n",
      "iter  5 act 1.054e-01 pre 1.007e-01 delta 1.364e+00 f 2.190e+03 |g| 1.487e+00 CG  28\n",
      "iter  5 act 1.321e-01 pre 1.258e-01 delta 1.267e+00 f 2.273e+03 |g| 1.680e+00 CG  26\n",
      "iter  5 act 1.117e-01 pre 1.079e-01 delta 1.357e+00 f 2.189e+03 |g| 1.575e+00 CG  25\n",
      "iter  3 act 1.504e+01 pre 1.311e+01 delta 1.317e+00 f 2.266e+03 |g| 5.188e+01 CG  12\n",
      "iter  6 act 6.324e-04 pre 6.293e-04 delta 1.364e+00 f 2.190e+03 |g| 1.169e-01 CG  13\n",
      "iter  6 act 9.937e-04 pre 9.878e-04 delta 1.267e+00 f 2.273e+03 |g| 1.768e-01 CG  15\n",
      "iter  6 act 6.406e-04 pre 6.387e-04 delta 1.357e+00 f 2.189e+03 |g| 1.358e-01 CG  19\n",
      "iter  4 act 1.736e+00 pre 1.527e+00 delta 1.317e+00 f 2.251e+03 |g| 8.341e+00 CG  16\n",
      "iter  5 act 1.292e-01 pre 1.221e-01 delta 1.317e+00 f 2.249e+03 |g| 1.875e+00 CG  21\n",
      "iter  6 act 3.501e-03 pre 3.498e-03 delta 1.317e+00 f 2.249e+03 |g| 2.140e-01 CG  29\n",
      "iter  1 act 5.789e+02 pre 5.242e+02 delta 1.145e+00 f 2.881e+03 |g| 1.328e+03 CG   4\n",
      "cg reaches trust region boundary\n",
      "iter  2 act 7.437e+01 pre 6.690e+01 delta 1.314e+00 f 2.302e+03 |g| 2.418e+02 CG   8\n",
      "iter  3 act 1.501e+01 pre 1.311e+01 delta 1.314e+00 f 2.228e+03 |g| 5.261e+01 CG  12\n",
      "iter  4 act 1.763e+00 pre 1.538e+00 delta 1.314e+00 f 2.213e+03 |g| 7.920e+00 CG  16\n",
      "iter  5 act 1.668e-01 pre 1.597e-01 delta 1.314e+00 f 2.211e+03 |g| 1.998e+00 CG  26\n",
      "iter  6 act 1.183e-03 pre 1.175e-03 delta 1.314e+00 f 2.211e+03 |g| 1.787e-01 CG  20\n",
      "[LibLinear]iter  1 act 6.957e+02 pre 6.303e+02 delta 1.125e+00 f 3.601e+03 |g| 1.568e+03 CG   4\n",
      "cg reaches trust region boundary\n",
      "iter  2 act 8.795e+01 pre 7.904e+01 delta 1.291e+00 f 2.905e+03 |g| 2.834e+02 CG   8\n",
      "iter  3 act 1.772e+01 pre 1.533e+01 delta 1.291e+00 f 2.817e+03 |g| 6.137e+01 CG  11\n",
      "iter  4 act 2.454e+00 pre 2.120e+00 delta 1.291e+00 f 2.800e+03 |g| 1.183e+01 CG  15\n",
      "iter  5 act 2.413e-01 pre 2.240e-01 delta 1.291e+00 f 2.797e+03 |g| 2.695e+00 CG  21\n",
      "iter  6 act 8.440e-03 pre 8.406e-03 delta 1.291e+00 f 2.797e+03 |g| 3.716e-01 CG  28\n",
      "[LibLinear]iter  1 act 6.915e+02 pre 6.268e+02 delta 1.119e+00 f 3.601e+03 |g| 1.588e+03 CG   4\n",
      "cg reaches trust region boundary\n",
      "iter  2 act 8.612e+01 pre 7.738e+01 delta 1.284e+00 f 2.910e+03 |g| 2.828e+02 CG   8\n",
      "iter  3 act 1.786e+01 pre 1.547e+01 delta 1.284e+00 f 2.823e+03 |g| 6.141e+01 CG  11\n",
      "iter  4 act 2.385e+00 pre 2.062e+00 delta 1.284e+00 f 2.806e+03 |g| 1.073e+01 CG  15\n",
      "iter  5 act 2.296e-01 pre 2.135e-01 delta 1.284e+00 f 2.803e+03 |g| 2.544e+00 CG  21\n",
      "iter  6 act 6.220e-03 pre 6.187e-03 delta 1.284e+00 f 2.803e+03 |g| 3.727e-01 CG  29\n",
      "Best params: {'logreg__C': 0.45, 'logreg__solver': 'liblinear', 'logreg__verbose': 1, 'sampling__k_neighbors': 3, 'sampling__sampling_strategy': 0.8}\n",
      "Model Scores: {'roc_auc_train': 0.7887693586945224, 'roc_auc_val': 0.7801512701762078, 'accuracy': 0.7474926253687315, 'sensitivity': 0.6043956043956044, 'specificity': 0.7556109725685786}\n"
     ]
    }
   ],
   "source": [
    "lr_pipe = Pipeline([\n",
    "        ('scale', StandardScaler()),\n",
    "        ('sampling', SMOTE()),\n",
    "        ('logreg', LogisticRegression(random_state=42))\n",
    "    ])\n",
    "\n",
    "lr_params = {\n",
    "    'sampling__sampling_strategy': [0.8], #[0.55,0.6,0.65]\n",
    "    'sampling__k_neighbors': [3], #[3,7]\n",
    "    'logreg__C': [0.45], #[0.5,1.0]\n",
    "    'logreg__solver': ['liblinear'],\n",
    "    'logreg__verbose': [1]\n",
    "}\n",
    "\n",
    "best_params_lr, best_model_lr, scores_lr = model_search(lr_pipe, lr_params)\n",
    "\n",
    "print(f\"Best params: {best_params_lr}\")\n",
    "print(f\"Model Scores: {scores_lr}\")"
   ]
  },
  {
   "cell_type": "code",
   "execution_count": 17,
   "id": "9U6s5xVZdjNL",
   "metadata": {
    "executionInfo": {
     "elapsed": 4,
     "status": "ok",
     "timestamp": 1660496231183,
     "user": {
      "displayName": "Keziah Sitinjak",
      "userId": "18293108177565735470"
     },
     "user_tz": -480
    },
    "id": "9U6s5xVZdjNL"
   },
   "outputs": [],
   "source": [
    "# Logistic regression:\n",
    "# roc_auc_train = 0.7939454506109416\n",
    "# roc_auc_val = 0.7959907922501438"
   ]
  },
  {
   "cell_type": "markdown",
   "id": "5KIInZJ4hCXT",
   "metadata": {
    "id": "5KIInZJ4hCXT"
   },
   "source": [
    "### Model 2 - AdaBoost Model"
   ]
  },
  {
   "cell_type": "code",
   "execution_count": 18,
   "id": "e655ffa6-237e-4417-977f-266c6e6a4c12",
   "metadata": {
    "colab": {
     "base_uri": "https://localhost:8080/"
    },
    "executionInfo": {
     "elapsed": 11585,
     "status": "ok",
     "timestamp": 1660496242765,
     "user": {
      "displayName": "Keziah Sitinjak",
      "userId": "18293108177565735470"
     },
     "user_tz": -480
    },
    "id": "e655ffa6-237e-4417-977f-266c6e6a4c12",
    "outputId": "7200b541-bdb3-42e8-ec47-69047646b672"
   },
   "outputs": [
    {
     "name": "stdout",
     "output_type": "stream",
     "text": [
      "Best params: {'abc__learning_rate': 0.1, 'abc__n_estimators': 100, 'sampling__k_neighbors': 2, 'sampling__sampling_strategy': 'auto'}\n",
      "Model Scores: {'roc_auc_train': 0.8360785661829229, 'roc_auc_val': 0.828002110109342, 'accuracy': 0.6973451327433628, 'sensitivity': 0.8241758241758241, 'specificity': 0.690149625935162}\n"
     ]
    }
   ],
   "source": [
    "abc_pipe = Pipeline([\n",
    "        ('scale', StandardScaler()),        \n",
    "        ('sampling',SMOTE()),\n",
    "        ('abc', AdaBoostClassifier(random_state=42))\n",
    "    ])\n",
    "\n",
    "\n",
    "abc_params = {\n",
    "    'sampling__sampling_strategy': ['auto'], \n",
    "    'sampling__k_neighbors': [2], #[2, 3, 5]\n",
    "    'abc__learning_rate': [0.1], #[0.1, 0.2, 0.3]\n",
    "    'abc__n_estimators': [100], #[100, 150, 200]\n",
    "}\n",
    "\n",
    "best_params_abc, best_model_abc, scores_abc = model_search(abc_pipe, abc_params)\n",
    "\n",
    "print(f\"Best params: {best_params_abc}\")\n",
    "print(f\"Model Scores: {scores_abc}\")"
   ]
  },
  {
   "cell_type": "code",
   "execution_count": 19,
   "id": "YK0gXntndzz9",
   "metadata": {
    "executionInfo": {
     "elapsed": 9,
     "status": "ok",
     "timestamp": 1660496242765,
     "user": {
      "displayName": "Keziah Sitinjak",
      "userId": "18293108177565735470"
     },
     "user_tz": -480
    },
    "id": "YK0gXntndzz9"
   },
   "outputs": [],
   "source": [
    "# AdaBoostClassifier:\n",
    "# roc_auc_train = 0.8405583925872536\n",
    "# roc_auc_val = 0.8326402400591927"
   ]
  },
  {
   "cell_type": "markdown",
   "id": "iv0bkoDkhldx",
   "metadata": {
    "id": "iv0bkoDkhldx"
   },
   "source": [
    "### Model 3 - GradientBoost Model"
   ]
  },
  {
   "cell_type": "code",
   "execution_count": 20,
   "id": "g-Ps6BZ8htEC",
   "metadata": {
    "colab": {
     "base_uri": "https://localhost:8080/"
    },
    "executionInfo": {
     "elapsed": 16737,
     "status": "ok",
     "timestamp": 1660496259494,
     "user": {
      "displayName": "Keziah Sitinjak",
      "userId": "18293108177565735470"
     },
     "user_tz": -480
    },
    "id": "g-Ps6BZ8htEC",
    "outputId": "b6917485-2d77-4291-d6d7-b82b132653ca"
   },
   "outputs": [
    {
     "name": "stdout",
     "output_type": "stream",
     "text": [
      "Best params: {'gb__learning_rate': 0.2, 'gb__max_depth': 3, 'gb__n_estimators': 100, 'sampling__k_neighbors': 2, 'sampling__sampling_strategy': 'auto'}\n",
      "Model Scores: {'roc_auc_train': 0.8991571545168441, 'roc_auc_val': 0.8357471705352005, 'accuracy': 0.8731563421828908, 'sensitivity': 0.5164835164835165, 'specificity': 0.8933915211970075}\n"
     ]
    }
   ],
   "source": [
    "gb_pipe = Pipeline([\n",
    "        ('scale', StandardScaler()),        \n",
    "        ('sampling',SMOTE()),\n",
    "        ('gb', GradientBoostingClassifier(random_state=42))\n",
    "    ])\n",
    "\n",
    "gb_params = {\n",
    "    'sampling__sampling_strategy': ['auto'],\n",
    "    'sampling__k_neighbors': [2], #[2, 3]\n",
    "    'gb__learning_rate': [0.2], #[0.2, 0.5]\n",
    "    'gb__max_depth': [3],         #[3, 5]\n",
    "    'gb__n_estimators': [100], #[100, 200]\n",
    "}\n",
    "\n",
    "best_params_gb, best_model_gb, scores_gb = model_search(gb_pipe, gb_params)\n",
    "\n",
    "print(f\"Best params: {best_params_gb}\")\n",
    "print(f\"Model Scores: {scores_gb}\")"
   ]
  },
  {
   "cell_type": "code",
   "execution_count": 21,
   "id": "etV5O3uRd6EO",
   "metadata": {
    "executionInfo": {
     "elapsed": 10,
     "status": "ok",
     "timestamp": 1660496259495,
     "user": {
      "displayName": "Keziah Sitinjak",
      "userId": "18293108177565735470"
     },
     "user_tz": -480
    },
    "id": "etV5O3uRd6EO"
   },
   "outputs": [],
   "source": [
    "# Gradient Boost:\n",
    "# roc_auc_train = 0.9064001049616532\n",
    "# roc_auc_val = 0.8399708147214381"
   ]
  },
  {
   "cell_type": "markdown",
   "id": "D5jjnoo5kStt",
   "metadata": {
    "id": "D5jjnoo5kStt"
   },
   "source": [
    "### Model 4 - XGBoost Model"
   ]
  },
  {
   "cell_type": "code",
   "execution_count": 22,
   "id": "452m73du2R8x",
   "metadata": {
    "colab": {
     "base_uri": "https://localhost:8080/"
    },
    "executionInfo": {
     "elapsed": 17828,
     "status": "ok",
     "timestamp": 1660496277315,
     "user": {
      "displayName": "Keziah Sitinjak",
      "userId": "18293108177565735470"
     },
     "user_tz": -480
    },
    "id": "452m73du2R8x",
    "outputId": "e8e3bbbd-ece2-4f02-b984-192845923cde"
   },
   "outputs": [
    {
     "name": "stderr",
     "output_type": "stream",
     "text": [
      "/Users/kenneththesheep/opt/anaconda3/envs/dsi30/lib/python3.8/site-packages/xgboost/sklearn.py:1224: UserWarning: The use of label encoder in XGBClassifier is deprecated and will be removed in a future release. To remove this warning, do the following: 1) Pass option use_label_encoder=False when constructing XGBClassifier object; and 2) Encode your labels (y) as integers starting with 0, i.e. 0, 1, 2, ..., [num_class - 1].\n",
      "  warnings.warn(label_encoder_deprecation_msg, UserWarning)\n"
     ]
    },
    {
     "name": "stdout",
     "output_type": "stream",
     "text": [
      "[01:22:13] WARNING: /var/folders/sy/f16zz6x50xz3113nwtb9bvq00000gp/T/abs_44tbtwf8c1/croots/recipe/xgboost-split_1659548960882/work/src/learner.cc:1115: Starting in XGBoost 1.3.0, the default evaluation metric used with the objective 'binary:logistic' was changed from 'error' to 'logloss'. Explicitly set eval_metric if you'd like to restore the old behavior.\n"
     ]
    },
    {
     "name": "stderr",
     "output_type": "stream",
     "text": [
      "/Users/kenneththesheep/opt/anaconda3/envs/dsi30/lib/python3.8/site-packages/xgboost/sklearn.py:1224: UserWarning: The use of label encoder in XGBClassifier is deprecated and will be removed in a future release. To remove this warning, do the following: 1) Pass option use_label_encoder=False when constructing XGBClassifier object; and 2) Encode your labels (y) as integers starting with 0, i.e. 0, 1, 2, ..., [num_class - 1].\n",
      "  warnings.warn(label_encoder_deprecation_msg, UserWarning)\n"
     ]
    },
    {
     "name": "stdout",
     "output_type": "stream",
     "text": [
      "[01:22:16] WARNING: /var/folders/sy/f16zz6x50xz3113nwtb9bvq00000gp/T/abs_44tbtwf8c1/croots/recipe/xgboost-split_1659548960882/work/src/learner.cc:1115: Starting in XGBoost 1.3.0, the default evaluation metric used with the objective 'binary:logistic' was changed from 'error' to 'logloss'. Explicitly set eval_metric if you'd like to restore the old behavior.\n",
      "Best params: {'xgb__gamma': 0.85, 'xgb__learning_rate': 0.1, 'xgb__max_depth': 40, 'xgb__min_child_weight': 25, 'xgb__n_estimators': 49, 'xgb__scale_pos_weight': 63, 'xgb__subsample': 1}\n",
      "Model Scores: {'roc_auc_train': 0.9475854133972645, 'roc_auc_val': 0.8445918171603957, 'accuracy': 0.6784660766961652, 'sensitivity': 0.8901098901098901, 'specificity': 0.6664588528678305}\n"
     ]
    }
   ],
   "source": [
    "xgb_pipe = Pipeline([\n",
    "        ('scale', StandardScaler()),        \n",
    "        ('sampling',SMOTE()),\n",
    "        ('xgb', XGBClassifier(random_state=42, \n",
    "                              objective= 'binary:logistic', \n",
    "                              verbosity=1, n_jobs=-1))\n",
    "    ])\n",
    "\n",
    "xgb_params = { \n",
    "    'xgb__learning_rate': [0.1],\n",
    "    'xgb__max_depth': [40],\n",
    "    'xgb__min_child_weight': [25],\n",
    "    'xgb__gamma': [0.85],\n",
    "    'xgb__subsample': [1],\n",
    "    'xgb__scale_pos_weight': [63],\n",
    "    'xgb__n_estimators': [49]\n",
    "}\n",
    "\n",
    "\n",
    "best_params_xgb, best_model_xgb, scores_xgb = model_search(xgb_pipe, xgb_params)\n",
    "\n",
    "print(f\"Best params: {best_params_xgb}\")\n",
    "print(f\"Model Scores: {scores_xgb}\")"
   ]
  },
  {
   "cell_type": "code",
   "execution_count": 23,
   "id": "Dqqq5DNjeCJm",
   "metadata": {
    "executionInfo": {
     "elapsed": 10,
     "status": "ok",
     "timestamp": 1660496277315,
     "user": {
      "displayName": "Keziah Sitinjak",
      "userId": "18293108177565735470"
     },
     "user_tz": -480
    },
    "id": "Dqqq5DNjeCJm"
   },
   "outputs": [],
   "source": [
    "# XGBoost:\n",
    "# roc_auc_train = 0.945882768397682\n",
    "# roc_auc_val = 0.8482913595133046"
   ]
  },
  {
   "cell_type": "markdown",
   "id": "wznK35Oh3FZk",
   "metadata": {
    "id": "wznK35Oh3FZk"
   },
   "source": [
    "### Model 5 - Random Forest"
   ]
  },
  {
   "cell_type": "code",
   "execution_count": 24,
   "id": "rgj1QKvS3h_4",
   "metadata": {
    "colab": {
     "base_uri": "https://localhost:8080/"
    },
    "executionInfo": {
     "elapsed": 6738,
     "status": "ok",
     "timestamp": 1660496284044,
     "user": {
      "displayName": "Keziah Sitinjak",
      "userId": "18293108177565735470"
     },
     "user_tz": -480
    },
    "id": "rgj1QKvS3h_4",
    "outputId": "dd4217a7-c869-4958-a728-6e852af41f8f"
   },
   "outputs": [
    {
     "name": "stdout",
     "output_type": "stream",
     "text": [
      "Best params: {'rf__class_weight': 'balanced', 'rf__max_depth': 6, 'rf__min_samples_leaf': 4, 'rf__min_samples_split': 4, 'rf__n_estimators': 100}\n",
      "Model Scores: {'roc_auc_train': 0.8733761614364752, 'roc_auc_val': 0.8285090844317777, 'accuracy': 0.7893805309734513, 'sensitivity': 0.6703296703296703, 'specificity': 0.7961346633416458}\n"
     ]
    }
   ],
   "source": [
    "rf_pipe = Pipeline([\n",
    "        ('scale', StandardScaler()),        \n",
    "        ('sampling',SMOTE()),\n",
    "        ('rf', RandomForestClassifier(random_state=42))\n",
    "    ])\n",
    "\n",
    "rf_params = { \n",
    "    'rf__n_estimators': [100],        #[100, 150, 190]\n",
    "    'rf__class_weight': ['balanced'],\n",
    "    'rf__max_depth': [6],             #[4, 5, 6]\n",
    "    'rf__min_samples_leaf': [4],      #[2, 4]\n",
    "    'rf__min_samples_split': [4]      #[2, 4]\n",
    "    \n",
    "}\n",
    "\n",
    "best_params_rf, best_model_rf, scores_rf = model_search(rf_pipe, rf_params)\n",
    "\n",
    "print(f\"Best params: {best_params_rf}\")\n",
    "print(f\"Model Scores: {scores_rf}\")"
   ]
  },
  {
   "cell_type": "code",
   "execution_count": 25,
   "id": "swjLwJUjeHpu",
   "metadata": {
    "executionInfo": {
     "elapsed": 9,
     "status": "ok",
     "timestamp": 1660496284045,
     "user": {
      "displayName": "Keziah Sitinjak",
      "userId": "18293108177565735470"
     },
     "user_tz": -480
    },
    "id": "swjLwJUjeHpu"
   },
   "outputs": [],
   "source": [
    "# Random Forest:\n",
    "# roc_auc_train = 0.8798178421179081\n",
    "# roc_auc_val = 0.8410566989120605"
   ]
  },
  {
   "cell_type": "markdown",
   "id": "BRNQP0qcYFSd",
   "metadata": {
    "id": "BRNQP0qcYFSd"
   },
   "source": [
    "## Model Evaluation and Selection"
   ]
  },
  {
   "cell_type": "markdown",
   "id": "z34w5ejcPrB1",
   "metadata": {
    "id": "z34w5ejcPrB1"
   },
   "source": [
    "### Model Evaluation"
   ]
  },
  {
   "cell_type": "markdown",
   "id": "MyZCPI4YP_Pg",
   "metadata": {
    "id": "MyZCPI4YP_Pg"
   },
   "source": [
    "In evaluating the model, there are 2 types of prediction error that we should take into account:\n",
    "1. Type 1 error (false positive) <br>\n",
    "This happens when the model predicts that WNV virus is present when it actually is not.\n",
    "It would be a waste of resources if spraying efforts were conducted even though there was no WNV present.\n",
    "2. Type 2 error (false negative)  <br>\n",
    "This happens when the model predicts that WNV virus is not present when it actually is.\n",
    "This will cause the locals to not feel the need to take any preventive measures or buy insect repellents, which might lead to an outbreak and significant healthcare expenditures.\n",
    "<br>\n",
    "<br>\n",
    "Type 2 error is more severe than type 1 error because the healthcare cost of missing a WNV outbreak is higher than spraying more. Therefore, we should aim to minimize the False Negative in our model."
   ]
  },
  {
   "cell_type": "markdown",
   "id": "qBqYLr22gkrO",
   "metadata": {
    "id": "qBqYLr22gkrO"
   },
   "source": [
    "### Evaluation Metric"
   ]
  },
  {
   "cell_type": "markdown",
   "id": "sloofMX9i1Ld",
   "metadata": {
    "id": "sloofMX9i1Ld"
   },
   "source": [
    "\n",
    "Since the cost of having false negative is higher than having false positive, recall/sensitivity will be a good evaluation metric for our model as recall calculates the percentage of actual positives a model correctly identified.\n",
    "\n",
    "We will also assess our model based on ROC-AUC score which visualizes the trade-off between the True Positive Rate(TPR) and False Positive Rate(FPR). The better the model, the higher the TPR and the lower the FPR. ROC-AUC score closer to 1 will indicate a better classification."
   ]
  },
  {
   "cell_type": "code",
   "execution_count": 26,
   "id": "VsKHGrhUMbwh",
   "metadata": {
    "colab": {
     "base_uri": "https://localhost:8080/",
     "height": 206
    },
    "executionInfo": {
     "elapsed": 8,
     "status": "ok",
     "timestamp": 1660496284045,
     "user": {
      "displayName": "Keziah Sitinjak",
      "userId": "18293108177565735470"
     },
     "user_tz": -480
    },
    "id": "VsKHGrhUMbwh",
    "outputId": "263e05f3-f8c7-4857-98e8-1c80d1bd05c0"
   },
   "outputs": [
    {
     "data": {
      "text/html": [
       "<div>\n",
       "<style scoped>\n",
       "    .dataframe tbody tr th:only-of-type {\n",
       "        vertical-align: middle;\n",
       "    }\n",
       "\n",
       "    .dataframe tbody tr th {\n",
       "        vertical-align: top;\n",
       "    }\n",
       "\n",
       "    .dataframe thead th {\n",
       "        text-align: right;\n",
       "    }\n",
       "</style>\n",
       "<table border=\"1\" class=\"dataframe\">\n",
       "  <thead>\n",
       "    <tr style=\"text-align: right;\">\n",
       "      <th></th>\n",
       "      <th>Model</th>\n",
       "      <th>Train_AUC</th>\n",
       "      <th>Val_AUC</th>\n",
       "      <th>Accuracy</th>\n",
       "      <th>Sensitivity</th>\n",
       "      <th>Specificity</th>\n",
       "    </tr>\n",
       "  </thead>\n",
       "  <tbody>\n",
       "    <tr>\n",
       "      <th>0</th>\n",
       "      <td>Logistic Regression</td>\n",
       "      <td>0.788769</td>\n",
       "      <td>0.780151</td>\n",
       "      <td>0.747493</td>\n",
       "      <td>0.604396</td>\n",
       "      <td>0.755611</td>\n",
       "    </tr>\n",
       "    <tr>\n",
       "      <th>1</th>\n",
       "      <td>AdaBoost</td>\n",
       "      <td>0.836079</td>\n",
       "      <td>0.828002</td>\n",
       "      <td>0.697345</td>\n",
       "      <td>0.824176</td>\n",
       "      <td>0.690150</td>\n",
       "    </tr>\n",
       "    <tr>\n",
       "      <th>2</th>\n",
       "      <td>Gradient Boost</td>\n",
       "      <td>0.899157</td>\n",
       "      <td>0.835747</td>\n",
       "      <td>0.873156</td>\n",
       "      <td>0.516484</td>\n",
       "      <td>0.893392</td>\n",
       "    </tr>\n",
       "    <tr>\n",
       "      <th>3</th>\n",
       "      <td>XGBoost</td>\n",
       "      <td>0.947585</td>\n",
       "      <td>0.844592</td>\n",
       "      <td>0.678466</td>\n",
       "      <td>0.890110</td>\n",
       "      <td>0.666459</td>\n",
       "    </tr>\n",
       "    <tr>\n",
       "      <th>4</th>\n",
       "      <td>Random Forest</td>\n",
       "      <td>0.873376</td>\n",
       "      <td>0.828509</td>\n",
       "      <td>0.789381</td>\n",
       "      <td>0.670330</td>\n",
       "      <td>0.796135</td>\n",
       "    </tr>\n",
       "  </tbody>\n",
       "</table>\n",
       "</div>"
      ],
      "text/plain": [
       "                 Model  Train_AUC   Val_AUC  Accuracy  Sensitivity  \\\n",
       "0  Logistic Regression   0.788769  0.780151  0.747493     0.604396   \n",
       "1             AdaBoost   0.836079  0.828002  0.697345     0.824176   \n",
       "2       Gradient Boost   0.899157  0.835747  0.873156     0.516484   \n",
       "3              XGBoost   0.947585  0.844592  0.678466     0.890110   \n",
       "4        Random Forest   0.873376  0.828509  0.789381     0.670330   \n",
       "\n",
       "   Specificity  \n",
       "0     0.755611  \n",
       "1     0.690150  \n",
       "2     0.893392  \n",
       "3     0.666459  \n",
       "4     0.796135  "
      ]
     },
     "execution_count": 26,
     "metadata": {},
     "output_type": "execute_result"
    }
   ],
   "source": [
    "pd.DataFrame({'Model':['Logistic Regression', 'AdaBoost', 'Gradient Boost', 'XGBoost', 'Random Forest'],\n",
    "              'Train_AUC':[scores_lr['roc_auc_train'],scores_abc['roc_auc_train'],scores_gb['roc_auc_train'], scores_xgb['roc_auc_train'],scores_rf['roc_auc_train']],\n",
    "              'Val_AUC':[scores_lr['roc_auc_val'],scores_abc['roc_auc_val'],scores_gb['roc_auc_val'],scores_xgb['roc_auc_val'],scores_rf['roc_auc_val']],\n",
    "              'Accuracy':[scores_lr['accuracy'],scores_abc['accuracy'],scores_gb['accuracy'], scores_xgb['accuracy'],scores_rf['accuracy']],\n",
    "              'Sensitivity':[scores_lr['sensitivity'],scores_abc['sensitivity'],scores_gb['sensitivity'], scores_xgb['sensitivity'],scores_rf['sensitivity']],\n",
    "              'Specificity':[scores_lr['specificity'],scores_abc['specificity'],scores_gb['specificity'], scores_xgb['specificity'],scores_rf['specificity']]})"
   ]
  },
  {
   "cell_type": "markdown",
   "id": "-PER45t1YoiE",
   "metadata": {
    "id": "-PER45t1YoiE"
   },
   "source": [
    "**Interpretations:**\n",
    "- XGBoost have the highest ROC AUC score for train set among all models. However, the AUC ROC score between the train and validation set indicates overfitting and it also has the lowest accuracy score compared to the other models. On the other hand, XGBoost has the highest sensitivity score, it's sensitivity of 85% means that it managed to predict 85%of actual positives correctly. Since our key metric is sensitivity, we will choose XGBoost as our prediction model.\n",
    "- Gradient Boost has the second highest ROC AUC score. However, it has the lowest sensitivity score among all.\n",
    "- AdaBoost has the second highest sensitivity score and according to the train and validation AUC score, it is not overfitted like XGBoost and Gradient Boost. \n"
   ]
  },
  {
   "cell_type": "markdown",
   "id": "CfvKitKUVOV3",
   "metadata": {
    "id": "CfvKitKUVOV3"
   },
   "source": [
    "**ROC-AUC Curve**"
   ]
  },
  {
   "cell_type": "code",
   "execution_count": 27,
   "id": "zC3xIw9HVyWF",
   "metadata": {
    "colab": {
     "base_uri": "https://localhost:8080/",
     "height": 517
    },
    "executionInfo": {
     "elapsed": 822,
     "status": "ok",
     "timestamp": 1660496284860,
     "user": {
      "displayName": "Keziah Sitinjak",
      "userId": "18293108177565735470"
     },
     "user_tz": -480
    },
    "id": "zC3xIw9HVyWF",
    "outputId": "891c2302-0592-4336-96fa-6193c3f72806"
   },
   "outputs": [
    {
     "data": {
      "image/png": "[encoded data removed]",
      "text/plain": [
       "<Figure size 864x576 with 1 Axes>"
      ]
     },
     "metadata": {
      "needs_background": "light"
     },
     "output_type": "display_data"
    }
   ],
   "source": [
    "fig, ax = plt.subplots(figsize=(12, 8))\n",
    "\n",
    "lr_disp = RocCurveDisplay.from_estimator(best_model_lr, X_val, y_val, name='Logistic Regression', ax=ax)\n",
    "abc_disp = RocCurveDisplay.from_estimator(best_model_abc, X_val, y_val, name='AdaBoost Classifier', ax=ax)\n",
    "gb_disp = RocCurveDisplay.from_estimator(best_model_gb, X_val, y_val, name='Gradient Boost Classifier', ax=ax)\n",
    "xgb_disp = RocCurveDisplay.from_estimator(best_model_xgb, X_val, y_val, name='XGBoost Classifier', ax=ax)\n",
    "rf_disp = RocCurveDisplay.from_estimator(best_model_rf, X_val, y_val, name='Random Forest Classifier', ax=ax)\n",
    "\n",
    "ax.set_title('ROC AUC Curve', fontsize=14)\n",
    "ax.legend(fontsize=12)\n",
    "ax.set_ylabel('True Positive Rate', fontsize=12)\n",
    "ax.set_xlabel('False Positive Rate', fontsize=12);"
   ]
  },
  {
   "cell_type": "markdown",
   "id": "SKweYF2OQuUL",
   "metadata": {
    "id": "SKweYF2OQuUL"
   },
   "source": [
    "According to the above ROC, we can see that XGBoost (our chosen model) performs slightly better than all the other models due to the higher AUC."
   ]
  },
  {
   "cell_type": "markdown",
   "id": "VXoiTOCvacoU",
   "metadata": {
    "id": "VXoiTOCvacoU"
   },
   "source": [
    "**Sensitivity vs Precision Graph**"
   ]
  },
  {
   "cell_type": "code",
   "execution_count": 28,
   "id": "cMRHO-XNakx7",
   "metadata": {
    "executionInfo": {
     "elapsed": 4,
     "status": "ok",
     "timestamp": 1660496284861,
     "user": {
      "displayName": "Keziah Sitinjak",
      "userId": "18293108177565735470"
     },
     "user_tz": -480
    },
    "id": "cMRHO-XNakx7"
   },
   "outputs": [],
   "source": [
    "def plot_sensitivity_precision(model, label, ax):\n",
    "    conf_matrix = []\n",
    "\n",
    "    for threshold in np.linspace(0, 0.5, 25):\n",
    "        y_preds = (model.predict_proba(X_val)[:, 1] > threshold).astype('float')\n",
    "        tn, fp, fn, tp = confusion_matrix(y_val, y_preds).ravel()\n",
    "        sensitivity = tp/(tp + fn)\n",
    "        if (tp + fp) == 0:\n",
    "            precision = 0\n",
    "        else:\n",
    "            precision = tp/(tp + fp)\n",
    "        conf_matrix.append([threshold, sensitivity, precision])\n",
    "                   \n",
    "    matrix = pd.DataFrame(conf_matrix, columns=['threshold', 'sensitivity', 'precision'])    \n",
    "\n",
    "    ax.plot(matrix['precision'], matrix['sensitivity'], label=label)\n",
    "    ax.set_xlabel('Precision')\n",
    "    ax.set_ylabel('Sensitivity')\n",
    "    \n",
    "    return matrix"
   ]
  },
  {
   "cell_type": "code",
   "execution_count": 29,
   "id": "iteuN_lTanE-",
   "metadata": {
    "colab": {
     "base_uri": "https://localhost:8080/",
     "height": 405
    },
    "executionInfo": {
     "elapsed": 3155,
     "status": "ok",
     "timestamp": 1660496288013,
     "user": {
      "displayName": "Keziah Sitinjak",
      "userId": "18293108177565735470"
     },
     "user_tz": -480
    },
    "id": "iteuN_lTanE-",
    "outputId": "e083728b-426f-4ccf-a92a-ecf3114cf8dd"
   },
   "outputs": [
    {
     "data": {
      "image/png": "[encoded data removed]",
      "text/plain": [
       "<Figure size 720x432 with 1 Axes>"
      ]
     },
     "metadata": {
      "needs_background": "light"
     },
     "output_type": "display_data"
    }
   ],
   "source": [
    "fig, ax = plt.subplots(figsize=(10, 6))\n",
    "\n",
    "plot_sensitivity_precision(best_model_lr, 'Logistic Regression', ax)\n",
    "plot_sensitivity_precision(best_model_abc, 'AdaBoost', ax)\n",
    "plot_sensitivity_precision(best_model_gb, 'Gradient Boost', ax)\n",
    "plot_sensitivity_precision(best_model_xgb, 'XGBoost',ax)\n",
    "plot_sensitivity_precision(best_model_rf, 'Random Forest',ax)\n",
    "ax.set_title('Sensitivity vs Precision Graph', fontsize=14)\n",
    "\n",
    "ax.legend(fontsize=14);"
   ]
  },
  {
   "cell_type": "markdown",
   "id": "yDgS7gdcQBOY",
   "metadata": {
    "id": "yDgS7gdcQBOY"
   },
   "source": [
    "According to the sensitivity vs precision graph above, XGBoost seems to be performing the best as it can achieve higher precision and sensitivity compared to other models."
   ]
  },
  {
   "cell_type": "markdown",
   "id": "oTdDh4EAZdIB",
   "metadata": {
    "id": "oTdDh4EAZdIB"
   },
   "source": [
    "# Final Model Selection"
   ]
  },
  {
   "cell_type": "markdown",
   "id": "yMGeMqW-P1uh",
   "metadata": {
    "id": "yMGeMqW-P1uh"
   },
   "source": [
    "**XGBoost Model**"
   ]
  },
  {
   "cell_type": "markdown",
   "id": "Uhno3DF8PnD1",
   "metadata": {
    "id": "Uhno3DF8PnD1"
   },
   "source": [
    "## Features Importance"
   ]
  },
  {
   "cell_type": "code",
   "execution_count": 30,
   "id": "FniCtPzpQFcm",
   "metadata": {
    "colab": {
     "base_uri": "https://localhost:8080/",
     "height": 530
    },
    "executionInfo": {
     "elapsed": 756,
     "status": "ok",
     "timestamp": 1660496288761,
     "user": {
      "displayName": "Keziah Sitinjak",
      "userId": "18293108177565735470"
     },
     "user_tz": -480
    },
    "id": "FniCtPzpQFcm",
    "outputId": "41a38469-4965-4a28-dc4a-c14bad5ba6e1"
   },
   "outputs": [
    {
     "data": {
      "text/plain": [
       "Text(0.5, 1.0, 'Top 10 Feature Importance')"
      ]
     },
     "execution_count": 30,
     "metadata": {},
     "output_type": "execute_result"
    },
    {
     "data": {
      "image/png": "[encoded data removed]",
      "text/plain": [
       "<Figure size 864x576 with 1 Axes>"
      ]
     },
     "metadata": {
      "needs_background": "light"
     },
     "output_type": "display_data"
    }
   ],
   "source": [
    "xgb_feat = best_model_xgb[:-1].get_feature_names_out()\n",
    "xgb_feat_imp = best_model_xgb[2:3].steps[0][1].feature_importances_\n",
    "\n",
    "df_xgb_feat = pd.DataFrame(data=xgb_feat_imp, index=xgb_feat, \n",
    "                          columns=['coefficient']).sort_values(by='coefficient', ascending=False).head(10)\n",
    "df_xgb_feat.rename_axis('features', inplace=True)\n",
    "\n",
    "plt.figure(figsize=(12,8))\n",
    "sns.barplot(data=df_xgb_feat, y=df_xgb_feat.index, x='coefficient', palette='coolwarm')\n",
    "plt.xlabel('Coefficient')\n",
    "plt.ylabel('All Features')\n",
    "plt.title('Top 10 Feature Importance')\n"
   ]
  },
  {
   "cell_type": "markdown",
   "id": "Xe_iucEPYydZ",
   "metadata": {
    "id": "Xe_iucEPYydZ"
   },
   "source": [
    "**Important features:**\n",
    "- week is the most important feature because it contains the pattern of seasonality on weekly basis\n",
    "- The weather type(ra=rain, br=mist) \n",
    "- The grouping of traps\n",
    "- Species"
   ]
  },
  {
   "cell_type": "markdown",
   "id": "KTBzNMxuYz9V",
   "metadata": {
    "id": "KTBzNMxuYz9V"
   },
   "source": [
    "## Kaggle Submission for final prediction"
   ]
  },
  {
   "cell_type": "code",
   "execution_count": 31,
   "id": "BbYqzKs-q-du",
   "metadata": {
    "executionInfo": {
     "elapsed": 10,
     "status": "ok",
     "timestamp": 1660496288762,
     "user": {
      "displayName": "Keziah Sitinjak",
      "userId": "18293108177565735470"
     },
     "user_tz": -480
    },
    "id": "BbYqzKs-q-du"
   },
   "outputs": [],
   "source": [
    "X_test = test[final_feat]"
   ]
  },
  {
   "cell_type": "code",
   "execution_count": 32,
   "id": "0jS__7v4iCGY",
   "metadata": {
    "colab": {
     "base_uri": "https://localhost:8080/"
    },
    "executionInfo": {
     "elapsed": 9,
     "status": "ok",
     "timestamp": 1660496288762,
     "user": {
      "displayName": "Keziah Sitinjak",
      "userId": "18293108177565735470"
     },
     "user_tz": -480
    },
    "id": "0jS__7v4iCGY",
    "outputId": "38310a75-768f-4786-d4b7-347df1978e73"
   },
   "outputs": [
    {
     "data": {
      "text/plain": [
       "((6780, 25), (116293, 25))"
      ]
     },
     "execution_count": 32,
     "metadata": {},
     "output_type": "execute_result"
    }
   ],
   "source": [
    "X_train.shape, X_test.shape"
   ]
  },
  {
   "cell_type": "code",
   "execution_count": 33,
   "id": "C3F4jS5JZOl8",
   "metadata": {
    "executionInfo": {
     "elapsed": 5,
     "status": "ok",
     "timestamp": 1660496288762,
     "user": {
      "displayName": "Keziah Sitinjak",
      "userId": "18293108177565735470"
     },
     "user_tz": -480
    },
    "id": "C3F4jS5JZOl8"
   },
   "outputs": [],
   "source": [
    "ss = StandardScaler()\n",
    "\n",
    "X_train_sc = ss.fit_transform(X_train)\n",
    "X_test_sc = ss.transform(X_test)"
   ]
  },
  {
   "cell_type": "code",
   "execution_count": 34,
   "id": "NfTyF52nmv9K",
   "metadata": {
    "colab": {
     "base_uri": "https://localhost:8080/"
    },
    "executionInfo": {
     "elapsed": 2587,
     "status": "ok",
     "timestamp": 1660496291345,
     "user": {
      "displayName": "Keziah Sitinjak",
      "userId": "18293108177565735470"
     },
     "user_tz": -480
    },
    "id": "NfTyF52nmv9K",
    "outputId": "2f8649b0-aef7-4f43-8ef6-5f3a165d653b"
   },
   "outputs": [
    {
     "name": "stderr",
     "output_type": "stream",
     "text": [
      "/Users/kenneththesheep/opt/anaconda3/envs/dsi30/lib/python3.8/site-packages/xgboost/sklearn.py:1224: UserWarning: The use of label encoder in XGBClassifier is deprecated and will be removed in a future release. To remove this warning, do the following: 1) Pass option use_label_encoder=False when constructing XGBClassifier object; and 2) Encode your labels (y) as integers starting with 0, i.e. 0, 1, 2, ..., [num_class - 1].\n",
      "  warnings.warn(label_encoder_deprecation_msg, UserWarning)\n"
     ]
    },
    {
     "name": "stdout",
     "output_type": "stream",
     "text": [
      "[01:22:32] WARNING: /var/folders/sy/f16zz6x50xz3113nwtb9bvq00000gp/T/abs_44tbtwf8c1/croots/recipe/xgboost-split_1659548960882/work/src/learner.cc:1115: Starting in XGBoost 1.3.0, the default evaluation metric used with the objective 'binary:logistic' was changed from 'error' to 'logloss'. Explicitly set eval_metric if you'd like to restore the old behavior.\n"
     ]
    },
    {
     "data": {
      "text/html": [
       "<style>#sk-container-id-1 {color: black;background-color: white;}#sk-container-id-1 pre{padding: 0;}#sk-container-id-1 div.sk-toggleable {background-color: white;}#sk-container-id-1 label.sk-toggleable__label {cursor: pointer;display: block;width: 100%;margin-bottom: 0;padding: 0.3em;box-sizing: border-box;text-align: center;}#sk-container-id-1 label.sk-toggleable__label-arrow:before {content: \"▸\";float: left;margin-right: 0.25em;color: #696969;}#sk-container-id-1 label.sk-toggleable__label-arrow:hover:before {color: black;}#sk-container-id-1 div.sk-estimator:hover label.sk-toggleable__label-arrow:before {color: black;}#sk-container-id-1 div.sk-toggleable__content {max-height: 0;max-width: 0;overflow: hidden;text-align: left;background-color: #f0f8ff;}#sk-container-id-1 div.sk-toggleable__content pre {margin: 0.2em;color: black;border-radius: 0.25em;background-color: #f0f8ff;}#sk-container-id-1 input.sk-toggleable__control:checked~div.sk-toggleable__content {max-height: 200px;max-width: 100%;overflow: auto;}#sk-container-id-1 input.sk-toggleable__control:checked~label.sk-toggleable__label-arrow:before {content: \"▾\";}#sk-container-id-1 div.sk-estimator input.sk-toggleable__control:checked~label.sk-toggleable__label {background-color: #d4ebff;}#sk-container-id-1 div.sk-label input.sk-toggleable__control:checked~label.sk-toggleable__label {background-color: #d4ebff;}#sk-container-id-1 input.sk-hidden--visually {border: 0;clip: rect(1px 1px 1px 1px);clip: rect(1px, 1px, 1px, 1px);height: 1px;margin: -1px;overflow: hidden;padding: 0;position: absolute;width: 1px;}#sk-container-id-1 div.sk-estimator {font-family: monospace;background-color: #f0f8ff;border: 1px dotted black;border-radius: 0.25em;box-sizing: border-box;margin-bottom: 0.5em;}#sk-container-id-1 div.sk-estimator:hover {background-color: #d4ebff;}#sk-container-id-1 div.sk-parallel-item::after {content: \"\";width: 100%;border-bottom: 1px solid gray;flex-grow: 1;}#sk-container-id-1 div.sk-label:hover label.sk-toggleable__label {background-color: #d4ebff;}#sk-container-id-1 div.sk-serial::before {content: \"\";position: absolute;border-left: 1px solid gray;box-sizing: border-box;top: 0;bottom: 0;left: 50%;z-index: 0;}#sk-container-id-1 div.sk-serial {display: flex;flex-direction: column;align-items: center;background-color: white;padding-right: 0.2em;padding-left: 0.2em;position: relative;}#sk-container-id-1 div.sk-item {position: relative;z-index: 1;}#sk-container-id-1 div.sk-parallel {display: flex;align-items: stretch;justify-content: center;background-color: white;position: relative;}#sk-container-id-1 div.sk-item::before, #sk-container-id-1 div.sk-parallel-item::before {content: \"\";position: absolute;border-left: 1px solid gray;box-sizing: border-box;top: 0;bottom: 0;left: 50%;z-index: -1;}#sk-container-id-1 div.sk-parallel-item {display: flex;flex-direction: column;z-index: 1;position: relative;background-color: white;}#sk-container-id-1 div.sk-parallel-item:first-child::after {align-self: flex-end;width: 50%;}#sk-container-id-1 div.sk-parallel-item:last-child::after {align-self: flex-start;width: 50%;}#sk-container-id-1 div.sk-parallel-item:only-child::after {width: 0;}#sk-container-id-1 div.sk-dashed-wrapped {border: 1px dashed gray;margin: 0 0.4em 0.5em 0.4em;box-sizing: border-box;padding-bottom: 0.4em;background-color: white;}#sk-container-id-1 div.sk-label label {font-family: monospace;font-weight: bold;display: inline-block;line-height: 1.2em;}#sk-container-id-1 div.sk-label-container {text-align: center;}#sk-container-id-1 div.sk-container {/* jupyter's `normalize.less` sets `[hidden] { display: none; }` but bootstrap.min.css set `[hidden] { display: none !important; }` so we also need the `!important` here to be able to override the default hidden behavior on the sphinx rendered scikit-learn.org. See: https://github.com/scikit-learn/scikit-learn/issues/21755 */display: inline-block !important;position: relative;}#sk-container-id-1 div.sk-text-repr-fallback {display: none;}</style><div id=\"sk-container-id-1\" class=\"sk-top-container\"><div class=\"sk-text-repr-fallback\"><pre>Pipeline(steps=[(&#x27;scale&#x27;, StandardScaler()), (&#x27;sampling&#x27;, SMOTE()),\n",
       "                (&#x27;xgb&#x27;,\n",
       "                 XGBClassifier(base_score=0.5, booster=&#x27;gbtree&#x27;,\n",
       "                               colsample_bylevel=1, colsample_bynode=1,\n",
       "                               colsample_bytree=1, enable_categorical=False,\n",
       "                               gamma=0.85, gpu_id=-1, importance_type=None,\n",
       "                               interaction_constraints=&#x27;&#x27;, learning_rate=0.1,\n",
       "                               max_delta_step=0, max_depth=40,\n",
       "                               min_child_weight=25, missing=nan,\n",
       "                               monotone_constraints=&#x27;()&#x27;, n_estimators=49,\n",
       "                               n_jobs=-1, num_parallel_tree=1, predictor=&#x27;auto&#x27;,\n",
       "                               random_state=42, reg_alpha=0, reg_lambda=1,\n",
       "                               scale_pos_weight=63, subsample=1,\n",
       "                               tree_method=&#x27;exact&#x27;, validate_parameters=1,\n",
       "                               verbosity=1))])</pre><b>In a Jupyter environment, please rerun this cell to show the HTML representation or trust the notebook. <br />On GitHub, the HTML representation is unable to render, please try loading this page with nbviewer.org.</b></div><div class=\"sk-container\" hidden><div class=\"sk-item sk-dashed-wrapped\"><div class=\"sk-label-container\"><div class=\"sk-label sk-toggleable\"><input class=\"sk-toggleable__control sk-hidden--visually\" id=\"sk-estimator-id-1\" type=\"checkbox\" ><label for=\"sk-estimator-id-1\" class=\"sk-toggleable__label sk-toggleable__label-arrow\">Pipeline</label><div class=\"sk-toggleable__content\"><pre>Pipeline(steps=[(&#x27;scale&#x27;, StandardScaler()), (&#x27;sampling&#x27;, SMOTE()),\n",
       "                (&#x27;xgb&#x27;,\n",
       "                 XGBClassifier(base_score=0.5, booster=&#x27;gbtree&#x27;,\n",
       "                               colsample_bylevel=1, colsample_bynode=1,\n",
       "                               colsample_bytree=1, enable_categorical=False,\n",
       "                               gamma=0.85, gpu_id=-1, importance_type=None,\n",
       "                               interaction_constraints=&#x27;&#x27;, learning_rate=0.1,\n",
       "                               max_delta_step=0, max_depth=40,\n",
       "                               min_child_weight=25, missing=nan,\n",
       "                               monotone_constraints=&#x27;()&#x27;, n_estimators=49,\n",
       "                               n_jobs=-1, num_parallel_tree=1, predictor=&#x27;auto&#x27;,\n",
       "                               random_state=42, reg_alpha=0, reg_lambda=1,\n",
       "                               scale_pos_weight=63, subsample=1,\n",
       "                               tree_method=&#x27;exact&#x27;, validate_parameters=1,\n",
       "                               verbosity=1))])</pre></div></div></div><div class=\"sk-serial\"><div class=\"sk-item\"><div class=\"sk-estimator sk-toggleable\"><input class=\"sk-toggleable__control sk-hidden--visually\" id=\"sk-estimator-id-2\" type=\"checkbox\" ><label for=\"sk-estimator-id-2\" class=\"sk-toggleable__label sk-toggleable__label-arrow\">StandardScaler</label><div class=\"sk-toggleable__content\"><pre>StandardScaler()</pre></div></div></div><div class=\"sk-item\"><div class=\"sk-estimator sk-toggleable\"><input class=\"sk-toggleable__control sk-hidden--visually\" id=\"sk-estimator-id-3\" type=\"checkbox\" ><label for=\"sk-estimator-id-3\" class=\"sk-toggleable__label sk-toggleable__label-arrow\">SMOTE</label><div class=\"sk-toggleable__content\"><pre>SMOTE()</pre></div></div></div><div class=\"sk-item\"><div class=\"sk-estimator sk-toggleable\"><input class=\"sk-toggleable__control sk-hidden--visually\" id=\"sk-estimator-id-4\" type=\"checkbox\" ><label for=\"sk-estimator-id-4\" class=\"sk-toggleable__label sk-toggleable__label-arrow\">XGBClassifier</label><div class=\"sk-toggleable__content\"><pre>XGBClassifier(base_score=0.5, booster=&#x27;gbtree&#x27;, colsample_bylevel=1,\n",
       "              colsample_bynode=1, colsample_bytree=1, enable_categorical=False,\n",
       "              gamma=0.85, gpu_id=-1, importance_type=None,\n",
       "              interaction_constraints=&#x27;&#x27;, learning_rate=0.1, max_delta_step=0,\n",
       "              max_depth=40, min_child_weight=25, missing=nan,\n",
       "              monotone_constraints=&#x27;()&#x27;, n_estimators=49, n_jobs=-1,\n",
       "              num_parallel_tree=1, predictor=&#x27;auto&#x27;, random_state=42,\n",
       "              reg_alpha=0, reg_lambda=1, scale_pos_weight=63, subsample=1,\n",
       "              tree_method=&#x27;exact&#x27;, validate_parameters=1, verbosity=1)</pre></div></div></div></div></div></div></div>"
      ],
      "text/plain": [
       "Pipeline(steps=[('scale', StandardScaler()), ('sampling', SMOTE()),\n",
       "                ('xgb',\n",
       "                 XGBClassifier(base_score=0.5, booster='gbtree',\n",
       "                               colsample_bylevel=1, colsample_bynode=1,\n",
       "                               colsample_bytree=1, enable_categorical=False,\n",
       "                               gamma=0.85, gpu_id=-1, importance_type=None,\n",
       "                               interaction_constraints='', learning_rate=0.1,\n",
       "                               max_delta_step=0, max_depth=40,\n",
       "                               min_child_weight=25, missing=nan,\n",
       "                               monotone_constraints='()', n_estimators=49,\n",
       "                               n_jobs=-1, num_parallel_tree=1, predictor='auto',\n",
       "                               random_state=42, reg_alpha=0, reg_lambda=1,\n",
       "                               scale_pos_weight=63, subsample=1,\n",
       "                               tree_method='exact', validate_parameters=1,\n",
       "                               verbosity=1))])"
      ]
     },
     "execution_count": 34,
     "metadata": {},
     "output_type": "execute_result"
    }
   ],
   "source": [
    "best_model_xgb.fit(X_train_sc, y_train)"
   ]
  },
  {
   "cell_type": "code",
   "execution_count": 35,
   "id": "x7VYZW53m_Vt",
   "metadata": {
    "executionInfo": {
     "elapsed": 585,
     "status": "ok",
     "timestamp": 1660496291928,
     "user": {
      "displayName": "Keziah Sitinjak",
      "userId": "18293108177565735470"
     },
     "user_tz": -480
    },
    "id": "x7VYZW53m_Vt"
   },
   "outputs": [],
   "source": [
    "#prediction for test data\n",
    "#take first column which is 'id'\n",
    "preds = best_model_xgb.predict_proba(X_test_sc)[:,1]\n",
    "pred_df = pd.DataFrame({'Id': test['id'], 'WnvPresent': preds})"
   ]
  },
  {
   "cell_type": "code",
   "execution_count": 36,
   "id": "pUpYb2hjtbLE",
   "metadata": {
    "colab": {
     "base_uri": "https://localhost:8080/",
     "height": 206
    },
    "executionInfo": {
     "elapsed": 5,
     "status": "ok",
     "timestamp": 1660496291928,
     "user": {
      "displayName": "Keziah Sitinjak",
      "userId": "18293108177565735470"
     },
     "user_tz": -480
    },
    "id": "pUpYb2hjtbLE",
    "outputId": "000a4f4f-078c-4005-9644-2a762031ca7a"
   },
   "outputs": [
    {
     "data": {
      "text/html": [
       "<div>\n",
       "<style scoped>\n",
       "    .dataframe tbody tr th:only-of-type {\n",
       "        vertical-align: middle;\n",
       "    }\n",
       "\n",
       "    .dataframe tbody tr th {\n",
       "        vertical-align: top;\n",
       "    }\n",
       "\n",
       "    .dataframe thead th {\n",
       "        text-align: right;\n",
       "    }\n",
       "</style>\n",
       "<table border=\"1\" class=\"dataframe\">\n",
       "  <thead>\n",
       "    <tr style=\"text-align: right;\">\n",
       "      <th></th>\n",
       "      <th>Id</th>\n",
       "      <th>WnvPresent</th>\n",
       "    </tr>\n",
       "  </thead>\n",
       "  <tbody>\n",
       "    <tr>\n",
       "      <th>0</th>\n",
       "      <td>1</td>\n",
       "      <td>0.016300</td>\n",
       "    </tr>\n",
       "    <tr>\n",
       "      <th>1</th>\n",
       "      <td>2</td>\n",
       "      <td>0.008640</td>\n",
       "    </tr>\n",
       "    <tr>\n",
       "      <th>2</th>\n",
       "      <td>3</td>\n",
       "      <td>0.012421</td>\n",
       "    </tr>\n",
       "    <tr>\n",
       "      <th>3</th>\n",
       "      <td>4</td>\n",
       "      <td>0.009845</td>\n",
       "    </tr>\n",
       "    <tr>\n",
       "      <th>4</th>\n",
       "      <td>5</td>\n",
       "      <td>0.009845</td>\n",
       "    </tr>\n",
       "  </tbody>\n",
       "</table>\n",
       "</div>"
      ],
      "text/plain": [
       "   Id  WnvPresent\n",
       "0   1    0.016300\n",
       "1   2    0.008640\n",
       "2   3    0.012421\n",
       "3   4    0.009845\n",
       "4   5    0.009845"
      ]
     },
     "execution_count": 36,
     "metadata": {},
     "output_type": "execute_result"
    }
   ],
   "source": [
    "#Prediction probability for the test set:\n",
    "pred_df[:5]"
   ]
  },
  {
   "cell_type": "markdown",
   "id": "T2avbuU0aNn7",
   "metadata": {
    "id": "T2avbuU0aNn7"
   },
   "source": [
    "Kaggle submission"
   ]
  },
  {
   "cell_type": "code",
   "execution_count": 37,
   "id": "rh5-jir9nO_K",
   "metadata": {
    "colab": {
     "base_uri": "https://localhost:8080/",
     "height": 17
    },
    "executionInfo": {
     "elapsed": 359,
     "status": "ok",
     "timestamp": 1660496292283,
     "user": {
      "displayName": "Keziah Sitinjak",
      "userId": "18293108177565735470"
     },
     "user_tz": -480
    },
    "id": "rh5-jir9nO_K",
    "outputId": "650861e6-6df6-4c28-a9af-df55ab76828b"
   },
   "outputs": [
    {
     "name": "stdout",
     "output_type": "stream",
     "text": [
      "[LibLinear][01:22:01] WARNING: /var/folders/sy/f16zz6x50xz3113nwtb9bvq00000gp/T/abs_44tbtwf8c1/croots/recipe/xgboost-split_1659548960882/work/src/learner.cc:1115: Starting in XGBoost 1.3.0, the default evaluation metric used with the objective 'binary:logistic' was changed from 'error' to 'logloss'. Explicitly set eval_metric if you'd like to restore the old behavior.\n"
     ]
    },
    {
     "name": "stderr",
     "output_type": "stream",
     "text": [
      "/Users/kenneththesheep/opt/anaconda3/envs/dsi30/lib/python3.8/site-packages/xgboost/compat.py:36: FutureWarning: pandas.Int64Index is deprecated and will be removed from pandas in a future version. Use pandas.Index with the appropriate dtype instead.\n",
      "  from pandas import MultiIndex, Int64Index\n",
      "/Users/kenneththesheep/opt/anaconda3/envs/dsi30/lib/python3.8/site-packages/xgboost/sklearn.py:1224: UserWarning: The use of label encoder in XGBClassifier is deprecated and will be removed in a future release. To remove this warning, do the following: 1) Pass option use_label_encoder=False when constructing XGBClassifier object; and 2) Encode your labels (y) as integers starting with 0, i.e. 0, 1, 2, ..., [num_class - 1].\n",
      "  warnings.warn(label_encoder_deprecation_msg, UserWarning)\n",
      "/Users/kenneththesheep/opt/anaconda3/envs/dsi30/lib/python3.8/site-packages/xgboost/compat.py:36: FutureWarning: pandas.Int64Index is deprecated and will be removed from pandas in a future version. Use pandas.Index with the appropriate dtype instead.\n",
      "  from pandas import MultiIndex, Int64Index\n",
      "/Users/kenneththesheep/opt/anaconda3/envs/dsi30/lib/python3.8/site-packages/xgboost/sklearn.py:1224: UserWarning: The use of label encoder in XGBClassifier is deprecated and will be removed in a future release. To remove this warning, do the following: 1) Pass option use_label_encoder=False when constructing XGBClassifier object; and 2) Encode your labels (y) as integers starting with 0, i.e. 0, 1, 2, ..., [num_class - 1].\n",
      "  warnings.warn(label_encoder_deprecation_msg, UserWarning)\n",
      "/Users/kenneththesheep/opt/anaconda3/envs/dsi30/lib/python3.8/site-packages/xgboost/sklearn.py:1224: UserWarning: The use of label encoder in XGBClassifier is deprecated and will be removed in a future release. To remove this warning, do the following: 1) Pass option use_label_encoder=False when constructing XGBClassifier object; and 2) Encode your labels (y) as integers starting with 0, i.e. 0, 1, 2, ..., [num_class - 1].\n",
      "  warnings.warn(label_encoder_deprecation_msg, UserWarning)\n"
     ]
    },
    {
     "name": "stdout",
     "output_type": "stream",
     "text": [
      "[LibLinear][01:22:01] WARNING: /var/folders/sy/f16zz6x50xz3113nwtb9bvq00000gp/T/abs_44tbtwf8c1/croots/recipe/xgboost-split_1659548960882/work/src/learner.cc:1115: Starting in XGBoost 1.3.0, the default evaluation metric used with the objective 'binary:logistic' was changed from 'error' to 'logloss'. Explicitly set eval_metric if you'd like to restore the old behavior.\n",
      "[01:22:11] WARNING: /var/folders/sy/f16zz6x50xz3113nwtb9bvq00000gp/T/abs_44tbtwf8c1/croots/recipe/xgboost-split_1659548960882/work/src/learner.cc:1115: Starting in XGBoost 1.3.0, the default evaluation metric used with the objective 'binary:logistic' was changed from 'error' to 'logloss'. Explicitly set eval_metric if you'd like to restore the old behavior.\n",
      "[LibLinear][01:22:01] WARNING: /var/folders/sy/f16zz6x50xz3113nwtb9bvq00000gp/T/abs_44tbtwf8c1/croots/recipe/xgboost-split_1659548960882/work/src/learner.cc:1115: Starting in XGBoost 1.3.0, the default evaluation metric used with the objective 'binary:logistic' was changed from 'error' to 'logloss'. Explicitly set eval_metric if you'd like to restore the old behavior.\n"
     ]
    },
    {
     "name": "stderr",
     "output_type": "stream",
     "text": [
      "/Users/kenneththesheep/opt/anaconda3/envs/dsi30/lib/python3.8/site-packages/xgboost/compat.py:36: FutureWarning: pandas.Int64Index is deprecated and will be removed from pandas in a future version. Use pandas.Index with the appropriate dtype instead.\n",
      "  from pandas import MultiIndex, Int64Index\n",
      "/Users/kenneththesheep/opt/anaconda3/envs/dsi30/lib/python3.8/site-packages/xgboost/sklearn.py:1224: UserWarning: The use of label encoder in XGBClassifier is deprecated and will be removed in a future release. To remove this warning, do the following: 1) Pass option use_label_encoder=False when constructing XGBClassifier object; and 2) Encode your labels (y) as integers starting with 0, i.e. 0, 1, 2, ..., [num_class - 1].\n",
      "  warnings.warn(label_encoder_deprecation_msg, UserWarning)\n"
     ]
    },
    {
     "name": "stdout",
     "output_type": "stream",
     "text": [
      "[LibLinear][LibLinear][01:22:01] WARNING: /var/folders/sy/f16zz6x50xz3113nwtb9bvq00000gp/T/abs_44tbtwf8c1/croots/recipe/xgboost-split_1659548960882/work/src/learner.cc:1115: Starting in XGBoost 1.3.0, the default evaluation metric used with the objective 'binary:logistic' was changed from 'error' to 'logloss'. Explicitly set eval_metric if you'd like to restore the old behavior.\n"
     ]
    },
    {
     "name": "stderr",
     "output_type": "stream",
     "text": [
      "/Users/kenneththesheep/opt/anaconda3/envs/dsi30/lib/python3.8/site-packages/xgboost/compat.py:36: FutureWarning: pandas.Int64Index is deprecated and will be removed from pandas in a future version. Use pandas.Index with the appropriate dtype instead.\n",
      "  from pandas import MultiIndex, Int64Index\n",
      "/Users/kenneththesheep/opt/anaconda3/envs/dsi30/lib/python3.8/site-packages/xgboost/sklearn.py:1224: UserWarning: The use of label encoder in XGBClassifier is deprecated and will be removed in a future release. To remove this warning, do the following: 1) Pass option use_label_encoder=False when constructing XGBClassifier object; and 2) Encode your labels (y) as integers starting with 0, i.e. 0, 1, 2, ..., [num_class - 1].\n",
      "  warnings.warn(label_encoder_deprecation_msg, UserWarning)\n"
     ]
    }
   ],
   "source": [
    "# #Export data to csv file to be submitted to Kaggle\n",
    "pred_df.to_csv('../Dataset/submission_xgb.csv', index=False)\n",
    "\n",
    "# from google.colab import files\n",
    "# files.download(\"/content/gdrive/MyDrive/DSI30/P4/Dataset/submission_xgb.csv\")"
   ]
  },
  {
   "cell_type": "markdown",
   "id": "lcji1NI2fuCD",
   "metadata": {
    "id": "lcji1NI2fuCD"
   },
   "source": [
    "![image.png](data:image/png;base64,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)"
   ]
  }
 ],
 "metadata": {
  "colab": {
   "collapsed_sections": [
    "vQkqXz-JhR2J",
    "iv0bkoDkhldx",
    "D5jjnoo5kStt",
    "wznK35Oh3FZk"
   ],
   "name": "03 Modelling.ipynb",
   "provenance": []
  },
  "gpuClass": "standard",
  "kernelspec": {
   "display_name": "Python 3 (ipykernel)",
   "language": "python",
   "name": "python3"
  },
  "language_info": {
   "codemirror_mode": {
    "name": "ipython",
    "version": 3
   },
   "file_extension": ".py",
   "mimetype": "text/x-python",
   "name": "python",
   "nbconvert_exporter": "python",
   "pygments_lexer": "ipython3",
   "version": "3.8.13"
  }
 },
 "nbformat": 4,
 "nbformat_minor": 5
}
