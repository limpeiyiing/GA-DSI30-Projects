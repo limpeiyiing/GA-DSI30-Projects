{
 "cells": [
  {
   "cell_type": "markdown",
   "metadata": {},
   "source": [
    "<img src=\"http://imgur.com/1ZcRyrc.png\" style=\"float: left; margin: 20px; height: 55px\">\n",
    "\n",
    "# Capstone Project : Short-Term Sales Forecasting for a Russian Software Firm\n",
    "## PART 3/5: Modelling with Neural Networks: LSTM and CNN"
   ]
  },
  {
   "cell_type": "markdown",
   "metadata": {},
   "source": [
    "---------"
   ]
  },
  {
   "cell_type": "code",
   "execution_count": 1,
   "metadata": {
    "executionInfo": {
     "elapsed": 1011,
     "status": "ok",
     "timestamp": 1662430432045,
     "user": {
      "displayName": "Pei Yiing Lim",
      "userId": "03784591105715420122"
     },
     "user_tz": -480
    },
    "id": "WSBMbRBUacNo"
   },
   "outputs": [],
   "source": [
    "import pandas as pd\n",
    "import numpy as np\n",
    "import matplotlib.pyplot as plt\n",
    "\n",
    "from sklearn.preprocessing import StandardScaler\n",
    "from sklearn.model_selection import train_test_split\n",
    "from sklearn.metrics import accuracy_score\n",
    "from sklearn.metrics import mean_squared_error as mse\n",
    "\n",
    "import warnings\n",
    "warnings.filterwarnings('ignore')"
   ]
  },
  {
   "cell_type": "code",
   "execution_count": 2,
   "metadata": {
    "executionInfo": {
     "elapsed": 1583,
     "status": "ok",
     "timestamp": 1662430433626,
     "user": {
      "displayName": "Pei Yiing Lim",
      "userId": "03784591105715420122"
     },
     "user_tz": -480
    },
    "id": "MpCYZsT6avOV"
   },
   "outputs": [],
   "source": [
    "from tensorflow.keras.models import Sequential, load_model\n",
    "from tensorflow.keras.layers import *\n",
    "from tensorflow.keras.callbacks import ModelCheckpoint\n",
    "from tensorflow.keras.losses import MeanSquaredError\n",
    "from tensorflow.keras.metrics import RootMeanSquaredError\n",
    "from tensorflow.keras.optimizers import Adam"
   ]
  },
  {
   "cell_type": "code",
   "execution_count": 3,
   "metadata": {
    "colab": {
     "base_uri": "https://localhost:8080/"
    },
    "executionInfo": {
     "elapsed": 27542,
     "status": "ok",
     "timestamp": 1662430461164,
     "user": {
      "displayName": "Pei Yiing Lim",
      "userId": "03784591105715420122"
     },
     "user_tz": -480
    },
    "id": "9hQHSTmAavKE",
    "outputId": "e1fb97d6-9950-4c56-caf7-89c479c31ef4"
   },
   "outputs": [
    {
     "name": "stdout",
     "output_type": "stream",
     "text": [
      "Mounted at /content/drive\n"
     ]
    }
   ],
   "source": [
    "from google.colab import drive\n",
    "drive.mount('/content/drive')"
   ]
  },
  {
   "cell_type": "code",
   "execution_count": 48,
   "metadata": {
    "executionInfo": {
     "elapsed": 5706,
     "status": "ok",
     "timestamp": 1662432032489,
     "user": {
      "displayName": "Pei Yiing Lim",
      "userId": "03784591105715420122"
     },
     "user_tz": -480
    },
    "id": "52Sa3WvUavHq"
   },
   "outputs": [],
   "source": [
    "clean_train = pd.read_csv(\"/content/drive/MyDrive/DSI30/Capstone/Kaggle/dataset/intermediate/clean_train.csv\", \n",
    "                          parse_dates = True, index_col = [0])\n",
    "date_mapper = pd.read_csv(\"/content/drive/MyDrive/DSI30/Capstone/Kaggle/dataset/intermediate/date_master.csv\",\n",
    "                          parse_dates = True)\n",
    "material_master = pd.read_csv(\"/content/drive/MyDrive/DSI30/Capstone/Kaggle/dataset/intermediate/material_master.csv\",\n",
    "                              index_col = [0])\n",
    "shop_master = pd.read_csv(\"/content/drive/MyDrive/DSI30/Capstone/Kaggle/dataset/intermediate/shops_master.csv\",\n",
    "                          index_col = [0])\n",
    "test = pd.read_csv(\"/content/drive/MyDrive/DSI30/Capstone/Kaggle/dataset/intermediate/submission_template.csv\", index_col=[0])\n",
    "submission = pd.read_csv(\"/content/drive/MyDrive/DSI30/Capstone/Kaggle/dataset/inputs/sample_submission.csv\", index_col = [0])"
   ]
  },
  {
   "cell_type": "code",
   "execution_count": 5,
   "metadata": {
    "colab": {
     "base_uri": "https://localhost:8080/",
     "height": 143
    },
    "executionInfo": {
     "elapsed": 28,
     "status": "ok",
     "timestamp": 1662430472179,
     "user": {
      "displayName": "Pei Yiing Lim",
      "userId": "03784591105715420122"
     },
     "user_tz": -480
    },
    "id": "Ys2KxSzZavEs",
    "outputId": "8e18d62b-78ca-4242-94ba-38c9a060f3e2"
   },
   "outputs": [
    {
     "data": {
      "text/html": [
       "\n",
       "  <div id=\"df-edca0ccf-5d34-493c-88ec-3f41ae1beab7\">\n",
       "    <div class=\"colab-df-container\">\n",
       "      <div>\n",
       "<style scoped>\n",
       "    .dataframe tbody tr th:only-of-type {\n",
       "        vertical-align: middle;\n",
       "    }\n",
       "\n",
       "    .dataframe tbody tr th {\n",
       "        vertical-align: top;\n",
       "    }\n",
       "\n",
       "    .dataframe thead th {\n",
       "        text-align: right;\n",
       "    }\n",
       "</style>\n",
       "<table border=\"1\" class=\"dataframe\">\n",
       "  <thead>\n",
       "    <tr style=\"text-align: right;\">\n",
       "      <th></th>\n",
       "      <th>date</th>\n",
       "      <th>date_block_num</th>\n",
       "      <th>shop_id</th>\n",
       "      <th>item_id</th>\n",
       "      <th>item_price</th>\n",
       "      <th>item_cnt_day</th>\n",
       "    </tr>\n",
       "  </thead>\n",
       "  <tbody>\n",
       "    <tr>\n",
       "      <th>0</th>\n",
       "      <td>2013-01-02</td>\n",
       "      <td>0</td>\n",
       "      <td>59</td>\n",
       "      <td>22154</td>\n",
       "      <td>999.00</td>\n",
       "      <td>1</td>\n",
       "    </tr>\n",
       "    <tr>\n",
       "      <th>1</th>\n",
       "      <td>2013-01-03</td>\n",
       "      <td>0</td>\n",
       "      <td>25</td>\n",
       "      <td>2552</td>\n",
       "      <td>899.00</td>\n",
       "      <td>1</td>\n",
       "    </tr>\n",
       "    <tr>\n",
       "      <th>3</th>\n",
       "      <td>2013-01-06</td>\n",
       "      <td>0</td>\n",
       "      <td>25</td>\n",
       "      <td>2554</td>\n",
       "      <td>1709.05</td>\n",
       "      <td>1</td>\n",
       "    </tr>\n",
       "  </tbody>\n",
       "</table>\n",
       "</div>\n",
       "      <button class=\"colab-df-convert\" onclick=\"convertToInteractive('df-edca0ccf-5d34-493c-88ec-3f41ae1beab7')\"\n",
       "              title=\"Convert this dataframe to an interactive table.\"\n",
       "              style=\"display:none;\">\n",
       "        \n",
       "  <svg xmlns=\"http://www.w3.org/2000/svg\" height=\"24px\"viewBox=\"0 0 24 24\"\n",
       "       width=\"24px\">\n",
       "    <path d=\"M0 0h24v24H0V0z\" fill=\"none\"/>\n",
       "    <path d=\"M18.56 5.44l.94 2.06.94-2.06 2.06-.94-2.06-.94-.94-2.06-.94 2.06-2.06.94zm-11 1L8.5 8.5l.94-2.06 2.06-.94-2.06-.94L8.5 2.5l-.94 2.06-2.06.94zm10 10l.94 2.06.94-2.06 2.06-.94-2.06-.94-.94-2.06-.94 2.06-2.06.94z\"/><path d=\"M17.41 7.96l-1.37-1.37c-.4-.4-.92-.59-1.43-.59-.52 0-1.04.2-1.43.59L10.3 9.45l-7.72 7.72c-.78.78-.78 2.05 0 2.83L4 21.41c.39.39.9.59 1.41.59.51 0 1.02-.2 1.41-.59l7.78-7.78 2.81-2.81c.8-.78.8-2.07 0-2.86zM5.41 20L4 18.59l7.72-7.72 1.47 1.35L5.41 20z\"/>\n",
       "  </svg>\n",
       "      </button>\n",
       "      \n",
       "  <style>\n",
       "    .colab-df-container {\n",
       "      display:flex;\n",
       "      flex-wrap:wrap;\n",
       "      gap: 12px;\n",
       "    }\n",
       "\n",
       "    .colab-df-convert {\n",
       "      background-color: #E8F0FE;\n",
       "      border: none;\n",
       "      border-radius: 50%;\n",
       "      cursor: pointer;\n",
       "      display: none;\n",
       "      fill: #1967D2;\n",
       "      height: 32px;\n",
       "      padding: 0 0 0 0;\n",
       "      width: 32px;\n",
       "    }\n",
       "\n",
       "    .colab-df-convert:hover {\n",
       "      background-color: #E2EBFA;\n",
       "      box-shadow: 0px 1px 2px rgba(60, 64, 67, 0.3), 0px 1px 3px 1px rgba(60, 64, 67, 0.15);\n",
       "      fill: #174EA6;\n",
       "    }\n",
       "\n",
       "    [theme=dark] .colab-df-convert {\n",
       "      background-color: #3B4455;\n",
       "      fill: #D2E3FC;\n",
       "    }\n",
       "\n",
       "    [theme=dark] .colab-df-convert:hover {\n",
       "      background-color: #434B5C;\n",
       "      box-shadow: 0px 1px 3px 1px rgba(0, 0, 0, 0.15);\n",
       "      filter: drop-shadow(0px 1px 2px rgba(0, 0, 0, 0.3));\n",
       "      fill: #FFFFFF;\n",
       "    }\n",
       "  </style>\n",
       "\n",
       "      <script>\n",
       "        const buttonEl =\n",
       "          document.querySelector('#df-edca0ccf-5d34-493c-88ec-3f41ae1beab7 button.colab-df-convert');\n",
       "        buttonEl.style.display =\n",
       "          google.colab.kernel.accessAllowed ? 'block' : 'none';\n",
       "\n",
       "        async function convertToInteractive(key) {\n",
       "          const element = document.querySelector('#df-edca0ccf-5d34-493c-88ec-3f41ae1beab7');\n",
       "          const dataTable =\n",
       "            await google.colab.kernel.invokeFunction('convertToInteractive',\n",
       "                                                     [key], {});\n",
       "          if (!dataTable) return;\n",
       "\n",
       "          const docLinkHtml = 'Like what you see? Visit the ' +\n",
       "            '<a target=\"_blank\" href=https://colab.research.google.com/notebooks/data_table.ipynb>data table notebook</a>'\n",
       "            + ' to learn more about interactive tables.';\n",
       "          element.innerHTML = '';\n",
       "          dataTable['output_type'] = 'display_data';\n",
       "          await google.colab.output.renderOutput(dataTable, element);\n",
       "          const docLink = document.createElement('div');\n",
       "          docLink.innerHTML = docLinkHtml;\n",
       "          element.appendChild(docLink);\n",
       "        }\n",
       "      </script>\n",
       "    </div>\n",
       "  </div>\n",
       "  "
      ],
      "text/plain": [
       "         date  date_block_num  shop_id  item_id  item_price  item_cnt_day\n",
       "0  2013-01-02               0       59    22154      999.00             1\n",
       "1  2013-01-03               0       25     2552      899.00             1\n",
       "3  2013-01-06               0       25     2554     1709.05             1"
      ]
     },
     "execution_count": 5,
     "metadata": {},
     "output_type": "execute_result"
    }
   ],
   "source": [
    "clean_train.head(3)"
   ]
  },
  {
   "cell_type": "code",
   "execution_count": 6,
   "metadata": {
    "colab": {
     "base_uri": "https://localhost:8080/"
    },
    "executionInfo": {
     "elapsed": 9,
     "status": "ok",
     "timestamp": 1662430472179,
     "user": {
      "displayName": "Pei Yiing Lim",
      "userId": "03784591105715420122"
     },
     "user_tz": -480
    },
    "id": "ARJSRMNBavBw",
    "outputId": "c07a70d2-9d06-470a-e20f-55cea016e8de"
   },
   "outputs": [
    {
     "name": "stdout",
     "output_type": "stream",
     "text": [
      "<class 'pandas.core.frame.DataFrame'>\n",
      "Int64Index: 2928485 entries, 0 to 2935842\n",
      "Data columns (total 6 columns):\n",
      " #   Column          Dtype  \n",
      "---  ------          -----  \n",
      " 0   date            object \n",
      " 1   date_block_num  int64  \n",
      " 2   shop_id         int64  \n",
      " 3   item_id         int64  \n",
      " 4   item_price      float64\n",
      " 5   item_cnt_day    int64  \n",
      "dtypes: float64(1), int64(4), object(1)\n",
      "memory usage: 156.4+ MB\n"
     ]
    }
   ],
   "source": [
    "clean_train.info()"
   ]
  },
  {
   "cell_type": "markdown",
   "metadata": {
    "id": "1pKXAV02e3Qi"
   },
   "source": [
    "### 3.1 Preprocessing of Modelling Inputs"
   ]
  },
  {
   "cell_type": "code",
   "execution_count": 7,
   "metadata": {
    "colab": {
     "base_uri": "https://localhost:8080/",
     "height": 161
    },
    "executionInfo": {
     "elapsed": 721,
     "status": "ok",
     "timestamp": 1662430472895,
     "user": {
      "displayName": "Pei Yiing Lim",
      "userId": "03784591105715420122"
     },
     "user_tz": -480
    },
    "id": "jgeTafafau_D",
    "outputId": "b05a1b0b-cac5-4d09-d725-a06c8106cd40"
   },
   "outputs": [
    {
     "name": "stdout",
     "output_type": "stream",
     "text": [
      "(1608225, 4)\n"
     ]
    },
    {
     "data": {
      "text/html": [
       "\n",
       "  <div id=\"df-034b33a3-d70e-450f-bd2f-6024a95f5446\">\n",
       "    <div class=\"colab-df-container\">\n",
       "      <div>\n",
       "<style scoped>\n",
       "    .dataframe tbody tr th:only-of-type {\n",
       "        vertical-align: middle;\n",
       "    }\n",
       "\n",
       "    .dataframe tbody tr th {\n",
       "        vertical-align: top;\n",
       "    }\n",
       "\n",
       "    .dataframe thead th {\n",
       "        text-align: right;\n",
       "    }\n",
       "</style>\n",
       "<table border=\"1\" class=\"dataframe\">\n",
       "  <thead>\n",
       "    <tr style=\"text-align: right;\">\n",
       "      <th></th>\n",
       "      <th>date_block_num</th>\n",
       "      <th>shop_id</th>\n",
       "      <th>item_id</th>\n",
       "      <th>item_cnt_month</th>\n",
       "    </tr>\n",
       "  </thead>\n",
       "  <tbody>\n",
       "    <tr>\n",
       "      <th>0</th>\n",
       "      <td>0</td>\n",
       "      <td>0</td>\n",
       "      <td>32</td>\n",
       "      <td>6</td>\n",
       "    </tr>\n",
       "    <tr>\n",
       "      <th>1</th>\n",
       "      <td>0</td>\n",
       "      <td>0</td>\n",
       "      <td>33</td>\n",
       "      <td>3</td>\n",
       "    </tr>\n",
       "    <tr>\n",
       "      <th>2</th>\n",
       "      <td>0</td>\n",
       "      <td>0</td>\n",
       "      <td>35</td>\n",
       "      <td>1</td>\n",
       "    </tr>\n",
       "  </tbody>\n",
       "</table>\n",
       "</div>\n",
       "      <button class=\"colab-df-convert\" onclick=\"convertToInteractive('df-034b33a3-d70e-450f-bd2f-6024a95f5446')\"\n",
       "              title=\"Convert this dataframe to an interactive table.\"\n",
       "              style=\"display:none;\">\n",
       "        \n",
       "  <svg xmlns=\"http://www.w3.org/2000/svg\" height=\"24px\"viewBox=\"0 0 24 24\"\n",
       "       width=\"24px\">\n",
       "    <path d=\"M0 0h24v24H0V0z\" fill=\"none\"/>\n",
       "    <path d=\"M18.56 5.44l.94 2.06.94-2.06 2.06-.94-2.06-.94-.94-2.06-.94 2.06-2.06.94zm-11 1L8.5 8.5l.94-2.06 2.06-.94-2.06-.94L8.5 2.5l-.94 2.06-2.06.94zm10 10l.94 2.06.94-2.06 2.06-.94-2.06-.94-.94-2.06-.94 2.06-2.06.94z\"/><path d=\"M17.41 7.96l-1.37-1.37c-.4-.4-.92-.59-1.43-.59-.52 0-1.04.2-1.43.59L10.3 9.45l-7.72 7.72c-.78.78-.78 2.05 0 2.83L4 21.41c.39.39.9.59 1.41.59.51 0 1.02-.2 1.41-.59l7.78-7.78 2.81-2.81c.8-.78.8-2.07 0-2.86zM5.41 20L4 18.59l7.72-7.72 1.47 1.35L5.41 20z\"/>\n",
       "  </svg>\n",
       "      </button>\n",
       "      \n",
       "  <style>\n",
       "    .colab-df-container {\n",
       "      display:flex;\n",
       "      flex-wrap:wrap;\n",
       "      gap: 12px;\n",
       "    }\n",
       "\n",
       "    .colab-df-convert {\n",
       "      background-color: #E8F0FE;\n",
       "      border: none;\n",
       "      border-radius: 50%;\n",
       "      cursor: pointer;\n",
       "      display: none;\n",
       "      fill: #1967D2;\n",
       "      height: 32px;\n",
       "      padding: 0 0 0 0;\n",
       "      width: 32px;\n",
       "    }\n",
       "\n",
       "    .colab-df-convert:hover {\n",
       "      background-color: #E2EBFA;\n",
       "      box-shadow: 0px 1px 2px rgba(60, 64, 67, 0.3), 0px 1px 3px 1px rgba(60, 64, 67, 0.15);\n",
       "      fill: #174EA6;\n",
       "    }\n",
       "\n",
       "    [theme=dark] .colab-df-convert {\n",
       "      background-color: #3B4455;\n",
       "      fill: #D2E3FC;\n",
       "    }\n",
       "\n",
       "    [theme=dark] .colab-df-convert:hover {\n",
       "      background-color: #434B5C;\n",
       "      box-shadow: 0px 1px 3px 1px rgba(0, 0, 0, 0.15);\n",
       "      filter: drop-shadow(0px 1px 2px rgba(0, 0, 0, 0.3));\n",
       "      fill: #FFFFFF;\n",
       "    }\n",
       "  </style>\n",
       "\n",
       "      <script>\n",
       "        const buttonEl =\n",
       "          document.querySelector('#df-034b33a3-d70e-450f-bd2f-6024a95f5446 button.colab-df-convert');\n",
       "        buttonEl.style.display =\n",
       "          google.colab.kernel.accessAllowed ? 'block' : 'none';\n",
       "\n",
       "        async function convertToInteractive(key) {\n",
       "          const element = document.querySelector('#df-034b33a3-d70e-450f-bd2f-6024a95f5446');\n",
       "          const dataTable =\n",
       "            await google.colab.kernel.invokeFunction('convertToInteractive',\n",
       "                                                     [key], {});\n",
       "          if (!dataTable) return;\n",
       "\n",
       "          const docLinkHtml = 'Like what you see? Visit the ' +\n",
       "            '<a target=\"_blank\" href=https://colab.research.google.com/notebooks/data_table.ipynb>data table notebook</a>'\n",
       "            + ' to learn more about interactive tables.';\n",
       "          element.innerHTML = '';\n",
       "          dataTable['output_type'] = 'display_data';\n",
       "          await google.colab.output.renderOutput(dataTable, element);\n",
       "          const docLink = document.createElement('div');\n",
       "          docLink.innerHTML = docLinkHtml;\n",
       "          element.appendChild(docLink);\n",
       "        }\n",
       "      </script>\n",
       "    </div>\n",
       "  </div>\n",
       "  "
      ],
      "text/plain": [
       "   date_block_num  shop_id  item_id  item_cnt_month\n",
       "0               0        0       32               6\n",
       "1               0        0       33               3\n",
       "2               0        0       35               1"
      ]
     },
     "execution_count": 7,
     "metadata": {},
     "output_type": "execute_result"
    }
   ],
   "source": [
    "# create a new dataframe with shop_id/item_id as index, with monthly sum of unit sales\n",
    "mth_prd_series = clean_train.groupby([\"date_block_num\",\"shop_id\",\"item_id\"])[\"item_cnt_day\"].sum(\"item_cnt_day\").reset_index(drop=False)\n",
    "mth_prd_series.rename({\"item_cnt_day\":\"item_cnt_month\"}, axis = 1, inplace = True)\n",
    "print(mth_prd_series.shape)\n",
    "mth_prd_series.head(3)"
   ]
  },
  {
   "cell_type": "code",
   "execution_count": 9,
   "metadata": {
    "colab": {
     "base_uri": "https://localhost:8080/",
     "height": 191
    },
    "executionInfo": {
     "elapsed": 1496,
     "status": "ok",
     "timestamp": 1662430474383,
     "user": {
      "displayName": "Pei Yiing Lim",
      "userId": "03784591105715420122"
     },
     "user_tz": -480
    },
    "id": "7s3nnbonau7I",
    "outputId": "9ac3fc7c-8ee1-4dd8-e11e-8fa3120fd32b"
   },
   "outputs": [
    {
     "name": "stdout",
     "output_type": "stream",
     "text": [
      "(214200, 37)\n"
     ]
    },
    {
     "data": {
      "text/html": [
       "\n",
       "  <div id=\"df-57027017-4c21-4951-8307-03fa51ff1e8d\">\n",
       "    <div class=\"colab-df-container\">\n",
       "      <div>\n",
       "<style scoped>\n",
       "    .dataframe tbody tr th:only-of-type {\n",
       "        vertical-align: middle;\n",
       "    }\n",
       "\n",
       "    .dataframe tbody tr th {\n",
       "        vertical-align: top;\n",
       "    }\n",
       "\n",
       "    .dataframe thead th {\n",
       "        text-align: right;\n",
       "    }\n",
       "</style>\n",
       "<table border=\"1\" class=\"dataframe\">\n",
       "  <thead>\n",
       "    <tr style=\"text-align: right;\">\n",
       "      <th></th>\n",
       "      <th>ID</th>\n",
       "      <th>shop_id</th>\n",
       "      <th>item_id</th>\n",
       "      <th>0</th>\n",
       "      <th>1</th>\n",
       "      <th>2</th>\n",
       "      <th>3</th>\n",
       "      <th>4</th>\n",
       "      <th>5</th>\n",
       "      <th>6</th>\n",
       "      <th>...</th>\n",
       "      <th>24</th>\n",
       "      <th>25</th>\n",
       "      <th>26</th>\n",
       "      <th>27</th>\n",
       "      <th>28</th>\n",
       "      <th>29</th>\n",
       "      <th>30</th>\n",
       "      <th>31</th>\n",
       "      <th>32</th>\n",
       "      <th>33</th>\n",
       "    </tr>\n",
       "  </thead>\n",
       "  <tbody>\n",
       "    <tr>\n",
       "      <th>0</th>\n",
       "      <td>0</td>\n",
       "      <td>5</td>\n",
       "      <td>5037</td>\n",
       "      <td>0</td>\n",
       "      <td>0</td>\n",
       "      <td>0</td>\n",
       "      <td>0</td>\n",
       "      <td>0</td>\n",
       "      <td>0</td>\n",
       "      <td>0</td>\n",
       "      <td>...</td>\n",
       "      <td>2</td>\n",
       "      <td>0</td>\n",
       "      <td>0</td>\n",
       "      <td>0</td>\n",
       "      <td>1</td>\n",
       "      <td>1</td>\n",
       "      <td>1</td>\n",
       "      <td>3</td>\n",
       "      <td>1</td>\n",
       "      <td>0</td>\n",
       "    </tr>\n",
       "    <tr>\n",
       "      <th>1</th>\n",
       "      <td>1</td>\n",
       "      <td>5</td>\n",
       "      <td>5320</td>\n",
       "      <td>0</td>\n",
       "      <td>0</td>\n",
       "      <td>0</td>\n",
       "      <td>0</td>\n",
       "      <td>0</td>\n",
       "      <td>0</td>\n",
       "      <td>0</td>\n",
       "      <td>...</td>\n",
       "      <td>0</td>\n",
       "      <td>0</td>\n",
       "      <td>0</td>\n",
       "      <td>0</td>\n",
       "      <td>0</td>\n",
       "      <td>0</td>\n",
       "      <td>0</td>\n",
       "      <td>0</td>\n",
       "      <td>0</td>\n",
       "      <td>0</td>\n",
       "    </tr>\n",
       "    <tr>\n",
       "      <th>2</th>\n",
       "      <td>2</td>\n",
       "      <td>5</td>\n",
       "      <td>5233</td>\n",
       "      <td>0</td>\n",
       "      <td>0</td>\n",
       "      <td>0</td>\n",
       "      <td>0</td>\n",
       "      <td>0</td>\n",
       "      <td>0</td>\n",
       "      <td>0</td>\n",
       "      <td>...</td>\n",
       "      <td>0</td>\n",
       "      <td>0</td>\n",
       "      <td>0</td>\n",
       "      <td>0</td>\n",
       "      <td>3</td>\n",
       "      <td>2</td>\n",
       "      <td>0</td>\n",
       "      <td>1</td>\n",
       "      <td>3</td>\n",
       "      <td>1</td>\n",
       "    </tr>\n",
       "  </tbody>\n",
       "</table>\n",
       "<p>3 rows × 37 columns</p>\n",
       "</div>\n",
       "      <button class=\"colab-df-convert\" onclick=\"convertToInteractive('df-57027017-4c21-4951-8307-03fa51ff1e8d')\"\n",
       "              title=\"Convert this dataframe to an interactive table.\"\n",
       "              style=\"display:none;\">\n",
       "        \n",
       "  <svg xmlns=\"http://www.w3.org/2000/svg\" height=\"24px\"viewBox=\"0 0 24 24\"\n",
       "       width=\"24px\">\n",
       "    <path d=\"M0 0h24v24H0V0z\" fill=\"none\"/>\n",
       "    <path d=\"M18.56 5.44l.94 2.06.94-2.06 2.06-.94-2.06-.94-.94-2.06-.94 2.06-2.06.94zm-11 1L8.5 8.5l.94-2.06 2.06-.94-2.06-.94L8.5 2.5l-.94 2.06-2.06.94zm10 10l.94 2.06.94-2.06 2.06-.94-2.06-.94-.94-2.06-.94 2.06-2.06.94z\"/><path d=\"M17.41 7.96l-1.37-1.37c-.4-.4-.92-.59-1.43-.59-.52 0-1.04.2-1.43.59L10.3 9.45l-7.72 7.72c-.78.78-.78 2.05 0 2.83L4 21.41c.39.39.9.59 1.41.59.51 0 1.02-.2 1.41-.59l7.78-7.78 2.81-2.81c.8-.78.8-2.07 0-2.86zM5.41 20L4 18.59l7.72-7.72 1.47 1.35L5.41 20z\"/>\n",
       "  </svg>\n",
       "      </button>\n",
       "      \n",
       "  <style>\n",
       "    .colab-df-container {\n",
       "      display:flex;\n",
       "      flex-wrap:wrap;\n",
       "      gap: 12px;\n",
       "    }\n",
       "\n",
       "    .colab-df-convert {\n",
       "      background-color: #E8F0FE;\n",
       "      border: none;\n",
       "      border-radius: 50%;\n",
       "      cursor: pointer;\n",
       "      display: none;\n",
       "      fill: #1967D2;\n",
       "      height: 32px;\n",
       "      padding: 0 0 0 0;\n",
       "      width: 32px;\n",
       "    }\n",
       "\n",
       "    .colab-df-convert:hover {\n",
       "      background-color: #E2EBFA;\n",
       "      box-shadow: 0px 1px 2px rgba(60, 64, 67, 0.3), 0px 1px 3px 1px rgba(60, 64, 67, 0.15);\n",
       "      fill: #174EA6;\n",
       "    }\n",
       "\n",
       "    [theme=dark] .colab-df-convert {\n",
       "      background-color: #3B4455;\n",
       "      fill: #D2E3FC;\n",
       "    }\n",
       "\n",
       "    [theme=dark] .colab-df-convert:hover {\n",
       "      background-color: #434B5C;\n",
       "      box-shadow: 0px 1px 3px 1px rgba(0, 0, 0, 0.15);\n",
       "      filter: drop-shadow(0px 1px 2px rgba(0, 0, 0, 0.3));\n",
       "      fill: #FFFFFF;\n",
       "    }\n",
       "  </style>\n",
       "\n",
       "      <script>\n",
       "        const buttonEl =\n",
       "          document.querySelector('#df-57027017-4c21-4951-8307-03fa51ff1e8d button.colab-df-convert');\n",
       "        buttonEl.style.display =\n",
       "          google.colab.kernel.accessAllowed ? 'block' : 'none';\n",
       "\n",
       "        async function convertToInteractive(key) {\n",
       "          const element = document.querySelector('#df-57027017-4c21-4951-8307-03fa51ff1e8d');\n",
       "          const dataTable =\n",
       "            await google.colab.kernel.invokeFunction('convertToInteractive',\n",
       "                                                     [key], {});\n",
       "          if (!dataTable) return;\n",
       "\n",
       "          const docLinkHtml = 'Like what you see? Visit the ' +\n",
       "            '<a target=\"_blank\" href=https://colab.research.google.com/notebooks/data_table.ipynb>data table notebook</a>'\n",
       "            + ' to learn more about interactive tables.';\n",
       "          element.innerHTML = '';\n",
       "          dataTable['output_type'] = 'display_data';\n",
       "          await google.colab.output.renderOutput(dataTable, element);\n",
       "          const docLink = document.createElement('div');\n",
       "          docLink.innerHTML = docLinkHtml;\n",
       "          element.appendChild(docLink);\n",
       "        }\n",
       "      </script>\n",
       "    </div>\n",
       "  </div>\n",
       "  "
      ],
      "text/plain": [
       "   ID  shop_id  item_id  0  1  2  3  4  5  6  ...  24  25  26  27  28  29  30  \\\n",
       "0   0        5     5037  0  0  0  0  0  0  0  ...   2   0   0   0   1   1   1   \n",
       "1   1        5     5320  0  0  0  0  0  0  0  ...   0   0   0   0   0   0   0   \n",
       "2   2        5     5233  0  0  0  0  0  0  0  ...   0   0   0   0   3   2   0   \n",
       "\n",
       "   31  32  33  \n",
       "0   3   1   0  \n",
       "1   0   0   0  \n",
       "2   1   3   1  \n",
       "\n",
       "[3 rows x 37 columns]"
      ]
     },
     "execution_count": 9,
     "metadata": {},
     "output_type": "execute_result"
    }
   ],
   "source": [
    "# create crosstab so that \"item_cnt_day\" becomes vertical columns\n",
    "mpsd = mth_prd_series\n",
    "mth_prd_df = pd.crosstab([mpsd[\"shop_id\"],mpsd[\"item_id\"]],mpsd[\"date_block_num\"],values = mpsd[\"item_cnt_month\"], aggfunc = sum).fillna(0)\n",
    "mth_prd_df = mth_prd_df.astype(int)\n",
    "mth_prd_df.reset_index(drop=False,inplace=True)\n",
    "# merge on test to zoom in on test-relevant shop-items only, to reduce size of dataset to model\n",
    "item_wise_data = test.iloc[:,:3].merge(mth_prd_df,how = \"left\", on = [\"shop_id\",\"item_id\"] ).fillna(0)\n",
    "item_wise_data = item_wise_data.astype(int)\n",
    "print(item_wise_data.shape)\n",
    "item_wise_data.head(3)"
   ]
  },
  {
   "cell_type": "code",
   "execution_count": 10,
   "metadata": {
    "executionInfo": {
     "elapsed": 10,
     "status": "ok",
     "timestamp": 1662430474384,
     "user": {
      "displayName": "Pei Yiing Lim",
      "userId": "03784591105715420122"
     },
     "user_tz": -480
    },
    "id": "00CQ6u7kau2r"
   },
   "outputs": [],
   "source": [
    "# remove identifiers for input into model\n",
    "item_df = item_wise_data.iloc[:,3:]"
   ]
  },
  {
   "cell_type": "code",
   "execution_count": 59,
   "metadata": {
    "executionInfo": {
     "elapsed": 505,
     "status": "ok",
     "timestamp": 1662432513816,
     "user": {
      "displayName": "Pei Yiing Lim",
      "userId": "03784591105715420122"
     },
     "user_tz": -480
    },
    "id": "KPM-Awbmsn8v"
   },
   "outputs": [],
   "source": [
    "# having an additional step of clipping the input data PRIOR to modelling appears to provide better Kaggle scores\n",
    "item_df = item_df.clip(0,20)"
   ]
  },
  {
   "cell_type": "code",
   "execution_count": 61,
   "metadata": {
    "colab": {
     "base_uri": "https://localhost:8080/"
    },
    "executionInfo": {
     "elapsed": 764,
     "status": "ok",
     "timestamp": 1662432582905,
     "user": {
      "displayName": "Pei Yiing Lim",
      "userId": "03784591105715420122"
     },
     "user_tz": -480
    },
    "id": "xA5p7E-Tauva",
    "outputId": "0c181421-6556-452a-e360-f30022065820"
   },
   "outputs": [
    {
     "name": "stdout",
     "output_type": "stream",
     "text": [
      "(214200, 33, 1) (214200, 1) (214200, 33, 1)\n"
     ]
    }
   ],
   "source": [
    "# we will use the first 33 months (Jan'13-Sep'15) to predict item-wise sales in the last column (Oct'2015)\n",
    "X_train = np.expand_dims(item_df.values[:,:-1],axis = 2)\n",
    "y_train = item_df.values[:,-1:]\n",
    "\n",
    "# for the test set, we are trying to predict Nov'15 sales based on the preceeding 33 months (Feb'13-Oct'15) we keep all the columns execpt the first one\n",
    "X_test = np.expand_dims(item_df.values[:,1:],axis = 2)\n",
    "\n",
    "print(X_train.shape,y_train.shape,X_test.shape)"
   ]
  },
  {
   "cell_type": "markdown",
   "metadata": {
    "id": "YcCc-9Xeey7k"
   },
   "source": [
    "### 3.2 LSTM Model"
   ]
  },
  {
   "cell_type": "code",
   "execution_count": 62,
   "metadata": {
    "colab": {
     "base_uri": "https://localhost:8080/"
    },
    "executionInfo": {
     "elapsed": 28,
     "status": "ok",
     "timestamp": 1662432582906,
     "user": {
      "displayName": "Pei Yiing Lim",
      "userId": "03784591105715420122"
     },
     "user_tz": -480
    },
    "id": "9HJtPGbQausN",
    "outputId": "2829a5ac-3081-4aed-c872-cc399d142027"
   },
   "outputs": [
    {
     "name": "stderr",
     "output_type": "stream",
     "text": [
      "WARNING:tensorflow:Layer lstm_2 will not use cuDNN kernels since it doesn't meet the criteria. It will use a generic GPU kernel as fallback when running on GPU.\n"
     ]
    },
    {
     "name": "stdout",
     "output_type": "stream",
     "text": [
      "Model: \"sequential_4\"\n",
      "_________________________________________________________________\n",
      " Layer (type)                Output Shape              Param #   \n",
      "=================================================================\n",
      " lstm_2 (LSTM)               (None, 16)                1152      \n",
      "                                                                 \n",
      " dense_6 (Dense)             (None, 4)                 68        \n",
      "                                                                 \n",
      " dropout_2 (Dropout)         (None, 4)                 0         \n",
      "                                                                 \n",
      " dense_7 (Dense)             (None, 1)                 5         \n",
      "                                                                 \n",
      "=================================================================\n",
      "Total params: 1,225\n",
      "Trainable params: 1,225\n",
      "Non-trainable params: 0\n",
      "_________________________________________________________________\n"
     ]
    }
   ],
   "source": [
    "model_lstm = Sequential()\n",
    "model_lstm.add(InputLayer((33, 1)))\n",
    "model_lstm.add(LSTM(16,'relu'))\n",
    "model_lstm.add(Dense(4,'relu'))\n",
    "model_lstm.add(Dropout(0.5))\n",
    "model_lstm.add(Dense(1, 'linear'))\n",
    "\n",
    "model_lstm.summary()"
   ]
  },
  {
   "cell_type": "code",
   "execution_count": 63,
   "metadata": {
    "executionInfo": {
     "elapsed": 622,
     "status": "ok",
     "timestamp": 1662432593097,
     "user": {
      "displayName": "Pei Yiing Lim",
      "userId": "03784591105715420122"
     },
     "user_tz": -480
    },
    "id": "ib2fAfdLaupd"
   },
   "outputs": [],
   "source": [
    "cp1 = ModelCheckpoint('model_lstm/', save_best_only=True)\n",
    "model_lstm.compile(loss=MeanSquaredError(), optimizer=Adam(learning_rate=0.0001), metrics=[RootMeanSquaredError()])"
   ]
  },
  {
   "cell_type": "code",
   "execution_count": 64,
   "metadata": {
    "colab": {
     "base_uri": "https://localhost:8080/"
    },
    "executionInfo": {
     "elapsed": 563199,
     "status": "ok",
     "timestamp": 1662433162940,
     "user": {
      "displayName": "Pei Yiing Lim",
      "userId": "03784591105715420122"
     },
     "user_tz": -480
    },
    "id": "HV7ldJb6auly",
    "outputId": "aabb6315-0496-45bb-ee7d-7377eb64e55b"
   },
   "outputs": [
    {
     "name": "stdout",
     "output_type": "stream",
     "text": [
      "Epoch 1/100\n",
      "53/53 [==============================] - ETA: 0s - loss: 1.1063 - root_mean_squared_error: 1.0518"
     ]
    },
    {
     "name": "stderr",
     "output_type": "stream",
     "text": [
      "WARNING:absl:<keras.layers.recurrent.LSTMCell object at 0x7f9cc9690710> has the same name 'LSTMCell' as a built-in Keras object. Consider renaming <class 'keras.layers.recurrent.LSTMCell'> to avoid naming conflicts when loading with `tf.keras.models.load_model`. If renaming is not possible, pass the object in the `custom_objects` parameter of the load function.\n"
     ]
    },
    {
     "name": "stdout",
     "output_type": "stream",
     "text": [
      "53/53 [==============================] - 7s 105ms/step - loss: 1.1063 - root_mean_squared_error: 1.0518 - val_loss: 1.0416 - val_root_mean_squared_error: 1.0206\n",
      "Epoch 2/100\n",
      "53/53 [==============================] - ETA: 0s - loss: 1.0882 - root_mean_squared_error: 1.0432"
     ]
    },
    {
     "name": "stderr",
     "output_type": "stream",
     "text": [
      "WARNING:absl:<keras.layers.recurrent.LSTMCell object at 0x7f9cc9690710> has the same name 'LSTMCell' as a built-in Keras object. Consider renaming <class 'keras.layers.recurrent.LSTMCell'> to avoid naming conflicts when loading with `tf.keras.models.load_model`. If renaming is not possible, pass the object in the `custom_objects` parameter of the load function.\n"
     ]
    },
    {
     "name": "stdout",
     "output_type": "stream",
     "text": [
      "53/53 [==============================] - 38s 722ms/step - loss: 1.0882 - root_mean_squared_error: 1.0432 - val_loss: 1.0016 - val_root_mean_squared_error: 1.0008\n",
      "Epoch 3/100\n",
      "53/53 [==============================] - ETA: 0s - loss: 1.0633 - root_mean_squared_error: 1.0311"
     ]
    },
    {
     "name": "stderr",
     "output_type": "stream",
     "text": [
      "WARNING:absl:<keras.layers.recurrent.LSTMCell object at 0x7f9cc9690710> has the same name 'LSTMCell' as a built-in Keras object. Consider renaming <class 'keras.layers.recurrent.LSTMCell'> to avoid naming conflicts when loading with `tf.keras.models.load_model`. If renaming is not possible, pass the object in the `custom_objects` parameter of the load function.\n"
     ]
    },
    {
     "name": "stdout",
     "output_type": "stream",
     "text": [
      "53/53 [==============================] - 5s 102ms/step - loss: 1.0633 - root_mean_squared_error: 1.0311 - val_loss: 0.9925 - val_root_mean_squared_error: 0.9963\n",
      "Epoch 4/100\n",
      "53/53 [==============================] - ETA: 0s - loss: 1.0474 - root_mean_squared_error: 1.0234"
     ]
    },
    {
     "name": "stderr",
     "output_type": "stream",
     "text": [
      "WARNING:absl:<keras.layers.recurrent.LSTMCell object at 0x7f9cc9690710> has the same name 'LSTMCell' as a built-in Keras object. Consider renaming <class 'keras.layers.recurrent.LSTMCell'> to avoid naming conflicts when loading with `tf.keras.models.load_model`. If renaming is not possible, pass the object in the `custom_objects` parameter of the load function.\n"
     ]
    },
    {
     "name": "stdout",
     "output_type": "stream",
     "text": [
      "53/53 [==============================] - 5s 101ms/step - loss: 1.0474 - root_mean_squared_error: 1.0234 - val_loss: 0.9742 - val_root_mean_squared_error: 0.9870\n",
      "Epoch 5/100\n",
      "53/53 [==============================] - ETA: 0s - loss: 1.0558 - root_mean_squared_error: 1.0275"
     ]
    },
    {
     "name": "stderr",
     "output_type": "stream",
     "text": [
      "WARNING:absl:<keras.layers.recurrent.LSTMCell object at 0x7f9cc9690710> has the same name 'LSTMCell' as a built-in Keras object. Consider renaming <class 'keras.layers.recurrent.LSTMCell'> to avoid naming conflicts when loading with `tf.keras.models.load_model`. If renaming is not possible, pass the object in the `custom_objects` parameter of the load function.\n"
     ]
    },
    {
     "name": "stdout",
     "output_type": "stream",
     "text": [
      "53/53 [==============================] - 7s 135ms/step - loss: 1.0558 - root_mean_squared_error: 1.0275 - val_loss: 0.9729 - val_root_mean_squared_error: 0.9863\n",
      "Epoch 6/100\n",
      "53/53 [==============================] - ETA: 0s - loss: 1.0349 - root_mean_squared_error: 1.0173"
     ]
    },
    {
     "name": "stderr",
     "output_type": "stream",
     "text": [
      "WARNING:absl:<keras.layers.recurrent.LSTMCell object at 0x7f9cc9690710> has the same name 'LSTMCell' as a built-in Keras object. Consider renaming <class 'keras.layers.recurrent.LSTMCell'> to avoid naming conflicts when loading with `tf.keras.models.load_model`. If renaming is not possible, pass the object in the `custom_objects` parameter of the load function.\n"
     ]
    },
    {
     "name": "stdout",
     "output_type": "stream",
     "text": [
      "53/53 [==============================] - 7s 135ms/step - loss: 1.0349 - root_mean_squared_error: 1.0173 - val_loss: 0.9607 - val_root_mean_squared_error: 0.9802\n",
      "Epoch 7/100\n",
      "52/53 [============================>.] - ETA: 0s - loss: 1.0390 - root_mean_squared_error: 1.0193"
     ]
    },
    {
     "name": "stderr",
     "output_type": "stream",
     "text": [
      "WARNING:absl:<keras.layers.recurrent.LSTMCell object at 0x7f9cc9690710> has the same name 'LSTMCell' as a built-in Keras object. Consider renaming <class 'keras.layers.recurrent.LSTMCell'> to avoid naming conflicts when loading with `tf.keras.models.load_model`. If renaming is not possible, pass the object in the `custom_objects` parameter of the load function.\n"
     ]
    },
    {
     "name": "stdout",
     "output_type": "stream",
     "text": [
      "53/53 [==============================] - 6s 108ms/step - loss: 1.0378 - root_mean_squared_error: 1.0187 - val_loss: 0.9576 - val_root_mean_squared_error: 0.9786\n",
      "Epoch 8/100\n",
      "52/53 [============================>.] - ETA: 0s - loss: 0.9994 - root_mean_squared_error: 0.9997"
     ]
    },
    {
     "name": "stderr",
     "output_type": "stream",
     "text": [
      "WARNING:absl:<keras.layers.recurrent.LSTMCell object at 0x7f9cc9690710> has the same name 'LSTMCell' as a built-in Keras object. Consider renaming <class 'keras.layers.recurrent.LSTMCell'> to avoid naming conflicts when loading with `tf.keras.models.load_model`. If renaming is not possible, pass the object in the `custom_objects` parameter of the load function.\n"
     ]
    },
    {
     "name": "stdout",
     "output_type": "stream",
     "text": [
      "53/53 [==============================] - 5s 103ms/step - loss: 1.0004 - root_mean_squared_error: 1.0002 - val_loss: 0.9513 - val_root_mean_squared_error: 0.9754\n",
      "Epoch 9/100\n",
      "52/53 [============================>.] - ETA: 0s - loss: 1.0159 - root_mean_squared_error: 1.0079"
     ]
    },
    {
     "name": "stderr",
     "output_type": "stream",
     "text": [
      "WARNING:absl:<keras.layers.recurrent.LSTMCell object at 0x7f9cc9690710> has the same name 'LSTMCell' as a built-in Keras object. Consider renaming <class 'keras.layers.recurrent.LSTMCell'> to avoid naming conflicts when loading with `tf.keras.models.load_model`. If renaming is not possible, pass the object in the `custom_objects` parameter of the load function.\n"
     ]
    },
    {
     "name": "stdout",
     "output_type": "stream",
     "text": [
      "53/53 [==============================] - 6s 110ms/step - loss: 1.0182 - root_mean_squared_error: 1.0091 - val_loss: 0.9479 - val_root_mean_squared_error: 0.9736\n",
      "Epoch 10/100\n",
      "52/53 [============================>.] - ETA: 0s - loss: 1.0068 - root_mean_squared_error: 1.0034"
     ]
    },
    {
     "name": "stderr",
     "output_type": "stream",
     "text": [
      "WARNING:absl:<keras.layers.recurrent.LSTMCell object at 0x7f9cc9690710> has the same name 'LSTMCell' as a built-in Keras object. Consider renaming <class 'keras.layers.recurrent.LSTMCell'> to avoid naming conflicts when loading with `tf.keras.models.load_model`. If renaming is not possible, pass the object in the `custom_objects` parameter of the load function.\n"
     ]
    },
    {
     "name": "stdout",
     "output_type": "stream",
     "text": [
      "53/53 [==============================] - 6s 105ms/step - loss: 1.0051 - root_mean_squared_error: 1.0026 - val_loss: 0.9409 - val_root_mean_squared_error: 0.9700\n",
      "Epoch 11/100\n",
      "53/53 [==============================] - ETA: 0s - loss: 0.9959 - root_mean_squared_error: 0.9980"
     ]
    },
    {
     "name": "stderr",
     "output_type": "stream",
     "text": [
      "WARNING:absl:<keras.layers.recurrent.LSTMCell object at 0x7f9cc9690710> has the same name 'LSTMCell' as a built-in Keras object. Consider renaming <class 'keras.layers.recurrent.LSTMCell'> to avoid naming conflicts when loading with `tf.keras.models.load_model`. If renaming is not possible, pass the object in the `custom_objects` parameter of the load function.\n"
     ]
    },
    {
     "name": "stdout",
     "output_type": "stream",
     "text": [
      "53/53 [==============================] - 6s 108ms/step - loss: 0.9959 - root_mean_squared_error: 0.9980 - val_loss: 0.9361 - val_root_mean_squared_error: 0.9675\n",
      "Epoch 12/100\n",
      "53/53 [==============================] - ETA: 0s - loss: 0.9932 - root_mean_squared_error: 0.9966"
     ]
    },
    {
     "name": "stderr",
     "output_type": "stream",
     "text": [
      "WARNING:absl:<keras.layers.recurrent.LSTMCell object at 0x7f9cc9690710> has the same name 'LSTMCell' as a built-in Keras object. Consider renaming <class 'keras.layers.recurrent.LSTMCell'> to avoid naming conflicts when loading with `tf.keras.models.load_model`. If renaming is not possible, pass the object in the `custom_objects` parameter of the load function.\n"
     ]
    },
    {
     "name": "stdout",
     "output_type": "stream",
     "text": [
      "53/53 [==============================] - 6s 115ms/step - loss: 0.9932 - root_mean_squared_error: 0.9966 - val_loss: 0.9296 - val_root_mean_squared_error: 0.9641\n",
      "Epoch 13/100\n",
      "52/53 [============================>.] - ETA: 0s - loss: 0.9987 - root_mean_squared_error: 0.9993"
     ]
    },
    {
     "name": "stderr",
     "output_type": "stream",
     "text": [
      "WARNING:absl:<keras.layers.recurrent.LSTMCell object at 0x7f9cc9690710> has the same name 'LSTMCell' as a built-in Keras object. Consider renaming <class 'keras.layers.recurrent.LSTMCell'> to avoid naming conflicts when loading with `tf.keras.models.load_model`. If renaming is not possible, pass the object in the `custom_objects` parameter of the load function.\n"
     ]
    },
    {
     "name": "stdout",
     "output_type": "stream",
     "text": [
      "53/53 [==============================] - 5s 104ms/step - loss: 0.9984 - root_mean_squared_error: 0.9992 - val_loss: 0.9243 - val_root_mean_squared_error: 0.9614\n",
      "Epoch 14/100\n",
      "53/53 [==============================] - ETA: 0s - loss: 0.9777 - root_mean_squared_error: 0.9888"
     ]
    },
    {
     "name": "stderr",
     "output_type": "stream",
     "text": [
      "WARNING:absl:<keras.layers.recurrent.LSTMCell object at 0x7f9cc9690710> has the same name 'LSTMCell' as a built-in Keras object. Consider renaming <class 'keras.layers.recurrent.LSTMCell'> to avoid naming conflicts when loading with `tf.keras.models.load_model`. If renaming is not possible, pass the object in the `custom_objects` parameter of the load function.\n"
     ]
    },
    {
     "name": "stdout",
     "output_type": "stream",
     "text": [
      "53/53 [==============================] - 6s 106ms/step - loss: 0.9777 - root_mean_squared_error: 0.9888 - val_loss: 0.9199 - val_root_mean_squared_error: 0.9591\n",
      "Epoch 15/100\n",
      "53/53 [==============================] - ETA: 0s - loss: 0.9842 - root_mean_squared_error: 0.9921"
     ]
    },
    {
     "name": "stderr",
     "output_type": "stream",
     "text": [
      "WARNING:absl:<keras.layers.recurrent.LSTMCell object at 0x7f9cc9690710> has the same name 'LSTMCell' as a built-in Keras object. Consider renaming <class 'keras.layers.recurrent.LSTMCell'> to avoid naming conflicts when loading with `tf.keras.models.load_model`. If renaming is not possible, pass the object in the `custom_objects` parameter of the load function.\n"
     ]
    },
    {
     "name": "stdout",
     "output_type": "stream",
     "text": [
      "53/53 [==============================] - 6s 108ms/step - loss: 0.9842 - root_mean_squared_error: 0.9921 - val_loss: 0.9171 - val_root_mean_squared_error: 0.9577\n",
      "Epoch 16/100\n",
      "53/53 [==============================] - ETA: 0s - loss: 0.9816 - root_mean_squared_error: 0.9908"
     ]
    },
    {
     "name": "stderr",
     "output_type": "stream",
     "text": [
      "WARNING:absl:<keras.layers.recurrent.LSTMCell object at 0x7f9cc9690710> has the same name 'LSTMCell' as a built-in Keras object. Consider renaming <class 'keras.layers.recurrent.LSTMCell'> to avoid naming conflicts when loading with `tf.keras.models.load_model`. If renaming is not possible, pass the object in the `custom_objects` parameter of the load function.\n"
     ]
    },
    {
     "name": "stdout",
     "output_type": "stream",
     "text": [
      "53/53 [==============================] - 5s 104ms/step - loss: 0.9816 - root_mean_squared_error: 0.9908 - val_loss: 0.9099 - val_root_mean_squared_error: 0.9539\n",
      "Epoch 17/100\n",
      "53/53 [==============================] - ETA: 0s - loss: 0.9730 - root_mean_squared_error: 0.9864"
     ]
    },
    {
     "name": "stderr",
     "output_type": "stream",
     "text": [
      "WARNING:absl:<keras.layers.recurrent.LSTMCell object at 0x7f9cc9690710> has the same name 'LSTMCell' as a built-in Keras object. Consider renaming <class 'keras.layers.recurrent.LSTMCell'> to avoid naming conflicts when loading with `tf.keras.models.load_model`. If renaming is not possible, pass the object in the `custom_objects` parameter of the load function.\n"
     ]
    },
    {
     "name": "stdout",
     "output_type": "stream",
     "text": [
      "53/53 [==============================] - 5s 105ms/step - loss: 0.9730 - root_mean_squared_error: 0.9864 - val_loss: 0.9068 - val_root_mean_squared_error: 0.9523\n",
      "Epoch 18/100\n",
      "53/53 [==============================] - ETA: 0s - loss: 0.9739 - root_mean_squared_error: 0.9869"
     ]
    },
    {
     "name": "stderr",
     "output_type": "stream",
     "text": [
      "WARNING:absl:<keras.layers.recurrent.LSTMCell object at 0x7f9cc9690710> has the same name 'LSTMCell' as a built-in Keras object. Consider renaming <class 'keras.layers.recurrent.LSTMCell'> to avoid naming conflicts when loading with `tf.keras.models.load_model`. If renaming is not possible, pass the object in the `custom_objects` parameter of the load function.\n"
     ]
    },
    {
     "name": "stdout",
     "output_type": "stream",
     "text": [
      "53/53 [==============================] - 6s 104ms/step - loss: 0.9739 - root_mean_squared_error: 0.9869 - val_loss: 0.9006 - val_root_mean_squared_error: 0.9490\n",
      "Epoch 19/100\n",
      "53/53 [==============================] - ETA: 0s - loss: 0.9668 - root_mean_squared_error: 0.9833"
     ]
    },
    {
     "name": "stderr",
     "output_type": "stream",
     "text": [
      "WARNING:absl:<keras.layers.recurrent.LSTMCell object at 0x7f9cc9690710> has the same name 'LSTMCell' as a built-in Keras object. Consider renaming <class 'keras.layers.recurrent.LSTMCell'> to avoid naming conflicts when loading with `tf.keras.models.load_model`. If renaming is not possible, pass the object in the `custom_objects` parameter of the load function.\n"
     ]
    },
    {
     "name": "stdout",
     "output_type": "stream",
     "text": [
      "53/53 [==============================] - 6s 107ms/step - loss: 0.9668 - root_mean_squared_error: 0.9833 - val_loss: 0.8968 - val_root_mean_squared_error: 0.9470\n",
      "Epoch 20/100\n",
      "53/53 [==============================] - ETA: 0s - loss: 0.9695 - root_mean_squared_error: 0.9846"
     ]
    },
    {
     "name": "stderr",
     "output_type": "stream",
     "text": [
      "WARNING:absl:<keras.layers.recurrent.LSTMCell object at 0x7f9cc9690710> has the same name 'LSTMCell' as a built-in Keras object. Consider renaming <class 'keras.layers.recurrent.LSTMCell'> to avoid naming conflicts when loading with `tf.keras.models.load_model`. If renaming is not possible, pass the object in the `custom_objects` parameter of the load function.\n"
     ]
    },
    {
     "name": "stdout",
     "output_type": "stream",
     "text": [
      "53/53 [==============================] - 6s 107ms/step - loss: 0.9695 - root_mean_squared_error: 0.9846 - val_loss: 0.8926 - val_root_mean_squared_error: 0.9448\n",
      "Epoch 21/100\n",
      "52/53 [============================>.] - ETA: 0s - loss: 0.9644 - root_mean_squared_error: 0.9820"
     ]
    },
    {
     "name": "stderr",
     "output_type": "stream",
     "text": [
      "WARNING:absl:<keras.layers.recurrent.LSTMCell object at 0x7f9cc9690710> has the same name 'LSTMCell' as a built-in Keras object. Consider renaming <class 'keras.layers.recurrent.LSTMCell'> to avoid naming conflicts when loading with `tf.keras.models.load_model`. If renaming is not possible, pass the object in the `custom_objects` parameter of the load function.\n"
     ]
    },
    {
     "name": "stdout",
     "output_type": "stream",
     "text": [
      "53/53 [==============================] - 5s 103ms/step - loss: 0.9629 - root_mean_squared_error: 0.9813 - val_loss: 0.8876 - val_root_mean_squared_error: 0.9421\n",
      "Epoch 22/100\n",
      "52/53 [============================>.] - ETA: 0s - loss: 0.9448 - root_mean_squared_error: 0.9720"
     ]
    },
    {
     "name": "stderr",
     "output_type": "stream",
     "text": [
      "WARNING:absl:<keras.layers.recurrent.LSTMCell object at 0x7f9cc9690710> has the same name 'LSTMCell' as a built-in Keras object. Consider renaming <class 'keras.layers.recurrent.LSTMCell'> to avoid naming conflicts when loading with `tf.keras.models.load_model`. If renaming is not possible, pass the object in the `custom_objects` parameter of the load function.\n"
     ]
    },
    {
     "name": "stdout",
     "output_type": "stream",
     "text": [
      "53/53 [==============================] - 6s 108ms/step - loss: 0.9455 - root_mean_squared_error: 0.9724 - val_loss: 0.8853 - val_root_mean_squared_error: 0.9409\n",
      "Epoch 23/100\n",
      "53/53 [==============================] - ETA: 0s - loss: 0.9623 - root_mean_squared_error: 0.9810"
     ]
    },
    {
     "name": "stderr",
     "output_type": "stream",
     "text": [
      "WARNING:absl:<keras.layers.recurrent.LSTMCell object at 0x7f9cc9690710> has the same name 'LSTMCell' as a built-in Keras object. Consider renaming <class 'keras.layers.recurrent.LSTMCell'> to avoid naming conflicts when loading with `tf.keras.models.load_model`. If renaming is not possible, pass the object in the `custom_objects` parameter of the load function.\n"
     ]
    },
    {
     "name": "stdout",
     "output_type": "stream",
     "text": [
      "53/53 [==============================] - 5s 100ms/step - loss: 0.9623 - root_mean_squared_error: 0.9810 - val_loss: 0.8809 - val_root_mean_squared_error: 0.9386\n",
      "Epoch 24/100\n",
      "52/53 [============================>.] - ETA: 0s - loss: 0.9446 - root_mean_squared_error: 0.9719"
     ]
    },
    {
     "name": "stderr",
     "output_type": "stream",
     "text": [
      "WARNING:absl:<keras.layers.recurrent.LSTMCell object at 0x7f9cc9690710> has the same name 'LSTMCell' as a built-in Keras object. Consider renaming <class 'keras.layers.recurrent.LSTMCell'> to avoid naming conflicts when loading with `tf.keras.models.load_model`. If renaming is not possible, pass the object in the `custom_objects` parameter of the load function.\n"
     ]
    },
    {
     "name": "stdout",
     "output_type": "stream",
     "text": [
      "53/53 [==============================] - 5s 101ms/step - loss: 0.9450 - root_mean_squared_error: 0.9721 - val_loss: 0.8795 - val_root_mean_squared_error: 0.9378\n",
      "Epoch 25/100\n",
      "53/53 [==============================] - ETA: 0s - loss: 0.9405 - root_mean_squared_error: 0.9698"
     ]
    },
    {
     "name": "stderr",
     "output_type": "stream",
     "text": [
      "WARNING:absl:<keras.layers.recurrent.LSTMCell object at 0x7f9cc9690710> has the same name 'LSTMCell' as a built-in Keras object. Consider renaming <class 'keras.layers.recurrent.LSTMCell'> to avoid naming conflicts when loading with `tf.keras.models.load_model`. If renaming is not possible, pass the object in the `custom_objects` parameter of the load function.\n"
     ]
    },
    {
     "name": "stdout",
     "output_type": "stream",
     "text": [
      "53/53 [==============================] - 6s 107ms/step - loss: 0.9405 - root_mean_squared_error: 0.9698 - val_loss: 0.8729 - val_root_mean_squared_error: 0.9343\n",
      "Epoch 26/100\n",
      "53/53 [==============================] - ETA: 0s - loss: 0.9306 - root_mean_squared_error: 0.9647"
     ]
    },
    {
     "name": "stderr",
     "output_type": "stream",
     "text": [
      "WARNING:absl:<keras.layers.recurrent.LSTMCell object at 0x7f9cc9690710> has the same name 'LSTMCell' as a built-in Keras object. Consider renaming <class 'keras.layers.recurrent.LSTMCell'> to avoid naming conflicts when loading with `tf.keras.models.load_model`. If renaming is not possible, pass the object in the `custom_objects` parameter of the load function.\n"
     ]
    },
    {
     "name": "stdout",
     "output_type": "stream",
     "text": [
      "53/53 [==============================] - 7s 138ms/step - loss: 0.9306 - root_mean_squared_error: 0.9647 - val_loss: 0.8678 - val_root_mean_squared_error: 0.9315\n",
      "Epoch 27/100\n",
      "53/53 [==============================] - ETA: 0s - loss: 0.9241 - root_mean_squared_error: 0.9613"
     ]
    },
    {
     "name": "stderr",
     "output_type": "stream",
     "text": [
      "WARNING:absl:<keras.layers.recurrent.LSTMCell object at 0x7f9cc9690710> has the same name 'LSTMCell' as a built-in Keras object. Consider renaming <class 'keras.layers.recurrent.LSTMCell'> to avoid naming conflicts when loading with `tf.keras.models.load_model`. If renaming is not possible, pass the object in the `custom_objects` parameter of the load function.\n"
     ]
    },
    {
     "name": "stdout",
     "output_type": "stream",
     "text": [
      "53/53 [==============================] - 5s 104ms/step - loss: 0.9241 - root_mean_squared_error: 0.9613 - val_loss: 0.8541 - val_root_mean_squared_error: 0.9242\n",
      "Epoch 28/100\n",
      "53/53 [==============================] - ETA: 0s - loss: 0.9262 - root_mean_squared_error: 0.9624"
     ]
    },
    {
     "name": "stderr",
     "output_type": "stream",
     "text": [
      "WARNING:absl:<keras.layers.recurrent.LSTMCell object at 0x7f9cc9690710> has the same name 'LSTMCell' as a built-in Keras object. Consider renaming <class 'keras.layers.recurrent.LSTMCell'> to avoid naming conflicts when loading with `tf.keras.models.load_model`. If renaming is not possible, pass the object in the `custom_objects` parameter of the load function.\n"
     ]
    },
    {
     "name": "stdout",
     "output_type": "stream",
     "text": [
      "53/53 [==============================] - 6s 109ms/step - loss: 0.9262 - root_mean_squared_error: 0.9624 - val_loss: 0.8512 - val_root_mean_squared_error: 0.9226\n",
      "Epoch 29/100\n",
      "53/53 [==============================] - 4s 69ms/step - loss: 0.9183 - root_mean_squared_error: 0.9583 - val_loss: 0.8542 - val_root_mean_squared_error: 0.9242\n",
      "Epoch 30/100\n",
      "53/53 [==============================] - ETA: 0s - loss: 0.9091 - root_mean_squared_error: 0.9534"
     ]
    },
    {
     "name": "stderr",
     "output_type": "stream",
     "text": [
      "WARNING:absl:<keras.layers.recurrent.LSTMCell object at 0x7f9cc9690710> has the same name 'LSTMCell' as a built-in Keras object. Consider renaming <class 'keras.layers.recurrent.LSTMCell'> to avoid naming conflicts when loading with `tf.keras.models.load_model`. If renaming is not possible, pass the object in the `custom_objects` parameter of the load function.\n"
     ]
    },
    {
     "name": "stdout",
     "output_type": "stream",
     "text": [
      "53/53 [==============================] - 5s 100ms/step - loss: 0.9091 - root_mean_squared_error: 0.9534 - val_loss: 0.8489 - val_root_mean_squared_error: 0.9213\n",
      "Epoch 31/100\n",
      "52/53 [============================>.] - ETA: 0s - loss: 0.9252 - root_mean_squared_error: 0.9619"
     ]
    },
    {
     "name": "stderr",
     "output_type": "stream",
     "text": [
      "WARNING:absl:<keras.layers.recurrent.LSTMCell object at 0x7f9cc9690710> has the same name 'LSTMCell' as a built-in Keras object. Consider renaming <class 'keras.layers.recurrent.LSTMCell'> to avoid naming conflicts when loading with `tf.keras.models.load_model`. If renaming is not possible, pass the object in the `custom_objects` parameter of the load function.\n"
     ]
    },
    {
     "name": "stdout",
     "output_type": "stream",
     "text": [
      "53/53 [==============================] - 5s 101ms/step - loss: 0.9264 - root_mean_squared_error: 0.9625 - val_loss: 0.8450 - val_root_mean_squared_error: 0.9193\n",
      "Epoch 32/100\n",
      "53/53 [==============================] - 4s 67ms/step - loss: 0.9132 - root_mean_squared_error: 0.9556 - val_loss: 0.8456 - val_root_mean_squared_error: 0.9195\n",
      "Epoch 33/100\n",
      "52/53 [============================>.] - ETA: 0s - loss: 0.9072 - root_mean_squared_error: 0.9525"
     ]
    },
    {
     "name": "stderr",
     "output_type": "stream",
     "text": [
      "WARNING:absl:<keras.layers.recurrent.LSTMCell object at 0x7f9cc9690710> has the same name 'LSTMCell' as a built-in Keras object. Consider renaming <class 'keras.layers.recurrent.LSTMCell'> to avoid naming conflicts when loading with `tf.keras.models.load_model`. If renaming is not possible, pass the object in the `custom_objects` parameter of the load function.\n"
     ]
    },
    {
     "name": "stdout",
     "output_type": "stream",
     "text": [
      "53/53 [==============================] - 5s 98ms/step - loss: 0.9072 - root_mean_squared_error: 0.9525 - val_loss: 0.8423 - val_root_mean_squared_error: 0.9178\n",
      "Epoch 34/100\n",
      "53/53 [==============================] - 4s 73ms/step - loss: 0.9114 - root_mean_squared_error: 0.9547 - val_loss: 0.8425 - val_root_mean_squared_error: 0.9179\n",
      "Epoch 35/100\n",
      "52/53 [============================>.] - ETA: 0s - loss: 0.9109 - root_mean_squared_error: 0.9544"
     ]
    },
    {
     "name": "stderr",
     "output_type": "stream",
     "text": [
      "WARNING:absl:<keras.layers.recurrent.LSTMCell object at 0x7f9cc9690710> has the same name 'LSTMCell' as a built-in Keras object. Consider renaming <class 'keras.layers.recurrent.LSTMCell'> to avoid naming conflicts when loading with `tf.keras.models.load_model`. If renaming is not possible, pass the object in the `custom_objects` parameter of the load function.\n"
     ]
    },
    {
     "name": "stdout",
     "output_type": "stream",
     "text": [
      "53/53 [==============================] - 6s 108ms/step - loss: 0.9113 - root_mean_squared_error: 0.9546 - val_loss: 0.8351 - val_root_mean_squared_error: 0.9138\n",
      "Epoch 36/100\n",
      "52/53 [============================>.] - ETA: 0s - loss: 0.9086 - root_mean_squared_error: 0.9532"
     ]
    },
    {
     "name": "stderr",
     "output_type": "stream",
     "text": [
      "WARNING:absl:<keras.layers.recurrent.LSTMCell object at 0x7f9cc9690710> has the same name 'LSTMCell' as a built-in Keras object. Consider renaming <class 'keras.layers.recurrent.LSTMCell'> to avoid naming conflicts when loading with `tf.keras.models.load_model`. If renaming is not possible, pass the object in the `custom_objects` parameter of the load function.\n"
     ]
    },
    {
     "name": "stdout",
     "output_type": "stream",
     "text": [
      "53/53 [==============================] - 5s 104ms/step - loss: 0.9084 - root_mean_squared_error: 0.9531 - val_loss: 0.8306 - val_root_mean_squared_error: 0.9114\n",
      "Epoch 37/100\n",
      "53/53 [==============================] - ETA: 0s - loss: 0.9032 - root_mean_squared_error: 0.9503"
     ]
    },
    {
     "name": "stderr",
     "output_type": "stream",
     "text": [
      "WARNING:absl:<keras.layers.recurrent.LSTMCell object at 0x7f9cc9690710> has the same name 'LSTMCell' as a built-in Keras object. Consider renaming <class 'keras.layers.recurrent.LSTMCell'> to avoid naming conflicts when loading with `tf.keras.models.load_model`. If renaming is not possible, pass the object in the `custom_objects` parameter of the load function.\n"
     ]
    },
    {
     "name": "stdout",
     "output_type": "stream",
     "text": [
      "53/53 [==============================] - 5s 104ms/step - loss: 0.9032 - root_mean_squared_error: 0.9503 - val_loss: 0.8220 - val_root_mean_squared_error: 0.9066\n",
      "Epoch 38/100\n",
      "53/53 [==============================] - ETA: 0s - loss: 0.8896 - root_mean_squared_error: 0.9432"
     ]
    },
    {
     "name": "stderr",
     "output_type": "stream",
     "text": [
      "WARNING:absl:<keras.layers.recurrent.LSTMCell object at 0x7f9cc9690710> has the same name 'LSTMCell' as a built-in Keras object. Consider renaming <class 'keras.layers.recurrent.LSTMCell'> to avoid naming conflicts when loading with `tf.keras.models.load_model`. If renaming is not possible, pass the object in the `custom_objects` parameter of the load function.\n"
     ]
    },
    {
     "name": "stdout",
     "output_type": "stream",
     "text": [
      "53/53 [==============================] - 6s 110ms/step - loss: 0.8896 - root_mean_squared_error: 0.9432 - val_loss: 0.8203 - val_root_mean_squared_error: 0.9057\n",
      "Epoch 39/100\n",
      "53/53 [==============================] - ETA: 0s - loss: 0.9023 - root_mean_squared_error: 0.9499"
     ]
    },
    {
     "name": "stderr",
     "output_type": "stream",
     "text": [
      "WARNING:absl:<keras.layers.recurrent.LSTMCell object at 0x7f9cc9690710> has the same name 'LSTMCell' as a built-in Keras object. Consider renaming <class 'keras.layers.recurrent.LSTMCell'> to avoid naming conflicts when loading with `tf.keras.models.load_model`. If renaming is not possible, pass the object in the `custom_objects` parameter of the load function.\n"
     ]
    },
    {
     "name": "stdout",
     "output_type": "stream",
     "text": [
      "53/53 [==============================] - 5s 104ms/step - loss: 0.9023 - root_mean_squared_error: 0.9499 - val_loss: 0.8144 - val_root_mean_squared_error: 0.9025\n",
      "Epoch 40/100\n",
      "53/53 [==============================] - 4s 68ms/step - loss: 0.8878 - root_mean_squared_error: 0.9422 - val_loss: 0.8157 - val_root_mean_squared_error: 0.9031\n",
      "Epoch 41/100\n",
      "53/53 [==============================] - 4s 69ms/step - loss: 0.8982 - root_mean_squared_error: 0.9478 - val_loss: 0.8193 - val_root_mean_squared_error: 0.9051\n",
      "Epoch 42/100\n",
      "53/53 [==============================] - 4s 71ms/step - loss: 0.8985 - root_mean_squared_error: 0.9479 - val_loss: 0.8171 - val_root_mean_squared_error: 0.9039\n",
      "Epoch 43/100\n",
      "53/53 [==============================] - 4s 74ms/step - loss: 0.8911 - root_mean_squared_error: 0.9440 - val_loss: 0.8158 - val_root_mean_squared_error: 0.9032\n",
      "Epoch 44/100\n",
      "52/53 [============================>.] - ETA: 0s - loss: 0.8909 - root_mean_squared_error: 0.9439"
     ]
    },
    {
     "name": "stderr",
     "output_type": "stream",
     "text": [
      "WARNING:absl:<keras.layers.recurrent.LSTMCell object at 0x7f9cc9690710> has the same name 'LSTMCell' as a built-in Keras object. Consider renaming <class 'keras.layers.recurrent.LSTMCell'> to avoid naming conflicts when loading with `tf.keras.models.load_model`. If renaming is not possible, pass the object in the `custom_objects` parameter of the load function.\n"
     ]
    },
    {
     "name": "stdout",
     "output_type": "stream",
     "text": [
      "53/53 [==============================] - 5s 103ms/step - loss: 0.8916 - root_mean_squared_error: 0.9442 - val_loss: 0.8140 - val_root_mean_squared_error: 0.9022\n",
      "Epoch 45/100\n",
      "53/53 [==============================] - 4s 67ms/step - loss: 0.8787 - root_mean_squared_error: 0.9374 - val_loss: 0.8194 - val_root_mean_squared_error: 0.9052\n",
      "Epoch 46/100\n",
      "52/53 [============================>.] - ETA: 0s - loss: 0.8692 - root_mean_squared_error: 0.9323"
     ]
    },
    {
     "name": "stderr",
     "output_type": "stream",
     "text": [
      "WARNING:absl:<keras.layers.recurrent.LSTMCell object at 0x7f9cc9690710> has the same name 'LSTMCell' as a built-in Keras object. Consider renaming <class 'keras.layers.recurrent.LSTMCell'> to avoid naming conflicts when loading with `tf.keras.models.load_model`. If renaming is not possible, pass the object in the `custom_objects` parameter of the load function.\n"
     ]
    },
    {
     "name": "stdout",
     "output_type": "stream",
     "text": [
      "53/53 [==============================] - 6s 108ms/step - loss: 0.8722 - root_mean_squared_error: 0.9339 - val_loss: 0.8128 - val_root_mean_squared_error: 0.9016\n",
      "Epoch 47/100\n",
      "53/53 [==============================] - 4s 74ms/step - loss: 0.8896 - root_mean_squared_error: 0.9432 - val_loss: 0.8142 - val_root_mean_squared_error: 0.9023\n",
      "Epoch 48/100\n",
      "53/53 [==============================] - 4s 69ms/step - loss: 0.8924 - root_mean_squared_error: 0.9447 - val_loss: 0.8138 - val_root_mean_squared_error: 0.9021\n",
      "Epoch 49/100\n",
      "53/53 [==============================] - 4s 69ms/step - loss: 0.8862 - root_mean_squared_error: 0.9414 - val_loss: 0.8161 - val_root_mean_squared_error: 0.9034\n",
      "Epoch 50/100\n",
      "53/53 [==============================] - 4s 69ms/step - loss: 0.8891 - root_mean_squared_error: 0.9429 - val_loss: 0.8137 - val_root_mean_squared_error: 0.9021\n",
      "Epoch 51/100\n",
      "53/53 [==============================] - 6s 108ms/step - loss: 0.9007 - root_mean_squared_error: 0.9490 - val_loss: 0.8134 - val_root_mean_squared_error: 0.9019\n",
      "Epoch 52/100\n",
      "53/53 [==============================] - ETA: 0s - loss: 0.8861 - root_mean_squared_error: 0.9413"
     ]
    },
    {
     "name": "stderr",
     "output_type": "stream",
     "text": [
      "WARNING:absl:<keras.layers.recurrent.LSTMCell object at 0x7f9cc9690710> has the same name 'LSTMCell' as a built-in Keras object. Consider renaming <class 'keras.layers.recurrent.LSTMCell'> to avoid naming conflicts when loading with `tf.keras.models.load_model`. If renaming is not possible, pass the object in the `custom_objects` parameter of the load function.\n"
     ]
    },
    {
     "name": "stdout",
     "output_type": "stream",
     "text": [
      "53/53 [==============================] - 5s 101ms/step - loss: 0.8861 - root_mean_squared_error: 0.9413 - val_loss: 0.8116 - val_root_mean_squared_error: 0.9009\n",
      "Epoch 53/100\n",
      "53/53 [==============================] - 4s 74ms/step - loss: 0.8876 - root_mean_squared_error: 0.9421 - val_loss: 0.8135 - val_root_mean_squared_error: 0.9020\n",
      "Epoch 54/100\n",
      "53/53 [==============================] - 4s 70ms/step - loss: 0.8814 - root_mean_squared_error: 0.9388 - val_loss: 0.8148 - val_root_mean_squared_error: 0.9027\n",
      "Epoch 55/100\n",
      "53/53 [==============================] - 4s 74ms/step - loss: 0.8830 - root_mean_squared_error: 0.9397 - val_loss: 0.8141 - val_root_mean_squared_error: 0.9023\n",
      "Epoch 56/100\n",
      "53/53 [==============================] - ETA: 0s - loss: 0.8911 - root_mean_squared_error: 0.9440"
     ]
    },
    {
     "name": "stderr",
     "output_type": "stream",
     "text": [
      "WARNING:absl:<keras.layers.recurrent.LSTMCell object at 0x7f9cc9690710> has the same name 'LSTMCell' as a built-in Keras object. Consider renaming <class 'keras.layers.recurrent.LSTMCell'> to avoid naming conflicts when loading with `tf.keras.models.load_model`. If renaming is not possible, pass the object in the `custom_objects` parameter of the load function.\n"
     ]
    },
    {
     "name": "stdout",
     "output_type": "stream",
     "text": [
      "53/53 [==============================] - 5s 100ms/step - loss: 0.8911 - root_mean_squared_error: 0.9440 - val_loss: 0.8113 - val_root_mean_squared_error: 0.9007\n",
      "Epoch 57/100\n",
      "53/53 [==============================] - ETA: 0s - loss: 0.8822 - root_mean_squared_error: 0.9392"
     ]
    },
    {
     "name": "stderr",
     "output_type": "stream",
     "text": [
      "WARNING:absl:<keras.layers.recurrent.LSTMCell object at 0x7f9cc9690710> has the same name 'LSTMCell' as a built-in Keras object. Consider renaming <class 'keras.layers.recurrent.LSTMCell'> to avoid naming conflicts when loading with `tf.keras.models.load_model`. If renaming is not possible, pass the object in the `custom_objects` parameter of the load function.\n"
     ]
    },
    {
     "name": "stdout",
     "output_type": "stream",
     "text": [
      "53/53 [==============================] - 6s 107ms/step - loss: 0.8822 - root_mean_squared_error: 0.9392 - val_loss: 0.8085 - val_root_mean_squared_error: 0.8991\n",
      "Epoch 58/100\n",
      "53/53 [==============================] - 4s 69ms/step - loss: 0.8812 - root_mean_squared_error: 0.9387 - val_loss: 0.8085 - val_root_mean_squared_error: 0.8992\n",
      "Epoch 59/100\n",
      "53/53 [==============================] - 4s 72ms/step - loss: 0.8891 - root_mean_squared_error: 0.9429 - val_loss: 0.8122 - val_root_mean_squared_error: 0.9012\n",
      "Epoch 60/100\n",
      "53/53 [==============================] - 4s 69ms/step - loss: 0.8890 - root_mean_squared_error: 0.9429 - val_loss: 0.8091 - val_root_mean_squared_error: 0.8995\n",
      "Epoch 61/100\n",
      "53/53 [==============================] - 4s 69ms/step - loss: 0.8853 - root_mean_squared_error: 0.9409 - val_loss: 0.8087 - val_root_mean_squared_error: 0.8993\n",
      "Epoch 62/100\n",
      "53/53 [==============================] - 4s 72ms/step - loss: 0.8889 - root_mean_squared_error: 0.9428 - val_loss: 0.8126 - val_root_mean_squared_error: 0.9015\n",
      "Epoch 63/100\n",
      "53/53 [==============================] - 4s 69ms/step - loss: 0.8958 - root_mean_squared_error: 0.9465 - val_loss: 0.8163 - val_root_mean_squared_error: 0.9035\n",
      "Epoch 64/100\n",
      "53/53 [==============================] - 4s 70ms/step - loss: 0.8859 - root_mean_squared_error: 0.9412 - val_loss: 0.8096 - val_root_mean_squared_error: 0.8998\n",
      "Epoch 65/100\n",
      "53/53 [==============================] - ETA: 0s - loss: 0.8781 - root_mean_squared_error: 0.9371"
     ]
    },
    {
     "name": "stderr",
     "output_type": "stream",
     "text": [
      "WARNING:absl:<keras.layers.recurrent.LSTMCell object at 0x7f9cc9690710> has the same name 'LSTMCell' as a built-in Keras object. Consider renaming <class 'keras.layers.recurrent.LSTMCell'> to avoid naming conflicts when loading with `tf.keras.models.load_model`. If renaming is not possible, pass the object in the `custom_objects` parameter of the load function.\n"
     ]
    },
    {
     "name": "stdout",
     "output_type": "stream",
     "text": [
      "53/53 [==============================] - 6s 106ms/step - loss: 0.8781 - root_mean_squared_error: 0.9371 - val_loss: 0.8080 - val_root_mean_squared_error: 0.8989\n",
      "Epoch 66/100\n",
      "53/53 [==============================] - ETA: 0s - loss: 0.8818 - root_mean_squared_error: 0.9391"
     ]
    },
    {
     "name": "stderr",
     "output_type": "stream",
     "text": [
      "WARNING:absl:<keras.layers.recurrent.LSTMCell object at 0x7f9cc9690710> has the same name 'LSTMCell' as a built-in Keras object. Consider renaming <class 'keras.layers.recurrent.LSTMCell'> to avoid naming conflicts when loading with `tf.keras.models.load_model`. If renaming is not possible, pass the object in the `custom_objects` parameter of the load function.\n"
     ]
    },
    {
     "name": "stdout",
     "output_type": "stream",
     "text": [
      "53/53 [==============================] - 5s 102ms/step - loss: 0.8818 - root_mean_squared_error: 0.9391 - val_loss: 0.8067 - val_root_mean_squared_error: 0.8982\n",
      "Epoch 67/100\n",
      "53/53 [==============================] - 6s 107ms/step - loss: 0.8760 - root_mean_squared_error: 0.9359 - val_loss: 0.8089 - val_root_mean_squared_error: 0.8994\n",
      "Epoch 68/100\n",
      "53/53 [==============================] - 4s 69ms/step - loss: 0.8789 - root_mean_squared_error: 0.9375 - val_loss: 0.8104 - val_root_mean_squared_error: 0.9002\n",
      "Epoch 69/100\n",
      "53/53 [==============================] - ETA: 0s - loss: 0.8851 - root_mean_squared_error: 0.9408"
     ]
    },
    {
     "name": "stderr",
     "output_type": "stream",
     "text": [
      "WARNING:absl:<keras.layers.recurrent.LSTMCell object at 0x7f9cc9690710> has the same name 'LSTMCell' as a built-in Keras object. Consider renaming <class 'keras.layers.recurrent.LSTMCell'> to avoid naming conflicts when loading with `tf.keras.models.load_model`. If renaming is not possible, pass the object in the `custom_objects` parameter of the load function.\n"
     ]
    },
    {
     "name": "stdout",
     "output_type": "stream",
     "text": [
      "53/53 [==============================] - 5s 103ms/step - loss: 0.8851 - root_mean_squared_error: 0.9408 - val_loss: 0.8066 - val_root_mean_squared_error: 0.8981\n",
      "Epoch 70/100\n",
      "53/53 [==============================] - ETA: 0s - loss: 0.8773 - root_mean_squared_error: 0.9366"
     ]
    },
    {
     "name": "stderr",
     "output_type": "stream",
     "text": [
      "WARNING:absl:<keras.layers.recurrent.LSTMCell object at 0x7f9cc9690710> has the same name 'LSTMCell' as a built-in Keras object. Consider renaming <class 'keras.layers.recurrent.LSTMCell'> to avoid naming conflicts when loading with `tf.keras.models.load_model`. If renaming is not possible, pass the object in the `custom_objects` parameter of the load function.\n"
     ]
    },
    {
     "name": "stdout",
     "output_type": "stream",
     "text": [
      "53/53 [==============================] - 6s 105ms/step - loss: 0.8773 - root_mean_squared_error: 0.9366 - val_loss: 0.8057 - val_root_mean_squared_error: 0.8976\n",
      "Epoch 71/100\n",
      "53/53 [==============================] - 4s 72ms/step - loss: 0.8679 - root_mean_squared_error: 0.9316 - val_loss: 0.8066 - val_root_mean_squared_error: 0.8981\n",
      "Epoch 72/100\n",
      "53/53 [==============================] - ETA: 0s - loss: 0.8762 - root_mean_squared_error: 0.9361"
     ]
    },
    {
     "name": "stderr",
     "output_type": "stream",
     "text": [
      "WARNING:absl:<keras.layers.recurrent.LSTMCell object at 0x7f9cc9690710> has the same name 'LSTMCell' as a built-in Keras object. Consider renaming <class 'keras.layers.recurrent.LSTMCell'> to avoid naming conflicts when loading with `tf.keras.models.load_model`. If renaming is not possible, pass the object in the `custom_objects` parameter of the load function.\n"
     ]
    },
    {
     "name": "stdout",
     "output_type": "stream",
     "text": [
      "53/53 [==============================] - 5s 101ms/step - loss: 0.8762 - root_mean_squared_error: 0.9361 - val_loss: 0.8047 - val_root_mean_squared_error: 0.8970\n",
      "Epoch 73/100\n",
      "53/53 [==============================] - 4s 68ms/step - loss: 0.8827 - root_mean_squared_error: 0.9395 - val_loss: 0.8074 - val_root_mean_squared_error: 0.8985\n",
      "Epoch 74/100\n",
      "53/53 [==============================] - 4s 69ms/step - loss: 0.8771 - root_mean_squared_error: 0.9365 - val_loss: 0.8069 - val_root_mean_squared_error: 0.8983\n",
      "Epoch 75/100\n",
      "53/53 [==============================] - 4s 72ms/step - loss: 0.8871 - root_mean_squared_error: 0.9419 - val_loss: 0.8082 - val_root_mean_squared_error: 0.8990\n",
      "Epoch 76/100\n",
      "53/53 [==============================] - 4s 73ms/step - loss: 0.8807 - root_mean_squared_error: 0.9385 - val_loss: 0.8062 - val_root_mean_squared_error: 0.8979\n",
      "Epoch 77/100\n",
      "53/53 [==============================] - 4s 71ms/step - loss: 0.8717 - root_mean_squared_error: 0.9336 - val_loss: 0.8053 - val_root_mean_squared_error: 0.8974\n",
      "Epoch 78/100\n",
      "53/53 [==============================] - 5s 97ms/step - loss: 0.8699 - root_mean_squared_error: 0.9327 - val_loss: 0.8084 - val_root_mean_squared_error: 0.8991\n",
      "Epoch 79/100\n",
      "53/53 [==============================] - 4s 73ms/step - loss: 0.8812 - root_mean_squared_error: 0.9387 - val_loss: 0.8059 - val_root_mean_squared_error: 0.8977\n",
      "Epoch 80/100\n",
      "53/53 [==============================] - ETA: 0s - loss: 0.8759 - root_mean_squared_error: 0.9359"
     ]
    },
    {
     "name": "stderr",
     "output_type": "stream",
     "text": [
      "WARNING:absl:<keras.layers.recurrent.LSTMCell object at 0x7f9cc9690710> has the same name 'LSTMCell' as a built-in Keras object. Consider renaming <class 'keras.layers.recurrent.LSTMCell'> to avoid naming conflicts when loading with `tf.keras.models.load_model`. If renaming is not possible, pass the object in the `custom_objects` parameter of the load function.\n"
     ]
    },
    {
     "name": "stdout",
     "output_type": "stream",
     "text": [
      "53/53 [==============================] - 6s 107ms/step - loss: 0.8759 - root_mean_squared_error: 0.9359 - val_loss: 0.8040 - val_root_mean_squared_error: 0.8967\n",
      "Epoch 81/100\n",
      "53/53 [==============================] - 4s 68ms/step - loss: 0.8733 - root_mean_squared_error: 0.9345 - val_loss: 0.8054 - val_root_mean_squared_error: 0.8974\n",
      "Epoch 82/100\n",
      "53/53 [==============================] - ETA: 0s - loss: 0.8648 - root_mean_squared_error: 0.9300"
     ]
    },
    {
     "name": "stderr",
     "output_type": "stream",
     "text": [
      "WARNING:absl:<keras.layers.recurrent.LSTMCell object at 0x7f9cc9690710> has the same name 'LSTMCell' as a built-in Keras object. Consider renaming <class 'keras.layers.recurrent.LSTMCell'> to avoid naming conflicts when loading with `tf.keras.models.load_model`. If renaming is not possible, pass the object in the `custom_objects` parameter of the load function.\n"
     ]
    },
    {
     "name": "stdout",
     "output_type": "stream",
     "text": [
      "53/53 [==============================] - 6s 111ms/step - loss: 0.8648 - root_mean_squared_error: 0.9300 - val_loss: 0.8029 - val_root_mean_squared_error: 0.8960\n",
      "Epoch 83/100\n",
      "53/53 [==============================] - 4s 68ms/step - loss: 0.8684 - root_mean_squared_error: 0.9319 - val_loss: 0.8057 - val_root_mean_squared_error: 0.8976\n",
      "Epoch 84/100\n",
      "53/53 [==============================] - 4s 67ms/step - loss: 0.8828 - root_mean_squared_error: 0.9396 - val_loss: 0.8066 - val_root_mean_squared_error: 0.8981\n",
      "Epoch 85/100\n",
      "53/53 [==============================] - 4s 68ms/step - loss: 0.8666 - root_mean_squared_error: 0.9309 - val_loss: 0.8032 - val_root_mean_squared_error: 0.8962\n",
      "Epoch 86/100\n",
      "53/53 [==============================] - 4s 74ms/step - loss: 0.8924 - root_mean_squared_error: 0.9447 - val_loss: 0.8042 - val_root_mean_squared_error: 0.8968\n",
      "Epoch 87/100\n",
      "53/53 [==============================] - 4s 75ms/step - loss: 0.8736 - root_mean_squared_error: 0.9347 - val_loss: 0.8034 - val_root_mean_squared_error: 0.8963\n",
      "Epoch 88/100\n",
      "53/53 [==============================] - 4s 73ms/step - loss: 0.8718 - root_mean_squared_error: 0.9337 - val_loss: 0.8039 - val_root_mean_squared_error: 0.8966\n",
      "Epoch 89/100\n",
      "53/53 [==============================] - 4s 69ms/step - loss: 0.8839 - root_mean_squared_error: 0.9401 - val_loss: 0.8051 - val_root_mean_squared_error: 0.8973\n",
      "Epoch 90/100\n",
      "53/53 [==============================] - 4s 72ms/step - loss: 0.8711 - root_mean_squared_error: 0.9333 - val_loss: 0.8042 - val_root_mean_squared_error: 0.8968\n",
      "Epoch 91/100\n",
      "53/53 [==============================] - 4s 69ms/step - loss: 0.8740 - root_mean_squared_error: 0.9349 - val_loss: 0.8052 - val_root_mean_squared_error: 0.8973\n",
      "Epoch 92/100\n",
      "53/53 [==============================] - 4s 70ms/step - loss: 0.8677 - root_mean_squared_error: 0.9315 - val_loss: 0.8031 - val_root_mean_squared_error: 0.8961\n",
      "Epoch 93/100\n",
      "53/53 [==============================] - 4s 75ms/step - loss: 0.8782 - root_mean_squared_error: 0.9371 - val_loss: 0.8036 - val_root_mean_squared_error: 0.8965\n",
      "Epoch 94/100\n",
      "52/53 [============================>.] - ETA: 0s - loss: 0.8687 - root_mean_squared_error: 0.9320"
     ]
    },
    {
     "name": "stderr",
     "output_type": "stream",
     "text": [
      "WARNING:absl:<keras.layers.recurrent.LSTMCell object at 0x7f9cc9690710> has the same name 'LSTMCell' as a built-in Keras object. Consider renaming <class 'keras.layers.recurrent.LSTMCell'> to avoid naming conflicts when loading with `tf.keras.models.load_model`. If renaming is not possible, pass the object in the `custom_objects` parameter of the load function.\n"
     ]
    },
    {
     "name": "stdout",
     "output_type": "stream",
     "text": [
      "53/53 [==============================] - 5s 102ms/step - loss: 0.8694 - root_mean_squared_error: 0.9324 - val_loss: 0.8024 - val_root_mean_squared_error: 0.8958\n",
      "Epoch 95/100\n",
      "53/53 [==============================] - 4s 73ms/step - loss: 0.8769 - root_mean_squared_error: 0.9365 - val_loss: 0.8030 - val_root_mean_squared_error: 0.8961\n",
      "Epoch 96/100\n",
      "52/53 [============================>.] - ETA: 0s - loss: 0.8832 - root_mean_squared_error: 0.9398"
     ]
    },
    {
     "name": "stderr",
     "output_type": "stream",
     "text": [
      "WARNING:absl:<keras.layers.recurrent.LSTMCell object at 0x7f9cc9690710> has the same name 'LSTMCell' as a built-in Keras object. Consider renaming <class 'keras.layers.recurrent.LSTMCell'> to avoid naming conflicts when loading with `tf.keras.models.load_model`. If renaming is not possible, pass the object in the `custom_objects` parameter of the load function.\n"
     ]
    },
    {
     "name": "stdout",
     "output_type": "stream",
     "text": [
      "53/53 [==============================] - 5s 103ms/step - loss: 0.8841 - root_mean_squared_error: 0.9403 - val_loss: 0.8020 - val_root_mean_squared_error: 0.8955\n",
      "Epoch 97/100\n",
      "53/53 [==============================] - ETA: 0s - loss: 0.8621 - root_mean_squared_error: 0.9285"
     ]
    },
    {
     "name": "stderr",
     "output_type": "stream",
     "text": [
      "WARNING:absl:<keras.layers.recurrent.LSTMCell object at 0x7f9cc9690710> has the same name 'LSTMCell' as a built-in Keras object. Consider renaming <class 'keras.layers.recurrent.LSTMCell'> to avoid naming conflicts when loading with `tf.keras.models.load_model`. If renaming is not possible, pass the object in the `custom_objects` parameter of the load function.\n"
     ]
    },
    {
     "name": "stdout",
     "output_type": "stream",
     "text": [
      "53/53 [==============================] - 6s 105ms/step - loss: 0.8621 - root_mean_squared_error: 0.9285 - val_loss: 0.7997 - val_root_mean_squared_error: 0.8943\n",
      "Epoch 98/100\n",
      "53/53 [==============================] - 4s 73ms/step - loss: 0.8716 - root_mean_squared_error: 0.9336 - val_loss: 0.8025 - val_root_mean_squared_error: 0.8958\n",
      "Epoch 99/100\n",
      "53/53 [==============================] - 4s 71ms/step - loss: 0.8685 - root_mean_squared_error: 0.9320 - val_loss: 0.8019 - val_root_mean_squared_error: 0.8955\n",
      "Epoch 100/100\n",
      "53/53 [==============================] - 4s 70ms/step - loss: 0.8669 - root_mean_squared_error: 0.9311 - val_loss: 0.8014 - val_root_mean_squared_error: 0.8952\n"
     ]
    }
   ],
   "source": [
    "lstm_history = model_lstm.fit(X_train, y_train, validation_data=(X_train, y_train), epochs=100, batch_size = 4096, callbacks=[cp1])"
   ]
  },
  {
   "cell_type": "code",
   "execution_count": 65,
   "metadata": {
    "colab": {
     "base_uri": "https://localhost:8080/",
     "height": 265
    },
    "executionInfo": {
     "elapsed": 1238,
     "status": "ok",
     "timestamp": 1662433195405,
     "user": {
      "displayName": "Pei Yiing Lim",
      "userId": "03784591105715420122"
     },
     "user_tz": -480
    },
    "id": "_JaS3tMKghwk",
    "outputId": "fe1c079e-61b6-40d4-b71b-cb2d1501901c"
   },
   "outputs": [
    {
     "data": {
      "image/png": "[encoded data removed]",
      "text/plain": [
       "<Figure size 432x288 with 1 Axes>"
      ]
     },
     "metadata": {
      "needs_background": "light"
     },
     "output_type": "display_data"
    }
   ],
   "source": [
    "plt.plot(lstm_history.history['loss'], label='Train loss')\n",
    "plt.plot(lstm_history.history['val_loss'], label='Test loss')\n",
    "plt.legend();"
   ]
  },
  {
   "cell_type": "code",
   "execution_count": 66,
   "metadata": {
    "colab": {
     "base_uri": "https://localhost:8080/",
     "height": 374
    },
    "executionInfo": {
     "elapsed": 35457,
     "status": "ok",
     "timestamp": 1662433245907,
     "user": {
      "displayName": "Pei Yiing Lim",
      "userId": "03784591105715420122"
     },
     "user_tz": -480
    },
    "id": "nDyPZ91qghsm",
    "outputId": "5cf20db2-912d-49e2-f917-60174c7020cd"
   },
   "outputs": [
    {
     "name": "stderr",
     "output_type": "stream",
     "text": [
      "WARNING:tensorflow:Layer lstm_2 will not use cuDNN kernels since it doesn't meet the criteria. It will use a generic GPU kernel as fallback when running on GPU.\n"
     ]
    },
    {
     "name": "stdout",
     "output_type": "stream",
     "text": [
      "Sum of Nov'15 predictions = 0    55646.195312\n",
      "dtype: float32\n"
     ]
    },
    {
     "data": {
      "text/html": [
       "\n",
       "  <div id=\"df-1c7c84bd-2288-4076-a58d-732c5882a47c\">\n",
       "    <div class=\"colab-df-container\">\n",
       "      <div>\n",
       "<style scoped>\n",
       "    .dataframe tbody tr th:only-of-type {\n",
       "        vertical-align: middle;\n",
       "    }\n",
       "\n",
       "    .dataframe tbody tr th {\n",
       "        vertical-align: top;\n",
       "    }\n",
       "\n",
       "    .dataframe thead th {\n",
       "        text-align: right;\n",
       "    }\n",
       "</style>\n",
       "<table border=\"1\" class=\"dataframe\">\n",
       "  <thead>\n",
       "    <tr style=\"text-align: right;\">\n",
       "      <th></th>\n",
       "      <th>0</th>\n",
       "    </tr>\n",
       "  </thead>\n",
       "  <tbody>\n",
       "    <tr>\n",
       "      <th>count</th>\n",
       "      <td>214200.000000</td>\n",
       "    </tr>\n",
       "    <tr>\n",
       "      <th>mean</th>\n",
       "      <td>0.259786</td>\n",
       "    </tr>\n",
       "    <tr>\n",
       "      <th>std</th>\n",
       "      <td>0.508686</td>\n",
       "    </tr>\n",
       "    <tr>\n",
       "      <th>min</th>\n",
       "      <td>0.150870</td>\n",
       "    </tr>\n",
       "    <tr>\n",
       "      <th>25%</th>\n",
       "      <td>0.150870</td>\n",
       "    </tr>\n",
       "    <tr>\n",
       "      <th>50%</th>\n",
       "      <td>0.150870</td>\n",
       "    </tr>\n",
       "    <tr>\n",
       "      <th>75%</th>\n",
       "      <td>0.182648</td>\n",
       "    </tr>\n",
       "    <tr>\n",
       "      <th>max</th>\n",
       "      <td>19.535673</td>\n",
       "    </tr>\n",
       "  </tbody>\n",
       "</table>\n",
       "</div>\n",
       "      <button class=\"colab-df-convert\" onclick=\"convertToInteractive('df-1c7c84bd-2288-4076-a58d-732c5882a47c')\"\n",
       "              title=\"Convert this dataframe to an interactive table.\"\n",
       "              style=\"display:none;\">\n",
       "        \n",
       "  <svg xmlns=\"http://www.w3.org/2000/svg\" height=\"24px\"viewBox=\"0 0 24 24\"\n",
       "       width=\"24px\">\n",
       "    <path d=\"M0 0h24v24H0V0z\" fill=\"none\"/>\n",
       "    <path d=\"M18.56 5.44l.94 2.06.94-2.06 2.06-.94-2.06-.94-.94-2.06-.94 2.06-2.06.94zm-11 1L8.5 8.5l.94-2.06 2.06-.94-2.06-.94L8.5 2.5l-.94 2.06-2.06.94zm10 10l.94 2.06.94-2.06 2.06-.94-2.06-.94-.94-2.06-.94 2.06-2.06.94z\"/><path d=\"M17.41 7.96l-1.37-1.37c-.4-.4-.92-.59-1.43-.59-.52 0-1.04.2-1.43.59L10.3 9.45l-7.72 7.72c-.78.78-.78 2.05 0 2.83L4 21.41c.39.39.9.59 1.41.59.51 0 1.02-.2 1.41-.59l7.78-7.78 2.81-2.81c.8-.78.8-2.07 0-2.86zM5.41 20L4 18.59l7.72-7.72 1.47 1.35L5.41 20z\"/>\n",
       "  </svg>\n",
       "      </button>\n",
       "      \n",
       "  <style>\n",
       "    .colab-df-container {\n",
       "      display:flex;\n",
       "      flex-wrap:wrap;\n",
       "      gap: 12px;\n",
       "    }\n",
       "\n",
       "    .colab-df-convert {\n",
       "      background-color: #E8F0FE;\n",
       "      border: none;\n",
       "      border-radius: 50%;\n",
       "      cursor: pointer;\n",
       "      display: none;\n",
       "      fill: #1967D2;\n",
       "      height: 32px;\n",
       "      padding: 0 0 0 0;\n",
       "      width: 32px;\n",
       "    }\n",
       "\n",
       "    .colab-df-convert:hover {\n",
       "      background-color: #E2EBFA;\n",
       "      box-shadow: 0px 1px 2px rgba(60, 64, 67, 0.3), 0px 1px 3px 1px rgba(60, 64, 67, 0.15);\n",
       "      fill: #174EA6;\n",
       "    }\n",
       "\n",
       "    [theme=dark] .colab-df-convert {\n",
       "      background-color: #3B4455;\n",
       "      fill: #D2E3FC;\n",
       "    }\n",
       "\n",
       "    [theme=dark] .colab-df-convert:hover {\n",
       "      background-color: #434B5C;\n",
       "      box-shadow: 0px 1px 3px 1px rgba(0, 0, 0, 0.15);\n",
       "      filter: drop-shadow(0px 1px 2px rgba(0, 0, 0, 0.3));\n",
       "      fill: #FFFFFF;\n",
       "    }\n",
       "  </style>\n",
       "\n",
       "      <script>\n",
       "        const buttonEl =\n",
       "          document.querySelector('#df-1c7c84bd-2288-4076-a58d-732c5882a47c button.colab-df-convert');\n",
       "        buttonEl.style.display =\n",
       "          google.colab.kernel.accessAllowed ? 'block' : 'none';\n",
       "\n",
       "        async function convertToInteractive(key) {\n",
       "          const element = document.querySelector('#df-1c7c84bd-2288-4076-a58d-732c5882a47c');\n",
       "          const dataTable =\n",
       "            await google.colab.kernel.invokeFunction('convertToInteractive',\n",
       "                                                     [key], {});\n",
       "          if (!dataTable) return;\n",
       "\n",
       "          const docLinkHtml = 'Like what you see? Visit the ' +\n",
       "            '<a target=\"_blank\" href=https://colab.research.google.com/notebooks/data_table.ipynb>data table notebook</a>'\n",
       "            + ' to learn more about interactive tables.';\n",
       "          element.innerHTML = '';\n",
       "          dataTable['output_type'] = 'display_data';\n",
       "          await google.colab.output.renderOutput(dataTable, element);\n",
       "          const docLink = document.createElement('div');\n",
       "          docLink.innerHTML = docLinkHtml;\n",
       "          element.appendChild(docLink);\n",
       "        }\n",
       "      </script>\n",
       "    </div>\n",
       "  </div>\n",
       "  "
      ],
      "text/plain": [
       "                   0\n",
       "count  214200.000000\n",
       "mean        0.259786\n",
       "std         0.508686\n",
       "min         0.150870\n",
       "25%         0.150870\n",
       "50%         0.150870\n",
       "75%         0.182648\n",
       "max        19.535673"
      ]
     },
     "execution_count": 66,
     "metadata": {},
     "output_type": "execute_result"
    }
   ],
   "source": [
    "model_lstm = load_model('model_lstm/')\n",
    "preds_lstm = model_lstm.predict(X_test)\n",
    "lstm_results = pd.DataFrame(preds_lstm.flatten().flatten())\n",
    "lstm_results = lstm_results.clip(0,20) #limit range as recommended by Kaggle\n",
    "print(f\"Sum of Nov'15 predictions = {lstm_results.sum()}\")\n",
    "lstm_results.describe()"
   ]
  },
  {
   "cell_type": "code",
   "execution_count": 67,
   "metadata": {
    "colab": {
     "base_uri": "https://localhost:8080/",
     "height": 238
    },
    "executionInfo": {
     "elapsed": 8,
     "status": "ok",
     "timestamp": 1662433278658,
     "user": {
      "displayName": "Pei Yiing Lim",
      "userId": "03784591105715420122"
     },
     "user_tz": -480
    },
    "id": "sG8kSesbghoy",
    "outputId": "77b2c08f-b00c-44fa-a5dd-63658d74b9e7"
   },
   "outputs": [
    {
     "data": {
      "text/html": [
       "\n",
       "  <div id=\"df-da5aa5ad-ac42-4751-baed-c105a7ff9ec7\">\n",
       "    <div class=\"colab-df-container\">\n",
       "      <div>\n",
       "<style scoped>\n",
       "    .dataframe tbody tr th:only-of-type {\n",
       "        vertical-align: middle;\n",
       "    }\n",
       "\n",
       "    .dataframe tbody tr th {\n",
       "        vertical-align: top;\n",
       "    }\n",
       "\n",
       "    .dataframe thead th {\n",
       "        text-align: right;\n",
       "    }\n",
       "</style>\n",
       "<table border=\"1\" class=\"dataframe\">\n",
       "  <thead>\n",
       "    <tr style=\"text-align: right;\">\n",
       "      <th></th>\n",
       "      <th>item_cnt_month</th>\n",
       "    </tr>\n",
       "    <tr>\n",
       "      <th>ID</th>\n",
       "      <th></th>\n",
       "    </tr>\n",
       "  </thead>\n",
       "  <tbody>\n",
       "    <tr>\n",
       "      <th>0</th>\n",
       "      <td>0</td>\n",
       "    </tr>\n",
       "    <tr>\n",
       "      <th>1</th>\n",
       "      <td>0</td>\n",
       "    </tr>\n",
       "    <tr>\n",
       "      <th>2</th>\n",
       "      <td>1</td>\n",
       "    </tr>\n",
       "    <tr>\n",
       "      <th>3</th>\n",
       "      <td>0</td>\n",
       "    </tr>\n",
       "    <tr>\n",
       "      <th>4</th>\n",
       "      <td>0</td>\n",
       "    </tr>\n",
       "  </tbody>\n",
       "</table>\n",
       "</div>\n",
       "      <button class=\"colab-df-convert\" onclick=\"convertToInteractive('df-da5aa5ad-ac42-4751-baed-c105a7ff9ec7')\"\n",
       "              title=\"Convert this dataframe to an interactive table.\"\n",
       "              style=\"display:none;\">\n",
       "        \n",
       "  <svg xmlns=\"http://www.w3.org/2000/svg\" height=\"24px\"viewBox=\"0 0 24 24\"\n",
       "       width=\"24px\">\n",
       "    <path d=\"M0 0h24v24H0V0z\" fill=\"none\"/>\n",
       "    <path d=\"M18.56 5.44l.94 2.06.94-2.06 2.06-.94-2.06-.94-.94-2.06-.94 2.06-2.06.94zm-11 1L8.5 8.5l.94-2.06 2.06-.94-2.06-.94L8.5 2.5l-.94 2.06-2.06.94zm10 10l.94 2.06.94-2.06 2.06-.94-2.06-.94-.94-2.06-.94 2.06-2.06.94z\"/><path d=\"M17.41 7.96l-1.37-1.37c-.4-.4-.92-.59-1.43-.59-.52 0-1.04.2-1.43.59L10.3 9.45l-7.72 7.72c-.78.78-.78 2.05 0 2.83L4 21.41c.39.39.9.59 1.41.59.51 0 1.02-.2 1.41-.59l7.78-7.78 2.81-2.81c.8-.78.8-2.07 0-2.86zM5.41 20L4 18.59l7.72-7.72 1.47 1.35L5.41 20z\"/>\n",
       "  </svg>\n",
       "      </button>\n",
       "      \n",
       "  <style>\n",
       "    .colab-df-container {\n",
       "      display:flex;\n",
       "      flex-wrap:wrap;\n",
       "      gap: 12px;\n",
       "    }\n",
       "\n",
       "    .colab-df-convert {\n",
       "      background-color: #E8F0FE;\n",
       "      border: none;\n",
       "      border-radius: 50%;\n",
       "      cursor: pointer;\n",
       "      display: none;\n",
       "      fill: #1967D2;\n",
       "      height: 32px;\n",
       "      padding: 0 0 0 0;\n",
       "      width: 32px;\n",
       "    }\n",
       "\n",
       "    .colab-df-convert:hover {\n",
       "      background-color: #E2EBFA;\n",
       "      box-shadow: 0px 1px 2px rgba(60, 64, 67, 0.3), 0px 1px 3px 1px rgba(60, 64, 67, 0.15);\n",
       "      fill: #174EA6;\n",
       "    }\n",
       "\n",
       "    [theme=dark] .colab-df-convert {\n",
       "      background-color: #3B4455;\n",
       "      fill: #D2E3FC;\n",
       "    }\n",
       "\n",
       "    [theme=dark] .colab-df-convert:hover {\n",
       "      background-color: #434B5C;\n",
       "      box-shadow: 0px 1px 3px 1px rgba(0, 0, 0, 0.15);\n",
       "      filter: drop-shadow(0px 1px 2px rgba(0, 0, 0, 0.3));\n",
       "      fill: #FFFFFF;\n",
       "    }\n",
       "  </style>\n",
       "\n",
       "      <script>\n",
       "        const buttonEl =\n",
       "          document.querySelector('#df-da5aa5ad-ac42-4751-baed-c105a7ff9ec7 button.colab-df-convert');\n",
       "        buttonEl.style.display =\n",
       "          google.colab.kernel.accessAllowed ? 'block' : 'none';\n",
       "\n",
       "        async function convertToInteractive(key) {\n",
       "          const element = document.querySelector('#df-da5aa5ad-ac42-4751-baed-c105a7ff9ec7');\n",
       "          const dataTable =\n",
       "            await google.colab.kernel.invokeFunction('convertToInteractive',\n",
       "                                                     [key], {});\n",
       "          if (!dataTable) return;\n",
       "\n",
       "          const docLinkHtml = 'Like what you see? Visit the ' +\n",
       "            '<a target=\"_blank\" href=https://colab.research.google.com/notebooks/data_table.ipynb>data table notebook</a>'\n",
       "            + ' to learn more about interactive tables.';\n",
       "          element.innerHTML = '';\n",
       "          dataTable['output_type'] = 'display_data';\n",
       "          await google.colab.output.renderOutput(dataTable, element);\n",
       "          const docLink = document.createElement('div');\n",
       "          docLink.innerHTML = docLinkHtml;\n",
       "          element.appendChild(docLink);\n",
       "        }\n",
       "      </script>\n",
       "    </div>\n",
       "  </div>\n",
       "  "
      ],
      "text/plain": [
       "    item_cnt_month\n",
       "ID                \n",
       "0                0\n",
       "1                0\n",
       "2                1\n",
       "3                0\n",
       "4                0"
      ]
     },
     "execution_count": 67,
     "metadata": {},
     "output_type": "execute_result"
    }
   ],
   "source": [
    "submission_lstm = submission.merge(lstm_results, left_index = True, right_index = True, how = \"left\").fillna(0)\n",
    "submission_lstm_f = pd.DataFrame(submission_lstm.iloc[:,-1])\n",
    "submission_lstm_f.columns = [\"item_cnt_month\"]\n",
    "submission_lstm_f[\"item_cnt_month\"] = submission_lstm_f[\"item_cnt_month\"].map(lambda x:int(round(x,0)))\n",
    "submission_lstm_f.head()"
   ]
  },
  {
   "cell_type": "code",
   "execution_count": 68,
   "metadata": {
    "colab": {
     "base_uri": "https://localhost:8080/",
     "height": 336
    },
    "executionInfo": {
     "elapsed": 530,
     "status": "ok",
     "timestamp": 1662433282548,
     "user": {
      "displayName": "Pei Yiing Lim",
      "userId": "03784591105715420122"
     },
     "user_tz": -480
    },
    "id": "WYbmPZstqO7u",
    "outputId": "1ee8904f-c8ab-45dd-aa65-783140fd317f"
   },
   "outputs": [
    {
     "name": "stdout",
     "output_type": "stream",
     "text": [
      "Sum of Nov'15 predictions = item_cnt_month    22154\n",
      "dtype: int64\n"
     ]
    },
    {
     "data": {
      "text/html": [
       "\n",
       "  <div id=\"df-67790263-4731-49a6-9021-7b795995db00\">\n",
       "    <div class=\"colab-df-container\">\n",
       "      <div>\n",
       "<style scoped>\n",
       "    .dataframe tbody tr th:only-of-type {\n",
       "        vertical-align: middle;\n",
       "    }\n",
       "\n",
       "    .dataframe tbody tr th {\n",
       "        vertical-align: top;\n",
       "    }\n",
       "\n",
       "    .dataframe thead th {\n",
       "        text-align: right;\n",
       "    }\n",
       "</style>\n",
       "<table border=\"1\" class=\"dataframe\">\n",
       "  <thead>\n",
       "    <tr style=\"text-align: right;\">\n",
       "      <th></th>\n",
       "      <th>item_cnt_month</th>\n",
       "    </tr>\n",
       "  </thead>\n",
       "  <tbody>\n",
       "    <tr>\n",
       "      <th>count</th>\n",
       "      <td>214200.000000</td>\n",
       "    </tr>\n",
       "    <tr>\n",
       "      <th>mean</th>\n",
       "      <td>0.103427</td>\n",
       "    </tr>\n",
       "    <tr>\n",
       "      <th>std</th>\n",
       "      <td>0.551253</td>\n",
       "    </tr>\n",
       "    <tr>\n",
       "      <th>min</th>\n",
       "      <td>0.000000</td>\n",
       "    </tr>\n",
       "    <tr>\n",
       "      <th>25%</th>\n",
       "      <td>0.000000</td>\n",
       "    </tr>\n",
       "    <tr>\n",
       "      <th>50%</th>\n",
       "      <td>0.000000</td>\n",
       "    </tr>\n",
       "    <tr>\n",
       "      <th>75%</th>\n",
       "      <td>0.000000</td>\n",
       "    </tr>\n",
       "    <tr>\n",
       "      <th>max</th>\n",
       "      <td>20.000000</td>\n",
       "    </tr>\n",
       "  </tbody>\n",
       "</table>\n",
       "</div>\n",
       "      <button class=\"colab-df-convert\" onclick=\"convertToInteractive('df-67790263-4731-49a6-9021-7b795995db00')\"\n",
       "              title=\"Convert this dataframe to an interactive table.\"\n",
       "              style=\"display:none;\">\n",
       "        \n",
       "  <svg xmlns=\"http://www.w3.org/2000/svg\" height=\"24px\"viewBox=\"0 0 24 24\"\n",
       "       width=\"24px\">\n",
       "    <path d=\"M0 0h24v24H0V0z\" fill=\"none\"/>\n",
       "    <path d=\"M18.56 5.44l.94 2.06.94-2.06 2.06-.94-2.06-.94-.94-2.06-.94 2.06-2.06.94zm-11 1L8.5 8.5l.94-2.06 2.06-.94-2.06-.94L8.5 2.5l-.94 2.06-2.06.94zm10 10l.94 2.06.94-2.06 2.06-.94-2.06-.94-.94-2.06-.94 2.06-2.06.94z\"/><path d=\"M17.41 7.96l-1.37-1.37c-.4-.4-.92-.59-1.43-.59-.52 0-1.04.2-1.43.59L10.3 9.45l-7.72 7.72c-.78.78-.78 2.05 0 2.83L4 21.41c.39.39.9.59 1.41.59.51 0 1.02-.2 1.41-.59l7.78-7.78 2.81-2.81c.8-.78.8-2.07 0-2.86zM5.41 20L4 18.59l7.72-7.72 1.47 1.35L5.41 20z\"/>\n",
       "  </svg>\n",
       "      </button>\n",
       "      \n",
       "  <style>\n",
       "    .colab-df-container {\n",
       "      display:flex;\n",
       "      flex-wrap:wrap;\n",
       "      gap: 12px;\n",
       "    }\n",
       "\n",
       "    .colab-df-convert {\n",
       "      background-color: #E8F0FE;\n",
       "      border: none;\n",
       "      border-radius: 50%;\n",
       "      cursor: pointer;\n",
       "      display: none;\n",
       "      fill: #1967D2;\n",
       "      height: 32px;\n",
       "      padding: 0 0 0 0;\n",
       "      width: 32px;\n",
       "    }\n",
       "\n",
       "    .colab-df-convert:hover {\n",
       "      background-color: #E2EBFA;\n",
       "      box-shadow: 0px 1px 2px rgba(60, 64, 67, 0.3), 0px 1px 3px 1px rgba(60, 64, 67, 0.15);\n",
       "      fill: #174EA6;\n",
       "    }\n",
       "\n",
       "    [theme=dark] .colab-df-convert {\n",
       "      background-color: #3B4455;\n",
       "      fill: #D2E3FC;\n",
       "    }\n",
       "\n",
       "    [theme=dark] .colab-df-convert:hover {\n",
       "      background-color: #434B5C;\n",
       "      box-shadow: 0px 1px 3px 1px rgba(0, 0, 0, 0.15);\n",
       "      filter: drop-shadow(0px 1px 2px rgba(0, 0, 0, 0.3));\n",
       "      fill: #FFFFFF;\n",
       "    }\n",
       "  </style>\n",
       "\n",
       "      <script>\n",
       "        const buttonEl =\n",
       "          document.querySelector('#df-67790263-4731-49a6-9021-7b795995db00 button.colab-df-convert');\n",
       "        buttonEl.style.display =\n",
       "          google.colab.kernel.accessAllowed ? 'block' : 'none';\n",
       "\n",
       "        async function convertToInteractive(key) {\n",
       "          const element = document.querySelector('#df-67790263-4731-49a6-9021-7b795995db00');\n",
       "          const dataTable =\n",
       "            await google.colab.kernel.invokeFunction('convertToInteractive',\n",
       "                                                     [key], {});\n",
       "          if (!dataTable) return;\n",
       "\n",
       "          const docLinkHtml = 'Like what you see? Visit the ' +\n",
       "            '<a target=\"_blank\" href=https://colab.research.google.com/notebooks/data_table.ipynb>data table notebook</a>'\n",
       "            + ' to learn more about interactive tables.';\n",
       "          element.innerHTML = '';\n",
       "          dataTable['output_type'] = 'display_data';\n",
       "          await google.colab.output.renderOutput(dataTable, element);\n",
       "          const docLink = document.createElement('div');\n",
       "          docLink.innerHTML = docLinkHtml;\n",
       "          element.appendChild(docLink);\n",
       "        }\n",
       "      </script>\n",
       "    </div>\n",
       "  </div>\n",
       "  "
      ],
      "text/plain": [
       "       item_cnt_month\n",
       "count   214200.000000\n",
       "mean         0.103427\n",
       "std          0.551253\n",
       "min          0.000000\n",
       "25%          0.000000\n",
       "50%          0.000000\n",
       "75%          0.000000\n",
       "max         20.000000"
      ]
     },
     "execution_count": 68,
     "metadata": {},
     "output_type": "execute_result"
    }
   ],
   "source": [
    "print(f\"Sum of Nov'15 predictions = {submission_lstm_f.sum()}\")\n",
    "submission_lstm_f.describe()"
   ]
  },
  {
   "cell_type": "code",
   "execution_count": 69,
   "metadata": {
    "executionInfo": {
     "elapsed": 539,
     "status": "ok",
     "timestamp": 1662433300797,
     "user": {
      "displayName": "Pei Yiing Lim",
      "userId": "03784591105715420122"
     },
     "user_tz": -480
    },
    "id": "VhG6kc6PjI2P"
   },
   "outputs": [],
   "source": [
    "submission_lstm_f.to_csv(\"/content/drive/MyDrive/DSI30/Capstone/Kaggle/dataset/outputs/kaggle_lstm_final_v2.csv\")"
   ]
  },
  {
   "cell_type": "markdown",
   "metadata": {
    "id": "9guqisU4jGsn"
   },
   "source": [
    "### 3.3 CNN Model\n"
   ]
  },
  {
   "cell_type": "code",
   "execution_count": 70,
   "metadata": {
    "colab": {
     "base_uri": "https://localhost:8080/"
    },
    "executionInfo": {
     "elapsed": 522,
     "status": "ok",
     "timestamp": 1662433436976,
     "user": {
      "displayName": "Pei Yiing Lim",
      "userId": "03784591105715420122"
     },
     "user_tz": -480
    },
    "id": "Em0ONSWeghg6",
    "outputId": "e49f7316-4f91-4597-aea4-48a0548dc69a"
   },
   "outputs": [
    {
     "name": "stdout",
     "output_type": "stream",
     "text": [
      "Model: \"sequential_5\"\n",
      "_________________________________________________________________\n",
      " Layer (type)                Output Shape              Param #   \n",
      "=================================================================\n",
      " conv1d_2 (Conv1D)           (None, 32, 16)            48        \n",
      "                                                                 \n",
      " flatten_2 (Flatten)         (None, 512)               0         \n",
      "                                                                 \n",
      " dense_8 (Dense)             (None, 8)                 4104      \n",
      "                                                                 \n",
      " dense_9 (Dense)             (None, 1)                 9         \n",
      "                                                                 \n",
      "=================================================================\n",
      "Total params: 4,161\n",
      "Trainable params: 4,161\n",
      "Non-trainable params: 0\n",
      "_________________________________________________________________\n"
     ]
    }
   ],
   "source": [
    "model_cnn = Sequential()\n",
    "model_cnn.add(InputLayer((33, 1)))\n",
    "model_cnn.add(Conv1D(16, kernel_size=2, activation='relu'))\n",
    "model_cnn.add(Flatten())\n",
    "model_cnn.add(Dense(8, 'relu'))\n",
    "model_cnn.add(Dense(1, 'linear'))\n",
    "model_cnn.summary()\n",
    "\n",
    "cp2 = ModelCheckpoint('model_cnn/', save_best_only=True)\n",
    "model_cnn.compile(loss=MeanSquaredError(), optimizer=Adam(learning_rate=0.01), metrics=[RootMeanSquaredError()])"
   ]
  },
  {
   "cell_type": "code",
   "execution_count": 71,
   "metadata": {
    "colab": {
     "base_uri": "https://localhost:8080/"
    },
    "executionInfo": {
     "elapsed": 82890,
     "status": "ok",
     "timestamp": 1662433531108,
     "user": {
      "displayName": "Pei Yiing Lim",
      "userId": "03784591105715420122"
     },
     "user_tz": -480
    },
    "id": "MiMvhXDjjXb0",
    "outputId": "eead26bd-893b-447c-ae2d-31874773b36a"
   },
   "outputs": [
    {
     "name": "stdout",
     "output_type": "stream",
     "text": [
      "Epoch 1/100\n",
      "53/53 [==============================] - 2s 21ms/step - loss: 0.8325 - root_mean_squared_error: 0.9124 - val_loss: 0.7906 - val_root_mean_squared_error: 0.8892\n",
      "Epoch 2/100\n",
      "53/53 [==============================] - 1s 17ms/step - loss: 0.7894 - root_mean_squared_error: 0.8885 - val_loss: 0.7887 - val_root_mean_squared_error: 0.8881\n",
      "Epoch 3/100\n",
      "53/53 [==============================] - 1s 17ms/step - loss: 0.7868 - root_mean_squared_error: 0.8870 - val_loss: 0.7806 - val_root_mean_squared_error: 0.8835\n",
      "Epoch 4/100\n",
      "53/53 [==============================] - 1s 17ms/step - loss: 0.7863 - root_mean_squared_error: 0.8867 - val_loss: 0.7776 - val_root_mean_squared_error: 0.8818\n",
      "Epoch 5/100\n",
      "53/53 [==============================] - 0s 7ms/step - loss: 0.7866 - root_mean_squared_error: 0.8869 - val_loss: 0.7803 - val_root_mean_squared_error: 0.8833\n",
      "Epoch 6/100\n",
      "53/53 [==============================] - 0s 8ms/step - loss: 0.7816 - root_mean_squared_error: 0.8841 - val_loss: 0.7813 - val_root_mean_squared_error: 0.8839\n",
      "Epoch 7/100\n",
      "53/53 [==============================] - 1s 17ms/step - loss: 0.7827 - root_mean_squared_error: 0.8847 - val_loss: 0.7762 - val_root_mean_squared_error: 0.8810\n",
      "Epoch 8/100\n",
      "53/53 [==============================] - 0s 7ms/step - loss: 0.7857 - root_mean_squared_error: 0.8864 - val_loss: 0.7799 - val_root_mean_squared_error: 0.8831\n",
      "Epoch 9/100\n",
      "53/53 [==============================] - 0s 7ms/step - loss: 0.7790 - root_mean_squared_error: 0.8826 - val_loss: 0.7774 - val_root_mean_squared_error: 0.8817\n",
      "Epoch 10/100\n",
      "53/53 [==============================] - 1s 17ms/step - loss: 0.7795 - root_mean_squared_error: 0.8829 - val_loss: 0.7741 - val_root_mean_squared_error: 0.8798\n",
      "Epoch 11/100\n",
      "53/53 [==============================] - 0s 7ms/step - loss: 0.7771 - root_mean_squared_error: 0.8815 - val_loss: 0.7786 - val_root_mean_squared_error: 0.8824\n",
      "Epoch 12/100\n",
      "53/53 [==============================] - 0s 7ms/step - loss: 0.7803 - root_mean_squared_error: 0.8833 - val_loss: 0.7757 - val_root_mean_squared_error: 0.8807\n",
      "Epoch 13/100\n",
      "53/53 [==============================] - 0s 7ms/step - loss: 0.7781 - root_mean_squared_error: 0.8821 - val_loss: 0.7759 - val_root_mean_squared_error: 0.8808\n",
      "Epoch 14/100\n",
      "53/53 [==============================] - 1s 23ms/step - loss: 0.7786 - root_mean_squared_error: 0.8824 - val_loss: 0.7721 - val_root_mean_squared_error: 0.8787\n",
      "Epoch 15/100\n",
      "53/53 [==============================] - 0s 7ms/step - loss: 0.7786 - root_mean_squared_error: 0.8824 - val_loss: 0.7771 - val_root_mean_squared_error: 0.8815\n",
      "Epoch 16/100\n",
      "53/53 [==============================] - 0s 8ms/step - loss: 0.7774 - root_mean_squared_error: 0.8817 - val_loss: 0.7732 - val_root_mean_squared_error: 0.8793\n",
      "Epoch 17/100\n",
      "53/53 [==============================] - 0s 7ms/step - loss: 0.7760 - root_mean_squared_error: 0.8809 - val_loss: 0.7766 - val_root_mean_squared_error: 0.8813\n",
      "Epoch 18/100\n",
      "53/53 [==============================] - 0s 8ms/step - loss: 0.7798 - root_mean_squared_error: 0.8831 - val_loss: 0.7822 - val_root_mean_squared_error: 0.8844\n",
      "Epoch 19/100\n",
      "53/53 [==============================] - 0s 7ms/step - loss: 0.7768 - root_mean_squared_error: 0.8814 - val_loss: 0.7741 - val_root_mean_squared_error: 0.8798\n",
      "Epoch 20/100\n",
      "53/53 [==============================] - 1s 17ms/step - loss: 0.7762 - root_mean_squared_error: 0.8810 - val_loss: 0.7714 - val_root_mean_squared_error: 0.8783\n",
      "Epoch 21/100\n",
      "53/53 [==============================] - 0s 7ms/step - loss: 0.7756 - root_mean_squared_error: 0.8807 - val_loss: 0.7769 - val_root_mean_squared_error: 0.8814\n",
      "Epoch 22/100\n",
      "53/53 [==============================] - 1s 17ms/step - loss: 0.7760 - root_mean_squared_error: 0.8809 - val_loss: 0.7707 - val_root_mean_squared_error: 0.8779\n",
      "Epoch 23/100\n",
      "53/53 [==============================] - 1s 17ms/step - loss: 0.7757 - root_mean_squared_error: 0.8808 - val_loss: 0.7706 - val_root_mean_squared_error: 0.8778\n",
      "Epoch 24/100\n",
      "53/53 [==============================] - 0s 7ms/step - loss: 0.7743 - root_mean_squared_error: 0.8799 - val_loss: 0.7733 - val_root_mean_squared_error: 0.8794\n",
      "Epoch 25/100\n",
      "53/53 [==============================] - 0s 7ms/step - loss: 0.7748 - root_mean_squared_error: 0.8802 - val_loss: 0.7708 - val_root_mean_squared_error: 0.8780\n",
      "Epoch 26/100\n",
      "53/53 [==============================] - 0s 7ms/step - loss: 0.7743 - root_mean_squared_error: 0.8799 - val_loss: 0.7723 - val_root_mean_squared_error: 0.8788\n",
      "Epoch 27/100\n",
      "53/53 [==============================] - 0s 8ms/step - loss: 0.7770 - root_mean_squared_error: 0.8815 - val_loss: 0.7736 - val_root_mean_squared_error: 0.8795\n",
      "Epoch 28/100\n",
      "53/53 [==============================] - 0s 7ms/step - loss: 0.7782 - root_mean_squared_error: 0.8822 - val_loss: 0.7715 - val_root_mean_squared_error: 0.8784\n",
      "Epoch 29/100\n",
      "53/53 [==============================] - 0s 7ms/step - loss: 0.7731 - root_mean_squared_error: 0.8793 - val_loss: 0.7739 - val_root_mean_squared_error: 0.8797\n",
      "Epoch 30/100\n",
      "53/53 [==============================] - 0s 7ms/step - loss: 0.7749 - root_mean_squared_error: 0.8803 - val_loss: 0.7707 - val_root_mean_squared_error: 0.8779\n",
      "Epoch 31/100\n",
      "53/53 [==============================] - 0s 7ms/step - loss: 0.7748 - root_mean_squared_error: 0.8802 - val_loss: 0.7723 - val_root_mean_squared_error: 0.8788\n",
      "Epoch 32/100\n",
      "53/53 [==============================] - 1s 17ms/step - loss: 0.7747 - root_mean_squared_error: 0.8802 - val_loss: 0.7691 - val_root_mean_squared_error: 0.8770\n",
      "Epoch 33/100\n",
      "53/53 [==============================] - 0s 7ms/step - loss: 0.7741 - root_mean_squared_error: 0.8798 - val_loss: 0.7794 - val_root_mean_squared_error: 0.8828\n",
      "Epoch 34/100\n",
      "53/53 [==============================] - 0s 8ms/step - loss: 0.7761 - root_mean_squared_error: 0.8810 - val_loss: 0.7722 - val_root_mean_squared_error: 0.8787\n",
      "Epoch 35/100\n",
      "53/53 [==============================] - 0s 7ms/step - loss: 0.7808 - root_mean_squared_error: 0.8836 - val_loss: 0.7742 - val_root_mean_squared_error: 0.8799\n",
      "Epoch 36/100\n",
      "53/53 [==============================] - 0s 7ms/step - loss: 0.7737 - root_mean_squared_error: 0.8796 - val_loss: 0.7702 - val_root_mean_squared_error: 0.8776\n",
      "Epoch 37/100\n",
      "53/53 [==============================] - 0s 7ms/step - loss: 0.7746 - root_mean_squared_error: 0.8801 - val_loss: 0.7732 - val_root_mean_squared_error: 0.8793\n",
      "Epoch 38/100\n",
      "53/53 [==============================] - 0s 7ms/step - loss: 0.7764 - root_mean_squared_error: 0.8812 - val_loss: 0.7693 - val_root_mean_squared_error: 0.8771\n",
      "Epoch 39/100\n",
      "53/53 [==============================] - 0s 7ms/step - loss: 0.7735 - root_mean_squared_error: 0.8795 - val_loss: 0.7698 - val_root_mean_squared_error: 0.8774\n",
      "Epoch 40/100\n",
      "53/53 [==============================] - 0s 7ms/step - loss: 0.7748 - root_mean_squared_error: 0.8802 - val_loss: 0.7731 - val_root_mean_squared_error: 0.8793\n",
      "Epoch 41/100\n",
      "53/53 [==============================] - 0s 7ms/step - loss: 0.7753 - root_mean_squared_error: 0.8805 - val_loss: 0.7728 - val_root_mean_squared_error: 0.8791\n",
      "Epoch 42/100\n",
      "53/53 [==============================] - 0s 7ms/step - loss: 0.7722 - root_mean_squared_error: 0.8787 - val_loss: 0.7735 - val_root_mean_squared_error: 0.8795\n",
      "Epoch 43/100\n",
      "53/53 [==============================] - 0s 7ms/step - loss: 0.7733 - root_mean_squared_error: 0.8794 - val_loss: 0.7692 - val_root_mean_squared_error: 0.8770\n",
      "Epoch 44/100\n",
      "53/53 [==============================] - 0s 7ms/step - loss: 0.7724 - root_mean_squared_error: 0.8789 - val_loss: 0.7712 - val_root_mean_squared_error: 0.8782\n",
      "Epoch 45/100\n",
      "53/53 [==============================] - 0s 7ms/step - loss: 0.7737 - root_mean_squared_error: 0.8796 - val_loss: 0.7706 - val_root_mean_squared_error: 0.8778\n",
      "Epoch 46/100\n",
      "53/53 [==============================] - 0s 7ms/step - loss: 0.7715 - root_mean_squared_error: 0.8783 - val_loss: 0.7692 - val_root_mean_squared_error: 0.8770\n",
      "Epoch 47/100\n",
      "53/53 [==============================] - 1s 17ms/step - loss: 0.7716 - root_mean_squared_error: 0.8784 - val_loss: 0.7683 - val_root_mean_squared_error: 0.8765\n",
      "Epoch 48/100\n",
      "53/53 [==============================] - 0s 8ms/step - loss: 0.7719 - root_mean_squared_error: 0.8786 - val_loss: 0.7721 - val_root_mean_squared_error: 0.8787\n",
      "Epoch 49/100\n",
      "53/53 [==============================] - 0s 7ms/step - loss: 0.7720 - root_mean_squared_error: 0.8786 - val_loss: 0.7691 - val_root_mean_squared_error: 0.8770\n",
      "Epoch 50/100\n",
      "53/53 [==============================] - 0s 7ms/step - loss: 0.7725 - root_mean_squared_error: 0.8789 - val_loss: 0.7684 - val_root_mean_squared_error: 0.8766\n",
      "Epoch 51/100\n",
      "53/53 [==============================] - 0s 7ms/step - loss: 0.7725 - root_mean_squared_error: 0.8789 - val_loss: 0.7696 - val_root_mean_squared_error: 0.8773\n",
      "Epoch 52/100\n",
      "53/53 [==============================] - 0s 7ms/step - loss: 0.7762 - root_mean_squared_error: 0.8810 - val_loss: 0.7687 - val_root_mean_squared_error: 0.8768\n",
      "Epoch 53/100\n",
      "53/53 [==============================] - 1s 17ms/step - loss: 0.7713 - root_mean_squared_error: 0.8783 - val_loss: 0.7664 - val_root_mean_squared_error: 0.8754\n",
      "Epoch 54/100\n",
      "53/53 [==============================] - 0s 7ms/step - loss: 0.7704 - root_mean_squared_error: 0.8777 - val_loss: 0.7707 - val_root_mean_squared_error: 0.8779\n",
      "Epoch 55/100\n",
      "53/53 [==============================] - 0s 9ms/step - loss: 0.7718 - root_mean_squared_error: 0.8785 - val_loss: 0.7690 - val_root_mean_squared_error: 0.8769\n",
      "Epoch 56/100\n",
      "53/53 [==============================] - 1s 13ms/step - loss: 0.7707 - root_mean_squared_error: 0.8779 - val_loss: 0.7702 - val_root_mean_squared_error: 0.8776\n",
      "Epoch 57/100\n",
      "53/53 [==============================] - 0s 7ms/step - loss: 0.7712 - root_mean_squared_error: 0.8782 - val_loss: 0.7706 - val_root_mean_squared_error: 0.8778\n",
      "Epoch 58/100\n",
      "53/53 [==============================] - 1s 13ms/step - loss: 0.7718 - root_mean_squared_error: 0.8785 - val_loss: 0.7712 - val_root_mean_squared_error: 0.8782\n",
      "Epoch 59/100\n",
      "53/53 [==============================] - 0s 8ms/step - loss: 0.7712 - root_mean_squared_error: 0.8782 - val_loss: 0.7682 - val_root_mean_squared_error: 0.8765\n",
      "Epoch 60/100\n",
      "53/53 [==============================] - 1s 17ms/step - loss: 0.7722 - root_mean_squared_error: 0.8788 - val_loss: 0.7661 - val_root_mean_squared_error: 0.8752\n",
      "Epoch 61/100\n",
      "53/53 [==============================] - 0s 7ms/step - loss: 0.7693 - root_mean_squared_error: 0.8771 - val_loss: 0.7686 - val_root_mean_squared_error: 0.8767\n",
      "Epoch 62/100\n",
      "53/53 [==============================] - 0s 7ms/step - loss: 0.7712 - root_mean_squared_error: 0.8782 - val_loss: 0.7681 - val_root_mean_squared_error: 0.8764\n",
      "Epoch 63/100\n",
      "53/53 [==============================] - 1s 18ms/step - loss: 0.7692 - root_mean_squared_error: 0.8770 - val_loss: 0.7653 - val_root_mean_squared_error: 0.8748\n",
      "Epoch 64/100\n",
      "53/53 [==============================] - 0s 7ms/step - loss: 0.7690 - root_mean_squared_error: 0.8770 - val_loss: 0.7679 - val_root_mean_squared_error: 0.8763\n",
      "Epoch 65/100\n",
      "53/53 [==============================] - 0s 7ms/step - loss: 0.7734 - root_mean_squared_error: 0.8795 - val_loss: 0.7657 - val_root_mean_squared_error: 0.8750\n",
      "Epoch 66/100\n",
      "53/53 [==============================] - 0s 7ms/step - loss: 0.7716 - root_mean_squared_error: 0.8784 - val_loss: 0.7711 - val_root_mean_squared_error: 0.8781\n",
      "Epoch 67/100\n",
      "53/53 [==============================] - 0s 7ms/step - loss: 0.7715 - root_mean_squared_error: 0.8783 - val_loss: 0.7714 - val_root_mean_squared_error: 0.8783\n",
      "Epoch 68/100\n",
      "53/53 [==============================] - 0s 7ms/step - loss: 0.7695 - root_mean_squared_error: 0.8772 - val_loss: 0.7654 - val_root_mean_squared_error: 0.8749\n",
      "Epoch 69/100\n",
      "53/53 [==============================] - 0s 7ms/step - loss: 0.7695 - root_mean_squared_error: 0.8772 - val_loss: 0.7678 - val_root_mean_squared_error: 0.8762\n",
      "Epoch 70/100\n",
      "53/53 [==============================] - 0s 8ms/step - loss: 0.7686 - root_mean_squared_error: 0.8767 - val_loss: 0.7699 - val_root_mean_squared_error: 0.8774\n",
      "Epoch 71/100\n",
      "53/53 [==============================] - 0s 8ms/step - loss: 0.7702 - root_mean_squared_error: 0.8776 - val_loss: 0.7697 - val_root_mean_squared_error: 0.8773\n",
      "Epoch 72/100\n",
      "53/53 [==============================] - 2s 29ms/step - loss: 0.7696 - root_mean_squared_error: 0.8773 - val_loss: 0.7647 - val_root_mean_squared_error: 0.8745\n",
      "Epoch 73/100\n",
      "53/53 [==============================] - 1s 12ms/step - loss: 0.7694 - root_mean_squared_error: 0.8772 - val_loss: 0.7664 - val_root_mean_squared_error: 0.8754\n",
      "Epoch 74/100\n",
      "53/53 [==============================] - 1s 24ms/step - loss: 0.7686 - root_mean_squared_error: 0.8767 - val_loss: 0.7645 - val_root_mean_squared_error: 0.8743\n",
      "Epoch 75/100\n",
      "53/53 [==============================] - 0s 7ms/step - loss: 0.7697 - root_mean_squared_error: 0.8773 - val_loss: 0.7654 - val_root_mean_squared_error: 0.8749\n",
      "Epoch 76/100\n",
      "53/53 [==============================] - 0s 7ms/step - loss: 0.7683 - root_mean_squared_error: 0.8766 - val_loss: 0.7645 - val_root_mean_squared_error: 0.8744\n",
      "Epoch 77/100\n",
      "53/53 [==============================] - 1s 18ms/step - loss: 0.7712 - root_mean_squared_error: 0.8782 - val_loss: 0.7637 - val_root_mean_squared_error: 0.8739\n",
      "Epoch 78/100\n",
      "53/53 [==============================] - 0s 7ms/step - loss: 0.7668 - root_mean_squared_error: 0.8757 - val_loss: 0.7642 - val_root_mean_squared_error: 0.8742\n",
      "Epoch 79/100\n",
      "53/53 [==============================] - 0s 7ms/step - loss: 0.7707 - root_mean_squared_error: 0.8779 - val_loss: 0.7658 - val_root_mean_squared_error: 0.8751\n",
      "Epoch 80/100\n",
      "53/53 [==============================] - 0s 7ms/step - loss: 0.7678 - root_mean_squared_error: 0.8762 - val_loss: 0.7696 - val_root_mean_squared_error: 0.8773\n",
      "Epoch 81/100\n",
      "53/53 [==============================] - 0s 8ms/step - loss: 0.7679 - root_mean_squared_error: 0.8763 - val_loss: 0.7671 - val_root_mean_squared_error: 0.8759\n",
      "Epoch 82/100\n",
      "53/53 [==============================] - 0s 8ms/step - loss: 0.7674 - root_mean_squared_error: 0.8760 - val_loss: 0.7666 - val_root_mean_squared_error: 0.8756\n",
      "Epoch 83/100\n",
      "53/53 [==============================] - 0s 8ms/step - loss: 0.7669 - root_mean_squared_error: 0.8757 - val_loss: 0.7642 - val_root_mean_squared_error: 0.8742\n",
      "Epoch 84/100\n",
      "53/53 [==============================] - 0s 7ms/step - loss: 0.7672 - root_mean_squared_error: 0.8759 - val_loss: 0.7651 - val_root_mean_squared_error: 0.8747\n",
      "Epoch 85/100\n",
      "53/53 [==============================] - 0s 7ms/step - loss: 0.7684 - root_mean_squared_error: 0.8766 - val_loss: 0.7638 - val_root_mean_squared_error: 0.8740\n",
      "Epoch 86/100\n",
      "53/53 [==============================] - 0s 8ms/step - loss: 0.7691 - root_mean_squared_error: 0.8770 - val_loss: 0.7665 - val_root_mean_squared_error: 0.8755\n",
      "Epoch 87/100\n",
      "53/53 [==============================] - 0s 8ms/step - loss: 0.7684 - root_mean_squared_error: 0.8766 - val_loss: 0.7698 - val_root_mean_squared_error: 0.8774\n",
      "Epoch 88/100\n",
      "53/53 [==============================] - 1s 17ms/step - loss: 0.7703 - root_mean_squared_error: 0.8777 - val_loss: 0.7635 - val_root_mean_squared_error: 0.8738\n",
      "Epoch 89/100\n",
      "53/53 [==============================] - 1s 18ms/step - loss: 0.7675 - root_mean_squared_error: 0.8760 - val_loss: 0.7633 - val_root_mean_squared_error: 0.8737\n",
      "Epoch 90/100\n",
      "53/53 [==============================] - 0s 7ms/step - loss: 0.7682 - root_mean_squared_error: 0.8765 - val_loss: 0.7680 - val_root_mean_squared_error: 0.8763\n",
      "Epoch 91/100\n",
      "53/53 [==============================] - 0s 8ms/step - loss: 0.7654 - root_mean_squared_error: 0.8749 - val_loss: 0.7680 - val_root_mean_squared_error: 0.8764\n",
      "Epoch 92/100\n",
      "53/53 [==============================] - 0s 7ms/step - loss: 0.7707 - root_mean_squared_error: 0.8779 - val_loss: 0.7639 - val_root_mean_squared_error: 0.8740\n",
      "Epoch 93/100\n",
      "53/53 [==============================] - 1s 18ms/step - loss: 0.7662 - root_mean_squared_error: 0.8753 - val_loss: 0.7627 - val_root_mean_squared_error: 0.8733\n",
      "Epoch 94/100\n",
      "53/53 [==============================] - 0s 8ms/step - loss: 0.7664 - root_mean_squared_error: 0.8754 - val_loss: 0.7656 - val_root_mean_squared_error: 0.8750\n",
      "Epoch 95/100\n",
      "53/53 [==============================] - 0s 7ms/step - loss: 0.7673 - root_mean_squared_error: 0.8760 - val_loss: 0.7644 - val_root_mean_squared_error: 0.8743\n",
      "Epoch 96/100\n",
      "53/53 [==============================] - 0s 7ms/step - loss: 0.7663 - root_mean_squared_error: 0.8754 - val_loss: 0.7633 - val_root_mean_squared_error: 0.8737\n",
      "Epoch 97/100\n",
      "53/53 [==============================] - 0s 7ms/step - loss: 0.7667 - root_mean_squared_error: 0.8756 - val_loss: 0.7628 - val_root_mean_squared_error: 0.8734\n",
      "Epoch 98/100\n",
      "53/53 [==============================] - 1s 17ms/step - loss: 0.7662 - root_mean_squared_error: 0.8753 - val_loss: 0.7615 - val_root_mean_squared_error: 0.8726\n",
      "Epoch 99/100\n",
      "53/53 [==============================] - 0s 7ms/step - loss: 0.7661 - root_mean_squared_error: 0.8753 - val_loss: 0.7633 - val_root_mean_squared_error: 0.8737\n",
      "Epoch 100/100\n",
      "53/53 [==============================] - 0s 8ms/step - loss: 0.7659 - root_mean_squared_error: 0.8752 - val_loss: 0.7664 - val_root_mean_squared_error: 0.8754\n"
     ]
    }
   ],
   "source": [
    "cnn_history = model_cnn.fit(X_train, y_train, validation_data=(X_train, y_train), batch_size = 4096, epochs=100, callbacks=[cp2])"
   ]
  },
  {
   "cell_type": "code",
   "execution_count": 72,
   "metadata": {
    "colab": {
     "base_uri": "https://localhost:8080/",
     "height": 265
    },
    "executionInfo": {
     "elapsed": 1410,
     "status": "ok",
     "timestamp": 1662433540791,
     "user": {
      "displayName": "Pei Yiing Lim",
      "userId": "03784591105715420122"
     },
     "user_tz": -480
    },
    "id": "wrqJiExZghdu",
    "outputId": "ea05cebd-a931-4ab8-a9e0-16160ceaa87f"
   },
   "outputs": [
    {
     "data": {
      "image/png": "[encoded data removed]",
      "text/plain": [
       "<Figure size 432x288 with 1 Axes>"
      ]
     },
     "metadata": {
      "needs_background": "light"
     },
     "output_type": "display_data"
    }
   ],
   "source": [
    "plt.plot(cnn_history.history['loss'], label='Train loss')\n",
    "plt.plot(cnn_history.history['val_loss'], label='Test loss')\n",
    "plt.legend(); "
   ]
  },
  {
   "cell_type": "code",
   "execution_count": 73,
   "metadata": {
    "colab": {
     "base_uri": "https://localhost:8080/",
     "height": 336
    },
    "executionInfo": {
     "elapsed": 11291,
     "status": "ok",
     "timestamp": 1662433563971,
     "user": {
      "displayName": "Pei Yiing Lim",
      "userId": "03784591105715420122"
     },
     "user_tz": -480
    },
    "id": "h5ohroBpauiS",
    "outputId": "870b49e7-2824-4379-cea0-13b3f9f2cd69"
   },
   "outputs": [
    {
     "name": "stdout",
     "output_type": "stream",
     "text": [
      "Sum of Nov'15 predictions = 0    54989.914062\n",
      "dtype: float32\n"
     ]
    },
    {
     "data": {
      "text/html": [
       "\n",
       "  <div id=\"df-e9346f7b-6399-44c1-85e2-11129d8eb92b\">\n",
       "    <div class=\"colab-df-container\">\n",
       "      <div>\n",
       "<style scoped>\n",
       "    .dataframe tbody tr th:only-of-type {\n",
       "        vertical-align: middle;\n",
       "    }\n",
       "\n",
       "    .dataframe tbody tr th {\n",
       "        vertical-align: top;\n",
       "    }\n",
       "\n",
       "    .dataframe thead th {\n",
       "        text-align: right;\n",
       "    }\n",
       "</style>\n",
       "<table border=\"1\" class=\"dataframe\">\n",
       "  <thead>\n",
       "    <tr style=\"text-align: right;\">\n",
       "      <th></th>\n",
       "      <th>0</th>\n",
       "    </tr>\n",
       "  </thead>\n",
       "  <tbody>\n",
       "    <tr>\n",
       "      <th>count</th>\n",
       "      <td>214200.000000</td>\n",
       "    </tr>\n",
       "    <tr>\n",
       "      <th>mean</th>\n",
       "      <td>0.256722</td>\n",
       "    </tr>\n",
       "    <tr>\n",
       "      <th>std</th>\n",
       "      <td>0.647681</td>\n",
       "    </tr>\n",
       "    <tr>\n",
       "      <th>min</th>\n",
       "      <td>0.087746</td>\n",
       "    </tr>\n",
       "    <tr>\n",
       "      <th>25%</th>\n",
       "      <td>0.115661</td>\n",
       "    </tr>\n",
       "    <tr>\n",
       "      <th>50%</th>\n",
       "      <td>0.115661</td>\n",
       "    </tr>\n",
       "    <tr>\n",
       "      <th>75%</th>\n",
       "      <td>0.163027</td>\n",
       "    </tr>\n",
       "    <tr>\n",
       "      <th>max</th>\n",
       "      <td>20.000000</td>\n",
       "    </tr>\n",
       "  </tbody>\n",
       "</table>\n",
       "</div>\n",
       "      <button class=\"colab-df-convert\" onclick=\"convertToInteractive('df-e9346f7b-6399-44c1-85e2-11129d8eb92b')\"\n",
       "              title=\"Convert this dataframe to an interactive table.\"\n",
       "              style=\"display:none;\">\n",
       "        \n",
       "  <svg xmlns=\"http://www.w3.org/2000/svg\" height=\"24px\"viewBox=\"0 0 24 24\"\n",
       "       width=\"24px\">\n",
       "    <path d=\"M0 0h24v24H0V0z\" fill=\"none\"/>\n",
       "    <path d=\"M18.56 5.44l.94 2.06.94-2.06 2.06-.94-2.06-.94-.94-2.06-.94 2.06-2.06.94zm-11 1L8.5 8.5l.94-2.06 2.06-.94-2.06-.94L8.5 2.5l-.94 2.06-2.06.94zm10 10l.94 2.06.94-2.06 2.06-.94-2.06-.94-.94-2.06-.94 2.06-2.06.94z\"/><path d=\"M17.41 7.96l-1.37-1.37c-.4-.4-.92-.59-1.43-.59-.52 0-1.04.2-1.43.59L10.3 9.45l-7.72 7.72c-.78.78-.78 2.05 0 2.83L4 21.41c.39.39.9.59 1.41.59.51 0 1.02-.2 1.41-.59l7.78-7.78 2.81-2.81c.8-.78.8-2.07 0-2.86zM5.41 20L4 18.59l7.72-7.72 1.47 1.35L5.41 20z\"/>\n",
       "  </svg>\n",
       "      </button>\n",
       "      \n",
       "  <style>\n",
       "    .colab-df-container {\n",
       "      display:flex;\n",
       "      flex-wrap:wrap;\n",
       "      gap: 12px;\n",
       "    }\n",
       "\n",
       "    .colab-df-convert {\n",
       "      background-color: #E8F0FE;\n",
       "      border: none;\n",
       "      border-radius: 50%;\n",
       "      cursor: pointer;\n",
       "      display: none;\n",
       "      fill: #1967D2;\n",
       "      height: 32px;\n",
       "      padding: 0 0 0 0;\n",
       "      width: 32px;\n",
       "    }\n",
       "\n",
       "    .colab-df-convert:hover {\n",
       "      background-color: #E2EBFA;\n",
       "      box-shadow: 0px 1px 2px rgba(60, 64, 67, 0.3), 0px 1px 3px 1px rgba(60, 64, 67, 0.15);\n",
       "      fill: #174EA6;\n",
       "    }\n",
       "\n",
       "    [theme=dark] .colab-df-convert {\n",
       "      background-color: #3B4455;\n",
       "      fill: #D2E3FC;\n",
       "    }\n",
       "\n",
       "    [theme=dark] .colab-df-convert:hover {\n",
       "      background-color: #434B5C;\n",
       "      box-shadow: 0px 1px 3px 1px rgba(0, 0, 0, 0.15);\n",
       "      filter: drop-shadow(0px 1px 2px rgba(0, 0, 0, 0.3));\n",
       "      fill: #FFFFFF;\n",
       "    }\n",
       "  </style>\n",
       "\n",
       "      <script>\n",
       "        const buttonEl =\n",
       "          document.querySelector('#df-e9346f7b-6399-44c1-85e2-11129d8eb92b button.colab-df-convert');\n",
       "        buttonEl.style.display =\n",
       "          google.colab.kernel.accessAllowed ? 'block' : 'none';\n",
       "\n",
       "        async function convertToInteractive(key) {\n",
       "          const element = document.querySelector('#df-e9346f7b-6399-44c1-85e2-11129d8eb92b');\n",
       "          const dataTable =\n",
       "            await google.colab.kernel.invokeFunction('convertToInteractive',\n",
       "                                                     [key], {});\n",
       "          if (!dataTable) return;\n",
       "\n",
       "          const docLinkHtml = 'Like what you see? Visit the ' +\n",
       "            '<a target=\"_blank\" href=https://colab.research.google.com/notebooks/data_table.ipynb>data table notebook</a>'\n",
       "            + ' to learn more about interactive tables.';\n",
       "          element.innerHTML = '';\n",
       "          dataTable['output_type'] = 'display_data';\n",
       "          await google.colab.output.renderOutput(dataTable, element);\n",
       "          const docLink = document.createElement('div');\n",
       "          docLink.innerHTML = docLinkHtml;\n",
       "          element.appendChild(docLink);\n",
       "        }\n",
       "      </script>\n",
       "    </div>\n",
       "  </div>\n",
       "  "
      ],
      "text/plain": [
       "                   0\n",
       "count  214200.000000\n",
       "mean        0.256722\n",
       "std         0.647681\n",
       "min         0.087746\n",
       "25%         0.115661\n",
       "50%         0.115661\n",
       "75%         0.163027\n",
       "max        20.000000"
      ]
     },
     "execution_count": 73,
     "metadata": {},
     "output_type": "execute_result"
    }
   ],
   "source": [
    "model_cnn = load_model('model_cnn/')\n",
    "preds_cnn = model_cnn.predict(X_test)\n",
    "cnn_results = pd.DataFrame(preds_cnn.flatten().flatten())\n",
    "cnn_results = cnn_results.clip(0,20) #limit range as recommended by Kaggle\n",
    "print(f\"Sum of Nov'15 predictions = {cnn_results.sum()}\")\n",
    "cnn_results.describe()"
   ]
  },
  {
   "cell_type": "code",
   "execution_count": 75,
   "metadata": {
    "colab": {
     "base_uri": "https://localhost:8080/",
     "height": 238
    },
    "executionInfo": {
     "elapsed": 632,
     "status": "ok",
     "timestamp": 1662433767419,
     "user": {
      "displayName": "Pei Yiing Lim",
      "userId": "03784591105715420122"
     },
     "user_tz": -480
    },
    "id": "20BeNfdDrrVD",
    "outputId": "5563cc51-4ad3-4cc6-d98a-b2f8227e5620"
   },
   "outputs": [
    {
     "data": {
      "text/html": [
       "\n",
       "  <div id=\"df-04392ec6-08e7-4664-9704-a6be92202599\">\n",
       "    <div class=\"colab-df-container\">\n",
       "      <div>\n",
       "<style scoped>\n",
       "    .dataframe tbody tr th:only-of-type {\n",
       "        vertical-align: middle;\n",
       "    }\n",
       "\n",
       "    .dataframe tbody tr th {\n",
       "        vertical-align: top;\n",
       "    }\n",
       "\n",
       "    .dataframe thead th {\n",
       "        text-align: right;\n",
       "    }\n",
       "</style>\n",
       "<table border=\"1\" class=\"dataframe\">\n",
       "  <thead>\n",
       "    <tr style=\"text-align: right;\">\n",
       "      <th></th>\n",
       "      <th>item_cnt_month</th>\n",
       "    </tr>\n",
       "    <tr>\n",
       "      <th>ID</th>\n",
       "      <th></th>\n",
       "    </tr>\n",
       "  </thead>\n",
       "  <tbody>\n",
       "    <tr>\n",
       "      <th>0</th>\n",
       "      <td>1</td>\n",
       "    </tr>\n",
       "    <tr>\n",
       "      <th>1</th>\n",
       "      <td>0</td>\n",
       "    </tr>\n",
       "    <tr>\n",
       "      <th>2</th>\n",
       "      <td>1</td>\n",
       "    </tr>\n",
       "    <tr>\n",
       "      <th>3</th>\n",
       "      <td>0</td>\n",
       "    </tr>\n",
       "    <tr>\n",
       "      <th>4</th>\n",
       "      <td>0</td>\n",
       "    </tr>\n",
       "  </tbody>\n",
       "</table>\n",
       "</div>\n",
       "      <button class=\"colab-df-convert\" onclick=\"convertToInteractive('df-04392ec6-08e7-4664-9704-a6be92202599')\"\n",
       "              title=\"Convert this dataframe to an interactive table.\"\n",
       "              style=\"display:none;\">\n",
       "        \n",
       "  <svg xmlns=\"http://www.w3.org/2000/svg\" height=\"24px\"viewBox=\"0 0 24 24\"\n",
       "       width=\"24px\">\n",
       "    <path d=\"M0 0h24v24H0V0z\" fill=\"none\"/>\n",
       "    <path d=\"M18.56 5.44l.94 2.06.94-2.06 2.06-.94-2.06-.94-.94-2.06-.94 2.06-2.06.94zm-11 1L8.5 8.5l.94-2.06 2.06-.94-2.06-.94L8.5 2.5l-.94 2.06-2.06.94zm10 10l.94 2.06.94-2.06 2.06-.94-2.06-.94-.94-2.06-.94 2.06-2.06.94z\"/><path d=\"M17.41 7.96l-1.37-1.37c-.4-.4-.92-.59-1.43-.59-.52 0-1.04.2-1.43.59L10.3 9.45l-7.72 7.72c-.78.78-.78 2.05 0 2.83L4 21.41c.39.39.9.59 1.41.59.51 0 1.02-.2 1.41-.59l7.78-7.78 2.81-2.81c.8-.78.8-2.07 0-2.86zM5.41 20L4 18.59l7.72-7.72 1.47 1.35L5.41 20z\"/>\n",
       "  </svg>\n",
       "      </button>\n",
       "      \n",
       "  <style>\n",
       "    .colab-df-container {\n",
       "      display:flex;\n",
       "      flex-wrap:wrap;\n",
       "      gap: 12px;\n",
       "    }\n",
       "\n",
       "    .colab-df-convert {\n",
       "      background-color: #E8F0FE;\n",
       "      border: none;\n",
       "      border-radius: 50%;\n",
       "      cursor: pointer;\n",
       "      display: none;\n",
       "      fill: #1967D2;\n",
       "      height: 32px;\n",
       "      padding: 0 0 0 0;\n",
       "      width: 32px;\n",
       "    }\n",
       "\n",
       "    .colab-df-convert:hover {\n",
       "      background-color: #E2EBFA;\n",
       "      box-shadow: 0px 1px 2px rgba(60, 64, 67, 0.3), 0px 1px 3px 1px rgba(60, 64, 67, 0.15);\n",
       "      fill: #174EA6;\n",
       "    }\n",
       "\n",
       "    [theme=dark] .colab-df-convert {\n",
       "      background-color: #3B4455;\n",
       "      fill: #D2E3FC;\n",
       "    }\n",
       "\n",
       "    [theme=dark] .colab-df-convert:hover {\n",
       "      background-color: #434B5C;\n",
       "      box-shadow: 0px 1px 3px 1px rgba(0, 0, 0, 0.15);\n",
       "      filter: drop-shadow(0px 1px 2px rgba(0, 0, 0, 0.3));\n",
       "      fill: #FFFFFF;\n",
       "    }\n",
       "  </style>\n",
       "\n",
       "      <script>\n",
       "        const buttonEl =\n",
       "          document.querySelector('#df-04392ec6-08e7-4664-9704-a6be92202599 button.colab-df-convert');\n",
       "        buttonEl.style.display =\n",
       "          google.colab.kernel.accessAllowed ? 'block' : 'none';\n",
       "\n",
       "        async function convertToInteractive(key) {\n",
       "          const element = document.querySelector('#df-04392ec6-08e7-4664-9704-a6be92202599');\n",
       "          const dataTable =\n",
       "            await google.colab.kernel.invokeFunction('convertToInteractive',\n",
       "                                                     [key], {});\n",
       "          if (!dataTable) return;\n",
       "\n",
       "          const docLinkHtml = 'Like what you see? Visit the ' +\n",
       "            '<a target=\"_blank\" href=https://colab.research.google.com/notebooks/data_table.ipynb>data table notebook</a>'\n",
       "            + ' to learn more about interactive tables.';\n",
       "          element.innerHTML = '';\n",
       "          dataTable['output_type'] = 'display_data';\n",
       "          await google.colab.output.renderOutput(dataTable, element);\n",
       "          const docLink = document.createElement('div');\n",
       "          docLink.innerHTML = docLinkHtml;\n",
       "          element.appendChild(docLink);\n",
       "        }\n",
       "      </script>\n",
       "    </div>\n",
       "  </div>\n",
       "  "
      ],
      "text/plain": [
       "    item_cnt_month\n",
       "ID                \n",
       "0                1\n",
       "1                0\n",
       "2                1\n",
       "3                0\n",
       "4                0"
      ]
     },
     "execution_count": 75,
     "metadata": {},
     "output_type": "execute_result"
    }
   ],
   "source": [
    "submission_cnn = submission.merge(cnn_results, left_index = True, right_index = True, how = \"left\").fillna(0)\n",
    "submission_cnn_f = pd.DataFrame(submission_cnn.iloc[:,-1])\n",
    "submission_cnn_f.columns = [\"item_cnt_month\"]\n",
    "submission_cnn_f[\"item_cnt_month\"] = submission_cnn_f[\"item_cnt_month\"].map(lambda x:int(round(x,0)))\n",
    "submission_cnn_f.head()"
   ]
  },
  {
   "cell_type": "code",
   "execution_count": 76,
   "metadata": {
    "colab": {
     "base_uri": "https://localhost:8080/",
     "height": 336
    },
    "executionInfo": {
     "elapsed": 504,
     "status": "ok",
     "timestamp": 1662433775652,
     "user": {
      "displayName": "Pei Yiing Lim",
      "userId": "03784591105715420122"
     },
     "user_tz": -480
    },
    "id": "H0RZhawUaufl",
    "outputId": "e2921dc4-6b78-43dd-9ec6-98559e765332"
   },
   "outputs": [
    {
     "name": "stdout",
     "output_type": "stream",
     "text": [
      "Sum of Nov'15 predictions = item_cnt_month    29157\n",
      "dtype: int64\n"
     ]
    },
    {
     "data": {
      "text/html": [
       "\n",
       "  <div id=\"df-39da3075-201e-4d23-bef6-476d8eaf6cf2\">\n",
       "    <div class=\"colab-df-container\">\n",
       "      <div>\n",
       "<style scoped>\n",
       "    .dataframe tbody tr th:only-of-type {\n",
       "        vertical-align: middle;\n",
       "    }\n",
       "\n",
       "    .dataframe tbody tr th {\n",
       "        vertical-align: top;\n",
       "    }\n",
       "\n",
       "    .dataframe thead th {\n",
       "        text-align: right;\n",
       "    }\n",
       "</style>\n",
       "<table border=\"1\" class=\"dataframe\">\n",
       "  <thead>\n",
       "    <tr style=\"text-align: right;\">\n",
       "      <th></th>\n",
       "      <th>item_cnt_month</th>\n",
       "    </tr>\n",
       "  </thead>\n",
       "  <tbody>\n",
       "    <tr>\n",
       "      <th>count</th>\n",
       "      <td>214200.000000</td>\n",
       "    </tr>\n",
       "    <tr>\n",
       "      <th>mean</th>\n",
       "      <td>0.136120</td>\n",
       "    </tr>\n",
       "    <tr>\n",
       "      <th>std</th>\n",
       "      <td>0.681326</td>\n",
       "    </tr>\n",
       "    <tr>\n",
       "      <th>min</th>\n",
       "      <td>0.000000</td>\n",
       "    </tr>\n",
       "    <tr>\n",
       "      <th>25%</th>\n",
       "      <td>0.000000</td>\n",
       "    </tr>\n",
       "    <tr>\n",
       "      <th>50%</th>\n",
       "      <td>0.000000</td>\n",
       "    </tr>\n",
       "    <tr>\n",
       "      <th>75%</th>\n",
       "      <td>0.000000</td>\n",
       "    </tr>\n",
       "    <tr>\n",
       "      <th>max</th>\n",
       "      <td>20.000000</td>\n",
       "    </tr>\n",
       "  </tbody>\n",
       "</table>\n",
       "</div>\n",
       "      <button class=\"colab-df-convert\" onclick=\"convertToInteractive('df-39da3075-201e-4d23-bef6-476d8eaf6cf2')\"\n",
       "              title=\"Convert this dataframe to an interactive table.\"\n",
       "              style=\"display:none;\">\n",
       "        \n",
       "  <svg xmlns=\"http://www.w3.org/2000/svg\" height=\"24px\"viewBox=\"0 0 24 24\"\n",
       "       width=\"24px\">\n",
       "    <path d=\"M0 0h24v24H0V0z\" fill=\"none\"/>\n",
       "    <path d=\"M18.56 5.44l.94 2.06.94-2.06 2.06-.94-2.06-.94-.94-2.06-.94 2.06-2.06.94zm-11 1L8.5 8.5l.94-2.06 2.06-.94-2.06-.94L8.5 2.5l-.94 2.06-2.06.94zm10 10l.94 2.06.94-2.06 2.06-.94-2.06-.94-.94-2.06-.94 2.06-2.06.94z\"/><path d=\"M17.41 7.96l-1.37-1.37c-.4-.4-.92-.59-1.43-.59-.52 0-1.04.2-1.43.59L10.3 9.45l-7.72 7.72c-.78.78-.78 2.05 0 2.83L4 21.41c.39.39.9.59 1.41.59.51 0 1.02-.2 1.41-.59l7.78-7.78 2.81-2.81c.8-.78.8-2.07 0-2.86zM5.41 20L4 18.59l7.72-7.72 1.47 1.35L5.41 20z\"/>\n",
       "  </svg>\n",
       "      </button>\n",
       "      \n",
       "  <style>\n",
       "    .colab-df-container {\n",
       "      display:flex;\n",
       "      flex-wrap:wrap;\n",
       "      gap: 12px;\n",
       "    }\n",
       "\n",
       "    .colab-df-convert {\n",
       "      background-color: #E8F0FE;\n",
       "      border: none;\n",
       "      border-radius: 50%;\n",
       "      cursor: pointer;\n",
       "      display: none;\n",
       "      fill: #1967D2;\n",
       "      height: 32px;\n",
       "      padding: 0 0 0 0;\n",
       "      width: 32px;\n",
       "    }\n",
       "\n",
       "    .colab-df-convert:hover {\n",
       "      background-color: #E2EBFA;\n",
       "      box-shadow: 0px 1px 2px rgba(60, 64, 67, 0.3), 0px 1px 3px 1px rgba(60, 64, 67, 0.15);\n",
       "      fill: #174EA6;\n",
       "    }\n",
       "\n",
       "    [theme=dark] .colab-df-convert {\n",
       "      background-color: #3B4455;\n",
       "      fill: #D2E3FC;\n",
       "    }\n",
       "\n",
       "    [theme=dark] .colab-df-convert:hover {\n",
       "      background-color: #434B5C;\n",
       "      box-shadow: 0px 1px 3px 1px rgba(0, 0, 0, 0.15);\n",
       "      filter: drop-shadow(0px 1px 2px rgba(0, 0, 0, 0.3));\n",
       "      fill: #FFFFFF;\n",
       "    }\n",
       "  </style>\n",
       "\n",
       "      <script>\n",
       "        const buttonEl =\n",
       "          document.querySelector('#df-39da3075-201e-4d23-bef6-476d8eaf6cf2 button.colab-df-convert');\n",
       "        buttonEl.style.display =\n",
       "          google.colab.kernel.accessAllowed ? 'block' : 'none';\n",
       "\n",
       "        async function convertToInteractive(key) {\n",
       "          const element = document.querySelector('#df-39da3075-201e-4d23-bef6-476d8eaf6cf2');\n",
       "          const dataTable =\n",
       "            await google.colab.kernel.invokeFunction('convertToInteractive',\n",
       "                                                     [key], {});\n",
       "          if (!dataTable) return;\n",
       "\n",
       "          const docLinkHtml = 'Like what you see? Visit the ' +\n",
       "            '<a target=\"_blank\" href=https://colab.research.google.com/notebooks/data_table.ipynb>data table notebook</a>'\n",
       "            + ' to learn more about interactive tables.';\n",
       "          element.innerHTML = '';\n",
       "          dataTable['output_type'] = 'display_data';\n",
       "          await google.colab.output.renderOutput(dataTable, element);\n",
       "          const docLink = document.createElement('div');\n",
       "          docLink.innerHTML = docLinkHtml;\n",
       "          element.appendChild(docLink);\n",
       "        }\n",
       "      </script>\n",
       "    </div>\n",
       "  </div>\n",
       "  "
      ],
      "text/plain": [
       "       item_cnt_month\n",
       "count   214200.000000\n",
       "mean         0.136120\n",
       "std          0.681326\n",
       "min          0.000000\n",
       "25%          0.000000\n",
       "50%          0.000000\n",
       "75%          0.000000\n",
       "max         20.000000"
      ]
     },
     "execution_count": 76,
     "metadata": {},
     "output_type": "execute_result"
    }
   ],
   "source": [
    "print(f\"Sum of Nov'15 predictions = {submission_cnn_f.sum()}\")\n",
    "submission_cnn_f.describe()"
   ]
  },
  {
   "cell_type": "code",
   "execution_count": 78,
   "metadata": {
    "executionInfo": {
     "elapsed": 1012,
     "status": "ok",
     "timestamp": 1662433862396,
     "user": {
      "displayName": "Pei Yiing Lim",
      "userId": "03784591105715420122"
     },
     "user_tz": -480
    },
    "id": "iscNv_S2auVb"
   },
   "outputs": [],
   "source": [
    "submission_cnn_f.to_csv(\"/content/drive/MyDrive/DSI30/Capstone/Kaggle/dataset/outputs/kaggle_cnn_final_v2.csv\")"
   ]
  }
 ],
 "metadata": {
  "accelerator": "GPU",
  "colab": {
   "authorship_tag": "ABX9TyP2H3CNuk5JhkRl0sO9p/J3",
   "collapsed_sections": [],
   "provenance": []
  },
  "gpuClass": "standard",
  "kernelspec": {
   "display_name": "Python 3 (ipykernel)",
   "language": "python",
   "name": "python3"
  },
  "language_info": {
   "codemirror_mode": {
    "name": "ipython",
    "version": 3
   },
   "file_extension": ".py",
   "mimetype": "text/x-python",
   "name": "python",
   "nbconvert_exporter": "python",
   "pygments_lexer": "ipython3",
   "version": "3.8.13"
  }
 },
 "nbformat": 4,
 "nbformat_minor": 4
}
