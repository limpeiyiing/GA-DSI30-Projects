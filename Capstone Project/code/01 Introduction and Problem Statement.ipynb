{
 "cells": [
  {
   "cell_type": "markdown",
   "id": "0d725185-ada2-4656-bc3e-9c132d1ad338",
   "metadata": {},
   "source": [
    "<img src=\"http://imgur.com/1ZcRyrc.png\" style=\"float: left; margin: 20px; height: 55px\">\n",
    "\n",
    "# Capstone Project : Predicting Sales - Time Series Analysis and Forecasting\n",
    "## PART 1/5: Introduction and Problem Statement"
   ]
  },
  {
   "cell_type": "markdown",
   "id": "e1904f45-e47c-477b-a856-f83afc15f893",
   "metadata": {},
   "source": [
    "---------"
   ]
  },
  {
   "cell_type": "markdown",
   "id": "cfcb46b3-e079-4eb5-93a7-b87f5c74083b",
   "metadata": {},
   "source": [
    "## 1.1 Introduction:\n"
   ]
  },
  {
   "cell_type": "markdown",
   "id": "f2de8f7d-9b40-4d05-88cd-87ea6e90c015",
   "metadata": {},
   "source": [
    "### 1.2.1 The Company"
   ]
  },
  {
   "cell_type": "markdown",
   "id": "beae83bc-2847-4fbb-ba31-b48851d25290",
   "metadata": {},
   "source": [
    "# <img src=\"https://worldskills2019.com/application/files/1915/6448/2821/1S.png\" style=\"float: centre; margin: 20px; height: 120px\">"
   ]
  },
  {
   "cell_type": "markdown",
   "id": "51564f59-5141-4ed6-9248-2f454348eb96",
   "metadata": {},
   "source": [
    "\n",
    "[1C Company](https://1c.ru/eng/title.htm) is an independent software developer, distributor and publisher with headquarters in Moscow, Russia. It **develops, manufactures, licenses, supports and sells computer software, related services and video games.** It reported 37 billion rubles ($650 million) in annual revenue in 2016. \n",
    "\n",
    "1C is the **official distributor of such world-famous vendors** as Microsoft, Novell, Borland, Symantec, ABBYY, Kaspersky Lab, ProMT, Eset Software and over 100 other software vendors. 1C offers more than 10 000 titles of software for office and home use.\n",
    "\n",
    "Among the software produced by 1C, the most important is **1C:Enterprise system** of business automation products. The system holds a [leading position](https://www.bloomberg.com/news/articles/2017-06-15/a-russian-software-billionaire-takes-on-sap-and-oracle) in the Russian ERP market by the number of automated workplaces.\n",
    "\n",
    "1C has also been **publishing and developing educational and entertainment software** since 1996. Educational software developed by 1C cover the most of basic school subjects, as well as programs for the post-graduate education support.\n",
    "\n",
    "In terms of **games**, 1C boasts of their own internal studios, and also partners with local Russian studios to co-publish and distribute titles. 1C’s line-up of localized products includes over 500 titles. They are also a long-term partner and distributor of international studios and other independent developers. \n",
    "\n",
    "One of the business strategies of 1C on the Russia IT market and several other countries is a franchising business model. **About 7000 franchisees in 750 cities of Russia and neighboring countries provide comprehensive service for business automation, deployment, customization and support of 1C:Enterprise-based systems, consulting, user training, etc.**\n",
    "\n"
   ]
  },
  {
   "cell_type": "markdown",
   "id": "7079f4da-d276-4e3d-8df8-e5903e68b634",
   "metadata": {},
   "source": [
    "### 1.2.2 The importance of Demand Forecasting"
   ]
  },
  {
   "cell_type": "markdown",
   "id": "013c81f1-6d1c-4a75-abf6-e56269e44b23",
   "metadata": {
    "jp-MarkdownHeadingCollapsed": true,
    "tags": []
   },
   "source": [
    "A **good sales forecast** is an important core for every business. It helps in overall business planning, budgeting, and risk management. \n",
    "\n",
    "Fundamentally, a sales forecast addresses the following:\n",
    "1) **WHAT** products are going to be sold\n",
    "2) **HOW MUCH** of the product is expected to sell\n",
    "3) **WHERE** will the product be sold\n",
    "4) **WHEN** will the product be sold\n",
    "\n",
    "An inaccurate sales forecast can be a risk to the business in several ways. Mainly:\n",
    "1) **Underforecasting**:   If insufficient product arrives too late or at the wrong location to be sold, the business loses revenue opportunities and customer confidence. \n",
    "2) **Overforecasting**:   If too much product is supplied based on an over-estimated forecast, resources are wasted to manage the storing and handling of slow-moving product. Such resources could have better been directed into other investments that are more profitable for the business. \n",
    "\n",
    "While creating a reasonably accurate **bottoms-up sales forecast** doesn't necessarily need to be rocket science, the process can get increasingly complex and time-consuming to perform manually, especially when large number of location-category-item combinations are involved. \n",
    "\n",
    "**Automating this process with machine learning would help to significantly cut down processing time while maintaining a reasonable degree of accuracy.**\n"
   ]
  },
  {
   "cell_type": "markdown",
   "id": "6629cee6-1fee-48e5-95b4-b93b5efa2d60",
   "metadata": {
    "tags": []
   },
   "source": [
    "## 1.2 Problem Statement:"
   ]
  },
  {
   "cell_type": "markdown",
   "id": "6b749a55-2443-45ff-91f5-3a4df917e05a",
   "metadata": {},
   "source": [
    "**The client/audience**:   \n",
    "The management (decision-makers) and Demand Planning team (executives) of 1C Company. \n",
    "\n",
    "**Task**: \n",
    "1) Prepare an preliminary study on the sales trends between Jan'13 to Oct'15. \n",
    "2) Build a model that can predict total sales for every product and store in the next month. The best model that can best predict sales units will be determined by Root Mean Squared Error (RMSE).\n",
    "\n",
    "**Objectives of the study**:\n",
    "\n",
    "Build and optimize a **regression model** to predict sales volume by item and store in the next month.\n",
    "\n",
    "This model aims to **automate** the bulk of the current Demand Planning process with **higher accuracy**, so that the team may redivert their resources to work on other tasks that can add-value to the Sales and Operations Planning process.\n"
   ]
  },
  {
   "cell_type": "markdown",
   "id": "b2053a81-39c5-4020-8550-03889625affa",
   "metadata": {},
   "source": [
    "## 1.3 The dataset:"
   ]
  },
  {
   "cell_type": "markdown",
   "id": "973d40eb-75e7-437b-b9ea-e9ce1bf46b95",
   "metadata": {},
   "source": [
    "An overview of the different data files used in this study can be found here on [Kaggle](https://www.kaggle.com/competitions/competitive-data-science-predict-future-sales/data)."
   ]
  },
  {
   "cell_type": "markdown",
   "id": "fd3e84a5-0854-4555-80cb-9ce20d7df7af",
   "metadata": {},
   "source": [
    "## 1.4 Workflow:"
   ]
  },
  {
   "cell_type": "markdown",
   "id": "734de939-3fd5-46aa-af37-9a1f3009ae36",
   "metadata": {},
   "source": [
    "1) Data import and cleaning\n",
    "2) Exploratory Data Analysis (EDA)\n",
    "3) Modelling\n",
    "4) Conclusion & Proposed Future Improvements"
   ]
  }
 ],
 "metadata": {
  "kernelspec": {
   "display_name": "Python 3 (ipykernel)",
   "language": "python",
   "name": "python3"
  },
  "language_info": {
   "codemirror_mode": {
    "name": "ipython",
    "version": 3
   },
   "file_extension": ".py",
   "mimetype": "text/x-python",
   "name": "python",
   "nbconvert_exporter": "python",
   "pygments_lexer": "ipython3",
   "version": "3.8.13"
  }
 },
 "nbformat": 4,
 "nbformat_minor": 5
}
