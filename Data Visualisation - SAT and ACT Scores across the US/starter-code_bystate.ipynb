{
 "cells": [
  {
   "cell_type": "markdown",
   "metadata": {},
   "source": [
    "<img src=\"http://imgur.com/1ZcRyrc.png\" style=\"float: left; margin: 20px; height: 55px\">\n",
    "\n",
    "# Project 1: Standardized Test Analysis"
   ]
  },
  {
   "cell_type": "markdown",
   "metadata": {},
   "source": [
    "--- \n",
    "# Part 1\n",
    "\n",
    "Part 1 requires knowledge of basic Python.\n",
    "\n",
    "---"
   ]
  },
  {
   "cell_type": "markdown",
   "metadata": {},
   "source": [
    "## Problem Statement"
   ]
  },
  {
   "cell_type": "markdown",
   "metadata": {},
   "source": [
    "We are interested to identify opportunities to increase SAT participation rates across the United States and will be doing this by:\n",
    "\n",
    "- Exploring trends in SAT participation rates across 50 US states across 3 years (2017-19)\n",
    "- Identifying relationships between SAT participation rates vs SAT scores and ACT participation rates\n",
    "\n",
    "At the end of this study, we aim to identify opportunities for investment by zooming in on specific states. We will also propose focus areas based on the relationships to the factors highlighted above. "
   ]
  },
  {
   "cell_type": "markdown",
   "metadata": {},
   "source": [
    "## Outcomes"
   ]
  },
  {
   "cell_type": "markdown",
   "metadata": {},
   "source": [
    "### Contents:\n",
    "- [Background](#Background)\n",
    "- [Data Import & Cleaning](#Data-Import-and-Cleaning)\n",
    "- [Exploratory Data Analysis](#Exploratory-Data-Analysis)\n",
    "- [Data Visualization](#Visualize-the-Data)\n",
    "- [Conclusions and Recommendations](#Conclusions-and-Recommendations)"
   ]
  },
  {
   "cell_type": "markdown",
   "metadata": {},
   "source": [
    "## Background"
   ]
  },
  {
   "cell_type": "markdown",
   "metadata": {},
   "source": [
    "The SAT and ACT are standardized tests that many colleges and universities in the United States require for their admissions process. This score is used along with other materials such as grade point average (GPA) and essay responses to determine whether or not a potential student will be accepted to the university.\n",
    "\n",
    "The SAT has two sections of the test: Evidence-Based Reading and Writing and Math ([*source*](https://www.princetonreview.com/college/sat-sections)). The ACT has 4 sections: English, Mathematics, Reading, and Science, with an additional optional writing section ([*source*](https://www.act.org/content/act/en/products-and-services/the-act/scores/understanding-your-scores.html)). They have different score ranges, which you can read more about on their websites or additional outside sources (a quick Google search will help you understand the scores for each test):\n",
    "* [SAT](https://collegereadiness.collegeboard.org/sat)\n",
    "* [ACT](https://www.act.org/content/act/en.html)\n",
    "\n",
    "Standardized tests have long been a controversial topic for students, administrators, and legislators. Since the 1940's, an increasing number of colleges have been using scores from sudents' performances on tests like the SAT and the ACT as a measure for college readiness and aptitude ([*source*](https://www.minotdailynews.com/news/local-news/2017/04/a-brief-history-of-the-sat-and-act/)). Supporters of these tests argue that these scores can be used as an objective measure to determine college admittance. Opponents of these tests claim that these tests are not accurate measures of students potential or ability and serve as an inequitable barrier to entry. Lately, more and more schools are opting to drop the SAT/ACT requirement for their Fall 2021 applications ([*read more about this here*](https://www.cnn.com/2020/04/14/us/coronavirus-colleges-sat-act-test-trnd/index.html))."
   ]
  },
  {
   "cell_type": "markdown",
   "metadata": {},
   "source": [
    "In 2016, The College Board redesigned the SAT to better reflect skill competencies required for college and future work settings. The new SAT format was administered in spring 2016. "
   ]
  },
  {
   "cell_type": "markdown",
   "metadata": {},
   "source": [
    "### Choose your Data\n",
    "\n",
    "There are 10 datasets included in the [`data`](./data/) folder for this project. You are required to pick **at least two** of these to complete your analysis. Feel free to use more than two if you would like, or add other relevant datasets you find online.\n",
    "\n",
    "* [`act_2017.csv`](./data/act_2017.csv): 2017 ACT Scores by State\n",
    "* [`act_2018.csv`](./data/act_2018.csv): 2018 ACT Scores by State\n",
    "* [`act_2019.csv`](./data/act_2019.csv): 2019 ACT Scores by State\n",
    "* [`act_2019_ca.csv`](./data/act_2019_ca.csv): 2019 ACT Scores in California by School\n",
    "* [`sat_2017.csv`](./data/sat_2017.csv): 2017 SAT Scores by State\n",
    "* [`sat_2018.csv`](./data/sat_2018.csv): 2018 SAT Scores by State\n",
    "* [`sat_2019.csv`](./data/sat_2019.csv): 2019 SAT Scores by State\n",
    "* [`sat_2019_by_intended_college_major.csv`](./data/sat_2019_by_intended_college_major.csv): 2019 SAT Scores by Intended College Major\n",
    "* [`sat_2019_ca.csv`](./data/sat_2019_ca.csv): 2019 SAT Scores in California by School\n",
    "* [`sat_act_by_college.csv`](./data/sat_act_by_college.csv): Ranges of Accepted ACT & SAT Student Scores by Colleges"
   ]
  },
  {
   "cell_type": "markdown",
   "metadata": {},
   "source": [
    "#### **<span style=\"color:blue\">6 Datasets were chosen for this analysis, which can be grouped into two large subsets of 3 files each:</span>**\n",
    "\n",
    "**Subset 1:** act_2017.csv, act_2018.csv, act_2019.csv,\n",
    "Contains ACT Participation rates and Average Composite Scores by State\n",
    "\n",
    "**Subset 2:** act_2017.csv, act_2018.csv, act_2019.csv,\n",
    "Contains SAT Participation rates and Average Total Scores by State. Also contains breakdown of Total Scores into Math and EBRW sections\n",
    "\n"
   ]
  },
  {
   "cell_type": "markdown",
   "metadata": {},
   "source": [
    "### Outside Research"
   ]
  },
  {
   "cell_type": "markdown",
   "metadata": {},
   "source": [
    "Based on your problem statement and your chosen datasets, spend some time doing outside research on state policies or additional information that might be relevant. Summarize your findings below. If you bring in any outside tables or charts, make sure you are explicit about having borrowed them. If you quote any text, make sure that it renders as being quoted. **Make sure that you cite your sources.**"
   ]
  },
  {
   "cell_type": "markdown",
   "metadata": {},
   "source": [
    "**Additional resources used:**\n",
    "1) List of states where SAT/ACT is mandatory: [link](https://testive.com/state-sat-act/)\n",
    "2) Changes in SAT format: [link](https://sat.ivyglobal.com/new-vs-old)\n",
    "3) Impact of socioeconomic status on test participation rate: [link](https://www.cnbc.com/2019/10/03/rich-students-get-better-sat-scores-heres-why.html)\n",
    "4) Understanding SAT test scores: [link](https://blog.collegevine.com/here-are-the-average-sat-scores-by-state/)\n",
    "5) Differences between SAT and ACT: [link](https://www.crimsoneducation.org/sg/blog/test-prep/sat-vs-act-whats-the-difference/)\n"
   ]
  },
  {
   "cell_type": "markdown",
   "metadata": {},
   "source": [
    "### Coding Challenges\n",
    "\n",
    "1. Manually calculate mean:\n",
    "\n",
    "    Write a function that takes in values and returns the mean of the values. Create a list of numbers that you test on your function to check to make sure your function works!\n",
    "    \n",
    "    *Note*: Do not use any mean methods built-in to any Python libraries to do this! This should be done without importing any additional libraries."
   ]
  },
  {
   "cell_type": "code",
   "execution_count": 1,
   "metadata": {},
   "outputs": [
    {
     "data": {
      "text/plain": [
       "159.66666666666666"
      ]
     },
     "execution_count": 1,
     "metadata": {},
     "output_type": "execute_result"
    }
   ],
   "source": [
    "def list_mean(a_list):\n",
    "    list_mean = sum(a_list)/len(a_list)\n",
    "    return list_mean\n",
    "\n",
    "a_list = [12,20,40,100,150,225,185,218,487]\n",
    "\n",
    "list_mean(a_list)"
   ]
  },
  {
   "cell_type": "markdown",
   "metadata": {},
   "source": [
    "2. Manually calculate standard deviation:\n",
    "\n",
    "    The formula for standard deviation is below:\n",
    "\n",
    "    $$\\sigma = \\sqrt{\\frac{1}{n}\\sum_{i=1}^n(x_i - \\mu)^2}$$\n",
    "\n",
    "    Where $x_i$ represents each value in the dataset, $\\mu$ represents the mean of all values in the dataset and $n$ represents the number of values in the dataset.\n",
    "\n",
    "    Write a function that takes in values and returns the standard deviation of the values using the formula above. Hint: use the function you wrote above to calculate the mean! Use the list of numbers you created above to test on your function.\n",
    "    \n",
    "    *Note*: Do not use any standard deviation methods built-in to any Python libraries to do this! This should be done without importing any additional libraries."
   ]
  },
  {
   "cell_type": "code",
   "execution_count": 2,
   "metadata": {},
   "outputs": [
    {
     "data": {
      "text/plain": [
       "139.3421049870506"
      ]
     },
     "execution_count": 2,
     "metadata": {},
     "output_type": "execute_result"
    }
   ],
   "source": [
    "# Code:\n",
    "def std_dev(a_list):\n",
    "    sum_diff = 0\n",
    "    count_n = 0\n",
    "    for num in a_list:\n",
    "        sum_diff += (num-list_mean(a_list))**2\n",
    "        count_n +=1\n",
    "    std_dev = (sum_diff/count_n)**0.5\n",
    "    return std_dev\n",
    "\n",
    "std_dev(a_list)"
   ]
  },
  {
   "cell_type": "markdown",
   "metadata": {},
   "source": [
    "3. Data cleaning function:\n",
    "    \n",
    "    Write a function that takes in a string that is a number and a percent symbol (ex. '50%', '30.5%', etc.) and converts this to a float that is the decimal approximation of the percent. For example, inputting '50%' in your function should return 0.5, '30.5%' should return 0.305, etc. Make sure to test your function to make sure it works!\n",
    "\n",
    "You will use these functions later on in the project!"
   ]
  },
  {
   "cell_type": "code",
   "execution_count": 3,
   "metadata": {},
   "outputs": [
    {
     "data": {
      "text/plain": [
       "0.5025"
      ]
     },
     "execution_count": 3,
     "metadata": {},
     "output_type": "execute_result"
    }
   ],
   "source": [
    "percent = \"30.5%\"\n",
    "def convert_to_float(percent):\n",
    "    try:\n",
    "        new_float = float(percent.replace(\"%\",\"\").replace(\" \",\"\"))/100\n",
    "        return new_float\n",
    "    except:\n",
    "        return\n",
    "    \n",
    "convert_to_float(\"50.25%\")"
   ]
  },
  {
   "cell_type": "markdown",
   "metadata": {},
   "source": [
    "--- \n",
    "# Part 2\n",
    "\n",
    "Part 2 requires knowledge of Pandas, EDA, data cleaning, and data visualization.\n",
    "\n",
    "---"
   ]
  },
  {
   "cell_type": "markdown",
   "metadata": {},
   "source": [
    "*All libraries used should be added here*"
   ]
  },
  {
   "cell_type": "code",
   "execution_count": 4,
   "metadata": {},
   "outputs": [],
   "source": [
    "# Imports:\n",
    "import numpy as np\n",
    "import pandas as pd\n",
    "import matplotlib.pyplot as plt\n",
    "import seaborn as sns\n",
    "sns.set()"
   ]
  },
  {
   "cell_type": "markdown",
   "metadata": {},
   "source": [
    "## Data Import and Cleaning"
   ]
  },
  {
   "cell_type": "markdown",
   "metadata": {},
   "source": [
    "### Data Import & Cleaning\n",
    "\n",
    "Import the datasets that you selected for this project and go through the following steps at a minimum. You are welcome to do further cleaning as you feel necessary:\n",
    "1. Display the data: print the first 5 rows of each dataframe to your Jupyter notebook.\n",
    "2. Check for missing values.\n",
    "3. Check for any obvious issues with the observations (keep in mind the minimum & maximum possible values for each test/subtest).\n",
    "4. Fix any errors you identified in steps 2-3.\n",
    "5. Display the data types of each feature.\n",
    "6. Fix any incorrect data types found in step 5.\n",
    "    - Fix any individual values preventing other columns from being the appropriate type.\n",
    "    - If your dataset has a column of percents (ex. '50%', '30.5%', etc.), use the function you wrote in Part 1 (coding challenges, number 3) to convert this to floats! *Hint*: use `.map()` or `.apply()`.\n",
    "7. Rename Columns.\n",
    "    - Column names should be all lowercase.\n",
    "    - Column names should not contain spaces (underscores will suffice--this allows for using the `df.column_name` method to access columns in addition to `df['column_name']`).\n",
    "    - Column names should be unique and informative.\n",
    "8. Drop unnecessary rows (if needed).\n",
    "9. Merge dataframes that can be merged.\n",
    "10. Perform any additional cleaning that you feel is necessary.\n",
    "11. Save your cleaned and merged dataframes as csv files."
   ]
  },
  {
   "cell_type": "code",
   "execution_count": 5,
   "metadata": {
    "tags": []
   },
   "outputs": [],
   "source": [
    "act_2017 = pd.read_csv(\"data/act_2017.csv\")\n",
    "act_2018 = pd.read_csv(\"data/act_2018.csv\")\n",
    "act_2019 = pd.read_csv(\"data/act_2019.csv\")\n",
    "sat_2017 = pd.read_csv(\"data/sat_2017.csv\")\n",
    "sat_2018 = pd.read_csv(\"data/sat_2018.csv\")\n",
    "sat_2019 = pd.read_csv(\"data/sat_2019.csv\")"
   ]
  },
  {
   "cell_type": "markdown",
   "metadata": {},
   "source": [
    "### Check the dataframes that were loaded:"
   ]
  },
  {
   "cell_type": "code",
   "execution_count": 6,
   "metadata": {},
   "outputs": [
    {
     "data": {
      "text/html": [
       "<div>\n",
       "<style scoped>\n",
       "    .dataframe tbody tr th:only-of-type {\n",
       "        vertical-align: middle;\n",
       "    }\n",
       "\n",
       "    .dataframe tbody tr th {\n",
       "        vertical-align: top;\n",
       "    }\n",
       "\n",
       "    .dataframe thead th {\n",
       "        text-align: right;\n",
       "    }\n",
       "</style>\n",
       "<table border=\"1\" class=\"dataframe\">\n",
       "  <thead>\n",
       "    <tr style=\"text-align: right;\">\n",
       "      <th></th>\n",
       "      <th>State</th>\n",
       "      <th>Participation</th>\n",
       "      <th>English</th>\n",
       "      <th>Math</th>\n",
       "      <th>Reading</th>\n",
       "      <th>Science</th>\n",
       "      <th>Composite</th>\n",
       "    </tr>\n",
       "  </thead>\n",
       "  <tbody>\n",
       "    <tr>\n",
       "      <th>0</th>\n",
       "      <td>National</td>\n",
       "      <td>60%</td>\n",
       "      <td>20.3</td>\n",
       "      <td>20.7</td>\n",
       "      <td>21.4</td>\n",
       "      <td>21.0</td>\n",
       "      <td>21.0</td>\n",
       "    </tr>\n",
       "    <tr>\n",
       "      <th>1</th>\n",
       "      <td>Alabama</td>\n",
       "      <td>100%</td>\n",
       "      <td>18.9</td>\n",
       "      <td>18.4</td>\n",
       "      <td>19.7</td>\n",
       "      <td>19.4</td>\n",
       "      <td>19.2</td>\n",
       "    </tr>\n",
       "    <tr>\n",
       "      <th>2</th>\n",
       "      <td>Alaska</td>\n",
       "      <td>65%</td>\n",
       "      <td>18.7</td>\n",
       "      <td>19.8</td>\n",
       "      <td>20.4</td>\n",
       "      <td>19.9</td>\n",
       "      <td>19.8</td>\n",
       "    </tr>\n",
       "    <tr>\n",
       "      <th>3</th>\n",
       "      <td>Arizona</td>\n",
       "      <td>62%</td>\n",
       "      <td>18.6</td>\n",
       "      <td>19.8</td>\n",
       "      <td>20.1</td>\n",
       "      <td>19.8</td>\n",
       "      <td>19.7</td>\n",
       "    </tr>\n",
       "    <tr>\n",
       "      <th>4</th>\n",
       "      <td>Arkansas</td>\n",
       "      <td>100%</td>\n",
       "      <td>18.9</td>\n",
       "      <td>19.0</td>\n",
       "      <td>19.7</td>\n",
       "      <td>19.5</td>\n",
       "      <td>19.4</td>\n",
       "    </tr>\n",
       "  </tbody>\n",
       "</table>\n",
       "</div>"
      ],
      "text/plain": [
       "      State Participation  English  Math  Reading  Science Composite\n",
       "0  National           60%     20.3  20.7     21.4     21.0      21.0\n",
       "1   Alabama          100%     18.9  18.4     19.7     19.4      19.2\n",
       "2    Alaska           65%     18.7  19.8     20.4     19.9      19.8\n",
       "3   Arizona           62%     18.6  19.8     20.1     19.8      19.7\n",
       "4  Arkansas          100%     18.9  19.0     19.7     19.5      19.4"
      ]
     },
     "execution_count": 6,
     "metadata": {},
     "output_type": "execute_result"
    }
   ],
   "source": [
    "act_2017.head()"
   ]
  },
  {
   "cell_type": "code",
   "execution_count": 7,
   "metadata": {},
   "outputs": [
    {
     "data": {
      "text/html": [
       "<div>\n",
       "<style scoped>\n",
       "    .dataframe tbody tr th:only-of-type {\n",
       "        vertical-align: middle;\n",
       "    }\n",
       "\n",
       "    .dataframe tbody tr th {\n",
       "        vertical-align: top;\n",
       "    }\n",
       "\n",
       "    .dataframe thead th {\n",
       "        text-align: right;\n",
       "    }\n",
       "</style>\n",
       "<table border=\"1\" class=\"dataframe\">\n",
       "  <thead>\n",
       "    <tr style=\"text-align: right;\">\n",
       "      <th></th>\n",
       "      <th>State</th>\n",
       "      <th>Participation</th>\n",
       "      <th>Composite</th>\n",
       "    </tr>\n",
       "  </thead>\n",
       "  <tbody>\n",
       "    <tr>\n",
       "      <th>0</th>\n",
       "      <td>Alabama</td>\n",
       "      <td>100%</td>\n",
       "      <td>19.1</td>\n",
       "    </tr>\n",
       "    <tr>\n",
       "      <th>1</th>\n",
       "      <td>Alaska</td>\n",
       "      <td>33%</td>\n",
       "      <td>20.8</td>\n",
       "    </tr>\n",
       "    <tr>\n",
       "      <th>2</th>\n",
       "      <td>Arizona</td>\n",
       "      <td>66%</td>\n",
       "      <td>19.2</td>\n",
       "    </tr>\n",
       "    <tr>\n",
       "      <th>3</th>\n",
       "      <td>Arkansas</td>\n",
       "      <td>100%</td>\n",
       "      <td>19.4</td>\n",
       "    </tr>\n",
       "    <tr>\n",
       "      <th>4</th>\n",
       "      <td>California</td>\n",
       "      <td>27%</td>\n",
       "      <td>22.7</td>\n",
       "    </tr>\n",
       "  </tbody>\n",
       "</table>\n",
       "</div>"
      ],
      "text/plain": [
       "        State Participation  Composite\n",
       "0     Alabama          100%       19.1\n",
       "1      Alaska           33%       20.8\n",
       "2     Arizona           66%       19.2\n",
       "3    Arkansas          100%       19.4\n",
       "4  California           27%       22.7"
      ]
     },
     "execution_count": 7,
     "metadata": {},
     "output_type": "execute_result"
    }
   ],
   "source": [
    "act_2018.head()"
   ]
  },
  {
   "cell_type": "code",
   "execution_count": 8,
   "metadata": {},
   "outputs": [
    {
     "data": {
      "text/html": [
       "<div>\n",
       "<style scoped>\n",
       "    .dataframe tbody tr th:only-of-type {\n",
       "        vertical-align: middle;\n",
       "    }\n",
       "\n",
       "    .dataframe tbody tr th {\n",
       "        vertical-align: top;\n",
       "    }\n",
       "\n",
       "    .dataframe thead th {\n",
       "        text-align: right;\n",
       "    }\n",
       "</style>\n",
       "<table border=\"1\" class=\"dataframe\">\n",
       "  <thead>\n",
       "    <tr style=\"text-align: right;\">\n",
       "      <th></th>\n",
       "      <th>State</th>\n",
       "      <th>Participation</th>\n",
       "      <th>Composite</th>\n",
       "    </tr>\n",
       "  </thead>\n",
       "  <tbody>\n",
       "    <tr>\n",
       "      <th>0</th>\n",
       "      <td>Alabama</td>\n",
       "      <td>100%</td>\n",
       "      <td>18.9</td>\n",
       "    </tr>\n",
       "    <tr>\n",
       "      <th>1</th>\n",
       "      <td>Alaska</td>\n",
       "      <td>38%</td>\n",
       "      <td>20.1</td>\n",
       "    </tr>\n",
       "    <tr>\n",
       "      <th>2</th>\n",
       "      <td>Arizona</td>\n",
       "      <td>73%</td>\n",
       "      <td>19.0</td>\n",
       "    </tr>\n",
       "    <tr>\n",
       "      <th>3</th>\n",
       "      <td>Arkansas</td>\n",
       "      <td>100%</td>\n",
       "      <td>19.3</td>\n",
       "    </tr>\n",
       "    <tr>\n",
       "      <th>4</th>\n",
       "      <td>California</td>\n",
       "      <td>23%</td>\n",
       "      <td>22.6</td>\n",
       "    </tr>\n",
       "  </tbody>\n",
       "</table>\n",
       "</div>"
      ],
      "text/plain": [
       "        State Participation  Composite\n",
       "0     Alabama          100%       18.9\n",
       "1      Alaska           38%       20.1\n",
       "2     Arizona           73%       19.0\n",
       "3    Arkansas          100%       19.3\n",
       "4  California           23%       22.6"
      ]
     },
     "execution_count": 8,
     "metadata": {},
     "output_type": "execute_result"
    }
   ],
   "source": [
    "act_2019.head()"
   ]
  },
  {
   "cell_type": "code",
   "execution_count": 9,
   "metadata": {
    "tags": []
   },
   "outputs": [
    {
     "data": {
      "text/html": [
       "<div>\n",
       "<style scoped>\n",
       "    .dataframe tbody tr th:only-of-type {\n",
       "        vertical-align: middle;\n",
       "    }\n",
       "\n",
       "    .dataframe tbody tr th {\n",
       "        vertical-align: top;\n",
       "    }\n",
       "\n",
       "    .dataframe thead th {\n",
       "        text-align: right;\n",
       "    }\n",
       "</style>\n",
       "<table border=\"1\" class=\"dataframe\">\n",
       "  <thead>\n",
       "    <tr style=\"text-align: right;\">\n",
       "      <th></th>\n",
       "      <th>State</th>\n",
       "      <th>Participation</th>\n",
       "      <th>Evidence-Based Reading and Writing</th>\n",
       "      <th>Math</th>\n",
       "      <th>Total</th>\n",
       "    </tr>\n",
       "  </thead>\n",
       "  <tbody>\n",
       "    <tr>\n",
       "      <th>0</th>\n",
       "      <td>Alabama</td>\n",
       "      <td>5%</td>\n",
       "      <td>593</td>\n",
       "      <td>572</td>\n",
       "      <td>1165</td>\n",
       "    </tr>\n",
       "    <tr>\n",
       "      <th>1</th>\n",
       "      <td>Alaska</td>\n",
       "      <td>38%</td>\n",
       "      <td>547</td>\n",
       "      <td>533</td>\n",
       "      <td>1080</td>\n",
       "    </tr>\n",
       "    <tr>\n",
       "      <th>2</th>\n",
       "      <td>Arizona</td>\n",
       "      <td>30%</td>\n",
       "      <td>563</td>\n",
       "      <td>553</td>\n",
       "      <td>1116</td>\n",
       "    </tr>\n",
       "    <tr>\n",
       "      <th>3</th>\n",
       "      <td>Arkansas</td>\n",
       "      <td>3%</td>\n",
       "      <td>614</td>\n",
       "      <td>594</td>\n",
       "      <td>1208</td>\n",
       "    </tr>\n",
       "    <tr>\n",
       "      <th>4</th>\n",
       "      <td>California</td>\n",
       "      <td>53%</td>\n",
       "      <td>531</td>\n",
       "      <td>524</td>\n",
       "      <td>1055</td>\n",
       "    </tr>\n",
       "  </tbody>\n",
       "</table>\n",
       "</div>"
      ],
      "text/plain": [
       "        State Participation  Evidence-Based Reading and Writing  Math  Total\n",
       "0     Alabama            5%                                 593   572   1165\n",
       "1      Alaska           38%                                 547   533   1080\n",
       "2     Arizona           30%                                 563   553   1116\n",
       "3    Arkansas            3%                                 614   594   1208\n",
       "4  California           53%                                 531   524   1055"
      ]
     },
     "execution_count": 9,
     "metadata": {},
     "output_type": "execute_result"
    }
   ],
   "source": [
    "sat_2017.head()"
   ]
  },
  {
   "cell_type": "code",
   "execution_count": 10,
   "metadata": {},
   "outputs": [
    {
     "data": {
      "text/html": [
       "<div>\n",
       "<style scoped>\n",
       "    .dataframe tbody tr th:only-of-type {\n",
       "        vertical-align: middle;\n",
       "    }\n",
       "\n",
       "    .dataframe tbody tr th {\n",
       "        vertical-align: top;\n",
       "    }\n",
       "\n",
       "    .dataframe thead th {\n",
       "        text-align: right;\n",
       "    }\n",
       "</style>\n",
       "<table border=\"1\" class=\"dataframe\">\n",
       "  <thead>\n",
       "    <tr style=\"text-align: right;\">\n",
       "      <th></th>\n",
       "      <th>State</th>\n",
       "      <th>Participation</th>\n",
       "      <th>Evidence-Based Reading and Writing</th>\n",
       "      <th>Math</th>\n",
       "      <th>Total</th>\n",
       "    </tr>\n",
       "  </thead>\n",
       "  <tbody>\n",
       "    <tr>\n",
       "      <th>0</th>\n",
       "      <td>Alabama</td>\n",
       "      <td>6%</td>\n",
       "      <td>595</td>\n",
       "      <td>571</td>\n",
       "      <td>1166</td>\n",
       "    </tr>\n",
       "    <tr>\n",
       "      <th>1</th>\n",
       "      <td>Alaska</td>\n",
       "      <td>43%</td>\n",
       "      <td>562</td>\n",
       "      <td>544</td>\n",
       "      <td>1106</td>\n",
       "    </tr>\n",
       "    <tr>\n",
       "      <th>2</th>\n",
       "      <td>Arizona</td>\n",
       "      <td>29%</td>\n",
       "      <td>577</td>\n",
       "      <td>572</td>\n",
       "      <td>1149</td>\n",
       "    </tr>\n",
       "    <tr>\n",
       "      <th>3</th>\n",
       "      <td>Arkansas</td>\n",
       "      <td>5%</td>\n",
       "      <td>592</td>\n",
       "      <td>576</td>\n",
       "      <td>1169</td>\n",
       "    </tr>\n",
       "    <tr>\n",
       "      <th>4</th>\n",
       "      <td>California</td>\n",
       "      <td>60%</td>\n",
       "      <td>540</td>\n",
       "      <td>536</td>\n",
       "      <td>1076</td>\n",
       "    </tr>\n",
       "  </tbody>\n",
       "</table>\n",
       "</div>"
      ],
      "text/plain": [
       "        State Participation  Evidence-Based Reading and Writing  Math  Total\n",
       "0     Alabama            6%                                 595   571   1166\n",
       "1      Alaska           43%                                 562   544   1106\n",
       "2     Arizona           29%                                 577   572   1149\n",
       "3    Arkansas            5%                                 592   576   1169\n",
       "4  California           60%                                 540   536   1076"
      ]
     },
     "execution_count": 10,
     "metadata": {},
     "output_type": "execute_result"
    }
   ],
   "source": [
    "sat_2018.head()"
   ]
  },
  {
   "cell_type": "code",
   "execution_count": 11,
   "metadata": {},
   "outputs": [
    {
     "data": {
      "text/html": [
       "<div>\n",
       "<style scoped>\n",
       "    .dataframe tbody tr th:only-of-type {\n",
       "        vertical-align: middle;\n",
       "    }\n",
       "\n",
       "    .dataframe tbody tr th {\n",
       "        vertical-align: top;\n",
       "    }\n",
       "\n",
       "    .dataframe thead th {\n",
       "        text-align: right;\n",
       "    }\n",
       "</style>\n",
       "<table border=\"1\" class=\"dataframe\">\n",
       "  <thead>\n",
       "    <tr style=\"text-align: right;\">\n",
       "      <th></th>\n",
       "      <th>State</th>\n",
       "      <th>Participation Rate</th>\n",
       "      <th>EBRW</th>\n",
       "      <th>Math</th>\n",
       "      <th>Total</th>\n",
       "    </tr>\n",
       "  </thead>\n",
       "  <tbody>\n",
       "    <tr>\n",
       "      <th>0</th>\n",
       "      <td>Alabama</td>\n",
       "      <td>7%</td>\n",
       "      <td>583</td>\n",
       "      <td>560</td>\n",
       "      <td>1143</td>\n",
       "    </tr>\n",
       "    <tr>\n",
       "      <th>1</th>\n",
       "      <td>Alaska</td>\n",
       "      <td>41%</td>\n",
       "      <td>556</td>\n",
       "      <td>541</td>\n",
       "      <td>1097</td>\n",
       "    </tr>\n",
       "    <tr>\n",
       "      <th>2</th>\n",
       "      <td>Arizona</td>\n",
       "      <td>31%</td>\n",
       "      <td>569</td>\n",
       "      <td>565</td>\n",
       "      <td>1134</td>\n",
       "    </tr>\n",
       "    <tr>\n",
       "      <th>3</th>\n",
       "      <td>Arkansas</td>\n",
       "      <td>6%</td>\n",
       "      <td>582</td>\n",
       "      <td>559</td>\n",
       "      <td>1141</td>\n",
       "    </tr>\n",
       "    <tr>\n",
       "      <th>4</th>\n",
       "      <td>California</td>\n",
       "      <td>63%</td>\n",
       "      <td>534</td>\n",
       "      <td>531</td>\n",
       "      <td>1065</td>\n",
       "    </tr>\n",
       "  </tbody>\n",
       "</table>\n",
       "</div>"
      ],
      "text/plain": [
       "        State Participation Rate  EBRW  Math  Total\n",
       "0     Alabama                 7%   583   560   1143\n",
       "1      Alaska                41%   556   541   1097\n",
       "2     Arizona                31%   569   565   1134\n",
       "3    Arkansas                 6%   582   559   1141\n",
       "4  California                63%   534   531   1065"
      ]
     },
     "execution_count": 11,
     "metadata": {},
     "output_type": "execute_result"
    }
   ],
   "source": [
    "sat_2019.head()"
   ]
  },
  {
   "cell_type": "markdown",
   "metadata": {},
   "source": [
    "### Standardize the column headers throughout:\n"
   ]
  },
  {
   "cell_type": "markdown",
   "metadata": {},
   "source": [
    "**a) Rename column headers in lower case, ensuring to differentiate between SAT and ACT datasets:**"
   ]
  },
  {
   "cell_type": "code",
   "execution_count": 12,
   "metadata": {},
   "outputs": [],
   "source": [
    "sat_new_headers = [\"state\",\"sat_part\",\"sat_ebrw\",\"sat_math\",\"sat_total\"]\n",
    "act_new_headers = [\"state\",\"act_part\",\"act_comp\"]\n",
    "act_2017_new_headers = [\"state\",\"act_part\",\"english\",\"math\",\"reading\",\"science\",\"act_comp\"]\n",
    "\n",
    "def column_name(input_df,header_list):\n",
    "    input_df.columns = header_list\n",
    "    return\n",
    "\n",
    "column_name(sat_2018,sat_new_headers)\n",
    "column_name(sat_2017,sat_new_headers)\n",
    "column_name(sat_2019,sat_new_headers)\n",
    "column_name(act_2018,act_new_headers)\n",
    "column_name(act_2019,act_new_headers)\n",
    "column_name(act_2017,act_2017_new_headers)\n"
   ]
  },
  {
   "cell_type": "code",
   "execution_count": 13,
   "metadata": {},
   "outputs": [
    {
     "data": {
      "text/html": [
       "<div>\n",
       "<style scoped>\n",
       "    .dataframe tbody tr th:only-of-type {\n",
       "        vertical-align: middle;\n",
       "    }\n",
       "\n",
       "    .dataframe tbody tr th {\n",
       "        vertical-align: top;\n",
       "    }\n",
       "\n",
       "    .dataframe thead th {\n",
       "        text-align: right;\n",
       "    }\n",
       "</style>\n",
       "<table border=\"1\" class=\"dataframe\">\n",
       "  <thead>\n",
       "    <tr style=\"text-align: right;\">\n",
       "      <th></th>\n",
       "      <th>state</th>\n",
       "      <th>sat_part</th>\n",
       "      <th>sat_ebrw</th>\n",
       "      <th>sat_math</th>\n",
       "      <th>sat_total</th>\n",
       "    </tr>\n",
       "  </thead>\n",
       "  <tbody>\n",
       "    <tr>\n",
       "      <th>0</th>\n",
       "      <td>Alabama</td>\n",
       "      <td>5%</td>\n",
       "      <td>593</td>\n",
       "      <td>572</td>\n",
       "      <td>1165</td>\n",
       "    </tr>\n",
       "    <tr>\n",
       "      <th>1</th>\n",
       "      <td>Alaska</td>\n",
       "      <td>38%</td>\n",
       "      <td>547</td>\n",
       "      <td>533</td>\n",
       "      <td>1080</td>\n",
       "    </tr>\n",
       "    <tr>\n",
       "      <th>2</th>\n",
       "      <td>Arizona</td>\n",
       "      <td>30%</td>\n",
       "      <td>563</td>\n",
       "      <td>553</td>\n",
       "      <td>1116</td>\n",
       "    </tr>\n",
       "    <tr>\n",
       "      <th>3</th>\n",
       "      <td>Arkansas</td>\n",
       "      <td>3%</td>\n",
       "      <td>614</td>\n",
       "      <td>594</td>\n",
       "      <td>1208</td>\n",
       "    </tr>\n",
       "    <tr>\n",
       "      <th>4</th>\n",
       "      <td>California</td>\n",
       "      <td>53%</td>\n",
       "      <td>531</td>\n",
       "      <td>524</td>\n",
       "      <td>1055</td>\n",
       "    </tr>\n",
       "  </tbody>\n",
       "</table>\n",
       "</div>"
      ],
      "text/plain": [
       "        state sat_part  sat_ebrw  sat_math  sat_total\n",
       "0     Alabama       5%       593       572       1165\n",
       "1      Alaska      38%       547       533       1080\n",
       "2     Arizona      30%       563       553       1116\n",
       "3    Arkansas       3%       614       594       1208\n",
       "4  California      53%       531       524       1055"
      ]
     },
     "execution_count": 13,
     "metadata": {},
     "output_type": "execute_result"
    }
   ],
   "source": [
    "sat_2017.head()"
   ]
  },
  {
   "cell_type": "code",
   "execution_count": 14,
   "metadata": {},
   "outputs": [
    {
     "data": {
      "text/html": [
       "<div>\n",
       "<style scoped>\n",
       "    .dataframe tbody tr th:only-of-type {\n",
       "        vertical-align: middle;\n",
       "    }\n",
       "\n",
       "    .dataframe tbody tr th {\n",
       "        vertical-align: top;\n",
       "    }\n",
       "\n",
       "    .dataframe thead th {\n",
       "        text-align: right;\n",
       "    }\n",
       "</style>\n",
       "<table border=\"1\" class=\"dataframe\">\n",
       "  <thead>\n",
       "    <tr style=\"text-align: right;\">\n",
       "      <th></th>\n",
       "      <th>state</th>\n",
       "      <th>sat_part</th>\n",
       "      <th>sat_ebrw</th>\n",
       "      <th>sat_math</th>\n",
       "      <th>sat_total</th>\n",
       "    </tr>\n",
       "  </thead>\n",
       "  <tbody>\n",
       "    <tr>\n",
       "      <th>0</th>\n",
       "      <td>Alabama</td>\n",
       "      <td>6%</td>\n",
       "      <td>595</td>\n",
       "      <td>571</td>\n",
       "      <td>1166</td>\n",
       "    </tr>\n",
       "    <tr>\n",
       "      <th>1</th>\n",
       "      <td>Alaska</td>\n",
       "      <td>43%</td>\n",
       "      <td>562</td>\n",
       "      <td>544</td>\n",
       "      <td>1106</td>\n",
       "    </tr>\n",
       "    <tr>\n",
       "      <th>2</th>\n",
       "      <td>Arizona</td>\n",
       "      <td>29%</td>\n",
       "      <td>577</td>\n",
       "      <td>572</td>\n",
       "      <td>1149</td>\n",
       "    </tr>\n",
       "    <tr>\n",
       "      <th>3</th>\n",
       "      <td>Arkansas</td>\n",
       "      <td>5%</td>\n",
       "      <td>592</td>\n",
       "      <td>576</td>\n",
       "      <td>1169</td>\n",
       "    </tr>\n",
       "    <tr>\n",
       "      <th>4</th>\n",
       "      <td>California</td>\n",
       "      <td>60%</td>\n",
       "      <td>540</td>\n",
       "      <td>536</td>\n",
       "      <td>1076</td>\n",
       "    </tr>\n",
       "  </tbody>\n",
       "</table>\n",
       "</div>"
      ],
      "text/plain": [
       "        state sat_part  sat_ebrw  sat_math  sat_total\n",
       "0     Alabama       6%       595       571       1166\n",
       "1      Alaska      43%       562       544       1106\n",
       "2     Arizona      29%       577       572       1149\n",
       "3    Arkansas       5%       592       576       1169\n",
       "4  California      60%       540       536       1076"
      ]
     },
     "execution_count": 14,
     "metadata": {},
     "output_type": "execute_result"
    }
   ],
   "source": [
    "sat_2018.head()"
   ]
  },
  {
   "cell_type": "code",
   "execution_count": 15,
   "metadata": {},
   "outputs": [
    {
     "data": {
      "text/html": [
       "<div>\n",
       "<style scoped>\n",
       "    .dataframe tbody tr th:only-of-type {\n",
       "        vertical-align: middle;\n",
       "    }\n",
       "\n",
       "    .dataframe tbody tr th {\n",
       "        vertical-align: top;\n",
       "    }\n",
       "\n",
       "    .dataframe thead th {\n",
       "        text-align: right;\n",
       "    }\n",
       "</style>\n",
       "<table border=\"1\" class=\"dataframe\">\n",
       "  <thead>\n",
       "    <tr style=\"text-align: right;\">\n",
       "      <th></th>\n",
       "      <th>state</th>\n",
       "      <th>sat_part</th>\n",
       "      <th>sat_ebrw</th>\n",
       "      <th>sat_math</th>\n",
       "      <th>sat_total</th>\n",
       "    </tr>\n",
       "  </thead>\n",
       "  <tbody>\n",
       "    <tr>\n",
       "      <th>0</th>\n",
       "      <td>Alabama</td>\n",
       "      <td>7%</td>\n",
       "      <td>583</td>\n",
       "      <td>560</td>\n",
       "      <td>1143</td>\n",
       "    </tr>\n",
       "    <tr>\n",
       "      <th>1</th>\n",
       "      <td>Alaska</td>\n",
       "      <td>41%</td>\n",
       "      <td>556</td>\n",
       "      <td>541</td>\n",
       "      <td>1097</td>\n",
       "    </tr>\n",
       "    <tr>\n",
       "      <th>2</th>\n",
       "      <td>Arizona</td>\n",
       "      <td>31%</td>\n",
       "      <td>569</td>\n",
       "      <td>565</td>\n",
       "      <td>1134</td>\n",
       "    </tr>\n",
       "    <tr>\n",
       "      <th>3</th>\n",
       "      <td>Arkansas</td>\n",
       "      <td>6%</td>\n",
       "      <td>582</td>\n",
       "      <td>559</td>\n",
       "      <td>1141</td>\n",
       "    </tr>\n",
       "    <tr>\n",
       "      <th>4</th>\n",
       "      <td>California</td>\n",
       "      <td>63%</td>\n",
       "      <td>534</td>\n",
       "      <td>531</td>\n",
       "      <td>1065</td>\n",
       "    </tr>\n",
       "  </tbody>\n",
       "</table>\n",
       "</div>"
      ],
      "text/plain": [
       "        state sat_part  sat_ebrw  sat_math  sat_total\n",
       "0     Alabama       7%       583       560       1143\n",
       "1      Alaska      41%       556       541       1097\n",
       "2     Arizona      31%       569       565       1134\n",
       "3    Arkansas       6%       582       559       1141\n",
       "4  California      63%       534       531       1065"
      ]
     },
     "execution_count": 15,
     "metadata": {},
     "output_type": "execute_result"
    }
   ],
   "source": [
    "sat_2019.head()"
   ]
  },
  {
   "cell_type": "code",
   "execution_count": 16,
   "metadata": {},
   "outputs": [
    {
     "data": {
      "text/html": [
       "<div>\n",
       "<style scoped>\n",
       "    .dataframe tbody tr th:only-of-type {\n",
       "        vertical-align: middle;\n",
       "    }\n",
       "\n",
       "    .dataframe tbody tr th {\n",
       "        vertical-align: top;\n",
       "    }\n",
       "\n",
       "    .dataframe thead th {\n",
       "        text-align: right;\n",
       "    }\n",
       "</style>\n",
       "<table border=\"1\" class=\"dataframe\">\n",
       "  <thead>\n",
       "    <tr style=\"text-align: right;\">\n",
       "      <th></th>\n",
       "      <th>state</th>\n",
       "      <th>act_part</th>\n",
       "      <th>act_comp</th>\n",
       "    </tr>\n",
       "  </thead>\n",
       "  <tbody>\n",
       "    <tr>\n",
       "      <th>0</th>\n",
       "      <td>Alabama</td>\n",
       "      <td>100%</td>\n",
       "      <td>19.1</td>\n",
       "    </tr>\n",
       "    <tr>\n",
       "      <th>1</th>\n",
       "      <td>Alaska</td>\n",
       "      <td>33%</td>\n",
       "      <td>20.8</td>\n",
       "    </tr>\n",
       "    <tr>\n",
       "      <th>2</th>\n",
       "      <td>Arizona</td>\n",
       "      <td>66%</td>\n",
       "      <td>19.2</td>\n",
       "    </tr>\n",
       "    <tr>\n",
       "      <th>3</th>\n",
       "      <td>Arkansas</td>\n",
       "      <td>100%</td>\n",
       "      <td>19.4</td>\n",
       "    </tr>\n",
       "    <tr>\n",
       "      <th>4</th>\n",
       "      <td>California</td>\n",
       "      <td>27%</td>\n",
       "      <td>22.7</td>\n",
       "    </tr>\n",
       "  </tbody>\n",
       "</table>\n",
       "</div>"
      ],
      "text/plain": [
       "        state act_part  act_comp\n",
       "0     Alabama     100%      19.1\n",
       "1      Alaska      33%      20.8\n",
       "2     Arizona      66%      19.2\n",
       "3    Arkansas     100%      19.4\n",
       "4  California      27%      22.7"
      ]
     },
     "execution_count": 16,
     "metadata": {},
     "output_type": "execute_result"
    }
   ],
   "source": [
    "act_2018.head()"
   ]
  },
  {
   "cell_type": "code",
   "execution_count": 17,
   "metadata": {},
   "outputs": [
    {
     "data": {
      "text/html": [
       "<div>\n",
       "<style scoped>\n",
       "    .dataframe tbody tr th:only-of-type {\n",
       "        vertical-align: middle;\n",
       "    }\n",
       "\n",
       "    .dataframe tbody tr th {\n",
       "        vertical-align: top;\n",
       "    }\n",
       "\n",
       "    .dataframe thead th {\n",
       "        text-align: right;\n",
       "    }\n",
       "</style>\n",
       "<table border=\"1\" class=\"dataframe\">\n",
       "  <thead>\n",
       "    <tr style=\"text-align: right;\">\n",
       "      <th></th>\n",
       "      <th>state</th>\n",
       "      <th>act_part</th>\n",
       "      <th>act_comp</th>\n",
       "    </tr>\n",
       "  </thead>\n",
       "  <tbody>\n",
       "    <tr>\n",
       "      <th>0</th>\n",
       "      <td>Alabama</td>\n",
       "      <td>100%</td>\n",
       "      <td>18.9</td>\n",
       "    </tr>\n",
       "    <tr>\n",
       "      <th>1</th>\n",
       "      <td>Alaska</td>\n",
       "      <td>38%</td>\n",
       "      <td>20.1</td>\n",
       "    </tr>\n",
       "    <tr>\n",
       "      <th>2</th>\n",
       "      <td>Arizona</td>\n",
       "      <td>73%</td>\n",
       "      <td>19.0</td>\n",
       "    </tr>\n",
       "    <tr>\n",
       "      <th>3</th>\n",
       "      <td>Arkansas</td>\n",
       "      <td>100%</td>\n",
       "      <td>19.3</td>\n",
       "    </tr>\n",
       "    <tr>\n",
       "      <th>4</th>\n",
       "      <td>California</td>\n",
       "      <td>23%</td>\n",
       "      <td>22.6</td>\n",
       "    </tr>\n",
       "  </tbody>\n",
       "</table>\n",
       "</div>"
      ],
      "text/plain": [
       "        state act_part  act_comp\n",
       "0     Alabama     100%      18.9\n",
       "1      Alaska      38%      20.1\n",
       "2     Arizona      73%      19.0\n",
       "3    Arkansas     100%      19.3\n",
       "4  California      23%      22.6"
      ]
     },
     "execution_count": 17,
     "metadata": {},
     "output_type": "execute_result"
    }
   ],
   "source": [
    "act_2019.head()"
   ]
  },
  {
   "cell_type": "code",
   "execution_count": 18,
   "metadata": {},
   "outputs": [
    {
     "data": {
      "text/html": [
       "<div>\n",
       "<style scoped>\n",
       "    .dataframe tbody tr th:only-of-type {\n",
       "        vertical-align: middle;\n",
       "    }\n",
       "\n",
       "    .dataframe tbody tr th {\n",
       "        vertical-align: top;\n",
       "    }\n",
       "\n",
       "    .dataframe thead th {\n",
       "        text-align: right;\n",
       "    }\n",
       "</style>\n",
       "<table border=\"1\" class=\"dataframe\">\n",
       "  <thead>\n",
       "    <tr style=\"text-align: right;\">\n",
       "      <th></th>\n",
       "      <th>state</th>\n",
       "      <th>act_part</th>\n",
       "      <th>english</th>\n",
       "      <th>math</th>\n",
       "      <th>reading</th>\n",
       "      <th>science</th>\n",
       "      <th>act_comp</th>\n",
       "    </tr>\n",
       "  </thead>\n",
       "  <tbody>\n",
       "    <tr>\n",
       "      <th>0</th>\n",
       "      <td>National</td>\n",
       "      <td>60%</td>\n",
       "      <td>20.3</td>\n",
       "      <td>20.7</td>\n",
       "      <td>21.4</td>\n",
       "      <td>21.0</td>\n",
       "      <td>21.0</td>\n",
       "    </tr>\n",
       "    <tr>\n",
       "      <th>1</th>\n",
       "      <td>Alabama</td>\n",
       "      <td>100%</td>\n",
       "      <td>18.9</td>\n",
       "      <td>18.4</td>\n",
       "      <td>19.7</td>\n",
       "      <td>19.4</td>\n",
       "      <td>19.2</td>\n",
       "    </tr>\n",
       "    <tr>\n",
       "      <th>2</th>\n",
       "      <td>Alaska</td>\n",
       "      <td>65%</td>\n",
       "      <td>18.7</td>\n",
       "      <td>19.8</td>\n",
       "      <td>20.4</td>\n",
       "      <td>19.9</td>\n",
       "      <td>19.8</td>\n",
       "    </tr>\n",
       "    <tr>\n",
       "      <th>3</th>\n",
       "      <td>Arizona</td>\n",
       "      <td>62%</td>\n",
       "      <td>18.6</td>\n",
       "      <td>19.8</td>\n",
       "      <td>20.1</td>\n",
       "      <td>19.8</td>\n",
       "      <td>19.7</td>\n",
       "    </tr>\n",
       "    <tr>\n",
       "      <th>4</th>\n",
       "      <td>Arkansas</td>\n",
       "      <td>100%</td>\n",
       "      <td>18.9</td>\n",
       "      <td>19.0</td>\n",
       "      <td>19.7</td>\n",
       "      <td>19.5</td>\n",
       "      <td>19.4</td>\n",
       "    </tr>\n",
       "  </tbody>\n",
       "</table>\n",
       "</div>"
      ],
      "text/plain": [
       "      state act_part  english  math  reading  science act_comp\n",
       "0  National      60%     20.3  20.7     21.4     21.0     21.0\n",
       "1   Alabama     100%     18.9  18.4     19.7     19.4     19.2\n",
       "2    Alaska      65%     18.7  19.8     20.4     19.9     19.8\n",
       "3   Arizona      62%     18.6  19.8     20.1     19.8     19.7\n",
       "4  Arkansas     100%     18.9  19.0     19.7     19.5     19.4"
      ]
     },
     "execution_count": 18,
     "metadata": {},
     "output_type": "execute_result"
    }
   ],
   "source": [
    "act_2017.head()"
   ]
  },
  {
   "cell_type": "markdown",
   "metadata": {
    "tags": []
   },
   "source": [
    "**b) There are duplicated states in the ACT score datasets. We also want to remove rows with state = \"National\"**"
   ]
  },
  {
   "cell_type": "code",
   "execution_count": 19,
   "metadata": {
    "tags": []
   },
   "outputs": [
    {
     "data": {
      "text/html": [
       "<div>\n",
       "<style scoped>\n",
       "    .dataframe tbody tr th:only-of-type {\n",
       "        vertical-align: middle;\n",
       "    }\n",
       "\n",
       "    .dataframe tbody tr th {\n",
       "        vertical-align: top;\n",
       "    }\n",
       "\n",
       "    .dataframe thead th {\n",
       "        text-align: right;\n",
       "    }\n",
       "</style>\n",
       "<table border=\"1\" class=\"dataframe\">\n",
       "  <thead>\n",
       "    <tr style=\"text-align: right;\">\n",
       "      <th></th>\n",
       "      <th>state</th>\n",
       "      <th>act_part</th>\n",
       "      <th>english</th>\n",
       "      <th>math</th>\n",
       "      <th>reading</th>\n",
       "      <th>science</th>\n",
       "      <th>act_comp</th>\n",
       "    </tr>\n",
       "  </thead>\n",
       "  <tbody>\n",
       "    <tr>\n",
       "      <th>0</th>\n",
       "      <td>National</td>\n",
       "      <td>60%</td>\n",
       "      <td>20.3</td>\n",
       "      <td>20.7</td>\n",
       "      <td>21.4</td>\n",
       "      <td>21.0</td>\n",
       "      <td>21.0</td>\n",
       "    </tr>\n",
       "  </tbody>\n",
       "</table>\n",
       "</div>"
      ],
      "text/plain": [
       "      state act_part  english  math  reading  science act_comp\n",
       "0  National      60%     20.3  20.7     21.4     21.0     21.0"
      ]
     },
     "execution_count": 19,
     "metadata": {},
     "output_type": "execute_result"
    }
   ],
   "source": [
    "act_2017[act_2017[\"state\"]==\"National\"]"
   ]
  },
  {
   "cell_type": "code",
   "execution_count": 20,
   "metadata": {},
   "outputs": [
    {
     "data": {
      "text/plain": [
       "(52, 7)"
      ]
     },
     "execution_count": 20,
     "metadata": {},
     "output_type": "execute_result"
    }
   ],
   "source": [
    "act_2017.shape"
   ]
  },
  {
   "cell_type": "code",
   "execution_count": 21,
   "metadata": {},
   "outputs": [],
   "source": [
    "act_2017.drop(act_2017.index[0],inplace=True)"
   ]
  },
  {
   "cell_type": "code",
   "execution_count": 22,
   "metadata": {
    "tags": []
   },
   "outputs": [
    {
     "data": {
      "text/plain": [
       "(51, 7)"
      ]
     },
     "execution_count": 22,
     "metadata": {},
     "output_type": "execute_result"
    }
   ],
   "source": [
    "act_2017.shape #rows have reduced from 52 to 51"
   ]
  },
  {
   "cell_type": "code",
   "execution_count": 23,
   "metadata": {},
   "outputs": [
    {
     "data": {
      "text/html": [
       "<div>\n",
       "<style scoped>\n",
       "    .dataframe tbody tr th:only-of-type {\n",
       "        vertical-align: middle;\n",
       "    }\n",
       "\n",
       "    .dataframe tbody tr th {\n",
       "        vertical-align: top;\n",
       "    }\n",
       "\n",
       "    .dataframe thead th {\n",
       "        text-align: right;\n",
       "    }\n",
       "</style>\n",
       "<table border=\"1\" class=\"dataframe\">\n",
       "  <thead>\n",
       "    <tr style=\"text-align: right;\">\n",
       "      <th></th>\n",
       "      <th>state</th>\n",
       "      <th>act_part</th>\n",
       "      <th>act_comp</th>\n",
       "    </tr>\n",
       "  </thead>\n",
       "  <tbody>\n",
       "    <tr>\n",
       "      <th>51</th>\n",
       "      <td>National</td>\n",
       "      <td>52%</td>\n",
       "      <td>20.7</td>\n",
       "    </tr>\n",
       "  </tbody>\n",
       "</table>\n",
       "</div>"
      ],
      "text/plain": [
       "       state act_part  act_comp\n",
       "51  National      52%      20.7"
      ]
     },
     "execution_count": 23,
     "metadata": {},
     "output_type": "execute_result"
    }
   ],
   "source": [
    "act_2019[act_2019[\"state\"]==\"National\"]"
   ]
  },
  {
   "cell_type": "code",
   "execution_count": 24,
   "metadata": {},
   "outputs": [
    {
     "data": {
      "text/plain": [
       "(52, 3)"
      ]
     },
     "execution_count": 24,
     "metadata": {},
     "output_type": "execute_result"
    }
   ],
   "source": [
    "act_2019.shape "
   ]
  },
  {
   "cell_type": "code",
   "execution_count": 25,
   "metadata": {},
   "outputs": [],
   "source": [
    "act_2019.drop(act_2019.index[51],inplace=True)"
   ]
  },
  {
   "cell_type": "code",
   "execution_count": 26,
   "metadata": {
    "tags": []
   },
   "outputs": [
    {
     "data": {
      "text/plain": [
       "(51, 3)"
      ]
     },
     "execution_count": 26,
     "metadata": {},
     "output_type": "execute_result"
    }
   ],
   "source": [
    "act_2019.shape #rows have reduced from 52 to 51"
   ]
  },
  {
   "cell_type": "code",
   "execution_count": 27,
   "metadata": {
    "tags": []
   },
   "outputs": [
    {
     "data": {
      "text/html": [
       "<div>\n",
       "<style scoped>\n",
       "    .dataframe tbody tr th:only-of-type {\n",
       "        vertical-align: middle;\n",
       "    }\n",
       "\n",
       "    .dataframe tbody tr th {\n",
       "        vertical-align: top;\n",
       "    }\n",
       "\n",
       "    .dataframe thead th {\n",
       "        text-align: right;\n",
       "    }\n",
       "</style>\n",
       "<table border=\"1\" class=\"dataframe\">\n",
       "  <thead>\n",
       "    <tr style=\"text-align: right;\">\n",
       "      <th></th>\n",
       "      <th>state</th>\n",
       "      <th>act_part</th>\n",
       "      <th>act_comp</th>\n",
       "    </tr>\n",
       "  </thead>\n",
       "  <tbody>\n",
       "    <tr>\n",
       "      <th>19</th>\n",
       "      <td>Maine</td>\n",
       "      <td>7%</td>\n",
       "      <td>24.0</td>\n",
       "    </tr>\n",
       "    <tr>\n",
       "      <th>20</th>\n",
       "      <td>Maine</td>\n",
       "      <td>7%</td>\n",
       "      <td>24.0</td>\n",
       "    </tr>\n",
       "  </tbody>\n",
       "</table>\n",
       "</div>"
      ],
      "text/plain": [
       "    state act_part  act_comp\n",
       "19  Maine       7%      24.0\n",
       "20  Maine       7%      24.0"
      ]
     },
     "execution_count": 27,
     "metadata": {},
     "output_type": "execute_result"
    }
   ],
   "source": [
    "act_2018[act_2018[\"state\"].duplicated(keep=False)]"
   ]
  },
  {
   "cell_type": "code",
   "execution_count": 28,
   "metadata": {},
   "outputs": [],
   "source": [
    "act_2018.drop(act_2018.index[20],inplace=True)"
   ]
  },
  {
   "cell_type": "code",
   "execution_count": 29,
   "metadata": {
    "tags": []
   },
   "outputs": [
    {
     "data": {
      "text/html": [
       "<div>\n",
       "<style scoped>\n",
       "    .dataframe tbody tr th:only-of-type {\n",
       "        vertical-align: middle;\n",
       "    }\n",
       "\n",
       "    .dataframe tbody tr th {\n",
       "        vertical-align: top;\n",
       "    }\n",
       "\n",
       "    .dataframe thead th {\n",
       "        text-align: right;\n",
       "    }\n",
       "</style>\n",
       "<table border=\"1\" class=\"dataframe\">\n",
       "  <thead>\n",
       "    <tr style=\"text-align: right;\">\n",
       "      <th></th>\n",
       "      <th>state</th>\n",
       "      <th>act_part</th>\n",
       "      <th>act_comp</th>\n",
       "    </tr>\n",
       "  </thead>\n",
       "  <tbody>\n",
       "    <tr>\n",
       "      <th>19</th>\n",
       "      <td>Maine</td>\n",
       "      <td>7%</td>\n",
       "      <td>24.0</td>\n",
       "    </tr>\n",
       "  </tbody>\n",
       "</table>\n",
       "</div>"
      ],
      "text/plain": [
       "    state act_part  act_comp\n",
       "19  Maine       7%      24.0"
      ]
     },
     "execution_count": 29,
     "metadata": {},
     "output_type": "execute_result"
    }
   ],
   "source": [
    "act_2018[act_2018[\"state\"]==\"Maine\"] #duplicated entry is removed"
   ]
  },
  {
   "cell_type": "markdown",
   "metadata": {
    "tags": []
   },
   "source": [
    "**c) Participation rates are not of the correct type in all datasets, and needs to be corrected**:"
   ]
  },
  {
   "cell_type": "code",
   "execution_count": 30,
   "metadata": {},
   "outputs": [
    {
     "name": "stdout",
     "output_type": "stream",
     "text": [
      "<class 'pandas.core.frame.DataFrame'>\n",
      "RangeIndex: 51 entries, 0 to 50\n",
      "Data columns (total 5 columns):\n",
      " #   Column     Non-Null Count  Dtype \n",
      "---  ------     --------------  ----- \n",
      " 0   state      51 non-null     object\n",
      " 1   sat_part   51 non-null     object\n",
      " 2   sat_ebrw   51 non-null     int64 \n",
      " 3   sat_math   51 non-null     int64 \n",
      " 4   sat_total  51 non-null     int64 \n",
      "dtypes: int64(3), object(2)\n",
      "memory usage: 2.1+ KB\n"
     ]
    }
   ],
   "source": [
    "sat_2017.info() #check datatype of _part columns with .info()"
   ]
  },
  {
   "cell_type": "code",
   "execution_count": 31,
   "metadata": {},
   "outputs": [
    {
     "name": "stdout",
     "output_type": "stream",
     "text": [
      "<class 'pandas.core.frame.DataFrame'>\n",
      "RangeIndex: 51 entries, 0 to 50\n",
      "Data columns (total 5 columns):\n",
      " #   Column     Non-Null Count  Dtype \n",
      "---  ------     --------------  ----- \n",
      " 0   state      51 non-null     object\n",
      " 1   sat_part   51 non-null     object\n",
      " 2   sat_ebrw   51 non-null     int64 \n",
      " 3   sat_math   51 non-null     int64 \n",
      " 4   sat_total  51 non-null     int64 \n",
      "dtypes: int64(3), object(2)\n",
      "memory usage: 2.1+ KB\n"
     ]
    }
   ],
   "source": [
    "sat_2018.info()"
   ]
  },
  {
   "cell_type": "code",
   "execution_count": 32,
   "metadata": {},
   "outputs": [
    {
     "name": "stdout",
     "output_type": "stream",
     "text": [
      "<class 'pandas.core.frame.DataFrame'>\n",
      "RangeIndex: 53 entries, 0 to 52\n",
      "Data columns (total 5 columns):\n",
      " #   Column     Non-Null Count  Dtype \n",
      "---  ------     --------------  ----- \n",
      " 0   state      53 non-null     object\n",
      " 1   sat_part   53 non-null     object\n",
      " 2   sat_ebrw   53 non-null     int64 \n",
      " 3   sat_math   53 non-null     int64 \n",
      " 4   sat_total  53 non-null     int64 \n",
      "dtypes: int64(3), object(2)\n",
      "memory usage: 2.2+ KB\n"
     ]
    }
   ],
   "source": [
    "sat_2019.info()"
   ]
  },
  {
   "cell_type": "code",
   "execution_count": 33,
   "metadata": {
    "tags": []
   },
   "outputs": [],
   "source": [
    "sat_2017[\"sat_part\"] = sat_2017[\"sat_part\"].apply(convert_to_float)\n",
    "sat_2018[\"sat_part\"] = sat_2018[\"sat_part\"].apply(convert_to_float)\n",
    "sat_2019[\"sat_part\"] = sat_2019[\"sat_part\"].apply(convert_to_float)"
   ]
  },
  {
   "cell_type": "code",
   "execution_count": 34,
   "metadata": {},
   "outputs": [
    {
     "name": "stdout",
     "output_type": "stream",
     "text": [
      "datatype of sat_part in sat_2017: float64\n",
      "datatype of sat_part in sat_2018: float64\n",
      "datatype of sat_part in sat_2019: float64\n"
     ]
    }
   ],
   "source": [
    "print(f'datatype of sat_part in sat_2017: {sat_2017[\"sat_part\"].dtypes}')\n",
    "print(f'datatype of sat_part in sat_2018: {sat_2018[\"sat_part\"].dtypes}')\n",
    "print(f'datatype of sat_part in sat_2019: {sat_2019[\"sat_part\"].dtypes}')"
   ]
  },
  {
   "cell_type": "code",
   "execution_count": 35,
   "metadata": {},
   "outputs": [
    {
     "name": "stdout",
     "output_type": "stream",
     "text": [
      "<class 'pandas.core.frame.DataFrame'>\n",
      "RangeIndex: 51 entries, 1 to 51\n",
      "Data columns (total 7 columns):\n",
      " #   Column    Non-Null Count  Dtype  \n",
      "---  ------    --------------  -----  \n",
      " 0   state     51 non-null     object \n",
      " 1   act_part  51 non-null     object \n",
      " 2   english   51 non-null     float64\n",
      " 3   math      51 non-null     float64\n",
      " 4   reading   51 non-null     float64\n",
      " 5   science   51 non-null     float64\n",
      " 6   act_comp  51 non-null     object \n",
      "dtypes: float64(4), object(3)\n",
      "memory usage: 2.9+ KB\n"
     ]
    }
   ],
   "source": [
    "act_2017.info()"
   ]
  },
  {
   "cell_type": "code",
   "execution_count": 36,
   "metadata": {},
   "outputs": [
    {
     "name": "stdout",
     "output_type": "stream",
     "text": [
      "<class 'pandas.core.frame.DataFrame'>\n",
      "Int64Index: 51 entries, 0 to 51\n",
      "Data columns (total 3 columns):\n",
      " #   Column    Non-Null Count  Dtype  \n",
      "---  ------    --------------  -----  \n",
      " 0   state     51 non-null     object \n",
      " 1   act_part  51 non-null     object \n",
      " 2   act_comp  51 non-null     float64\n",
      "dtypes: float64(1), object(2)\n",
      "memory usage: 1.6+ KB\n"
     ]
    }
   ],
   "source": [
    "act_2018.info()"
   ]
  },
  {
   "cell_type": "code",
   "execution_count": 37,
   "metadata": {},
   "outputs": [
    {
     "name": "stdout",
     "output_type": "stream",
     "text": [
      "<class 'pandas.core.frame.DataFrame'>\n",
      "RangeIndex: 51 entries, 0 to 50\n",
      "Data columns (total 3 columns):\n",
      " #   Column    Non-Null Count  Dtype  \n",
      "---  ------    --------------  -----  \n",
      " 0   state     51 non-null     object \n",
      " 1   act_part  51 non-null     object \n",
      " 2   act_comp  51 non-null     float64\n",
      "dtypes: float64(1), object(2)\n",
      "memory usage: 1.3+ KB\n"
     ]
    }
   ],
   "source": [
    "act_2019.info()"
   ]
  },
  {
   "cell_type": "code",
   "execution_count": 38,
   "metadata": {},
   "outputs": [],
   "source": [
    "act_2017[\"act_part\"] = act_2017[\"act_part\"].apply(convert_to_float)\n",
    "act_2018[\"act_part\"] = act_2018[\"act_part\"].apply(convert_to_float)\n",
    "act_2019[\"act_part\"] = act_2019[\"act_part\"].apply(convert_to_float)"
   ]
  },
  {
   "cell_type": "code",
   "execution_count": 39,
   "metadata": {},
   "outputs": [
    {
     "name": "stdout",
     "output_type": "stream",
     "text": [
      "datatype of act_part in act_2017: float64\n",
      "datatype of act_part in act_2018: float64\n",
      "datatype of act_part in act_2019: float64\n"
     ]
    }
   ],
   "source": [
    "print(f'datatype of act_part in act_2017: {act_2017[\"act_part\"].dtypes}')\n",
    "print(f'datatype of act_part in act_2018: {act_2018[\"act_part\"].dtypes}')\n",
    "print(f'datatype of act_part in act_2019: {act_2019[\"act_part\"].dtypes}')"
   ]
  },
  {
   "cell_type": "markdown",
   "metadata": {},
   "source": [
    "**d) Drop null values**"
   ]
  },
  {
   "cell_type": "code",
   "execution_count": 40,
   "metadata": {},
   "outputs": [
    {
     "name": "stdout",
     "output_type": "stream",
     "text": [
      "<class 'pandas.core.frame.DataFrame'>\n",
      "RangeIndex: 53 entries, 0 to 52\n",
      "Data columns (total 5 columns):\n",
      " #   Column     Non-Null Count  Dtype  \n",
      "---  ------     --------------  -----  \n",
      " 0   state      53 non-null     object \n",
      " 1   sat_part   51 non-null     float64\n",
      " 2   sat_ebrw   53 non-null     int64  \n",
      " 3   sat_math   53 non-null     int64  \n",
      " 4   sat_total  53 non-null     int64  \n",
      "dtypes: float64(1), int64(3), object(1)\n",
      "memory usage: 2.2+ KB\n"
     ]
    }
   ],
   "source": [
    "sat_2019.info()"
   ]
  },
  {
   "cell_type": "code",
   "execution_count": 41,
   "metadata": {
    "tags": []
   },
   "outputs": [
    {
     "data": {
      "text/html": [
       "<div>\n",
       "<style scoped>\n",
       "    .dataframe tbody tr th:only-of-type {\n",
       "        vertical-align: middle;\n",
       "    }\n",
       "\n",
       "    .dataframe tbody tr th {\n",
       "        vertical-align: top;\n",
       "    }\n",
       "\n",
       "    .dataframe thead th {\n",
       "        text-align: right;\n",
       "    }\n",
       "</style>\n",
       "<table border=\"1\" class=\"dataframe\">\n",
       "  <thead>\n",
       "    <tr style=\"text-align: right;\">\n",
       "      <th></th>\n",
       "      <th>state</th>\n",
       "      <th>sat_part</th>\n",
       "      <th>sat_ebrw</th>\n",
       "      <th>sat_math</th>\n",
       "      <th>sat_total</th>\n",
       "    </tr>\n",
       "  </thead>\n",
       "  <tbody>\n",
       "    <tr>\n",
       "      <th>39</th>\n",
       "      <td>Puerto Rico</td>\n",
       "      <td>NaN</td>\n",
       "      <td>483</td>\n",
       "      <td>462</td>\n",
       "      <td>944</td>\n",
       "    </tr>\n",
       "    <tr>\n",
       "      <th>47</th>\n",
       "      <td>Virgin Islands</td>\n",
       "      <td>NaN</td>\n",
       "      <td>490</td>\n",
       "      <td>445</td>\n",
       "      <td>935</td>\n",
       "    </tr>\n",
       "  </tbody>\n",
       "</table>\n",
       "</div>"
      ],
      "text/plain": [
       "             state  sat_part  sat_ebrw  sat_math  sat_total\n",
       "39     Puerto Rico       NaN       483       462        944\n",
       "47  Virgin Islands       NaN       490       445        935"
      ]
     },
     "execution_count": 41,
     "metadata": {},
     "output_type": "execute_result"
    }
   ],
   "source": [
    "sat_2019[sat_2019[\"sat_part\"].isnull()] #will drop these 2 rows since they are not in the previous datasets anyway"
   ]
  },
  {
   "cell_type": "code",
   "execution_count": 42,
   "metadata": {},
   "outputs": [],
   "source": [
    "sat_2019.dropna(inplace=True)"
   ]
  },
  {
   "cell_type": "code",
   "execution_count": 43,
   "metadata": {},
   "outputs": [
    {
     "name": "stdout",
     "output_type": "stream",
     "text": [
      "<class 'pandas.core.frame.DataFrame'>\n",
      "Int64Index: 51 entries, 0 to 52\n",
      "Data columns (total 5 columns):\n",
      " #   Column     Non-Null Count  Dtype  \n",
      "---  ------     --------------  -----  \n",
      " 0   state      51 non-null     object \n",
      " 1   sat_part   51 non-null     float64\n",
      " 2   sat_ebrw   51 non-null     int64  \n",
      " 3   sat_math   51 non-null     int64  \n",
      " 4   sat_total  51 non-null     int64  \n",
      "dtypes: float64(1), int64(3), object(1)\n",
      "memory usage: 2.4+ KB\n"
     ]
    }
   ],
   "source": [
    "sat_2019.info()"
   ]
  },
  {
   "cell_type": "markdown",
   "metadata": {},
   "source": [
    "**e) The column \"act_comp\" in act_2017 needs to be converted to a float**"
   ]
  },
  {
   "cell_type": "code",
   "execution_count": 44,
   "metadata": {},
   "outputs": [
    {
     "data": {
      "text/plain": [
       "dtype('O')"
      ]
     },
     "execution_count": 44,
     "metadata": {},
     "output_type": "execute_result"
    }
   ],
   "source": [
    "act_2017[\"act_comp\"].dtypes"
   ]
  },
  {
   "cell_type": "code",
   "execution_count": 45,
   "metadata": {},
   "outputs": [
    {
     "data": {
      "text/plain": [
       "19.0     1\n",
       "25.2     1\n",
       "20.8     1\n",
       "22.8     1\n",
       "20.2x    1\n",
       "Name: act_comp, dtype: int64"
      ]
     },
     "execution_count": 45,
     "metadata": {},
     "output_type": "execute_result"
    }
   ],
   "source": [
    "act_2017[\"act_comp\"].value_counts().tail() #there is a entry which are not only digits"
   ]
  },
  {
   "cell_type": "code",
   "execution_count": 46,
   "metadata": {},
   "outputs": [],
   "source": [
    "def remove_x(df):\n",
    "    df = df.replace(\"x\",\"\")\n",
    "    return float(df)"
   ]
  },
  {
   "cell_type": "code",
   "execution_count": 47,
   "metadata": {
    "tags": []
   },
   "outputs": [],
   "source": [
    "act_2017[\"act_comp\"] = act_2017[\"act_comp\"].apply(remove_x)"
   ]
  },
  {
   "cell_type": "code",
   "execution_count": 48,
   "metadata": {},
   "outputs": [
    {
     "data": {
      "text/plain": [
       "dtype('float64')"
      ]
     },
     "execution_count": 48,
     "metadata": {},
     "output_type": "execute_result"
    }
   ],
   "source": [
    "act_2017[\"act_comp\"].dtypes"
   ]
  },
  {
   "cell_type": "markdown",
   "metadata": {},
   "source": [
    "**f) Correct entry errors:** (we may not use these columns, but just in case)"
   ]
  },
  {
   "cell_type": "code",
   "execution_count": 49,
   "metadata": {},
   "outputs": [
    {
     "data": {
      "text/html": [
       "<div>\n",
       "<style scoped>\n",
       "    .dataframe tbody tr th:only-of-type {\n",
       "        vertical-align: middle;\n",
       "    }\n",
       "\n",
       "    .dataframe tbody tr th {\n",
       "        vertical-align: top;\n",
       "    }\n",
       "\n",
       "    .dataframe thead th {\n",
       "        text-align: right;\n",
       "    }\n",
       "</style>\n",
       "<table border=\"1\" class=\"dataframe\">\n",
       "  <thead>\n",
       "    <tr style=\"text-align: right;\">\n",
       "      <th></th>\n",
       "      <th>act_part</th>\n",
       "      <th>english</th>\n",
       "      <th>math</th>\n",
       "      <th>reading</th>\n",
       "      <th>science</th>\n",
       "      <th>act_comp</th>\n",
       "    </tr>\n",
       "  </thead>\n",
       "  <tbody>\n",
       "    <tr>\n",
       "      <th>count</th>\n",
       "      <td>51.000000</td>\n",
       "      <td>51.000000</td>\n",
       "      <td>51.000000</td>\n",
       "      <td>51.000000</td>\n",
       "      <td>51.000000</td>\n",
       "      <td>51.000000</td>\n",
       "    </tr>\n",
       "    <tr>\n",
       "      <th>mean</th>\n",
       "      <td>0.652549</td>\n",
       "      <td>20.931373</td>\n",
       "      <td>21.182353</td>\n",
       "      <td>22.013725</td>\n",
       "      <td>21.041176</td>\n",
       "      <td>21.519608</td>\n",
       "    </tr>\n",
       "    <tr>\n",
       "      <th>std</th>\n",
       "      <td>0.321408</td>\n",
       "      <td>2.353677</td>\n",
       "      <td>1.981989</td>\n",
       "      <td>2.067271</td>\n",
       "      <td>3.182463</td>\n",
       "      <td>2.020695</td>\n",
       "    </tr>\n",
       "    <tr>\n",
       "      <th>min</th>\n",
       "      <td>0.080000</td>\n",
       "      <td>16.300000</td>\n",
       "      <td>18.000000</td>\n",
       "      <td>18.100000</td>\n",
       "      <td>2.300000</td>\n",
       "      <td>17.800000</td>\n",
       "    </tr>\n",
       "    <tr>\n",
       "      <th>25%</th>\n",
       "      <td>0.310000</td>\n",
       "      <td>19.000000</td>\n",
       "      <td>19.400000</td>\n",
       "      <td>20.450000</td>\n",
       "      <td>19.900000</td>\n",
       "      <td>19.800000</td>\n",
       "    </tr>\n",
       "    <tr>\n",
       "      <th>50%</th>\n",
       "      <td>0.690000</td>\n",
       "      <td>20.700000</td>\n",
       "      <td>20.900000</td>\n",
       "      <td>21.800000</td>\n",
       "      <td>21.300000</td>\n",
       "      <td>21.400000</td>\n",
       "    </tr>\n",
       "    <tr>\n",
       "      <th>75%</th>\n",
       "      <td>1.000000</td>\n",
       "      <td>23.300000</td>\n",
       "      <td>23.100000</td>\n",
       "      <td>24.150000</td>\n",
       "      <td>22.750000</td>\n",
       "      <td>23.600000</td>\n",
       "    </tr>\n",
       "    <tr>\n",
       "      <th>max</th>\n",
       "      <td>1.000000</td>\n",
       "      <td>25.500000</td>\n",
       "      <td>25.300000</td>\n",
       "      <td>26.000000</td>\n",
       "      <td>24.900000</td>\n",
       "      <td>25.500000</td>\n",
       "    </tr>\n",
       "  </tbody>\n",
       "</table>\n",
       "</div>"
      ],
      "text/plain": [
       "        act_part    english       math    reading    science   act_comp\n",
       "count  51.000000  51.000000  51.000000  51.000000  51.000000  51.000000\n",
       "mean    0.652549  20.931373  21.182353  22.013725  21.041176  21.519608\n",
       "std     0.321408   2.353677   1.981989   2.067271   3.182463   2.020695\n",
       "min     0.080000  16.300000  18.000000  18.100000   2.300000  17.800000\n",
       "25%     0.310000  19.000000  19.400000  20.450000  19.900000  19.800000\n",
       "50%     0.690000  20.700000  20.900000  21.800000  21.300000  21.400000\n",
       "75%     1.000000  23.300000  23.100000  24.150000  22.750000  23.600000\n",
       "max     1.000000  25.500000  25.300000  26.000000  24.900000  25.500000"
      ]
     },
     "execution_count": 49,
     "metadata": {},
     "output_type": "execute_result"
    }
   ],
   "source": [
    "act_2017.describe() #the min for science looks suspiciously low"
   ]
  },
  {
   "cell_type": "code",
   "execution_count": 50,
   "metadata": {},
   "outputs": [
    {
     "data": {
      "text/html": [
       "<div>\n",
       "<style scoped>\n",
       "    .dataframe tbody tr th:only-of-type {\n",
       "        vertical-align: middle;\n",
       "    }\n",
       "\n",
       "    .dataframe tbody tr th {\n",
       "        vertical-align: top;\n",
       "    }\n",
       "\n",
       "    .dataframe thead th {\n",
       "        text-align: right;\n",
       "    }\n",
       "</style>\n",
       "<table border=\"1\" class=\"dataframe\">\n",
       "  <thead>\n",
       "    <tr style=\"text-align: right;\">\n",
       "      <th></th>\n",
       "      <th>state</th>\n",
       "      <th>act_part</th>\n",
       "      <th>english</th>\n",
       "      <th>math</th>\n",
       "      <th>reading</th>\n",
       "      <th>science</th>\n",
       "      <th>act_comp</th>\n",
       "    </tr>\n",
       "  </thead>\n",
       "  <tbody>\n",
       "    <tr>\n",
       "      <th>21</th>\n",
       "      <td>Maryland</td>\n",
       "      <td>0.28</td>\n",
       "      <td>23.3</td>\n",
       "      <td>23.1</td>\n",
       "      <td>24.2</td>\n",
       "      <td>2.3</td>\n",
       "      <td>23.6</td>\n",
       "    </tr>\n",
       "  </tbody>\n",
       "</table>\n",
       "</div>"
      ],
      "text/plain": [
       "       state  act_part  english  math  reading  science  act_comp\n",
       "21  Maryland      0.28     23.3  23.1     24.2      2.3      23.6"
      ]
     },
     "execution_count": 50,
     "metadata": {},
     "output_type": "execute_result"
    }
   ],
   "source": [
    "act_2017[act_2017[\"science\"]==act_2017[\"science\"].min()]"
   ]
  },
  {
   "cell_type": "code",
   "execution_count": 51,
   "metadata": {},
   "outputs": [],
   "source": [
    "act_2017.loc[act_2017[\"state\"]==\"Maryland\",\"science\"] = 23.8\n",
    "\n",
    "#manually correct the entry error based on an estimation that act_comp = mean of sections"
   ]
  },
  {
   "cell_type": "code",
   "execution_count": 52,
   "metadata": {},
   "outputs": [
    {
     "data": {
      "text/html": [
       "<div>\n",
       "<style scoped>\n",
       "    .dataframe tbody tr th:only-of-type {\n",
       "        vertical-align: middle;\n",
       "    }\n",
       "\n",
       "    .dataframe tbody tr th {\n",
       "        vertical-align: top;\n",
       "    }\n",
       "\n",
       "    .dataframe thead th {\n",
       "        text-align: right;\n",
       "    }\n",
       "</style>\n",
       "<table border=\"1\" class=\"dataframe\">\n",
       "  <thead>\n",
       "    <tr style=\"text-align: right;\">\n",
       "      <th></th>\n",
       "      <th>act_part</th>\n",
       "      <th>english</th>\n",
       "      <th>math</th>\n",
       "      <th>reading</th>\n",
       "      <th>science</th>\n",
       "      <th>act_comp</th>\n",
       "    </tr>\n",
       "  </thead>\n",
       "  <tbody>\n",
       "    <tr>\n",
       "      <th>count</th>\n",
       "      <td>51.000000</td>\n",
       "      <td>51.000000</td>\n",
       "      <td>51.000000</td>\n",
       "      <td>51.000000</td>\n",
       "      <td>51.000000</td>\n",
       "      <td>51.000000</td>\n",
       "    </tr>\n",
       "    <tr>\n",
       "      <th>mean</th>\n",
       "      <td>0.652549</td>\n",
       "      <td>20.931373</td>\n",
       "      <td>21.182353</td>\n",
       "      <td>22.013725</td>\n",
       "      <td>21.462745</td>\n",
       "      <td>21.519608</td>\n",
       "    </tr>\n",
       "    <tr>\n",
       "      <th>std</th>\n",
       "      <td>0.321408</td>\n",
       "      <td>2.353677</td>\n",
       "      <td>1.981989</td>\n",
       "      <td>2.067271</td>\n",
       "      <td>1.753392</td>\n",
       "      <td>2.020695</td>\n",
       "    </tr>\n",
       "    <tr>\n",
       "      <th>min</th>\n",
       "      <td>0.080000</td>\n",
       "      <td>16.300000</td>\n",
       "      <td>18.000000</td>\n",
       "      <td>18.100000</td>\n",
       "      <td>18.200000</td>\n",
       "      <td>17.800000</td>\n",
       "    </tr>\n",
       "    <tr>\n",
       "      <th>25%</th>\n",
       "      <td>0.310000</td>\n",
       "      <td>19.000000</td>\n",
       "      <td>19.400000</td>\n",
       "      <td>20.450000</td>\n",
       "      <td>19.950000</td>\n",
       "      <td>19.800000</td>\n",
       "    </tr>\n",
       "    <tr>\n",
       "      <th>50%</th>\n",
       "      <td>0.690000</td>\n",
       "      <td>20.700000</td>\n",
       "      <td>20.900000</td>\n",
       "      <td>21.800000</td>\n",
       "      <td>21.300000</td>\n",
       "      <td>21.400000</td>\n",
       "    </tr>\n",
       "    <tr>\n",
       "      <th>75%</th>\n",
       "      <td>1.000000</td>\n",
       "      <td>23.300000</td>\n",
       "      <td>23.100000</td>\n",
       "      <td>24.150000</td>\n",
       "      <td>23.200000</td>\n",
       "      <td>23.600000</td>\n",
       "    </tr>\n",
       "    <tr>\n",
       "      <th>max</th>\n",
       "      <td>1.000000</td>\n",
       "      <td>25.500000</td>\n",
       "      <td>25.300000</td>\n",
       "      <td>26.000000</td>\n",
       "      <td>24.900000</td>\n",
       "      <td>25.500000</td>\n",
       "    </tr>\n",
       "  </tbody>\n",
       "</table>\n",
       "</div>"
      ],
      "text/plain": [
       "        act_part    english       math    reading    science   act_comp\n",
       "count  51.000000  51.000000  51.000000  51.000000  51.000000  51.000000\n",
       "mean    0.652549  20.931373  21.182353  22.013725  21.462745  21.519608\n",
       "std     0.321408   2.353677   1.981989   2.067271   1.753392   2.020695\n",
       "min     0.080000  16.300000  18.000000  18.100000  18.200000  17.800000\n",
       "25%     0.310000  19.000000  19.400000  20.450000  19.950000  19.800000\n",
       "50%     0.690000  20.700000  20.900000  21.800000  21.300000  21.400000\n",
       "75%     1.000000  23.300000  23.100000  24.150000  23.200000  23.600000\n",
       "max     1.000000  25.500000  25.300000  26.000000  24.900000  25.500000"
      ]
     },
     "execution_count": 52,
     "metadata": {},
     "output_type": "execute_result"
    }
   ],
   "source": [
    "act_2017.describe() #minimum value for science looks reasonable now"
   ]
  },
  {
   "cell_type": "code",
   "execution_count": 53,
   "metadata": {},
   "outputs": [
    {
     "data": {
      "text/plain": [
       "count     51.000000\n",
       "mean     547.627451\n",
       "std       84.909119\n",
       "min       52.000000\n",
       "25%      522.000000\n",
       "50%      548.000000\n",
       "75%      599.000000\n",
       "max      651.000000\n",
       "Name: sat_math, dtype: float64"
      ]
     },
     "execution_count": 53,
     "metadata": {},
     "output_type": "execute_result"
    }
   ],
   "source": [
    "sat_2017[\"sat_math\"].describe() #min of 52 looks like an outlier vs the other stats"
   ]
  },
  {
   "cell_type": "code",
   "execution_count": 54,
   "metadata": {
    "tags": []
   },
   "outputs": [
    {
     "data": {
      "text/html": [
       "<div>\n",
       "<style scoped>\n",
       "    .dataframe tbody tr th:only-of-type {\n",
       "        vertical-align: middle;\n",
       "    }\n",
       "\n",
       "    .dataframe tbody tr th {\n",
       "        vertical-align: top;\n",
       "    }\n",
       "\n",
       "    .dataframe thead th {\n",
       "        text-align: right;\n",
       "    }\n",
       "</style>\n",
       "<table border=\"1\" class=\"dataframe\">\n",
       "  <thead>\n",
       "    <tr style=\"text-align: right;\">\n",
       "      <th></th>\n",
       "      <th>state</th>\n",
       "      <th>sat_part</th>\n",
       "      <th>sat_ebrw</th>\n",
       "      <th>sat_math</th>\n",
       "      <th>sat_total</th>\n",
       "    </tr>\n",
       "  </thead>\n",
       "  <tbody>\n",
       "    <tr>\n",
       "      <th>20</th>\n",
       "      <td>Maryland</td>\n",
       "      <td>0.69</td>\n",
       "      <td>536</td>\n",
       "      <td>52</td>\n",
       "      <td>1060</td>\n",
       "    </tr>\n",
       "  </tbody>\n",
       "</table>\n",
       "</div>"
      ],
      "text/plain": [
       "       state  sat_part  sat_ebrw  sat_math  sat_total\n",
       "20  Maryland      0.69       536        52       1060"
      ]
     },
     "execution_count": 54,
     "metadata": {},
     "output_type": "execute_result"
    }
   ],
   "source": [
    "sat_2017[sat_2017[\"sat_math\"]==sat_2017[\"sat_math\"].min()]"
   ]
  },
  {
   "cell_type": "code",
   "execution_count": 55,
   "metadata": {},
   "outputs": [],
   "source": [
    "sat_2017.loc[sat_2017[\"state\"]==\"Maryland\",\"sat_math\"]=524 #based on sat_total_2017 - sat_ebrw_2017"
   ]
  },
  {
   "cell_type": "code",
   "execution_count": 56,
   "metadata": {},
   "outputs": [
    {
     "data": {
      "text/html": [
       "<div>\n",
       "<style scoped>\n",
       "    .dataframe tbody tr th:only-of-type {\n",
       "        vertical-align: middle;\n",
       "    }\n",
       "\n",
       "    .dataframe tbody tr th {\n",
       "        vertical-align: top;\n",
       "    }\n",
       "\n",
       "    .dataframe thead th {\n",
       "        text-align: right;\n",
       "    }\n",
       "</style>\n",
       "<table border=\"1\" class=\"dataframe\">\n",
       "  <thead>\n",
       "    <tr style=\"text-align: right;\">\n",
       "      <th></th>\n",
       "      <th>state</th>\n",
       "      <th>sat_part</th>\n",
       "      <th>sat_ebrw</th>\n",
       "      <th>sat_math</th>\n",
       "      <th>sat_total</th>\n",
       "    </tr>\n",
       "  </thead>\n",
       "  <tbody>\n",
       "    <tr>\n",
       "      <th>20</th>\n",
       "      <td>Maryland</td>\n",
       "      <td>0.69</td>\n",
       "      <td>536</td>\n",
       "      <td>524</td>\n",
       "      <td>1060</td>\n",
       "    </tr>\n",
       "  </tbody>\n",
       "</table>\n",
       "</div>"
      ],
      "text/plain": [
       "       state  sat_part  sat_ebrw  sat_math  sat_total\n",
       "20  Maryland      0.69       536       524       1060"
      ]
     },
     "execution_count": 56,
     "metadata": {},
     "output_type": "execute_result"
    }
   ],
   "source": [
    "sat_2017[sat_2017[\"state\"]==\"Maryland\"]"
   ]
  },
  {
   "cell_type": "code",
   "execution_count": 57,
   "metadata": {},
   "outputs": [
    {
     "data": {
      "text/plain": [
       "count     51.000000\n",
       "mean     556.882353\n",
       "std       47.121395\n",
       "min      468.000000\n",
       "25%      523.500000\n",
       "50%      548.000000\n",
       "75%      599.000000\n",
       "max      651.000000\n",
       "Name: sat_math, dtype: float64"
      ]
     },
     "execution_count": 57,
     "metadata": {},
     "output_type": "execute_result"
    }
   ],
   "source": [
    "sat_2017[\"sat_math\"].describe() #min looks reasonable now"
   ]
  },
  {
   "cell_type": "markdown",
   "metadata": {},
   "source": [
    "**g) Now that individual datasets are clean, we can start merging:**"
   ]
  },
  {
   "cell_type": "code",
   "execution_count": 58,
   "metadata": {},
   "outputs": [],
   "source": [
    "sat_2017_2018 = sat_2017.merge(sat_2018,on=\"state\",suffixes=(\"_2017\",\"_2018\"))\n",
    "sat_2017_2018_2019 = sat_2017_2018.merge(sat_2019,on=\"state\")\n",
    "sat_2017_2018_2019.rename(columns = {\n",
    "    \"sat_part\": \"sat_part_2019\",\n",
    "    \"sat_ebrw\": \"sat_ebrw_2019\",\n",
    "    \"sat_math\": \"sat_math_2019\",\n",
    "    \"sat_total\": \"sat_total_2019\"\n",
    "    \n",
    "}, inplace = True)"
   ]
  },
  {
   "cell_type": "code",
   "execution_count": 59,
   "metadata": {},
   "outputs": [
    {
     "data": {
      "text/html": [
       "<div>\n",
       "<style scoped>\n",
       "    .dataframe tbody tr th:only-of-type {\n",
       "        vertical-align: middle;\n",
       "    }\n",
       "\n",
       "    .dataframe tbody tr th {\n",
       "        vertical-align: top;\n",
       "    }\n",
       "\n",
       "    .dataframe thead th {\n",
       "        text-align: right;\n",
       "    }\n",
       "</style>\n",
       "<table border=\"1\" class=\"dataframe\">\n",
       "  <thead>\n",
       "    <tr style=\"text-align: right;\">\n",
       "      <th></th>\n",
       "      <th>state</th>\n",
       "      <th>sat_part_2017</th>\n",
       "      <th>sat_ebrw_2017</th>\n",
       "      <th>sat_math_2017</th>\n",
       "      <th>sat_total_2017</th>\n",
       "      <th>sat_part_2018</th>\n",
       "      <th>sat_ebrw_2018</th>\n",
       "      <th>sat_math_2018</th>\n",
       "      <th>sat_total_2018</th>\n",
       "      <th>sat_part_2019</th>\n",
       "      <th>sat_ebrw_2019</th>\n",
       "      <th>sat_math_2019</th>\n",
       "      <th>sat_total_2019</th>\n",
       "    </tr>\n",
       "  </thead>\n",
       "  <tbody>\n",
       "    <tr>\n",
       "      <th>0</th>\n",
       "      <td>Alabama</td>\n",
       "      <td>0.05</td>\n",
       "      <td>593</td>\n",
       "      <td>572</td>\n",
       "      <td>1165</td>\n",
       "      <td>0.06</td>\n",
       "      <td>595</td>\n",
       "      <td>571</td>\n",
       "      <td>1166</td>\n",
       "      <td>0.07</td>\n",
       "      <td>583</td>\n",
       "      <td>560</td>\n",
       "      <td>1143</td>\n",
       "    </tr>\n",
       "    <tr>\n",
       "      <th>1</th>\n",
       "      <td>Alaska</td>\n",
       "      <td>0.38</td>\n",
       "      <td>547</td>\n",
       "      <td>533</td>\n",
       "      <td>1080</td>\n",
       "      <td>0.43</td>\n",
       "      <td>562</td>\n",
       "      <td>544</td>\n",
       "      <td>1106</td>\n",
       "      <td>0.41</td>\n",
       "      <td>556</td>\n",
       "      <td>541</td>\n",
       "      <td>1097</td>\n",
       "    </tr>\n",
       "    <tr>\n",
       "      <th>2</th>\n",
       "      <td>Arizona</td>\n",
       "      <td>0.30</td>\n",
       "      <td>563</td>\n",
       "      <td>553</td>\n",
       "      <td>1116</td>\n",
       "      <td>0.29</td>\n",
       "      <td>577</td>\n",
       "      <td>572</td>\n",
       "      <td>1149</td>\n",
       "      <td>0.31</td>\n",
       "      <td>569</td>\n",
       "      <td>565</td>\n",
       "      <td>1134</td>\n",
       "    </tr>\n",
       "    <tr>\n",
       "      <th>3</th>\n",
       "      <td>Arkansas</td>\n",
       "      <td>0.03</td>\n",
       "      <td>614</td>\n",
       "      <td>594</td>\n",
       "      <td>1208</td>\n",
       "      <td>0.05</td>\n",
       "      <td>592</td>\n",
       "      <td>576</td>\n",
       "      <td>1169</td>\n",
       "      <td>0.06</td>\n",
       "      <td>582</td>\n",
       "      <td>559</td>\n",
       "      <td>1141</td>\n",
       "    </tr>\n",
       "    <tr>\n",
       "      <th>4</th>\n",
       "      <td>California</td>\n",
       "      <td>0.53</td>\n",
       "      <td>531</td>\n",
       "      <td>524</td>\n",
       "      <td>1055</td>\n",
       "      <td>0.60</td>\n",
       "      <td>540</td>\n",
       "      <td>536</td>\n",
       "      <td>1076</td>\n",
       "      <td>0.63</td>\n",
       "      <td>534</td>\n",
       "      <td>531</td>\n",
       "      <td>1065</td>\n",
       "    </tr>\n",
       "  </tbody>\n",
       "</table>\n",
       "</div>"
      ],
      "text/plain": [
       "        state  sat_part_2017  sat_ebrw_2017  sat_math_2017  sat_total_2017  \\\n",
       "0     Alabama           0.05            593            572            1165   \n",
       "1      Alaska           0.38            547            533            1080   \n",
       "2     Arizona           0.30            563            553            1116   \n",
       "3    Arkansas           0.03            614            594            1208   \n",
       "4  California           0.53            531            524            1055   \n",
       "\n",
       "   sat_part_2018  sat_ebrw_2018  sat_math_2018  sat_total_2018  sat_part_2019  \\\n",
       "0           0.06            595            571            1166           0.07   \n",
       "1           0.43            562            544            1106           0.41   \n",
       "2           0.29            577            572            1149           0.31   \n",
       "3           0.05            592            576            1169           0.06   \n",
       "4           0.60            540            536            1076           0.63   \n",
       "\n",
       "   sat_ebrw_2019  sat_math_2019  sat_total_2019  \n",
       "0            583            560            1143  \n",
       "1            556            541            1097  \n",
       "2            569            565            1134  \n",
       "3            582            559            1141  \n",
       "4            534            531            1065  "
      ]
     },
     "execution_count": 59,
     "metadata": {},
     "output_type": "execute_result"
    }
   ],
   "source": [
    "sat_2017_2018_2019.head()"
   ]
  },
  {
   "cell_type": "code",
   "execution_count": 60,
   "metadata": {},
   "outputs": [],
   "source": [
    "act_2017_2018 = act_2017.loc[:,[\"state\",\"act_part\",\"act_comp\"]].merge(act_2018,on=\"state\",suffixes=(\"_2017\",\"_2018\"))\n",
    "act_2017_2018_2019 = act_2017_2018.merge(act_2019,on=\"state\")\n",
    "act_2017_2018_2019.rename(columns = {\n",
    "    \"act_part\": \"act_part_2019\",\n",
    "    \"act_comp\": \"act_comp_2019\",\n",
    "}, inplace = True)\n",
    "\n",
    "#we are not keeping ACT subject scores since it's only available in 2017"
   ]
  },
  {
   "cell_type": "code",
   "execution_count": 61,
   "metadata": {},
   "outputs": [
    {
     "data": {
      "text/html": [
       "<div>\n",
       "<style scoped>\n",
       "    .dataframe tbody tr th:only-of-type {\n",
       "        vertical-align: middle;\n",
       "    }\n",
       "\n",
       "    .dataframe tbody tr th {\n",
       "        vertical-align: top;\n",
       "    }\n",
       "\n",
       "    .dataframe thead th {\n",
       "        text-align: right;\n",
       "    }\n",
       "</style>\n",
       "<table border=\"1\" class=\"dataframe\">\n",
       "  <thead>\n",
       "    <tr style=\"text-align: right;\">\n",
       "      <th></th>\n",
       "      <th>state</th>\n",
       "      <th>act_part_2017</th>\n",
       "      <th>act_comp_2017</th>\n",
       "      <th>act_part_2018</th>\n",
       "      <th>act_comp_2018</th>\n",
       "      <th>act_part_2019</th>\n",
       "      <th>act_comp_2019</th>\n",
       "    </tr>\n",
       "  </thead>\n",
       "  <tbody>\n",
       "    <tr>\n",
       "      <th>0</th>\n",
       "      <td>Alabama</td>\n",
       "      <td>1.00</td>\n",
       "      <td>19.2</td>\n",
       "      <td>1.00</td>\n",
       "      <td>19.1</td>\n",
       "      <td>1.00</td>\n",
       "      <td>18.9</td>\n",
       "    </tr>\n",
       "    <tr>\n",
       "      <th>1</th>\n",
       "      <td>Alaska</td>\n",
       "      <td>0.65</td>\n",
       "      <td>19.8</td>\n",
       "      <td>0.33</td>\n",
       "      <td>20.8</td>\n",
       "      <td>0.38</td>\n",
       "      <td>20.1</td>\n",
       "    </tr>\n",
       "    <tr>\n",
       "      <th>2</th>\n",
       "      <td>Arizona</td>\n",
       "      <td>0.62</td>\n",
       "      <td>19.7</td>\n",
       "      <td>0.66</td>\n",
       "      <td>19.2</td>\n",
       "      <td>0.73</td>\n",
       "      <td>19.0</td>\n",
       "    </tr>\n",
       "    <tr>\n",
       "      <th>3</th>\n",
       "      <td>Arkansas</td>\n",
       "      <td>1.00</td>\n",
       "      <td>19.4</td>\n",
       "      <td>1.00</td>\n",
       "      <td>19.4</td>\n",
       "      <td>1.00</td>\n",
       "      <td>19.3</td>\n",
       "    </tr>\n",
       "    <tr>\n",
       "      <th>4</th>\n",
       "      <td>California</td>\n",
       "      <td>0.31</td>\n",
       "      <td>22.8</td>\n",
       "      <td>0.27</td>\n",
       "      <td>22.7</td>\n",
       "      <td>0.23</td>\n",
       "      <td>22.6</td>\n",
       "    </tr>\n",
       "  </tbody>\n",
       "</table>\n",
       "</div>"
      ],
      "text/plain": [
       "        state  act_part_2017  act_comp_2017  act_part_2018  act_comp_2018  \\\n",
       "0     Alabama           1.00           19.2           1.00           19.1   \n",
       "1      Alaska           0.65           19.8           0.33           20.8   \n",
       "2     Arizona           0.62           19.7           0.66           19.2   \n",
       "3    Arkansas           1.00           19.4           1.00           19.4   \n",
       "4  California           0.31           22.8           0.27           22.7   \n",
       "\n",
       "   act_part_2019  act_comp_2019  \n",
       "0           1.00           18.9  \n",
       "1           0.38           20.1  \n",
       "2           0.73           19.0  \n",
       "3           1.00           19.3  \n",
       "4           0.23           22.6  "
      ]
     },
     "execution_count": 61,
     "metadata": {},
     "output_type": "execute_result"
    }
   ],
   "source": [
    "act_2017_2018_2019.head()"
   ]
  },
  {
   "cell_type": "code",
   "execution_count": 62,
   "metadata": {},
   "outputs": [],
   "source": [
    "sat_act = sat_2017_2018_2019.merge(act_2017_2018_2019,on=\"state\",how=\"outer\") \n",
    "#doing an outer merge first just to identify the state that we will remove later\n",
    "#otherwise, we can do an inner merge to prevent needing to remove null rows later"
   ]
  },
  {
   "cell_type": "code",
   "execution_count": 63,
   "metadata": {},
   "outputs": [
    {
     "name": "stdout",
     "output_type": "stream",
     "text": [
      "<class 'pandas.core.frame.DataFrame'>\n",
      "Int64Index: 51 entries, 0 to 50\n",
      "Data columns (total 19 columns):\n",
      " #   Column          Non-Null Count  Dtype  \n",
      "---  ------          --------------  -----  \n",
      " 0   state           51 non-null     object \n",
      " 1   sat_part_2017   51 non-null     float64\n",
      " 2   sat_ebrw_2017   51 non-null     int64  \n",
      " 3   sat_math_2017   51 non-null     int64  \n",
      " 4   sat_total_2017  51 non-null     int64  \n",
      " 5   sat_part_2018   51 non-null     float64\n",
      " 6   sat_ebrw_2018   51 non-null     int64  \n",
      " 7   sat_math_2018   51 non-null     int64  \n",
      " 8   sat_total_2018  51 non-null     int64  \n",
      " 9   sat_part_2019   51 non-null     float64\n",
      " 10  sat_ebrw_2019   51 non-null     int64  \n",
      " 11  sat_math_2019   51 non-null     int64  \n",
      " 12  sat_total_2019  51 non-null     int64  \n",
      " 13  act_part_2017   50 non-null     float64\n",
      " 14  act_comp_2017   50 non-null     float64\n",
      " 15  act_part_2018   50 non-null     float64\n",
      " 16  act_comp_2018   50 non-null     float64\n",
      " 17  act_part_2019   50 non-null     float64\n",
      " 18  act_comp_2019   50 non-null     float64\n",
      "dtypes: float64(9), int64(9), object(1)\n",
      "memory usage: 8.0+ KB\n"
     ]
    }
   ],
   "source": [
    "sat_act.info() #there are null cells that need to be removed"
   ]
  },
  {
   "cell_type": "code",
   "execution_count": 64,
   "metadata": {},
   "outputs": [
    {
     "data": {
      "text/html": [
       "<div>\n",
       "<style scoped>\n",
       "    .dataframe tbody tr th:only-of-type {\n",
       "        vertical-align: middle;\n",
       "    }\n",
       "\n",
       "    .dataframe tbody tr th {\n",
       "        vertical-align: top;\n",
       "    }\n",
       "\n",
       "    .dataframe thead th {\n",
       "        text-align: right;\n",
       "    }\n",
       "</style>\n",
       "<table border=\"1\" class=\"dataframe\">\n",
       "  <thead>\n",
       "    <tr style=\"text-align: right;\">\n",
       "      <th></th>\n",
       "      <th>state</th>\n",
       "      <th>sat_part_2017</th>\n",
       "      <th>sat_ebrw_2017</th>\n",
       "      <th>sat_math_2017</th>\n",
       "      <th>sat_total_2017</th>\n",
       "      <th>sat_part_2018</th>\n",
       "      <th>sat_ebrw_2018</th>\n",
       "      <th>sat_math_2018</th>\n",
       "      <th>sat_total_2018</th>\n",
       "      <th>sat_part_2019</th>\n",
       "      <th>sat_ebrw_2019</th>\n",
       "      <th>sat_math_2019</th>\n",
       "      <th>sat_total_2019</th>\n",
       "      <th>act_part_2017</th>\n",
       "      <th>act_comp_2017</th>\n",
       "      <th>act_part_2018</th>\n",
       "      <th>act_comp_2018</th>\n",
       "      <th>act_part_2019</th>\n",
       "      <th>act_comp_2019</th>\n",
       "    </tr>\n",
       "  </thead>\n",
       "  <tbody>\n",
       "    <tr>\n",
       "      <th>8</th>\n",
       "      <td>District of Columbia</td>\n",
       "      <td>1.0</td>\n",
       "      <td>482</td>\n",
       "      <td>468</td>\n",
       "      <td>950</td>\n",
       "      <td>0.92</td>\n",
       "      <td>497</td>\n",
       "      <td>480</td>\n",
       "      <td>977</td>\n",
       "      <td>0.94</td>\n",
       "      <td>495</td>\n",
       "      <td>480</td>\n",
       "      <td>975</td>\n",
       "      <td>NaN</td>\n",
       "      <td>NaN</td>\n",
       "      <td>NaN</td>\n",
       "      <td>NaN</td>\n",
       "      <td>NaN</td>\n",
       "      <td>NaN</td>\n",
       "    </tr>\n",
       "  </tbody>\n",
       "</table>\n",
       "</div>"
      ],
      "text/plain": [
       "                  state  sat_part_2017  sat_ebrw_2017  sat_math_2017  \\\n",
       "8  District of Columbia            1.0            482            468   \n",
       "\n",
       "   sat_total_2017  sat_part_2018  sat_ebrw_2018  sat_math_2018  \\\n",
       "8             950           0.92            497            480   \n",
       "\n",
       "   sat_total_2018  sat_part_2019  sat_ebrw_2019  sat_math_2019  \\\n",
       "8             977           0.94            495            480   \n",
       "\n",
       "   sat_total_2019  act_part_2017  act_comp_2017  act_part_2018  act_comp_2018  \\\n",
       "8             975            NaN            NaN            NaN            NaN   \n",
       "\n",
       "   act_part_2019  act_comp_2019  \n",
       "8            NaN            NaN  "
      ]
     },
     "execution_count": 64,
     "metadata": {},
     "output_type": "execute_result"
    }
   ],
   "source": [
    "sat_act[sat_act[\"act_comp_2019\"].isnull()]"
   ]
  },
  {
   "cell_type": "code",
   "execution_count": 65,
   "metadata": {},
   "outputs": [],
   "source": [
    "sat_act.dropna(inplace=True)"
   ]
  },
  {
   "cell_type": "code",
   "execution_count": 66,
   "metadata": {
    "tags": []
   },
   "outputs": [
    {
     "name": "stdout",
     "output_type": "stream",
     "text": [
      "<class 'pandas.core.frame.DataFrame'>\n",
      "Int64Index: 50 entries, 0 to 50\n",
      "Data columns (total 19 columns):\n",
      " #   Column          Non-Null Count  Dtype  \n",
      "---  ------          --------------  -----  \n",
      " 0   state           50 non-null     object \n",
      " 1   sat_part_2017   50 non-null     float64\n",
      " 2   sat_ebrw_2017   50 non-null     int64  \n",
      " 3   sat_math_2017   50 non-null     int64  \n",
      " 4   sat_total_2017  50 non-null     int64  \n",
      " 5   sat_part_2018   50 non-null     float64\n",
      " 6   sat_ebrw_2018   50 non-null     int64  \n",
      " 7   sat_math_2018   50 non-null     int64  \n",
      " 8   sat_total_2018  50 non-null     int64  \n",
      " 9   sat_part_2019   50 non-null     float64\n",
      " 10  sat_ebrw_2019   50 non-null     int64  \n",
      " 11  sat_math_2019   50 non-null     int64  \n",
      " 12  sat_total_2019  50 non-null     int64  \n",
      " 13  act_part_2017   50 non-null     float64\n",
      " 14  act_comp_2017   50 non-null     float64\n",
      " 15  act_part_2018   50 non-null     float64\n",
      " 16  act_comp_2018   50 non-null     float64\n",
      " 17  act_part_2019   50 non-null     float64\n",
      " 18  act_comp_2019   50 non-null     float64\n",
      "dtypes: float64(9), int64(9), object(1)\n",
      "memory usage: 7.8+ KB\n"
     ]
    }
   ],
   "source": [
    "sat_act.info()"
   ]
  },
  {
   "cell_type": "code",
   "execution_count": 67,
   "metadata": {
    "tags": []
   },
   "outputs": [
    {
     "data": {
      "text/html": [
       "<div>\n",
       "<style scoped>\n",
       "    .dataframe tbody tr th:only-of-type {\n",
       "        vertical-align: middle;\n",
       "    }\n",
       "\n",
       "    .dataframe tbody tr th {\n",
       "        vertical-align: top;\n",
       "    }\n",
       "\n",
       "    .dataframe thead th {\n",
       "        text-align: right;\n",
       "    }\n",
       "</style>\n",
       "<table border=\"1\" class=\"dataframe\">\n",
       "  <thead>\n",
       "    <tr style=\"text-align: right;\">\n",
       "      <th></th>\n",
       "      <th>state</th>\n",
       "      <th>sat_part_2017</th>\n",
       "      <th>sat_ebrw_2017</th>\n",
       "      <th>sat_math_2017</th>\n",
       "      <th>sat_total_2017</th>\n",
       "      <th>sat_part_2018</th>\n",
       "      <th>sat_ebrw_2018</th>\n",
       "      <th>sat_math_2018</th>\n",
       "      <th>sat_total_2018</th>\n",
       "      <th>sat_part_2019</th>\n",
       "      <th>sat_ebrw_2019</th>\n",
       "      <th>sat_math_2019</th>\n",
       "      <th>sat_total_2019</th>\n",
       "      <th>act_part_2017</th>\n",
       "      <th>act_comp_2017</th>\n",
       "      <th>act_part_2018</th>\n",
       "      <th>act_comp_2018</th>\n",
       "      <th>act_part_2019</th>\n",
       "      <th>act_comp_2019</th>\n",
       "    </tr>\n",
       "  </thead>\n",
       "  <tbody>\n",
       "    <tr>\n",
       "      <th>0</th>\n",
       "      <td>Alabama</td>\n",
       "      <td>0.05</td>\n",
       "      <td>593</td>\n",
       "      <td>572</td>\n",
       "      <td>1165</td>\n",
       "      <td>0.06</td>\n",
       "      <td>595</td>\n",
       "      <td>571</td>\n",
       "      <td>1166</td>\n",
       "      <td>0.07</td>\n",
       "      <td>583</td>\n",
       "      <td>560</td>\n",
       "      <td>1143</td>\n",
       "      <td>1.00</td>\n",
       "      <td>19.2</td>\n",
       "      <td>1.00</td>\n",
       "      <td>19.1</td>\n",
       "      <td>1.00</td>\n",
       "      <td>18.9</td>\n",
       "    </tr>\n",
       "    <tr>\n",
       "      <th>1</th>\n",
       "      <td>Alaska</td>\n",
       "      <td>0.38</td>\n",
       "      <td>547</td>\n",
       "      <td>533</td>\n",
       "      <td>1080</td>\n",
       "      <td>0.43</td>\n",
       "      <td>562</td>\n",
       "      <td>544</td>\n",
       "      <td>1106</td>\n",
       "      <td>0.41</td>\n",
       "      <td>556</td>\n",
       "      <td>541</td>\n",
       "      <td>1097</td>\n",
       "      <td>0.65</td>\n",
       "      <td>19.8</td>\n",
       "      <td>0.33</td>\n",
       "      <td>20.8</td>\n",
       "      <td>0.38</td>\n",
       "      <td>20.1</td>\n",
       "    </tr>\n",
       "    <tr>\n",
       "      <th>2</th>\n",
       "      <td>Arizona</td>\n",
       "      <td>0.30</td>\n",
       "      <td>563</td>\n",
       "      <td>553</td>\n",
       "      <td>1116</td>\n",
       "      <td>0.29</td>\n",
       "      <td>577</td>\n",
       "      <td>572</td>\n",
       "      <td>1149</td>\n",
       "      <td>0.31</td>\n",
       "      <td>569</td>\n",
       "      <td>565</td>\n",
       "      <td>1134</td>\n",
       "      <td>0.62</td>\n",
       "      <td>19.7</td>\n",
       "      <td>0.66</td>\n",
       "      <td>19.2</td>\n",
       "      <td>0.73</td>\n",
       "      <td>19.0</td>\n",
       "    </tr>\n",
       "    <tr>\n",
       "      <th>3</th>\n",
       "      <td>Arkansas</td>\n",
       "      <td>0.03</td>\n",
       "      <td>614</td>\n",
       "      <td>594</td>\n",
       "      <td>1208</td>\n",
       "      <td>0.05</td>\n",
       "      <td>592</td>\n",
       "      <td>576</td>\n",
       "      <td>1169</td>\n",
       "      <td>0.06</td>\n",
       "      <td>582</td>\n",
       "      <td>559</td>\n",
       "      <td>1141</td>\n",
       "      <td>1.00</td>\n",
       "      <td>19.4</td>\n",
       "      <td>1.00</td>\n",
       "      <td>19.4</td>\n",
       "      <td>1.00</td>\n",
       "      <td>19.3</td>\n",
       "    </tr>\n",
       "    <tr>\n",
       "      <th>4</th>\n",
       "      <td>California</td>\n",
       "      <td>0.53</td>\n",
       "      <td>531</td>\n",
       "      <td>524</td>\n",
       "      <td>1055</td>\n",
       "      <td>0.60</td>\n",
       "      <td>540</td>\n",
       "      <td>536</td>\n",
       "      <td>1076</td>\n",
       "      <td>0.63</td>\n",
       "      <td>534</td>\n",
       "      <td>531</td>\n",
       "      <td>1065</td>\n",
       "      <td>0.31</td>\n",
       "      <td>22.8</td>\n",
       "      <td>0.27</td>\n",
       "      <td>22.7</td>\n",
       "      <td>0.23</td>\n",
       "      <td>22.6</td>\n",
       "    </tr>\n",
       "  </tbody>\n",
       "</table>\n",
       "</div>"
      ],
      "text/plain": [
       "        state  sat_part_2017  sat_ebrw_2017  sat_math_2017  sat_total_2017  \\\n",
       "0     Alabama           0.05            593            572            1165   \n",
       "1      Alaska           0.38            547            533            1080   \n",
       "2     Arizona           0.30            563            553            1116   \n",
       "3    Arkansas           0.03            614            594            1208   \n",
       "4  California           0.53            531            524            1055   \n",
       "\n",
       "   sat_part_2018  sat_ebrw_2018  sat_math_2018  sat_total_2018  sat_part_2019  \\\n",
       "0           0.06            595            571            1166           0.07   \n",
       "1           0.43            562            544            1106           0.41   \n",
       "2           0.29            577            572            1149           0.31   \n",
       "3           0.05            592            576            1169           0.06   \n",
       "4           0.60            540            536            1076           0.63   \n",
       "\n",
       "   sat_ebrw_2019  sat_math_2019  sat_total_2019  act_part_2017  act_comp_2017  \\\n",
       "0            583            560            1143           1.00           19.2   \n",
       "1            556            541            1097           0.65           19.8   \n",
       "2            569            565            1134           0.62           19.7   \n",
       "3            582            559            1141           1.00           19.4   \n",
       "4            534            531            1065           0.31           22.8   \n",
       "\n",
       "   act_part_2018  act_comp_2018  act_part_2019  act_comp_2019  \n",
       "0           1.00           19.1           1.00           18.9  \n",
       "1           0.33           20.8           0.38           20.1  \n",
       "2           0.66           19.2           0.73           19.0  \n",
       "3           1.00           19.4           1.00           19.3  \n",
       "4           0.27           22.7           0.23           22.6  "
      ]
     },
     "execution_count": 67,
     "metadata": {},
     "output_type": "execute_result"
    }
   ],
   "source": [
    "sat_act.head()"
   ]
  },
  {
   "cell_type": "markdown",
   "metadata": {},
   "source": [
    "**h) Create new columns to calculate year on year % changes in participation rate**"
   ]
  },
  {
   "cell_type": "code",
   "execution_count": 68,
   "metadata": {},
   "outputs": [],
   "source": [
    "def yoy_columns(new_column,previous,current):\n",
    "    sat_act[new_column] = round((sat_act[current] - sat_act[previous])/(sat_act[previous]),3)\n",
    "    return\n"
   ]
  },
  {
   "cell_type": "code",
   "execution_count": 69,
   "metadata": {},
   "outputs": [
    {
     "data": {
      "text/html": [
       "<div>\n",
       "<style scoped>\n",
       "    .dataframe tbody tr th:only-of-type {\n",
       "        vertical-align: middle;\n",
       "    }\n",
       "\n",
       "    .dataframe tbody tr th {\n",
       "        vertical-align: top;\n",
       "    }\n",
       "\n",
       "    .dataframe thead th {\n",
       "        text-align: right;\n",
       "    }\n",
       "</style>\n",
       "<table border=\"1\" class=\"dataframe\">\n",
       "  <thead>\n",
       "    <tr style=\"text-align: right;\">\n",
       "      <th></th>\n",
       "      <th>state</th>\n",
       "      <th>sat_part_2017</th>\n",
       "      <th>sat_ebrw_2017</th>\n",
       "      <th>sat_math_2017</th>\n",
       "      <th>sat_total_2017</th>\n",
       "      <th>sat_part_2018</th>\n",
       "      <th>sat_ebrw_2018</th>\n",
       "      <th>sat_math_2018</th>\n",
       "      <th>sat_total_2018</th>\n",
       "      <th>sat_part_2019</th>\n",
       "      <th>...</th>\n",
       "      <th>act_part_2017</th>\n",
       "      <th>act_comp_2017</th>\n",
       "      <th>act_part_2018</th>\n",
       "      <th>act_comp_2018</th>\n",
       "      <th>act_part_2019</th>\n",
       "      <th>act_comp_2019</th>\n",
       "      <th>sat_part_17_to_18</th>\n",
       "      <th>sat_part_18_to_19</th>\n",
       "      <th>act_part_17_to_18</th>\n",
       "      <th>act_part_18_to_19</th>\n",
       "    </tr>\n",
       "  </thead>\n",
       "  <tbody>\n",
       "    <tr>\n",
       "      <th>0</th>\n",
       "      <td>Alabama</td>\n",
       "      <td>0.05</td>\n",
       "      <td>593</td>\n",
       "      <td>572</td>\n",
       "      <td>1165</td>\n",
       "      <td>0.06</td>\n",
       "      <td>595</td>\n",
       "      <td>571</td>\n",
       "      <td>1166</td>\n",
       "      <td>0.07</td>\n",
       "      <td>...</td>\n",
       "      <td>1.00</td>\n",
       "      <td>19.2</td>\n",
       "      <td>1.00</td>\n",
       "      <td>19.1</td>\n",
       "      <td>1.00</td>\n",
       "      <td>18.9</td>\n",
       "      <td>0.200</td>\n",
       "      <td>0.167</td>\n",
       "      <td>0.000</td>\n",
       "      <td>0.000</td>\n",
       "    </tr>\n",
       "    <tr>\n",
       "      <th>1</th>\n",
       "      <td>Alaska</td>\n",
       "      <td>0.38</td>\n",
       "      <td>547</td>\n",
       "      <td>533</td>\n",
       "      <td>1080</td>\n",
       "      <td>0.43</td>\n",
       "      <td>562</td>\n",
       "      <td>544</td>\n",
       "      <td>1106</td>\n",
       "      <td>0.41</td>\n",
       "      <td>...</td>\n",
       "      <td>0.65</td>\n",
       "      <td>19.8</td>\n",
       "      <td>0.33</td>\n",
       "      <td>20.8</td>\n",
       "      <td>0.38</td>\n",
       "      <td>20.1</td>\n",
       "      <td>0.132</td>\n",
       "      <td>-0.047</td>\n",
       "      <td>-0.492</td>\n",
       "      <td>0.152</td>\n",
       "    </tr>\n",
       "    <tr>\n",
       "      <th>2</th>\n",
       "      <td>Arizona</td>\n",
       "      <td>0.30</td>\n",
       "      <td>563</td>\n",
       "      <td>553</td>\n",
       "      <td>1116</td>\n",
       "      <td>0.29</td>\n",
       "      <td>577</td>\n",
       "      <td>572</td>\n",
       "      <td>1149</td>\n",
       "      <td>0.31</td>\n",
       "      <td>...</td>\n",
       "      <td>0.62</td>\n",
       "      <td>19.7</td>\n",
       "      <td>0.66</td>\n",
       "      <td>19.2</td>\n",
       "      <td>0.73</td>\n",
       "      <td>19.0</td>\n",
       "      <td>-0.033</td>\n",
       "      <td>0.069</td>\n",
       "      <td>0.065</td>\n",
       "      <td>0.106</td>\n",
       "    </tr>\n",
       "    <tr>\n",
       "      <th>3</th>\n",
       "      <td>Arkansas</td>\n",
       "      <td>0.03</td>\n",
       "      <td>614</td>\n",
       "      <td>594</td>\n",
       "      <td>1208</td>\n",
       "      <td>0.05</td>\n",
       "      <td>592</td>\n",
       "      <td>576</td>\n",
       "      <td>1169</td>\n",
       "      <td>0.06</td>\n",
       "      <td>...</td>\n",
       "      <td>1.00</td>\n",
       "      <td>19.4</td>\n",
       "      <td>1.00</td>\n",
       "      <td>19.4</td>\n",
       "      <td>1.00</td>\n",
       "      <td>19.3</td>\n",
       "      <td>0.667</td>\n",
       "      <td>0.200</td>\n",
       "      <td>0.000</td>\n",
       "      <td>0.000</td>\n",
       "    </tr>\n",
       "    <tr>\n",
       "      <th>4</th>\n",
       "      <td>California</td>\n",
       "      <td>0.53</td>\n",
       "      <td>531</td>\n",
       "      <td>524</td>\n",
       "      <td>1055</td>\n",
       "      <td>0.60</td>\n",
       "      <td>540</td>\n",
       "      <td>536</td>\n",
       "      <td>1076</td>\n",
       "      <td>0.63</td>\n",
       "      <td>...</td>\n",
       "      <td>0.31</td>\n",
       "      <td>22.8</td>\n",
       "      <td>0.27</td>\n",
       "      <td>22.7</td>\n",
       "      <td>0.23</td>\n",
       "      <td>22.6</td>\n",
       "      <td>0.132</td>\n",
       "      <td>0.050</td>\n",
       "      <td>-0.129</td>\n",
       "      <td>-0.148</td>\n",
       "    </tr>\n",
       "  </tbody>\n",
       "</table>\n",
       "<p>5 rows × 23 columns</p>\n",
       "</div>"
      ],
      "text/plain": [
       "        state  sat_part_2017  sat_ebrw_2017  sat_math_2017  sat_total_2017  \\\n",
       "0     Alabama           0.05            593            572            1165   \n",
       "1      Alaska           0.38            547            533            1080   \n",
       "2     Arizona           0.30            563            553            1116   \n",
       "3    Arkansas           0.03            614            594            1208   \n",
       "4  California           0.53            531            524            1055   \n",
       "\n",
       "   sat_part_2018  sat_ebrw_2018  sat_math_2018  sat_total_2018  sat_part_2019  \\\n",
       "0           0.06            595            571            1166           0.07   \n",
       "1           0.43            562            544            1106           0.41   \n",
       "2           0.29            577            572            1149           0.31   \n",
       "3           0.05            592            576            1169           0.06   \n",
       "4           0.60            540            536            1076           0.63   \n",
       "\n",
       "   ...  act_part_2017  act_comp_2017  act_part_2018  act_comp_2018  \\\n",
       "0  ...           1.00           19.2           1.00           19.1   \n",
       "1  ...           0.65           19.8           0.33           20.8   \n",
       "2  ...           0.62           19.7           0.66           19.2   \n",
       "3  ...           1.00           19.4           1.00           19.4   \n",
       "4  ...           0.31           22.8           0.27           22.7   \n",
       "\n",
       "   act_part_2019  act_comp_2019  sat_part_17_to_18  sat_part_18_to_19  \\\n",
       "0           1.00           18.9              0.200              0.167   \n",
       "1           0.38           20.1              0.132             -0.047   \n",
       "2           0.73           19.0             -0.033              0.069   \n",
       "3           1.00           19.3              0.667              0.200   \n",
       "4           0.23           22.6              0.132              0.050   \n",
       "\n",
       "   act_part_17_to_18  act_part_18_to_19  \n",
       "0              0.000              0.000  \n",
       "1             -0.492              0.152  \n",
       "2              0.065              0.106  \n",
       "3              0.000              0.000  \n",
       "4             -0.129             -0.148  \n",
       "\n",
       "[5 rows x 23 columns]"
      ]
     },
     "execution_count": 69,
     "metadata": {},
     "output_type": "execute_result"
    }
   ],
   "source": [
    "yoy_columns(\"sat_part_17_to_18\",\"sat_part_2017\",\"sat_part_2018\")\n",
    "yoy_columns(\"sat_part_18_to_19\",\"sat_part_2018\",\"sat_part_2019\")\n",
    "yoy_columns(\"act_part_17_to_18\",\"act_part_2017\",\"act_part_2018\")\n",
    "yoy_columns(\"act_part_18_to_19\",\"act_part_2018\",\"act_part_2019\")\n",
    "sat_act.head()\n",
    "\n",
    "\n"
   ]
  },
  {
   "cell_type": "markdown",
   "metadata": {
    "tags": []
   },
   "source": [
    "### Data Dictionary\n",
    "\n",
    "Now that we've fixed our data, and given it appropriate names, let's create a [data dictionary](http://library.ucmerced.edu/node/10249). \n",
    "\n",
    "A data dictionary provides a quick overview of features/variables/columns, alongside data types and descriptions. The more descriptive you can be, the more useful this document is.\n",
    "\n",
    "Example of a Fictional Data Dictionary Entry: \n",
    "\n",
    "|Feature|Type|Dataset|Description|\n",
    "|---|---|---|---|\n",
    "|**county_pop**|*integer*|2010 census|The population of the county (units in thousands, where 2.5 represents 2500 people).| \n",
    "|**per_poverty**|*float*|2010 census|The percent of the county over the age of 18 living below the 200% of official US poverty rate (units percent to two decimal places 98.10 means 98.1%)|\n",
    "\n",
    "[Here's a quick link to a short guide for formatting markdown in Jupyter notebooks](https://jupyter-notebook.readthedocs.io/en/stable/examples/Notebook/Working%20With%20Markdown%20Cells.html).\n",
    "\n",
    "Provided is the skeleton for formatting a markdown table, with columns headers that will help you create a data dictionary to quickly summarize your data, as well as some examples. **This would be a great thing to copy and paste into your custom README for this project.**\n",
    "\n",
    "*Note*: if you are unsure of what a feature is, check the source of the data! This can be found in the README."
   ]
  },
  {
   "cell_type": "markdown",
   "metadata": {},
   "source": [
    "**Date dictionary for \"sat_act\"**:\n",
    "\n",
    "| Column   Name     | Data Type | Dataset | Year    | Description                                                                                                                                                             | Range                                                         |\n",
    "|-------------------|-----------|---------|---------|-------------------------------------------------------------------------------------------------------------------------------------------------------------------------|---------------------------------------------------------------|\n",
    "| act_comp_2017     | float64   | ACT     | 2017    | ACT composite scores                                                                                                                                                    | 1.0 - 36.0                                                    |\n",
    "| act_comp_2018     | float64   | ACT     | 2018    | ACT composite scores                                                                                                                                                    | 1.0 - 36.0                                                    |\n",
    "| act_comp_2019     | float64   | ACT     | 2019    | ACT composite scores                                                                                                                                                    | 1.0 - 36.0                                                    |\n",
    "| sat_ebrw_2017     | int64     | SAT     | 2017    | Average score for Evidence-based   Reading and Writing section                                                                                                          | 200 - 800                                                     |\n",
    "| sat_ebrw_2018     | int64     | SAT     | 2018    | Average score for Evidence-based   Reading and Writing section                                                                                                          | 200 - 800                                                     |\n",
    "| sat_ebrw_2019     | int64     | SAT     | 2019    | Average score for Evidence-based   Reading and Writing section                                                                                                          | 200 - 800                                                     |\n",
    "| sat_math_2017     | int64     | SAT     | 2017    | Average score for Math section.   Range                                                                                                                                 | 200 - 800                                                     |\n",
    "| sat_math_2018     | int64     | SAT     | 2018    | Average score for Math section.   Range                                                                                                                                 | 200 - 800                                                     |\n",
    "| sat_math_2019     | int64     | SAT     | 2019    | Average score for Math section.   Range                                                                                                                                 | 200 - 800                                                     |\n",
    "| sat_total_2017    | int64     | SAT     | 2017    | Average Total score, sum of EBRW   and Math section                                                                                                                     | 400 - 1600                                                    |\n",
    "| sat_total_2018    | int64     | SAT     | 2018    | Average Total score, sum of EBRW   and Math section                                                                                                                     | 400 - 1600                                                    |\n",
    "| sat_total_2019    | int64     | SAT     | 2019    | Average Total score, sum of EBRW   and Math section                                                                                                                     | 400 - 1600                                                    |\n",
    "| name              | object    | ALL     | -       | Names of 50 US states. Excludes:   District of Columbia                                                                                                                 | 50 states                                                     |\n",
    "| act_part_2017     | float64   | ACT     | 2017    | State ACT participation rate for   a given year                                                                                                                         | 0.00  - 1.00                                                  |\n",
    "| act_part_2019     | float64   | ACT     | 2019    | State participation rate                                                                                                                                                | 0.00  - 1.00                                                  |\n",
    "| act_part_2018     | float64   | ACT     | 2018    | State participation rate for a   given year                                                                                                                             | 0.00  - 1.00                                                  |\n",
    "| sat_part_2017     | float64   | SAT     | 2017    | State SAT participation rate for   a given year                                                                                                                         | 0.00  - 1.00                                                  |\n",
    "| sat_part_2018     | float64   | SAT     | 2018    | State SAT participation rate for   a given year                                                                                                                         | 0.00  - 1.00                                                  |\n",
    "| sat_part_2019     | float64   | SAT     | 2019    | State SAT participation rate for   a given year                                                                                                                         | 0.00  - 1.00                                                  |\n",
    "| sat_part_17_to_18 | float64   | SAT     | 2017-18 | Year-on-Year Change in SAT   participation rate. 2018 minus 2017 rates over 2017 rates. Negative refers to   drop in rate YoY while positive means increase in rate YoY | Any positive or negative ratio,   rounded to 3 decimal places |\n",
    "| sat_part_18_to_19 | float64   | SAT     | 2018-19 | Year-on-Year Change in SAT   participation rate. 2018 minus 2017 rates over 2017 rates. Negative refers to   drop in rate YoY while positive means increase in rate YoY | Any positive or negative ratio,   rounded to 3 decimal places |\n",
    "| act_part_17_to_18 | float64   | ACT     | 2017-18 | Year-on-Year Change in SAT   participation rate. 2018 minus 2017 rates over 2017 rates. Negative refers to   drop in rate YoY while positive means increase in rate YoY | Any positive or negative ratio,   rounded to 3 decimal places |\n",
    "| act_part_18_to_19 | float64   | ACT     | 2018-19 | Year-on-Year Change in SAT   participation rate. 2018 minus 2017 rates over 2017 rates. Negative refers to   drop in rate YoY while positive means increase in rate YoY | Any positive or negative ratio,   rounded to 3 decimal places |"
   ]
  },
  {
   "cell_type": "markdown",
   "metadata": {},
   "source": [
    "## Exploratory Data Analysis\n",
    "\n",
    "Complete the following steps to explore your data. You are welcome to do more EDA than the steps outlined here as you feel necessary:\n",
    "1. Summary Statistics.\n",
    "2. Use a **dictionary comprehension** to apply the standard deviation function you create in part 1 to each numeric column in the dataframe.  **No loops**.\n",
    "    - Assign the output to variable `sd` as a dictionary where: \n",
    "        - Each column name is now a key \n",
    "        - That standard deviation of the column is the value \n",
    "        - *Example Output :* `{'ACT_Math': 120, 'ACT_Reading': 120, ...}`\n",
    "3. Investigate trends in the data.\n",
    "    - Using sorting and/or masking (along with the `.head()` method to avoid printing our entire dataframe), consider questions relevant to your problem statement. Some examples are provided below (but feel free to change these questions for your specific problem):\n",
    "        - Which states have the highest and lowest participation rates for the 2017, 2019, or 2019 SAT and ACT?\n",
    "        - Which states have the highest and lowest mean total/composite scores for the 2017, 2019, or 2019 SAT and ACT?\n",
    "        - Do any states with 100% participation on a given test have a rate change year-to-year?\n",
    "        - Do any states show have >50% participation on *both* tests each year?\n",
    "        - Which colleges have the highest median SAT and ACT scores for admittance?\n",
    "        - Which California school districts have the highest and lowest mean test scores?\n",
    "    - **You should comment on your findings at each step in a markdown cell below your code block**. Make sure you include at least one example of sorting your dataframe by a column, and one example of using boolean filtering (i.e., masking) to select a subset of the dataframe."
   ]
  },
  {
   "cell_type": "markdown",
   "metadata": {},
   "source": [
    "# Summary Statistics:"
   ]
  },
  {
   "cell_type": "markdown",
   "metadata": {},
   "source": [
    "1) SAT & ACT Yearly Participation Rates by State"
   ]
  },
  {
   "cell_type": "code",
   "execution_count": 70,
   "metadata": {},
   "outputs": [
    {
     "data": {
      "text/html": [
       "<div>\n",
       "<style scoped>\n",
       "    .dataframe tbody tr th:only-of-type {\n",
       "        vertical-align: middle;\n",
       "    }\n",
       "\n",
       "    .dataframe tbody tr th {\n",
       "        vertical-align: top;\n",
       "    }\n",
       "\n",
       "    .dataframe thead th {\n",
       "        text-align: right;\n",
       "    }\n",
       "</style>\n",
       "<table border=\"1\" class=\"dataframe\">\n",
       "  <thead>\n",
       "    <tr style=\"text-align: right;\">\n",
       "      <th></th>\n",
       "      <th>sat_part_2017</th>\n",
       "      <th>sat_part_2018</th>\n",
       "      <th>sat_part_2019</th>\n",
       "      <th>act_part_2017</th>\n",
       "      <th>act_part_2018</th>\n",
       "      <th>act_part_2019</th>\n",
       "    </tr>\n",
       "  </thead>\n",
       "  <tbody>\n",
       "    <tr>\n",
       "      <th>count</th>\n",
       "      <td>50.000000</td>\n",
       "      <td>50.000000</td>\n",
       "      <td>50.000000</td>\n",
       "      <td>50.000000</td>\n",
       "      <td>50.000000</td>\n",
       "      <td>50.000000</td>\n",
       "    </tr>\n",
       "    <tr>\n",
       "      <th>mean</th>\n",
       "      <td>0.386000</td>\n",
       "      <td>0.448200</td>\n",
       "      <td>0.481600</td>\n",
       "      <td>0.659200</td>\n",
       "      <td>0.623200</td>\n",
       "      <td>0.592000</td>\n",
       "    </tr>\n",
       "    <tr>\n",
       "      <th>std</th>\n",
       "      <td>0.345602</td>\n",
       "      <td>0.370976</td>\n",
       "      <td>0.386002</td>\n",
       "      <td>0.321107</td>\n",
       "      <td>0.341141</td>\n",
       "      <td>0.346534</td>\n",
       "    </tr>\n",
       "    <tr>\n",
       "      <th>min</th>\n",
       "      <td>0.020000</td>\n",
       "      <td>0.020000</td>\n",
       "      <td>0.020000</td>\n",
       "      <td>0.080000</td>\n",
       "      <td>0.070000</td>\n",
       "      <td>0.060000</td>\n",
       "    </tr>\n",
       "    <tr>\n",
       "      <th>25%</th>\n",
       "      <td>0.040000</td>\n",
       "      <td>0.042500</td>\n",
       "      <td>0.052500</td>\n",
       "      <td>0.310000</td>\n",
       "      <td>0.277500</td>\n",
       "      <td>0.242500</td>\n",
       "    </tr>\n",
       "    <tr>\n",
       "      <th>50%</th>\n",
       "      <td>0.340000</td>\n",
       "      <td>0.500000</td>\n",
       "      <td>0.525000</td>\n",
       "      <td>0.710000</td>\n",
       "      <td>0.660000</td>\n",
       "      <td>0.585000</td>\n",
       "    </tr>\n",
       "    <tr>\n",
       "      <th>75%</th>\n",
       "      <td>0.650000</td>\n",
       "      <td>0.745000</td>\n",
       "      <td>0.817500</td>\n",
       "      <td>1.000000</td>\n",
       "      <td>1.000000</td>\n",
       "      <td>1.000000</td>\n",
       "    </tr>\n",
       "    <tr>\n",
       "      <th>max</th>\n",
       "      <td>1.000000</td>\n",
       "      <td>1.000000</td>\n",
       "      <td>1.000000</td>\n",
       "      <td>1.000000</td>\n",
       "      <td>1.000000</td>\n",
       "      <td>1.000000</td>\n",
       "    </tr>\n",
       "  </tbody>\n",
       "</table>\n",
       "</div>"
      ],
      "text/plain": [
       "       sat_part_2017  sat_part_2018  sat_part_2019  act_part_2017  \\\n",
       "count      50.000000      50.000000      50.000000      50.000000   \n",
       "mean        0.386000       0.448200       0.481600       0.659200   \n",
       "std         0.345602       0.370976       0.386002       0.321107   \n",
       "min         0.020000       0.020000       0.020000       0.080000   \n",
       "25%         0.040000       0.042500       0.052500       0.310000   \n",
       "50%         0.340000       0.500000       0.525000       0.710000   \n",
       "75%         0.650000       0.745000       0.817500       1.000000   \n",
       "max         1.000000       1.000000       1.000000       1.000000   \n",
       "\n",
       "       act_part_2018  act_part_2019  \n",
       "count      50.000000      50.000000  \n",
       "mean        0.623200       0.592000  \n",
       "std         0.341141       0.346534  \n",
       "min         0.070000       0.060000  \n",
       "25%         0.277500       0.242500  \n",
       "50%         0.660000       0.585000  \n",
       "75%         1.000000       1.000000  \n",
       "max         1.000000       1.000000  "
      ]
     },
     "execution_count": 70,
     "metadata": {},
     "output_type": "execute_result"
    }
   ],
   "source": [
    "sat_act[[\"sat_part_2017\",\"sat_part_2018\",\"sat_part_2019\",\"act_part_2017\",\"act_part_2018\",\"act_part_2019\"]].describe()"
   ]
  },
  {
   "cell_type": "markdown",
   "metadata": {},
   "source": [
    "2. SAT and ACT Average State Total Scores by Year"
   ]
  },
  {
   "cell_type": "code",
   "execution_count": 71,
   "metadata": {},
   "outputs": [
    {
     "data": {
      "text/html": [
       "<div>\n",
       "<style scoped>\n",
       "    .dataframe tbody tr th:only-of-type {\n",
       "        vertical-align: middle;\n",
       "    }\n",
       "\n",
       "    .dataframe tbody tr th {\n",
       "        vertical-align: top;\n",
       "    }\n",
       "\n",
       "    .dataframe thead th {\n",
       "        text-align: right;\n",
       "    }\n",
       "</style>\n",
       "<table border=\"1\" class=\"dataframe\">\n",
       "  <thead>\n",
       "    <tr style=\"text-align: right;\">\n",
       "      <th></th>\n",
       "      <th>sat_total_2017</th>\n",
       "      <th>sat_total_2018</th>\n",
       "      <th>sat_total_2019</th>\n",
       "      <th>act_comp_2017</th>\n",
       "      <th>act_comp_2018</th>\n",
       "      <th>act_comp_2019</th>\n",
       "    </tr>\n",
       "  </thead>\n",
       "  <tbody>\n",
       "    <tr>\n",
       "      <th>count</th>\n",
       "      <td>50.000000</td>\n",
       "      <td>50.000000</td>\n",
       "      <td>50.000000</td>\n",
       "      <td>50.000000</td>\n",
       "      <td>50.000000</td>\n",
       "      <td>50.000000</td>\n",
       "    </tr>\n",
       "    <tr>\n",
       "      <th>mean</th>\n",
       "      <td>1129.620000</td>\n",
       "      <td>1122.880000</td>\n",
       "      <td>1115.840000</td>\n",
       "      <td>21.466000</td>\n",
       "      <td>21.454000</td>\n",
       "      <td>21.424000</td>\n",
       "    </tr>\n",
       "    <tr>\n",
       "      <th>std</th>\n",
       "      <td>89.913085</td>\n",
       "      <td>92.845634</td>\n",
       "      <td>96.142403</td>\n",
       "      <td>2.004241</td>\n",
       "      <td>2.111312</td>\n",
       "      <td>2.197267</td>\n",
       "    </tr>\n",
       "    <tr>\n",
       "      <th>min</th>\n",
       "      <td>996.000000</td>\n",
       "      <td>998.000000</td>\n",
       "      <td>943.000000</td>\n",
       "      <td>17.800000</td>\n",
       "      <td>17.700000</td>\n",
       "      <td>17.900000</td>\n",
       "    </tr>\n",
       "    <tr>\n",
       "      <th>25%</th>\n",
       "      <td>1057.000000</td>\n",
       "      <td>1062.250000</td>\n",
       "      <td>1049.000000</td>\n",
       "      <td>19.800000</td>\n",
       "      <td>19.925000</td>\n",
       "      <td>19.800000</td>\n",
       "    </tr>\n",
       "    <tr>\n",
       "      <th>50%</th>\n",
       "      <td>1107.500000</td>\n",
       "      <td>1098.500000</td>\n",
       "      <td>1098.500000</td>\n",
       "      <td>21.400000</td>\n",
       "      <td>21.050000</td>\n",
       "      <td>20.950000</td>\n",
       "    </tr>\n",
       "    <tr>\n",
       "      <th>75%</th>\n",
       "      <td>1214.000000</td>\n",
       "      <td>1207.000000</td>\n",
       "      <td>1215.000000</td>\n",
       "      <td>23.400000</td>\n",
       "      <td>23.650000</td>\n",
       "      <td>23.750000</td>\n",
       "    </tr>\n",
       "    <tr>\n",
       "      <th>max</th>\n",
       "      <td>1295.000000</td>\n",
       "      <td>1298.000000</td>\n",
       "      <td>1284.000000</td>\n",
       "      <td>25.500000</td>\n",
       "      <td>25.600000</td>\n",
       "      <td>25.500000</td>\n",
       "    </tr>\n",
       "  </tbody>\n",
       "</table>\n",
       "</div>"
      ],
      "text/plain": [
       "       sat_total_2017  sat_total_2018  sat_total_2019  act_comp_2017  \\\n",
       "count       50.000000       50.000000       50.000000      50.000000   \n",
       "mean      1129.620000     1122.880000     1115.840000      21.466000   \n",
       "std         89.913085       92.845634       96.142403       2.004241   \n",
       "min        996.000000      998.000000      943.000000      17.800000   \n",
       "25%       1057.000000     1062.250000     1049.000000      19.800000   \n",
       "50%       1107.500000     1098.500000     1098.500000      21.400000   \n",
       "75%       1214.000000     1207.000000     1215.000000      23.400000   \n",
       "max       1295.000000     1298.000000     1284.000000      25.500000   \n",
       "\n",
       "       act_comp_2018  act_comp_2019  \n",
       "count      50.000000      50.000000  \n",
       "mean       21.454000      21.424000  \n",
       "std         2.111312       2.197267  \n",
       "min        17.700000      17.900000  \n",
       "25%        19.925000      19.800000  \n",
       "50%        21.050000      20.950000  \n",
       "75%        23.650000      23.750000  \n",
       "max        25.600000      25.500000  "
      ]
     },
     "execution_count": 71,
     "metadata": {},
     "output_type": "execute_result"
    }
   ],
   "source": [
    "sat_act[[\"sat_total_2017\",\"sat_total_2018\",\"sat_total_2019\",\"act_comp_2017\",\"act_comp_2018\",\"act_comp_2019\"]].describe()"
   ]
  },
  {
   "cell_type": "markdown",
   "metadata": {},
   "source": [
    "Use a dictionary comprehension to apply the standard deviation function you create in part 1 to each numeric column in the dataframe. No loops.\n",
    "Assign the output to variable sd as a dictionary where:\n",
    "Each column name is now a key\n",
    "That standard deviation of the column is the value\n",
    "Example Output : {'ACT_Math': 120, 'ACT_Reading': 120, ...}"
   ]
  },
  {
   "cell_type": "code",
   "execution_count": 72,
   "metadata": {
    "tags": []
   },
   "outputs": [
    {
     "data": {
      "text/plain": [
       "{'sat_part_2017': 0.34,\n",
       " 'sat_ebrw_2017': 43.94,\n",
       " 'sat_math_2017': 45.38,\n",
       " 'sat_total_2017': 89.01,\n",
       " 'sat_part_2018': 0.37,\n",
       " 'sat_ebrw_2018': 46.54,\n",
       " 'sat_math_2018': 46.52,\n",
       " 'sat_total_2018': 91.91,\n",
       " 'sat_part_2019': 0.38,\n",
       " 'sat_ebrw_2019': 45.28,\n",
       " 'sat_math_2019': 50.24,\n",
       " 'sat_total_2019': 95.18,\n",
       " 'act_part_2017': 0.32,\n",
       " 'act_comp_2017': 1.98,\n",
       " 'act_part_2018': 0.34,\n",
       " 'act_comp_2018': 2.09,\n",
       " 'act_part_2019': 0.34,\n",
       " 'act_comp_2019': 2.18,\n",
       " 'sat_part_17_to_18': 1.77,\n",
       " 'sat_part_18_to_19': 0.44,\n",
       " 'act_part_17_to_18': 0.16,\n",
       " 'act_part_18_to_19': 0.09}"
      ]
     },
     "execution_count": 72,
     "metadata": {},
     "output_type": "execute_result"
    }
   ],
   "source": [
    "x = {i:round(std_dev(sat_act[i]),2) for i in sat_act.columns if i != \"state\"}\n",
    "\n",
    "x"
   ]
  },
  {
   "cell_type": "code",
   "execution_count": 73,
   "metadata": {
    "jupyter": {
     "source_hidden": true
    },
    "tags": []
   },
   "outputs": [],
   "source": [
    "#simplify array names:\n",
    "\n",
    "sp19 = sat_act[\"sat_part_2019\"]\n",
    "sp18 = sat_act[\"sat_part_2018\"]\n",
    "sp17 = sat_act[\"sat_part_2017\"]\n",
    "ap19 = sat_act[\"act_part_2019\"]\n",
    "ap18 = sat_act[\"act_part_2018\"]\n",
    "ap17 = sat_act[\"act_part_2017\"]\n",
    "\n",
    "spyoy18 = sat_act[\"sat_part_17_to_18\"]\n",
    "spyoy19 = sat_act[\"sat_part_18_to_19\"]\n",
    "apyoy18 = sat_act[\"act_part_17_to_18\"]\n",
    "apyoy19 = sat_act[\"act_part_18_to_19\"]\n",
    "\n",
    "st19 = sat_act[\"sat_total_2019\"]\n",
    "st18 = sat_act[\"sat_total_2018\"]\n",
    "st17 = sat_act[\"sat_total_2017\"]\n",
    "ac19 = sat_act[\"act_comp_2019\"]\n",
    "ac18 = sat_act[\"act_comp_2018\"]\n",
    "ac17 = sat_act[\"act_comp_2017\"]\n",
    "\n",
    "\n",
    "all_sp = [\"state\",\"sat_part_2017\",\"sat_part_2018\",\"sat_part_2019\"]\n",
    "all_sp_yoy = [\"state\",\"sat_part_2017\",\"sat_part_2018\",\"sat_part_2019\",\"sat_part_17_to_18\",\"sat_part_18_to_19\"]\n",
    "all_ap = [\"state\",\"act_part_2017\",\"act_part_2018\",\"act_part_2019\"]\n",
    "all_part = [\"state\",\"sat_part_2017\",\"sat_part_2018\",\"sat_part_2019\",\"act_part_2017\",\"act_part_2018\",\"act_part_2019\"]\n",
    "all_part_r = [\"state\",\"act_part_2017\",\"act_part_2018\",\"act_part_2019\",\"sat_part_2017\",\"sat_part_2018\",\"sat_part_2019\"]\n",
    "all_st = [\"state\",\"sat_total_2017\",\"sat_total_2018\",\"sat_total_2019\"]\n",
    "all_ac = [\"state\",\"act_comp_2017\",\"act_comp_2018\",\"act_comp_2019\"]\n"
   ]
  },
  {
   "cell_type": "code",
   "execution_count": 74,
   "metadata": {
    "jupyter": {
     "source_hidden": true
    },
    "tags": []
   },
   "outputs": [],
   "source": [
    "e17 = sat_act[\"sat_ebrw_2017\"]\n",
    "m17 = sat_act[\"sat_math_2017\"]\n",
    "e18 = sat_act[\"sat_ebrw_2018\"]\n",
    "m18 = sat_act[\"sat_math_2018\"]\n",
    "e19 = sat_act[\"sat_ebrw_2019\"]\n",
    "m19 = sat_act[\"sat_math_2019\"]\n",
    "\n",
    "all_e = [\"state\",\"sat_ebrw_2017\",\"sat_ebrw_2018\",\"sat_ebrw_2019\"]\n",
    "all_m = [\"state\",\"sat_math_2017\",\"sat_math_2018\",\"sat_math_2019\"]"
   ]
  },
  {
   "cell_type": "code",
   "execution_count": 75,
   "metadata": {},
   "outputs": [],
   "source": [
    "#simplify stats with functions:\n",
    "\n",
    "def low_q(input):\n",
    "    low_q = np.quantile(input, 0.25)\n",
    "    return low_q\n",
    "\n",
    "def top_q(input):\n",
    "    top_q = np.quantile(input, 0.75)\n",
    "    return top_q"
   ]
  },
  {
   "cell_type": "markdown",
   "metadata": {},
   "source": [
    "# Highest and lowest SAT participation rates by year:"
   ]
  },
  {
   "cell_type": "markdown",
   "metadata": {},
   "source": [
    "### Connecticut, Delaware and Michigan have consistently achieved 100% SAT participation rates between 2017-2019"
   ]
  },
  {
   "cell_type": "markdown",
   "metadata": {},
   "source": [
    "The SAT test is state-mandated in all these 3 states"
   ]
  },
  {
   "cell_type": "code",
   "execution_count": 76,
   "metadata": {},
   "outputs": [
    {
     "data": {
      "text/html": [
       "<div>\n",
       "<style scoped>\n",
       "    .dataframe tbody tr th:only-of-type {\n",
       "        vertical-align: middle;\n",
       "    }\n",
       "\n",
       "    .dataframe tbody tr th {\n",
       "        vertical-align: top;\n",
       "    }\n",
       "\n",
       "    .dataframe thead th {\n",
       "        text-align: right;\n",
       "    }\n",
       "</style>\n",
       "<table border=\"1\" class=\"dataframe\">\n",
       "  <thead>\n",
       "    <tr style=\"text-align: right;\">\n",
       "      <th></th>\n",
       "      <th>state</th>\n",
       "      <th>sat_part_2017</th>\n",
       "      <th>sat_part_2018</th>\n",
       "      <th>sat_part_2019</th>\n",
       "    </tr>\n",
       "  </thead>\n",
       "  <tbody>\n",
       "    <tr>\n",
       "      <th>6</th>\n",
       "      <td>Connecticut</td>\n",
       "      <td>1.0</td>\n",
       "      <td>1.0</td>\n",
       "      <td>1.0</td>\n",
       "    </tr>\n",
       "    <tr>\n",
       "      <th>7</th>\n",
       "      <td>Delaware</td>\n",
       "      <td>1.0</td>\n",
       "      <td>1.0</td>\n",
       "      <td>1.0</td>\n",
       "    </tr>\n",
       "    <tr>\n",
       "      <th>22</th>\n",
       "      <td>Michigan</td>\n",
       "      <td>1.0</td>\n",
       "      <td>1.0</td>\n",
       "      <td>1.0</td>\n",
       "    </tr>\n",
       "  </tbody>\n",
       "</table>\n",
       "</div>"
      ],
      "text/plain": [
       "          state  sat_part_2017  sat_part_2018  sat_part_2019\n",
       "6   Connecticut            1.0            1.0            1.0\n",
       "7      Delaware            1.0            1.0            1.0\n",
       "22     Michigan            1.0            1.0            1.0"
      ]
     },
     "execution_count": 76,
     "metadata": {},
     "output_type": "execute_result"
    }
   ],
   "source": [
    "sat_act[(sp19==1)&(sp18==1)&(sp17==1)].loc[:,all_sp]"
   ]
  },
  {
   "cell_type": "markdown",
   "metadata": {},
   "source": [
    "### 10 states consistently have low SAT participation rates (within the first quantile) across both years"
   ]
  },
  {
   "cell_type": "markdown",
   "metadata": {},
   "source": [
    "We could consider investing into Iowa and South Dakota to increase SAT participation rates as ACT participation rates for these states are relatively low. \n",
    "ACT is state-mandated in most of the other states in this list, so it might be an uphill battle to increase SAT participation rates in such cases."
   ]
  },
  {
   "cell_type": "code",
   "execution_count": 77,
   "metadata": {},
   "outputs": [
    {
     "data": {
      "text/html": [
       "<div>\n",
       "<style scoped>\n",
       "    .dataframe tbody tr th:only-of-type {\n",
       "        vertical-align: middle;\n",
       "    }\n",
       "\n",
       "    .dataframe tbody tr th {\n",
       "        vertical-align: top;\n",
       "    }\n",
       "\n",
       "    .dataframe thead th {\n",
       "        text-align: right;\n",
       "    }\n",
       "</style>\n",
       "<table border=\"1\" class=\"dataframe\">\n",
       "  <thead>\n",
       "    <tr style=\"text-align: right;\">\n",
       "      <th></th>\n",
       "      <th>state</th>\n",
       "      <th>sat_part_2017</th>\n",
       "      <th>sat_part_2018</th>\n",
       "      <th>sat_part_2019</th>\n",
       "      <th>act_part_2017</th>\n",
       "      <th>act_part_2018</th>\n",
       "      <th>act_part_2019</th>\n",
       "    </tr>\n",
       "  </thead>\n",
       "  <tbody>\n",
       "    <tr>\n",
       "      <th>15</th>\n",
       "      <td>Iowa</td>\n",
       "      <td>0.02</td>\n",
       "      <td>0.03</td>\n",
       "      <td>0.03</td>\n",
       "      <td>0.67</td>\n",
       "      <td>0.68</td>\n",
       "      <td>0.66</td>\n",
       "    </tr>\n",
       "    <tr>\n",
       "      <th>41</th>\n",
       "      <td>South Dakota</td>\n",
       "      <td>0.03</td>\n",
       "      <td>0.03</td>\n",
       "      <td>0.03</td>\n",
       "      <td>0.80</td>\n",
       "      <td>0.77</td>\n",
       "      <td>0.75</td>\n",
       "    </tr>\n",
       "    <tr>\n",
       "      <th>25</th>\n",
       "      <td>Missouri</td>\n",
       "      <td>0.03</td>\n",
       "      <td>0.04</td>\n",
       "      <td>0.04</td>\n",
       "      <td>1.00</td>\n",
       "      <td>1.00</td>\n",
       "      <td>0.82</td>\n",
       "    </tr>\n",
       "    <tr>\n",
       "      <th>23</th>\n",
       "      <td>Minnesota</td>\n",
       "      <td>0.03</td>\n",
       "      <td>0.04</td>\n",
       "      <td>0.04</td>\n",
       "      <td>1.00</td>\n",
       "      <td>0.99</td>\n",
       "      <td>0.95</td>\n",
       "    </tr>\n",
       "    <tr>\n",
       "      <th>34</th>\n",
       "      <td>North Dakota</td>\n",
       "      <td>0.02</td>\n",
       "      <td>0.02</td>\n",
       "      <td>0.02</td>\n",
       "      <td>0.98</td>\n",
       "      <td>0.98</td>\n",
       "      <td>0.96</td>\n",
       "    </tr>\n",
       "    <tr>\n",
       "      <th>24</th>\n",
       "      <td>Mississippi</td>\n",
       "      <td>0.02</td>\n",
       "      <td>0.03</td>\n",
       "      <td>0.03</td>\n",
       "      <td>1.00</td>\n",
       "      <td>1.00</td>\n",
       "      <td>1.00</td>\n",
       "    </tr>\n",
       "    <tr>\n",
       "      <th>27</th>\n",
       "      <td>Nebraska</td>\n",
       "      <td>0.03</td>\n",
       "      <td>0.03</td>\n",
       "      <td>0.03</td>\n",
       "      <td>0.84</td>\n",
       "      <td>1.00</td>\n",
       "      <td>1.00</td>\n",
       "    </tr>\n",
       "    <tr>\n",
       "      <th>44</th>\n",
       "      <td>Utah</td>\n",
       "      <td>0.03</td>\n",
       "      <td>0.04</td>\n",
       "      <td>0.04</td>\n",
       "      <td>1.00</td>\n",
       "      <td>1.00</td>\n",
       "      <td>1.00</td>\n",
       "    </tr>\n",
       "    <tr>\n",
       "      <th>49</th>\n",
       "      <td>Wisconsin</td>\n",
       "      <td>0.03</td>\n",
       "      <td>0.03</td>\n",
       "      <td>0.03</td>\n",
       "      <td>1.00</td>\n",
       "      <td>1.00</td>\n",
       "      <td>1.00</td>\n",
       "    </tr>\n",
       "    <tr>\n",
       "      <th>50</th>\n",
       "      <td>Wyoming</td>\n",
       "      <td>0.03</td>\n",
       "      <td>0.03</td>\n",
       "      <td>0.03</td>\n",
       "      <td>1.00</td>\n",
       "      <td>1.00</td>\n",
       "      <td>1.00</td>\n",
       "    </tr>\n",
       "  </tbody>\n",
       "</table>\n",
       "</div>"
      ],
      "text/plain": [
       "           state  sat_part_2017  sat_part_2018  sat_part_2019  act_part_2017  \\\n",
       "15          Iowa           0.02           0.03           0.03           0.67   \n",
       "41  South Dakota           0.03           0.03           0.03           0.80   \n",
       "25      Missouri           0.03           0.04           0.04           1.00   \n",
       "23     Minnesota           0.03           0.04           0.04           1.00   \n",
       "34  North Dakota           0.02           0.02           0.02           0.98   \n",
       "24   Mississippi           0.02           0.03           0.03           1.00   \n",
       "27      Nebraska           0.03           0.03           0.03           0.84   \n",
       "44          Utah           0.03           0.04           0.04           1.00   \n",
       "49     Wisconsin           0.03           0.03           0.03           1.00   \n",
       "50       Wyoming           0.03           0.03           0.03           1.00   \n",
       "\n",
       "    act_part_2018  act_part_2019  \n",
       "15           0.68           0.66  \n",
       "41           0.77           0.75  \n",
       "25           1.00           0.82  \n",
       "23           0.99           0.95  \n",
       "34           0.98           0.96  \n",
       "24           1.00           1.00  \n",
       "27           1.00           1.00  \n",
       "44           1.00           1.00  \n",
       "49           1.00           1.00  \n",
       "50           1.00           1.00  "
      ]
     },
     "execution_count": 77,
     "metadata": {},
     "output_type": "execute_result"
    }
   ],
   "source": [
    "low_sat = sat_act[(sp17<low_q(sp17))&(sp18<low_q(sp18))].loc[:,all_part].sort_values(\"act_part_2019\")\n",
    "low_sat"
   ]
  },
  {
   "cell_type": "code",
   "execution_count": 78,
   "metadata": {
    "tags": []
   },
   "outputs": [
    {
     "data": {
      "text/plain": [
       "10"
      ]
     },
     "execution_count": 78,
     "metadata": {},
     "output_type": "execute_result"
    }
   ],
   "source": [
    "len(low_sat)"
   ]
  },
  {
   "cell_type": "markdown",
   "metadata": {},
   "source": [
    "# Highest and lowest ACT participation rates by year:"
   ]
  },
  {
   "cell_type": "markdown",
   "metadata": {},
   "source": [
    "### 13 states have 100% ACT participation rate between 2017-2019"
   ]
  },
  {
   "cell_type": "code",
   "execution_count": 79,
   "metadata": {},
   "outputs": [
    {
     "data": {
      "text/html": [
       "<div>\n",
       "<style scoped>\n",
       "    .dataframe tbody tr th:only-of-type {\n",
       "        vertical-align: middle;\n",
       "    }\n",
       "\n",
       "    .dataframe tbody tr th {\n",
       "        vertical-align: top;\n",
       "    }\n",
       "\n",
       "    .dataframe thead th {\n",
       "        text-align: right;\n",
       "    }\n",
       "</style>\n",
       "<table border=\"1\" class=\"dataframe\">\n",
       "  <thead>\n",
       "    <tr style=\"text-align: right;\">\n",
       "      <th></th>\n",
       "      <th>state</th>\n",
       "      <th>act_part_2017</th>\n",
       "      <th>act_part_2018</th>\n",
       "      <th>act_part_2019</th>\n",
       "    </tr>\n",
       "  </thead>\n",
       "  <tbody>\n",
       "    <tr>\n",
       "      <th>0</th>\n",
       "      <td>Alabama</td>\n",
       "      <td>1.0</td>\n",
       "      <td>1.0</td>\n",
       "      <td>1.0</td>\n",
       "    </tr>\n",
       "    <tr>\n",
       "      <th>3</th>\n",
       "      <td>Arkansas</td>\n",
       "      <td>1.0</td>\n",
       "      <td>1.0</td>\n",
       "      <td>1.0</td>\n",
       "    </tr>\n",
       "    <tr>\n",
       "      <th>17</th>\n",
       "      <td>Kentucky</td>\n",
       "      <td>1.0</td>\n",
       "      <td>1.0</td>\n",
       "      <td>1.0</td>\n",
       "    </tr>\n",
       "    <tr>\n",
       "      <th>18</th>\n",
       "      <td>Louisiana</td>\n",
       "      <td>1.0</td>\n",
       "      <td>1.0</td>\n",
       "      <td>1.0</td>\n",
       "    </tr>\n",
       "    <tr>\n",
       "      <th>24</th>\n",
       "      <td>Mississippi</td>\n",
       "      <td>1.0</td>\n",
       "      <td>1.0</td>\n",
       "      <td>1.0</td>\n",
       "    </tr>\n",
       "    <tr>\n",
       "      <th>26</th>\n",
       "      <td>Montana</td>\n",
       "      <td>1.0</td>\n",
       "      <td>1.0</td>\n",
       "      <td>1.0</td>\n",
       "    </tr>\n",
       "    <tr>\n",
       "      <th>28</th>\n",
       "      <td>Nevada</td>\n",
       "      <td>1.0</td>\n",
       "      <td>1.0</td>\n",
       "      <td>1.0</td>\n",
       "    </tr>\n",
       "    <tr>\n",
       "      <th>33</th>\n",
       "      <td>North Carolina</td>\n",
       "      <td>1.0</td>\n",
       "      <td>1.0</td>\n",
       "      <td>1.0</td>\n",
       "    </tr>\n",
       "    <tr>\n",
       "      <th>36</th>\n",
       "      <td>Oklahoma</td>\n",
       "      <td>1.0</td>\n",
       "      <td>1.0</td>\n",
       "      <td>1.0</td>\n",
       "    </tr>\n",
       "    <tr>\n",
       "      <th>42</th>\n",
       "      <td>Tennessee</td>\n",
       "      <td>1.0</td>\n",
       "      <td>1.0</td>\n",
       "      <td>1.0</td>\n",
       "    </tr>\n",
       "    <tr>\n",
       "      <th>44</th>\n",
       "      <td>Utah</td>\n",
       "      <td>1.0</td>\n",
       "      <td>1.0</td>\n",
       "      <td>1.0</td>\n",
       "    </tr>\n",
       "    <tr>\n",
       "      <th>49</th>\n",
       "      <td>Wisconsin</td>\n",
       "      <td>1.0</td>\n",
       "      <td>1.0</td>\n",
       "      <td>1.0</td>\n",
       "    </tr>\n",
       "    <tr>\n",
       "      <th>50</th>\n",
       "      <td>Wyoming</td>\n",
       "      <td>1.0</td>\n",
       "      <td>1.0</td>\n",
       "      <td>1.0</td>\n",
       "    </tr>\n",
       "  </tbody>\n",
       "</table>\n",
       "</div>"
      ],
      "text/plain": [
       "             state  act_part_2017  act_part_2018  act_part_2019\n",
       "0          Alabama            1.0            1.0            1.0\n",
       "3         Arkansas            1.0            1.0            1.0\n",
       "17        Kentucky            1.0            1.0            1.0\n",
       "18       Louisiana            1.0            1.0            1.0\n",
       "24     Mississippi            1.0            1.0            1.0\n",
       "26         Montana            1.0            1.0            1.0\n",
       "28          Nevada            1.0            1.0            1.0\n",
       "33  North Carolina            1.0            1.0            1.0\n",
       "36        Oklahoma            1.0            1.0            1.0\n",
       "42       Tennessee            1.0            1.0            1.0\n",
       "44            Utah            1.0            1.0            1.0\n",
       "49       Wisconsin            1.0            1.0            1.0\n",
       "50         Wyoming            1.0            1.0            1.0"
      ]
     },
     "execution_count": 79,
     "metadata": {},
     "output_type": "execute_result"
    }
   ],
   "source": [
    "top_act = sat_act[(ap19==1)&(ap18==1)&(ap17==1)].loc[:,all_ap]\n",
    "top_act"
   ]
  },
  {
   "cell_type": "code",
   "execution_count": 80,
   "metadata": {
    "tags": []
   },
   "outputs": [
    {
     "data": {
      "text/plain": [
       "13"
      ]
     },
     "execution_count": 80,
     "metadata": {},
     "output_type": "execute_result"
    }
   ],
   "source": [
    "len(top_act)"
   ]
  },
  {
   "cell_type": "markdown",
   "metadata": {},
   "source": [
    "### Maine has the lowest ACT participation rate, with less than 10% rate over 3 years"
   ]
  },
  {
   "cell_type": "code",
   "execution_count": 81,
   "metadata": {},
   "outputs": [
    {
     "data": {
      "text/html": [
       "<div>\n",
       "<style scoped>\n",
       "    .dataframe tbody tr th:only-of-type {\n",
       "        vertical-align: middle;\n",
       "    }\n",
       "\n",
       "    .dataframe tbody tr th {\n",
       "        vertical-align: top;\n",
       "    }\n",
       "\n",
       "    .dataframe thead th {\n",
       "        text-align: right;\n",
       "    }\n",
       "</style>\n",
       "<table border=\"1\" class=\"dataframe\">\n",
       "  <thead>\n",
       "    <tr style=\"text-align: right;\">\n",
       "      <th></th>\n",
       "      <th>state</th>\n",
       "      <th>act_part_2017</th>\n",
       "      <th>act_part_2018</th>\n",
       "      <th>act_part_2019</th>\n",
       "    </tr>\n",
       "  </thead>\n",
       "  <tbody>\n",
       "    <tr>\n",
       "      <th>19</th>\n",
       "      <td>Maine</td>\n",
       "      <td>0.08</td>\n",
       "      <td>0.07</td>\n",
       "      <td>0.06</td>\n",
       "    </tr>\n",
       "  </tbody>\n",
       "</table>\n",
       "</div>"
      ],
      "text/plain": [
       "    state  act_part_2017  act_part_2018  act_part_2019\n",
       "19  Maine           0.08           0.07           0.06"
      ]
     },
     "execution_count": 81,
     "metadata": {},
     "output_type": "execute_result"
    }
   ],
   "source": [
    "sat_act[(ap17<low_q(ap17))&(ap18<low_q(ap18))&(ap19<low_q(ap19))].loc[:,all_ap].sort_values(\"act_part_2019\").head(1)"
   ]
  },
  {
   "cell_type": "markdown",
   "metadata": {},
   "source": [
    "# Highest and lowest SAT average total scores"
   ]
  },
  {
   "cell_type": "markdown",
   "metadata": {},
   "source": [
    "### Minnesota and Wisconsin consistently have the highest SAT scores (>1280) across 3 years"
   ]
  },
  {
   "cell_type": "code",
   "execution_count": 82,
   "metadata": {},
   "outputs": [
    {
     "data": {
      "text/html": [
       "<div>\n",
       "<style scoped>\n",
       "    .dataframe tbody tr th:only-of-type {\n",
       "        vertical-align: middle;\n",
       "    }\n",
       "\n",
       "    .dataframe tbody tr th {\n",
       "        vertical-align: top;\n",
       "    }\n",
       "\n",
       "    .dataframe thead th {\n",
       "        text-align: right;\n",
       "    }\n",
       "</style>\n",
       "<table border=\"1\" class=\"dataframe\">\n",
       "  <thead>\n",
       "    <tr style=\"text-align: right;\">\n",
       "      <th></th>\n",
       "      <th>state</th>\n",
       "      <th>sat_total_2017</th>\n",
       "      <th>sat_total_2018</th>\n",
       "      <th>sat_total_2019</th>\n",
       "    </tr>\n",
       "  </thead>\n",
       "  <tbody>\n",
       "    <tr>\n",
       "      <th>23</th>\n",
       "      <td>Minnesota</td>\n",
       "      <td>1295</td>\n",
       "      <td>1298</td>\n",
       "      <td>1284</td>\n",
       "    </tr>\n",
       "    <tr>\n",
       "      <th>49</th>\n",
       "      <td>Wisconsin</td>\n",
       "      <td>1291</td>\n",
       "      <td>1294</td>\n",
       "      <td>1283</td>\n",
       "    </tr>\n",
       "  </tbody>\n",
       "</table>\n",
       "</div>"
      ],
      "text/plain": [
       "        state  sat_total_2017  sat_total_2018  sat_total_2019\n",
       "23  Minnesota            1295            1298            1284\n",
       "49  Wisconsin            1291            1294            1283"
      ]
     },
     "execution_count": 82,
     "metadata": {},
     "output_type": "execute_result"
    }
   ],
   "source": [
    "sat_act[(st17>top_q(st17))&(st18>top_q(st18))&(st19>top_q(st19))].loc[:,all_st].sort_values(\"sat_total_2019\",ascending=False).head(2)"
   ]
  },
  {
   "cell_type": "markdown",
   "metadata": {},
   "source": [
    "### Delaware has the lowest SAT scores (<1000) across 3 years"
   ]
  },
  {
   "cell_type": "code",
   "execution_count": 83,
   "metadata": {},
   "outputs": [
    {
     "data": {
      "text/html": [
       "<div>\n",
       "<style scoped>\n",
       "    .dataframe tbody tr th:only-of-type {\n",
       "        vertical-align: middle;\n",
       "    }\n",
       "\n",
       "    .dataframe tbody tr th {\n",
       "        vertical-align: top;\n",
       "    }\n",
       "\n",
       "    .dataframe thead th {\n",
       "        text-align: right;\n",
       "    }\n",
       "</style>\n",
       "<table border=\"1\" class=\"dataframe\">\n",
       "  <thead>\n",
       "    <tr style=\"text-align: right;\">\n",
       "      <th></th>\n",
       "      <th>state</th>\n",
       "      <th>sat_total_2017</th>\n",
       "      <th>sat_total_2018</th>\n",
       "      <th>sat_total_2019</th>\n",
       "    </tr>\n",
       "  </thead>\n",
       "  <tbody>\n",
       "    <tr>\n",
       "      <th>7</th>\n",
       "      <td>Delaware</td>\n",
       "      <td>996</td>\n",
       "      <td>998</td>\n",
       "      <td>985</td>\n",
       "    </tr>\n",
       "  </tbody>\n",
       "</table>\n",
       "</div>"
      ],
      "text/plain": [
       "      state  sat_total_2017  sat_total_2018  sat_total_2019\n",
       "7  Delaware             996             998             985"
      ]
     },
     "execution_count": 83,
     "metadata": {},
     "output_type": "execute_result"
    }
   ],
   "source": [
    "sat_act[(st17<low_q(st17))&(st18<low_q(st18))&(st19<low_q(st19))].loc[:,all_st].sort_values(\"sat_total_2018\").head(1)"
   ]
  },
  {
   "cell_type": "markdown",
   "metadata": {},
   "source": [
    "# Highest and lowest ACT average total scores"
   ]
  },
  {
   "cell_type": "markdown",
   "metadata": {},
   "source": [
    "### Connecticut, Massachusetts and New Hampshire consistently have the highest ACT composite scores (>25.0) across 3 years"
   ]
  },
  {
   "cell_type": "code",
   "execution_count": 84,
   "metadata": {},
   "outputs": [
    {
     "data": {
      "text/html": [
       "<div>\n",
       "<style scoped>\n",
       "    .dataframe tbody tr th:only-of-type {\n",
       "        vertical-align: middle;\n",
       "    }\n",
       "\n",
       "    .dataframe tbody tr th {\n",
       "        vertical-align: top;\n",
       "    }\n",
       "\n",
       "    .dataframe thead th {\n",
       "        text-align: right;\n",
       "    }\n",
       "</style>\n",
       "<table border=\"1\" class=\"dataframe\">\n",
       "  <thead>\n",
       "    <tr style=\"text-align: right;\">\n",
       "      <th></th>\n",
       "      <th>state</th>\n",
       "      <th>act_comp_2017</th>\n",
       "      <th>act_comp_2018</th>\n",
       "      <th>act_comp_2019</th>\n",
       "    </tr>\n",
       "  </thead>\n",
       "  <tbody>\n",
       "    <tr>\n",
       "      <th>6</th>\n",
       "      <td>Connecticut</td>\n",
       "      <td>25.2</td>\n",
       "      <td>25.6</td>\n",
       "      <td>25.5</td>\n",
       "    </tr>\n",
       "    <tr>\n",
       "      <th>21</th>\n",
       "      <td>Massachusetts</td>\n",
       "      <td>25.4</td>\n",
       "      <td>25.5</td>\n",
       "      <td>25.5</td>\n",
       "    </tr>\n",
       "    <tr>\n",
       "      <th>29</th>\n",
       "      <td>New Hampshire</td>\n",
       "      <td>25.5</td>\n",
       "      <td>25.1</td>\n",
       "      <td>25.0</td>\n",
       "    </tr>\n",
       "  </tbody>\n",
       "</table>\n",
       "</div>"
      ],
      "text/plain": [
       "            state  act_comp_2017  act_comp_2018  act_comp_2019\n",
       "6     Connecticut           25.2           25.6           25.5\n",
       "21  Massachusetts           25.4           25.5           25.5\n",
       "29  New Hampshire           25.5           25.1           25.0"
      ]
     },
     "execution_count": 84,
     "metadata": {},
     "output_type": "execute_result"
    }
   ],
   "source": [
    "sat_act[(ac17>top_q(ac17))&(ac18>top_q(ac18))&(ac19>top_q(ac19))].loc[:,all_ac].sort_values(\"act_comp_2019\",ascending=False).head(3)"
   ]
  },
  {
   "cell_type": "markdown",
   "metadata": {},
   "source": [
    "### Nevada has the worst ACT scores among the states across 3 years"
   ]
  },
  {
   "cell_type": "code",
   "execution_count": 85,
   "metadata": {},
   "outputs": [
    {
     "data": {
      "text/html": [
       "<div>\n",
       "<style scoped>\n",
       "    .dataframe tbody tr th:only-of-type {\n",
       "        vertical-align: middle;\n",
       "    }\n",
       "\n",
       "    .dataframe tbody tr th {\n",
       "        vertical-align: top;\n",
       "    }\n",
       "\n",
       "    .dataframe thead th {\n",
       "        text-align: right;\n",
       "    }\n",
       "</style>\n",
       "<table border=\"1\" class=\"dataframe\">\n",
       "  <thead>\n",
       "    <tr style=\"text-align: right;\">\n",
       "      <th></th>\n",
       "      <th>state</th>\n",
       "      <th>act_comp_2017</th>\n",
       "      <th>act_comp_2018</th>\n",
       "      <th>act_comp_2019</th>\n",
       "    </tr>\n",
       "  </thead>\n",
       "  <tbody>\n",
       "    <tr>\n",
       "      <th>28</th>\n",
       "      <td>Nevada</td>\n",
       "      <td>17.8</td>\n",
       "      <td>17.7</td>\n",
       "      <td>17.9</td>\n",
       "    </tr>\n",
       "  </tbody>\n",
       "</table>\n",
       "</div>"
      ],
      "text/plain": [
       "     state  act_comp_2017  act_comp_2018  act_comp_2019\n",
       "28  Nevada           17.8           17.7           17.9"
      ]
     },
     "execution_count": 85,
     "metadata": {},
     "output_type": "execute_result"
    }
   ],
   "source": [
    "sat_act[(ac17<low_q(ac17))&(ac18<low_q(ac18))&(ac19<low_q(ac19))].loc[:,all_ac].sort_values(\"act_comp_2019\",ascending=True).head(1)"
   ]
  },
  {
   "cell_type": "markdown",
   "metadata": {},
   "source": [
    "# Trends in SAT yearly participation rates"
   ]
  },
  {
   "cell_type": "markdown",
   "metadata": {},
   "source": [
    "### Florida and Hawaii consistently have participation rates of above 50% for both SAT and ACT over 3 years"
   ]
  },
  {
   "cell_type": "code",
   "execution_count": 86,
   "metadata": {},
   "outputs": [
    {
     "data": {
      "text/html": [
       "<div>\n",
       "<style scoped>\n",
       "    .dataframe tbody tr th:only-of-type {\n",
       "        vertical-align: middle;\n",
       "    }\n",
       "\n",
       "    .dataframe tbody tr th {\n",
       "        vertical-align: top;\n",
       "    }\n",
       "\n",
       "    .dataframe thead th {\n",
       "        text-align: right;\n",
       "    }\n",
       "</style>\n",
       "<table border=\"1\" class=\"dataframe\">\n",
       "  <thead>\n",
       "    <tr style=\"text-align: right;\">\n",
       "      <th></th>\n",
       "      <th>state</th>\n",
       "      <th>sat_part_2017</th>\n",
       "      <th>sat_part_2018</th>\n",
       "      <th>sat_part_2019</th>\n",
       "      <th>act_part_2017</th>\n",
       "      <th>act_part_2018</th>\n",
       "      <th>act_part_2019</th>\n",
       "    </tr>\n",
       "  </thead>\n",
       "  <tbody>\n",
       "    <tr>\n",
       "      <th>9</th>\n",
       "      <td>Florida</td>\n",
       "      <td>0.83</td>\n",
       "      <td>0.56</td>\n",
       "      <td>1.00</td>\n",
       "      <td>0.73</td>\n",
       "      <td>0.66</td>\n",
       "      <td>0.54</td>\n",
       "    </tr>\n",
       "    <tr>\n",
       "      <th>11</th>\n",
       "      <td>Hawaii</td>\n",
       "      <td>0.55</td>\n",
       "      <td>0.56</td>\n",
       "      <td>0.54</td>\n",
       "      <td>0.90</td>\n",
       "      <td>0.89</td>\n",
       "      <td>0.80</td>\n",
       "    </tr>\n",
       "  </tbody>\n",
       "</table>\n",
       "</div>"
      ],
      "text/plain": [
       "      state  sat_part_2017  sat_part_2018  sat_part_2019  act_part_2017  \\\n",
       "9   Florida           0.83           0.56           1.00           0.73   \n",
       "11   Hawaii           0.55           0.56           0.54           0.90   \n",
       "\n",
       "    act_part_2018  act_part_2019  \n",
       "9            0.66           0.54  \n",
       "11           0.89           0.80  "
      ]
     },
     "execution_count": 86,
     "metadata": {},
     "output_type": "execute_result"
    }
   ],
   "source": [
    "sat_act[((sp17>0.5)&(ap17>0.5))\n",
    "        &((sp18>0.5)&(ap18>0.5))\n",
    "        &((sp19>0.5)&(ap19>0.5))].loc[:,all_part]"
   ]
  },
  {
   "cell_type": "markdown",
   "metadata": {},
   "source": [
    "### Nevada has consistently dropped in SAT participation rates since 2017"
   ]
  },
  {
   "cell_type": "code",
   "execution_count": 87,
   "metadata": {},
   "outputs": [
    {
     "data": {
      "text/html": [
       "<div>\n",
       "<style scoped>\n",
       "    .dataframe tbody tr th:only-of-type {\n",
       "        vertical-align: middle;\n",
       "    }\n",
       "\n",
       "    .dataframe tbody tr th {\n",
       "        vertical-align: top;\n",
       "    }\n",
       "\n",
       "    .dataframe thead th {\n",
       "        text-align: right;\n",
       "    }\n",
       "</style>\n",
       "<table border=\"1\" class=\"dataframe\">\n",
       "  <thead>\n",
       "    <tr style=\"text-align: right;\">\n",
       "      <th></th>\n",
       "      <th>state</th>\n",
       "      <th>sat_part_2017</th>\n",
       "      <th>sat_part_2018</th>\n",
       "      <th>sat_part_2019</th>\n",
       "    </tr>\n",
       "  </thead>\n",
       "  <tbody>\n",
       "    <tr>\n",
       "      <th>28</th>\n",
       "      <td>Nevada</td>\n",
       "      <td>0.26</td>\n",
       "      <td>0.23</td>\n",
       "      <td>0.2</td>\n",
       "    </tr>\n",
       "  </tbody>\n",
       "</table>\n",
       "</div>"
      ],
      "text/plain": [
       "     state  sat_part_2017  sat_part_2018  sat_part_2019\n",
       "28  Nevada           0.26           0.23            0.2"
      ]
     },
     "execution_count": 87,
     "metadata": {},
     "output_type": "execute_result"
    }
   ],
   "source": [
    "sat_act[(spyoy18<0)&(spyoy19<0)].loc[:,all_sp]"
   ]
  },
  {
   "cell_type": "markdown",
   "metadata": {},
   "source": [
    "### States with significant YoY changes in participation rate in at least one year:"
   ]
  },
  {
   "cell_type": "markdown",
   "metadata": {},
   "source": [
    "- West Virginia's SAT participation rate has doubled at least once between 2017-19. \n",
    "\n",
    "- Colorado and Illinois had only ~10% participation rate in 2017 before drastic improvement to ~100% from 2018 onwards.\n",
    "\n",
    "- Oklahoma's participation rate at least doubled between 2018-2019, but latest rates still below average"
   ]
  },
  {
   "cell_type": "code",
   "execution_count": 88,
   "metadata": {},
   "outputs": [
    {
     "data": {
      "text/html": [
       "<div>\n",
       "<style scoped>\n",
       "    .dataframe tbody tr th:only-of-type {\n",
       "        vertical-align: middle;\n",
       "    }\n",
       "\n",
       "    .dataframe tbody tr th {\n",
       "        vertical-align: top;\n",
       "    }\n",
       "\n",
       "    .dataframe thead th {\n",
       "        text-align: right;\n",
       "    }\n",
       "</style>\n",
       "<table border=\"1\" class=\"dataframe\">\n",
       "  <thead>\n",
       "    <tr style=\"text-align: right;\">\n",
       "      <th></th>\n",
       "      <th>state</th>\n",
       "      <th>sat_part_2017</th>\n",
       "      <th>sat_part_2018</th>\n",
       "      <th>sat_part_2019</th>\n",
       "      <th>sat_part_17_to_18</th>\n",
       "      <th>sat_part_18_to_19</th>\n",
       "    </tr>\n",
       "  </thead>\n",
       "  <tbody>\n",
       "    <tr>\n",
       "      <th>48</th>\n",
       "      <td>West Virginia</td>\n",
       "      <td>0.14</td>\n",
       "      <td>0.28</td>\n",
       "      <td>0.99</td>\n",
       "      <td>1.000</td>\n",
       "      <td>2.536</td>\n",
       "    </tr>\n",
       "    <tr>\n",
       "      <th>36</th>\n",
       "      <td>Oklahoma</td>\n",
       "      <td>0.07</td>\n",
       "      <td>0.08</td>\n",
       "      <td>0.22</td>\n",
       "      <td>0.143</td>\n",
       "      <td>1.750</td>\n",
       "    </tr>\n",
       "    <tr>\n",
       "      <th>13</th>\n",
       "      <td>Illinois</td>\n",
       "      <td>0.09</td>\n",
       "      <td>0.99</td>\n",
       "      <td>1.00</td>\n",
       "      <td>10.000</td>\n",
       "      <td>0.010</td>\n",
       "    </tr>\n",
       "    <tr>\n",
       "      <th>5</th>\n",
       "      <td>Colorado</td>\n",
       "      <td>0.11</td>\n",
       "      <td>1.00</td>\n",
       "      <td>1.00</td>\n",
       "      <td>8.091</td>\n",
       "      <td>0.000</td>\n",
       "    </tr>\n",
       "  </tbody>\n",
       "</table>\n",
       "</div>"
      ],
      "text/plain": [
       "            state  sat_part_2017  sat_part_2018  sat_part_2019  \\\n",
       "48  West Virginia           0.14           0.28           0.99   \n",
       "36       Oklahoma           0.07           0.08           0.22   \n",
       "13       Illinois           0.09           0.99           1.00   \n",
       "5        Colorado           0.11           1.00           1.00   \n",
       "\n",
       "    sat_part_17_to_18  sat_part_18_to_19  \n",
       "48              1.000              2.536  \n",
       "36              0.143              1.750  \n",
       "13             10.000              0.010  \n",
       "5               8.091              0.000  "
      ]
     },
     "execution_count": 88,
     "metadata": {},
     "output_type": "execute_result"
    }
   ],
   "source": [
    "sat_act[(spyoy18>1)|(spyoy19>1)].loc[:,all_sp_yoy].sort_values(\"sat_part_18_to_19\",ascending=False)"
   ]
  },
  {
   "cell_type": "markdown",
   "metadata": {},
   "source": [
    "## Alaska has below average SAT participation rates across 3 years, with falling ACT participation rates. "
   ]
  },
  {
   "cell_type": "markdown",
   "metadata": {},
   "source": [
    "We can consider investing into Alaska for growth in terms of SAT participation rate. \n",
    "As SAT scores here are also below average, we could invest in strategies to improve students' ability and morale. \n",
    "Better-prepared students are more inclined to take the test, thereby potentially increasing participation rates. "
   ]
  },
  {
   "cell_type": "code",
   "execution_count": 89,
   "metadata": {},
   "outputs": [
    {
     "data": {
      "text/html": [
       "<div>\n",
       "<style scoped>\n",
       "    .dataframe tbody tr th:only-of-type {\n",
       "        vertical-align: middle;\n",
       "    }\n",
       "\n",
       "    .dataframe tbody tr th {\n",
       "        vertical-align: top;\n",
       "    }\n",
       "\n",
       "    .dataframe thead th {\n",
       "        text-align: right;\n",
       "    }\n",
       "</style>\n",
       "<table border=\"1\" class=\"dataframe\">\n",
       "  <thead>\n",
       "    <tr style=\"text-align: right;\">\n",
       "      <th></th>\n",
       "      <th>state</th>\n",
       "      <th>sat_part_2017</th>\n",
       "      <th>sat_part_2018</th>\n",
       "      <th>sat_part_2019</th>\n",
       "      <th>act_part_2017</th>\n",
       "      <th>act_part_2018</th>\n",
       "      <th>act_part_2019</th>\n",
       "    </tr>\n",
       "  </thead>\n",
       "  <tbody>\n",
       "    <tr>\n",
       "      <th>1</th>\n",
       "      <td>Alaska</td>\n",
       "      <td>0.38</td>\n",
       "      <td>0.43</td>\n",
       "      <td>0.41</td>\n",
       "      <td>0.65</td>\n",
       "      <td>0.33</td>\n",
       "      <td>0.38</td>\n",
       "    </tr>\n",
       "  </tbody>\n",
       "</table>\n",
       "</div>"
      ],
      "text/plain": [
       "    state  sat_part_2017  sat_part_2018  sat_part_2019  act_part_2017  \\\n",
       "1  Alaska           0.38           0.43           0.41           0.65   \n",
       "\n",
       "   act_part_2018  act_part_2019  \n",
       "1           0.33           0.38  "
      ]
     },
     "execution_count": 89,
     "metadata": {},
     "output_type": "execute_result"
    }
   ],
   "source": [
    "sat_act_low = sat_act[((sp17<sp17.mean())&(ap17<ap17.mean()))\n",
    "                      &((sp18<sp18.mean())&(ap18<ap18.mean()))\n",
    "                      &((sp19<sp19.mean()))&(ap19<ap19.mean())].loc[:,all_part]\n",
    "sat_act_low"
   ]
  },
  {
   "cell_type": "code",
   "execution_count": 90,
   "metadata": {
    "jupyter": {
     "source_hidden": true
    },
    "tags": []
   },
   "outputs": [
    {
     "name": "stderr",
     "output_type": "stream",
     "text": [
      "/var/folders/5d/j3yxq3754gb_1qyh9rgz15qm0000gn/T/ipykernel_68890/3210616204.py:1: FutureWarning: Dropping of nuisance columns in DataFrame reductions (with 'numeric_only=None') is deprecated; in a future version this will raise TypeError.  Select only valid columns before calling the reduction.\n",
      "  sat_act.loc[:,all_st].mean() #average SAT total scores, nationwide\n"
     ]
    },
    {
     "data": {
      "text/plain": [
       "sat_total_2017    1129.62\n",
       "sat_total_2018    1122.88\n",
       "sat_total_2019    1115.84\n",
       "dtype: float64"
      ]
     },
     "execution_count": 90,
     "metadata": {},
     "output_type": "execute_result"
    }
   ],
   "source": [
    "sat_act.loc[:,all_st].mean() #average SAT total scores, nationwide"
   ]
  },
  {
   "cell_type": "code",
   "execution_count": 91,
   "metadata": {},
   "outputs": [
    {
     "data": {
      "text/html": [
       "<div>\n",
       "<style scoped>\n",
       "    .dataframe tbody tr th:only-of-type {\n",
       "        vertical-align: middle;\n",
       "    }\n",
       "\n",
       "    .dataframe tbody tr th {\n",
       "        vertical-align: top;\n",
       "    }\n",
       "\n",
       "    .dataframe thead th {\n",
       "        text-align: right;\n",
       "    }\n",
       "</style>\n",
       "<table border=\"1\" class=\"dataframe\">\n",
       "  <thead>\n",
       "    <tr style=\"text-align: right;\">\n",
       "      <th></th>\n",
       "      <th>state</th>\n",
       "      <th>sat_total_2017</th>\n",
       "      <th>sat_total_2018</th>\n",
       "      <th>sat_total_2019</th>\n",
       "    </tr>\n",
       "  </thead>\n",
       "  <tbody>\n",
       "    <tr>\n",
       "      <th>1</th>\n",
       "      <td>Alaska</td>\n",
       "      <td>1080</td>\n",
       "      <td>1106</td>\n",
       "      <td>1097</td>\n",
       "    </tr>\n",
       "  </tbody>\n",
       "</table>\n",
       "</div>"
      ],
      "text/plain": [
       "    state  sat_total_2017  sat_total_2018  sat_total_2019\n",
       "1  Alaska            1080            1106            1097"
      ]
     },
     "execution_count": 91,
     "metadata": {},
     "output_type": "execute_result"
    }
   ],
   "source": [
    "sat_act[((sp17<sp17.mean())&(ap17<ap17.mean()))\n",
    "                      &((sp18<sp18.mean())&(ap18<ap18.mean()))\n",
    "                      &((sp19<sp19.mean()))&(ap19<ap19.mean())].loc[:,all_st] #retrieve total SAT scores for Alaska"
   ]
  },
  {
   "cell_type": "markdown",
   "metadata": {},
   "source": [
    "### Both EBRW and Math Section scores are consistently below average for Alaska"
   ]
  },
  {
   "cell_type": "markdown",
   "metadata": {},
   "source": [
    "Oklahoma is showing the same trend, but we may not want to invest there due to competition from ACT. "
   ]
  },
  {
   "cell_type": "code",
   "execution_count": 92,
   "metadata": {},
   "outputs": [
    {
     "data": {
      "text/html": [
       "<div>\n",
       "<style scoped>\n",
       "    .dataframe tbody tr th:only-of-type {\n",
       "        vertical-align: middle;\n",
       "    }\n",
       "\n",
       "    .dataframe tbody tr th {\n",
       "        vertical-align: top;\n",
       "    }\n",
       "\n",
       "    .dataframe thead th {\n",
       "        text-align: right;\n",
       "    }\n",
       "</style>\n",
       "<table border=\"1\" class=\"dataframe\">\n",
       "  <thead>\n",
       "    <tr style=\"text-align: right;\">\n",
       "      <th></th>\n",
       "      <th>state</th>\n",
       "      <th>sat_ebrw_2017</th>\n",
       "      <th>sat_ebrw_2018</th>\n",
       "      <th>sat_ebrw_2019</th>\n",
       "    </tr>\n",
       "  </thead>\n",
       "  <tbody>\n",
       "    <tr>\n",
       "      <th>1</th>\n",
       "      <td>Alaska</td>\n",
       "      <td>547</td>\n",
       "      <td>562</td>\n",
       "      <td>556</td>\n",
       "    </tr>\n",
       "    <tr>\n",
       "      <th>36</th>\n",
       "      <td>Oklahoma</td>\n",
       "      <td>530</td>\n",
       "      <td>541</td>\n",
       "      <td>490</td>\n",
       "    </tr>\n",
       "  </tbody>\n",
       "</table>\n",
       "</div>"
      ],
      "text/plain": [
       "       state  sat_ebrw_2017  sat_ebrw_2018  sat_ebrw_2019\n",
       "1     Alaska            547            562            556\n",
       "36  Oklahoma            530            541            490"
      ]
     },
     "execution_count": 92,
     "metadata": {},
     "output_type": "execute_result"
    }
   ],
   "source": [
    "# States with below average EBRW section scores\n",
    "sat_act[(e17<e17.mean())\n",
    "        &(e18<e18.mean())\n",
    "        &(e19<e19.mean())\n",
    "        &(sp19<sp19.mean())\n",
    "        &(st19<st19.mean())].loc[:,all_e]"
   ]
  },
  {
   "cell_type": "code",
   "execution_count": 93,
   "metadata": {},
   "outputs": [
    {
     "data": {
      "text/html": [
       "<div>\n",
       "<style scoped>\n",
       "    .dataframe tbody tr th:only-of-type {\n",
       "        vertical-align: middle;\n",
       "    }\n",
       "\n",
       "    .dataframe tbody tr th {\n",
       "        vertical-align: top;\n",
       "    }\n",
       "\n",
       "    .dataframe thead th {\n",
       "        text-align: right;\n",
       "    }\n",
       "</style>\n",
       "<table border=\"1\" class=\"dataframe\">\n",
       "  <thead>\n",
       "    <tr style=\"text-align: right;\">\n",
       "      <th></th>\n",
       "      <th>state</th>\n",
       "      <th>sat_math_2017</th>\n",
       "      <th>sat_math_2018</th>\n",
       "      <th>sat_math_2019</th>\n",
       "    </tr>\n",
       "  </thead>\n",
       "  <tbody>\n",
       "    <tr>\n",
       "      <th>1</th>\n",
       "      <td>Alaska</td>\n",
       "      <td>533</td>\n",
       "      <td>544</td>\n",
       "      <td>541</td>\n",
       "    </tr>\n",
       "    <tr>\n",
       "      <th>36</th>\n",
       "      <td>Oklahoma</td>\n",
       "      <td>517</td>\n",
       "      <td>521</td>\n",
       "      <td>472</td>\n",
       "    </tr>\n",
       "  </tbody>\n",
       "</table>\n",
       "</div>"
      ],
      "text/plain": [
       "       state  sat_math_2017  sat_math_2018  sat_math_2019\n",
       "1     Alaska            533            544            541\n",
       "36  Oklahoma            517            521            472"
      ]
     },
     "execution_count": 93,
     "metadata": {},
     "output_type": "execute_result"
    }
   ],
   "source": [
    "# States with below average EBRW section scores\n",
    "sat_act[(m17<m17.mean())\n",
    "        &(m18<m18.mean())\n",
    "        &(m19<m19.mean())\n",
    "        &(sp19<sp19.mean())\n",
    "        &(st19<st19.mean())].loc[:,all_m]"
   ]
  },
  {
   "cell_type": "markdown",
   "metadata": {},
   "source": [
    "<img src=\"http://imgur.com/1ZcRyrc.png\" style=\"float: left; margin: 20px; height: 55px\">\n",
    "\n",
    "# Project 1: Standardized Test Analysis"
   ]
  },
  {
   "cell_type": "markdown",
   "metadata": {},
   "source": [
    "**To-Do:** *Edit this cell with your findings on trends in the data (step 3 above).*"
   ]
  },
  {
   "cell_type": "markdown",
   "metadata": {},
   "source": [
    "## Visualize the Data\n",
    "\n",
    "There's not a magic bullet recommendation for the right number of plots to understand a given dataset, but visualizing your data is *always* a good idea. Not only does it allow you to quickly convey your findings (even if you have a non-technical audience), it will often reveal trends in your data that escaped you when you were looking only at numbers. It is important to not only create visualizations, but to **interpret your visualizations** as well.\n",
    "\n",
    "**Every plot should**:\n",
    "- Have a title\n",
    "- Have axis labels\n",
    "- Have appropriate tick labels\n",
    "- Text is legible in a plot\n",
    "- Plots demonstrate meaningful and valid relationships\n",
    "- Have an interpretation to aid understanding\n",
    "\n",
    "Here is an example of what your plots should look like following the above guidelines. Note that while the content of this example is unrelated, the principles of visualization hold:\n",
    "\n",
    "![](https://snag.gy/hCBR1U.jpg)\n",
    "*Interpretation: The above image shows that as we increase our spending on advertising, our sales numbers also tend to increase. There is a positive correlation between advertising spending and sales.*\n",
    "\n",
    "---\n",
    "\n",
    "Here are some prompts to get you started with visualizations. Feel free to add additional visualizations as you see fit:\n",
    "1. Use Seaborn's heatmap with pandas `.corr()` to visualize correlations between all numeric features.\n",
    "    - Heatmaps are generally not appropriate for presentations, and should often be excluded from reports as they can be visually overwhelming. **However**, they can be extremely useful in identify relationships of potential interest (as well as identifying potential collinearity before modeling).\n",
    "    - Please take time to format your output, adding a title. Look through some of the additional arguments and options. (Axis labels aren't really necessary, as long as the title is informative).\n",
    "2. Visualize distributions using histograms. If you have a lot, consider writing a custom function and use subplots.\n",
    "    - *OPTIONAL*: Summarize the underlying distributions of your features (in words & statistics)\n",
    "         - Be thorough in your verbal description of these distributions.\n",
    "         - Be sure to back up these summaries with statistics.\n",
    "         - We generally assume that data we sample from a population will be normally distributed. Do we observe this trend? Explain your answers for each distribution and how you think this will affect estimates made from these data.\n",
    "3. Plot and interpret boxplots. \n",
    "    - Boxplots demonstrate central tendency and spread in variables. In a certain sense, these are somewhat redundant with histograms, but you may be better able to identify clear outliers or differences in IQR, etc.\n",
    "    - Multiple values can be plotted to a single boxplot as long as they are of the same relative scale (meaning they have similar min/max values).\n",
    "    - Each boxplot should:\n",
    "        - Only include variables of a similar scale\n",
    "        - Have clear labels for each variable\n",
    "        - Have appropriate titles and labels\n",
    "4. Plot and interpret scatter plots to view relationships between features. Feel free to write a custom function, and subplot if you'd like. Functions save both time and space.\n",
    "    - Your plots should have:\n",
    "        - Two clearly labeled axes\n",
    "        - A proper title\n",
    "        - Colors and symbols that are clear and unmistakable\n",
    "5. Additional plots of your choosing.\n",
    "    - Are there any additional trends or relationships you haven't explored? Was there something interesting you saw that you'd like to dive further into? It's likely that there are a few more plots you might want to generate to support your narrative and recommendations that you are building toward. **As always, make sure you're interpreting your plots as you go**."
   ]
  },
  {
   "cell_type": "markdown",
   "metadata": {},
   "source": [
    "## Heat Map: Correlation between parameters"
   ]
  },
  {
   "cell_type": "code",
   "execution_count": 94,
   "metadata": {
    "tags": []
   },
   "outputs": [
    {
     "data": {
      "image/png": "[encoded data removed]",
      "text/plain": [
       "<Figure size 1152x864 with 2 Axes>"
      ]
     },
     "metadata": {},
     "output_type": "display_data"
    }
   ],
   "source": [
    "plt.figure(figsize = (16,12))\n",
    "\n",
    "plt.title(label = \"Correlation between SAT and ACT yearly participation rates and scores\", fontsize = 22, weight = \"heavy\",loc = \"center\", pad = 20);\n",
    "\n",
    "corr = sat_act.corr()\n",
    "mask = np.zeros_like(corr)\n",
    "mask[np.triu_indices_from(mask)] = True\n",
    "\n",
    "with sns.axes_style(\"white\"):\n",
    "    sns.color_palette(\"Spectral\", as_cmap=True)\n",
    "    sns.heatmap(corr, mask = mask, square = True, annot = True, vmin = -1, vmax = 1, linewidths = .5);"
   ]
  },
  {
   "cell_type": "markdown",
   "metadata": {},
   "source": [
    "Observations: \n",
    "1) There is a strong negative correlation between SAT and ACT participation rates in states\n",
    "2) There is a strong negative correlation between SAT participation rates and SAT scores in states\n",
    "3) Similarly, ACT participation rates and ACT scores are also inversely correlated\n",
    "4) There appears to be a negative correlation between ACT YoY change in participation rates and ACT scores \n",
    "5) However, for SAT, correlation between total score and YoY change in participation rates are low\n"
   ]
  },
  {
   "cell_type": "markdown",
   "metadata": {},
   "source": [
    "## Scatter Plots"
   ]
  },
  {
   "cell_type": "markdown",
   "metadata": {},
   "source": [
    "Based on the general patterns identified in the heatmap above, we have identified 3 pairs of parameters for further investigation using scatter plots."
   ]
  },
  {
   "cell_type": "code",
   "execution_count": 95,
   "metadata": {
    "jupyter": {
     "source_hidden": true
    },
    "tags": []
   },
   "outputs": [
    {
     "data": {
      "image/png": "[encoded data removed]",
      "text/plain": [
       "<Figure size 936x288 with 3 Axes>"
      ]
     },
     "metadata": {},
     "output_type": "display_data"
    }
   ],
   "source": [
    "plt.figure(figsize = (13,4),constrained_layout=True)\n",
    "\n",
    "def create_scatter_plot(x,y,title,y_lab,x_lab):\n",
    "    plt.scatter(x,y)\n",
    "    plt.title(title, fontsize = 20)\n",
    "    plt.ylabel(y_lab, fontsize = 12)\n",
    "    plt.xlabel(x_lab, fontsize = 12)\n",
    "    m, b = np.polyfit(x,y, 1)\n",
    "    plt.plot(x, m*x+b, color = \"red\")\n",
    "    return\n",
    "\n",
    "ax1 = plt.subplot(1,3,1)\n",
    "create_scatter_plot(ap17,sp17,\"2017\",\"SAT Participation Rate\",\"\")\n",
    "\n",
    "ax2 = plt.subplot(1,3,2,sharey = ax1)\n",
    "create_scatter_plot(ap18,sp18,\"2018\",\"\",\"ACT Participation Rate\")\n",
    "\n",
    "ax3 = plt.subplot(1,3,3,sharey = ax1)\n",
    "create_scatter_plot(ap19,sp19,\"2019\",\"\",\"\")\n",
    "\n",
    "plt.suptitle('Correlation between SAT & ACT Yearly Participation Rates',fontsize = 23, weight = \"heavy\", ha = \"center\", va = \"center\");"
   ]
  },
  {
   "cell_type": "code",
   "execution_count": 96,
   "metadata": {
    "jupyter": {
     "source_hidden": true
    },
    "tags": []
   },
   "outputs": [
    {
     "data": {
      "image/png": "[encoded data removed]",
      "text/plain": [
       "<Figure size 936x288 with 3 Axes>"
      ]
     },
     "metadata": {},
     "output_type": "display_data"
    }
   ],
   "source": [
    "plt.figure(figsize = (13,4),constrained_layout=True)\n",
    "\n",
    "ax1 = plt.subplot(1,3,1)\n",
    "create_scatter_plot(sp17,st17,\"2017\",\"SAT Total Score\",\"\")\n",
    "\n",
    "ax2 = plt.subplot(1,3,2,sharey = ax1)\n",
    "create_scatter_plot(sp18,st18,\"2018\",\"\",\"SAT Participation Rate\")\n",
    "\n",
    "ax3 = plt.subplot(1,3,3,sharey = ax1)\n",
    "create_scatter_plot(sp19,st19,\"2019\",\"\",\"\")\n",
    "\n",
    "plt.suptitle('Correlation between SAT Participation Rates and Total Scores',fontsize = 23, weight = \"heavy\", ha = \"center\", va = \"center\");"
   ]
  },
  {
   "cell_type": "code",
   "execution_count": 97,
   "metadata": {
    "jupyter": {
     "source_hidden": true
    },
    "tags": []
   },
   "outputs": [
    {
     "data": {
      "image/png": "[encoded data removed]",
      "text/plain": [
       "<Figure size 936x288 with 3 Axes>"
      ]
     },
     "metadata": {},
     "output_type": "display_data"
    }
   ],
   "source": [
    "plt.figure(figsize = (13,4),constrained_layout=True)\n",
    "\n",
    "ax1 = plt.subplot(1,3,1)\n",
    "create_scatter_plot(ap17,ac17,\"2017\",\"ACT Composite Scores\",\"\")\n",
    "\n",
    "ax2 = plt.subplot(1,3,2,sharey = ax1)\n",
    "create_scatter_plot(ap18,ac18,\"2018\",\"\",\"ACT Participation Rate\")\n",
    "\n",
    "ax3 = plt.subplot(1,3,3,sharey = ax1)\n",
    "create_scatter_plot(ap19,ac19,\"2019\",\"\",\"\")\n",
    "\n",
    "\n",
    "plt.suptitle('Correlation between ACT Participation Rates and Composite Scores',fontsize = 23, weight = \"heavy\", ha = \"center\", va = \"center\");"
   ]
  },
  {
   "cell_type": "markdown",
   "metadata": {},
   "source": [
    "There is clearly a negative correlation between all 3 pairs of parameters plotted in above scattered graphs. "
   ]
  },
  {
   "cell_type": "markdown",
   "metadata": {},
   "source": [
    "## Histograms"
   ]
  },
  {
   "cell_type": "markdown",
   "metadata": {},
   "source": [
    "*Note: The choice of having fewer bins is deliberate, in order to make the YoY changes in distribution (bar heights) more apparent to non-technical audience*"
   ]
  },
  {
   "cell_type": "code",
   "execution_count": 98,
   "metadata": {
    "tags": []
   },
   "outputs": [
    {
     "data": {
      "text/plain": [
       "<Figure size 360x360 with 0 Axes>"
      ]
     },
     "metadata": {},
     "output_type": "display_data"
    },
    {
     "data": {
      "image/png": "[encoded data removed]",
      "text/plain": [
       "<Figure size 864x576 with 6 Axes>"
      ]
     },
     "metadata": {},
     "output_type": "display_data"
    }
   ],
   "source": [
    "plt.figure(figsize = (5,5),constrained_layout=True)\n",
    "\n",
    "dataframe = sat_act\n",
    "list_of_columns = [\"sat_part_2017\",\"act_part_2017\",\"sat_part_2018\",\"act_part_2018\",\"sat_part_2019\",\"act_part_2019\"]\n",
    "list_of_titles = [(f'{i.split(\"_\")[0].upper()} Participation Rates in {i.split(\"_\")[2]}') for i in list_of_columns]\n",
    "\n",
    "def subplot_histograms(dataframe, list_of_columns, list_of_titles):\n",
    "    nrows = int(np.ceil(len(list_of_columns)/2)) # Makes sure you have enough rows\n",
    "    fig, ax = plt.subplots(nrows=nrows, ncols=2, sharex=False, sharey=True, squeeze=True, figsize=(12,8), constrained_layout=True)\n",
    "    ax = ax.ravel() \n",
    "    for i, column in enumerate(list_of_columns): \n",
    "        if \"sat\" in column:\n",
    "            col = \"skyblue\"\n",
    "        else:\n",
    "            col = \"orange\"\n",
    "        ax[i].hist(dataframe[column],bins=5,color=col)\n",
    "        ax[i].set_title(list_of_titles[i],fontsize=15,fontweight=\"heavy\",pad=10)# feel free to add more settings\n",
    "        ax[i].axvline(dataframe[column].median(), color='r', linestyle='dashed', linewidth=3, label='median')\n",
    "        ax[i].axvline(dataframe[column].mean(), color='k', linestyle='dashed', linewidth=3, label = 'mean')\n",
    "        ax[i].legend();\n",
    "        \n",
    "subplot_histograms(dataframe, list_of_columns, list_of_titles)\n",
    "plt.suptitle('Distribution of SAT & ACT Yearly Participation Rates by State',fontsize = 23, weight = \"heavy\", ha = \"center\", va = \"center\");"
   ]
  },
  {
   "cell_type": "markdown",
   "metadata": {},
   "source": [
    "The distribution of SAT participation rates by state is not normally distributed and is skewed towards the left (ie: more states with lower participation rates). However, we see a trend where both mean and median participation rates are increasing over the years, as more states have higher SAT participation rates. \n",
    "\n",
    "The distribution of ACT participation rates mirrors that of the SAT distribution, and is skewed towards the right (ie: more states with higher participation rates). While the mean and median rate for SAT is increasing YoY, the opposite trend is true for ACT. \n",
    "\n",
    "The distribution for SAT and ACT appear to be bimodal, with with more states having either very high or very low participation rates but fewer states actually reflecting the mean and median rates in the center of the distribution\n"
   ]
  },
  {
   "cell_type": "markdown",
   "metadata": {
    "tags": []
   },
   "source": [
    "##  Boxplots"
   ]
  },
  {
   "cell_type": "code",
   "execution_count": 99,
   "metadata": {},
   "outputs": [
    {
     "data": {
      "image/png": "[encoded data removed]",
      "text/plain": [
       "<Figure size 648x720 with 1 Axes>"
      ]
     },
     "metadata": {},
     "output_type": "display_data"
    }
   ],
   "source": [
    "plt.figure(figsize = (9,10))\n",
    "\n",
    "df = pd.DataFrame(data=sat_act, columns=[\"sat_part_17_to_18\",\"act_part_17_to_18\",\"sat_part_18_to_19\",\"act_part_18_to_19\"])\n",
    "colors = ['#6890F0', '#F08030', '#6890F0','#F08030']\n",
    "sns.boxplot(x=\"variable\", y=\"value\", data=pd.melt(df), palette = colors)\n",
    "plt.title(\"YoY Changes in SAT and ACT Participation Rates\", fontsize = 20)\n",
    "plt.ylabel(\"YoY Change in Participation\", fontsize = 12)\n",
    "plt.xlabel(\"\", fontsize = 12)\n",
    "plt.ylim(-0.725, 2.6);"
   ]
  },
  {
   "cell_type": "markdown",
   "metadata": {},
   "source": [
    "SAT participation rates have been increasing across states between 2017-2019 (YoY change is positive). The rate of change slowed down between 2018-2019 vs that between 2017-2018. This means more states reported a smaller increase in participation rates \n",
    "\n",
    "On the contrary, more and more states are reporting reduction in ACT participation rates (YoY change is negative). The average rate of reduction is greater between 2018-2019 compared to the previous year. "
   ]
  },
  {
   "cell_type": "markdown",
   "metadata": {},
   "source": [
    "*Note: For the sake of fit, we have excluded two outlier values: Colorado and Illinois have drastic YoY changes between 2017 and 2018 (ie: up to 1000% increase)*"
   ]
  },
  {
   "cell_type": "code",
   "execution_count": 100,
   "metadata": {},
   "outputs": [
    {
     "data": {
      "text/html": [
       "<div>\n",
       "<style scoped>\n",
       "    .dataframe tbody tr th:only-of-type {\n",
       "        vertical-align: middle;\n",
       "    }\n",
       "\n",
       "    .dataframe tbody tr th {\n",
       "        vertical-align: top;\n",
       "    }\n",
       "\n",
       "    .dataframe thead th {\n",
       "        text-align: right;\n",
       "    }\n",
       "</style>\n",
       "<table border=\"1\" class=\"dataframe\">\n",
       "  <thead>\n",
       "    <tr style=\"text-align: right;\">\n",
       "      <th></th>\n",
       "      <th>state</th>\n",
       "      <th>sat_part_2017</th>\n",
       "      <th>sat_part_2018</th>\n",
       "      <th>sat_part_2019</th>\n",
       "    </tr>\n",
       "  </thead>\n",
       "  <tbody>\n",
       "    <tr>\n",
       "      <th>5</th>\n",
       "      <td>Colorado</td>\n",
       "      <td>0.11</td>\n",
       "      <td>1.00</td>\n",
       "      <td>1.0</td>\n",
       "    </tr>\n",
       "    <tr>\n",
       "      <th>13</th>\n",
       "      <td>Illinois</td>\n",
       "      <td>0.09</td>\n",
       "      <td>0.99</td>\n",
       "      <td>1.0</td>\n",
       "    </tr>\n",
       "  </tbody>\n",
       "</table>\n",
       "</div>"
      ],
      "text/plain": [
       "       state  sat_part_2017  sat_part_2018  sat_part_2019\n",
       "5   Colorado           0.11           1.00            1.0\n",
       "13  Illinois           0.09           0.99            1.0"
      ]
     },
     "execution_count": 100,
     "metadata": {},
     "output_type": "execute_result"
    }
   ],
   "source": [
    "sat_act[sat_act[\"sat_part_17_to_18\"]>2.6].loc[:,[\"state\",\"sat_part_2017\",\"sat_part_2018\",\"sat_part_2019\"]]"
   ]
  },
  {
   "cell_type": "markdown",
   "metadata": {
    "tags": []
   },
   "source": [
    "## Conclusions and Recommendations"
   ]
  },
  {
   "cell_type": "markdown",
   "metadata": {},
   "source": [
    "**SAT and ACT participation rates are inversely correlated.**\n",
    "\n",
    "The likelihood for a state to have high participation rates for both tests is low. This means that we should adopt a strategy that minimizes competition by avoiding investing in states where ACT participation rates are high. We will want to zoom in on states where *both* SAT and ACT participation rates are reasonably low. \n",
    "\n",
    "*Recommended focus states: Alaska, Iowa and South Dakota*"
   ]
  },
  {
   "cell_type": "markdown",
   "metadata": {},
   "source": [
    "**While SAT average total scores appear to be inversely correlated with SAT participation rates, participation rates may benefit from attempting to improve students' test scores.**\n",
    "\n",
    "- In states where the SAT test is mandatory, students are obligated to sit for the test regardless of their readiness level. Hence, average total scores are lower. \n",
    "- In states where the SAT test is not mandatory, only the most motivated and prepared students opt to take the test. This results in a higher average score.\n",
    "\n",
    "Therefore, in states where the SAT test is not mandatory, we can attempt to improve participation rates by increasing student's morale and motivation to take the test. We can collaborate with institutes of higher learning to provide more merit-based scholarships, which will hopefully entice more students to take the test to win these scholarships.\n",
    "\n",
    "We should also work on increasing students' confidence to take the test by improving their scholastic abilities. For example, we can work with state education departments and high schools to provide more support to students through more affordable study materials, or subsidised prep classes. \n",
    "\n",
    "**In order to further refine our strategy on the type and scope of educational support to be provided, it is recommeded to further investigate the average section scores by state.** For example, we identified that both EBRW and Math section scores in Alaska are below the national average. Hence, if we aim to provide educational support to the students in this state, we need to be more holistic in our approach. "
   ]
  }
 ],
 "metadata": {
  "anaconda-cloud": {},
  "kernelspec": {
   "display_name": "Python 3 (ipykernel)",
   "language": "python",
   "name": "python3"
  },
  "language_info": {
   "codemirror_mode": {
    "name": "ipython",
    "version": 3
   },
   "file_extension": ".py",
   "mimetype": "text/x-python",
   "name": "python",
   "nbconvert_exporter": "python",
   "pygments_lexer": "ipython3",
   "version": "3.8.13"
  }
 },
 "nbformat": 4,
 "nbformat_minor": 4
}
