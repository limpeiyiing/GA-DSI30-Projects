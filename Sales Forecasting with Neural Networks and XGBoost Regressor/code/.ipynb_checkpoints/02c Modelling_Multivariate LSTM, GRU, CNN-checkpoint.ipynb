{
 "cells": [
  {
   "cell_type": "code",
   "execution_count": 1,
   "id": "94a15b23-b6cf-4bcc-9e4a-fc6e95bf3d1a",
   "metadata": {},
   "outputs": [],
   "source": [
    "import pandas as pd\n",
    "import numpy as np\n",
    "import matplotlib.pyplot as plt\n",
    "import seaborn as sns\n",
    "\n",
    "from sklearn.preprocessing import StandardScaler\n",
    "from sklearn.model_selection import train_test_split\n",
    "from sklearn.metrics import accuracy_score\n",
    "from sklearn.metrics import mean_squared_error as mse\n"
   ]
  },
  {
   "cell_type": "code",
   "execution_count": null,
   "id": "1999e0a4-c693-416c-a515-8e7564723a62",
   "metadata": {},
   "outputs": [],
   "source": [
    "from tensorflow.keras.models import Sequential\n",
    "from tensorflow.keras.layers import *\n",
    "from tensorflow.keras.callbacks import ModelCheckpoint\n",
    "from tensorflow.keras.losses import MeanSquaredError\n",
    "from tensorflow.keras.metrics import RootMeanSquaredError\n",
    "from tensorflow.keras.optimizers import Adam\n",
    "from tensorflow.keras.models import load_model"
   ]
  },
  {
   "cell_type": "code",
   "execution_count": 2,
   "id": "722d89f4-01c0-4473-920e-2e1dba602185",
   "metadata": {},
   "outputs": [],
   "source": [
    "train_input = pd.read_csv(\"../dataset/outputs/train_complete.csv\", \n",
    "                          parse_dates = True, index_col = \"date\")"
   ]
  },
  {
   "cell_type": "code",
   "execution_count": 3,
   "id": "4009b90e-279f-449e-9d38-eb8a6461e710",
   "metadata": {},
   "outputs": [
    {
     "data": {
      "text/html": [
       "<div>\n",
       "<style scoped>\n",
       "    .dataframe tbody tr th:only-of-type {\n",
       "        vertical-align: middle;\n",
       "    }\n",
       "\n",
       "    .dataframe tbody tr th {\n",
       "        vertical-align: top;\n",
       "    }\n",
       "\n",
       "    .dataframe thead th {\n",
       "        text-align: right;\n",
       "    }\n",
       "</style>\n",
       "<table border=\"1\" class=\"dataframe\">\n",
       "  <thead>\n",
       "    <tr style=\"text-align: right;\">\n",
       "      <th></th>\n",
       "      <th>Month sin</th>\n",
       "      <th>Month cos</th>\n",
       "      <th>0_store_item_counts</th>\n",
       "      <th>1_store_item_counts</th>\n",
       "      <th>2_store_item_counts</th>\n",
       "      <th>3_store_item_counts</th>\n",
       "      <th>4_store_item_counts</th>\n",
       "      <th>5_store_item_counts</th>\n",
       "      <th>6_store_item_counts</th>\n",
       "      <th>7_store_item_counts</th>\n",
       "      <th>...</th>\n",
       "      <th>0_total_units</th>\n",
       "      <th>1_total_units</th>\n",
       "      <th>2_total_units</th>\n",
       "      <th>3_total_units</th>\n",
       "      <th>4_total_units</th>\n",
       "      <th>5_total_units</th>\n",
       "      <th>6_total_units</th>\n",
       "      <th>7_total_units</th>\n",
       "      <th>8_total_units</th>\n",
       "      <th>9_total_units</th>\n",
       "    </tr>\n",
       "    <tr>\n",
       "      <th>date</th>\n",
       "      <th></th>\n",
       "      <th></th>\n",
       "      <th></th>\n",
       "      <th></th>\n",
       "      <th></th>\n",
       "      <th></th>\n",
       "      <th></th>\n",
       "      <th></th>\n",
       "      <th></th>\n",
       "      <th></th>\n",
       "      <th></th>\n",
       "      <th></th>\n",
       "      <th></th>\n",
       "      <th></th>\n",
       "      <th></th>\n",
       "      <th></th>\n",
       "      <th></th>\n",
       "      <th></th>\n",
       "      <th></th>\n",
       "      <th></th>\n",
       "      <th></th>\n",
       "    </tr>\n",
       "  </thead>\n",
       "  <tbody>\n",
       "    <tr>\n",
       "      <th>2013-01-31</th>\n",
       "      <td>0.818589</td>\n",
       "      <td>-0.574379</td>\n",
       "      <td>5131</td>\n",
       "      <td>0</td>\n",
       "      <td>5</td>\n",
       "      <td>2</td>\n",
       "      <td>0</td>\n",
       "      <td>8</td>\n",
       "      <td>0</td>\n",
       "      <td>96</td>\n",
       "      <td>...</td>\n",
       "      <td>23300.0</td>\n",
       "      <td>0.0</td>\n",
       "      <td>149.0</td>\n",
       "      <td>59.0</td>\n",
       "      <td>0.0</td>\n",
       "      <td>318.0</td>\n",
       "      <td>0.0</td>\n",
       "      <td>1175.0</td>\n",
       "      <td>72.0</td>\n",
       "      <td>106405.0</td>\n",
       "    </tr>\n",
       "    <tr>\n",
       "      <th>2013-02-28</th>\n",
       "      <td>0.993664</td>\n",
       "      <td>-0.112389</td>\n",
       "      <td>4953</td>\n",
       "      <td>0</td>\n",
       "      <td>5</td>\n",
       "      <td>1</td>\n",
       "      <td>0</td>\n",
       "      <td>8</td>\n",
       "      <td>0</td>\n",
       "      <td>96</td>\n",
       "      <td>...</td>\n",
       "      <td>23869.0</td>\n",
       "      <td>0.0</td>\n",
       "      <td>159.0</td>\n",
       "      <td>6.0</td>\n",
       "      <td>0.0</td>\n",
       "      <td>230.0</td>\n",
       "      <td>0.0</td>\n",
       "      <td>1047.0</td>\n",
       "      <td>0.0</td>\n",
       "      <td>102779.0</td>\n",
       "    </tr>\n",
       "    <tr>\n",
       "      <th>2013-03-31</th>\n",
       "      <td>0.972950</td>\n",
       "      <td>-0.231014</td>\n",
       "      <td>5176</td>\n",
       "      <td>0</td>\n",
       "      <td>5</td>\n",
       "      <td>1</td>\n",
       "      <td>0</td>\n",
       "      <td>8</td>\n",
       "      <td>0</td>\n",
       "      <td>95</td>\n",
       "      <td>...</td>\n",
       "      <td>29858.0</td>\n",
       "      <td>0.0</td>\n",
       "      <td>211.0</td>\n",
       "      <td>4.0</td>\n",
       "      <td>0.0</td>\n",
       "      <td>239.0</td>\n",
       "      <td>0.0</td>\n",
       "      <td>1229.0</td>\n",
       "      <td>0.0</td>\n",
       "      <td>115601.0</td>\n",
       "    </tr>\n",
       "    <tr>\n",
       "      <th>2013-04-30</th>\n",
       "      <td>0.989209</td>\n",
       "      <td>-0.146513</td>\n",
       "      <td>4509</td>\n",
       "      <td>2</td>\n",
       "      <td>9</td>\n",
       "      <td>2</td>\n",
       "      <td>0</td>\n",
       "      <td>9</td>\n",
       "      <td>8</td>\n",
       "      <td>90</td>\n",
       "      <td>...</td>\n",
       "      <td>18250.0</td>\n",
       "      <td>12.0</td>\n",
       "      <td>239.0</td>\n",
       "      <td>3.0</td>\n",
       "      <td>0.0</td>\n",
       "      <td>182.0</td>\n",
       "      <td>112.0</td>\n",
       "      <td>980.0</td>\n",
       "      <td>23.0</td>\n",
       "      <td>87389.0</td>\n",
       "    </tr>\n",
       "    <tr>\n",
       "      <th>2013-05-31</th>\n",
       "      <td>0.964426</td>\n",
       "      <td>-0.264354</td>\n",
       "      <td>4846</td>\n",
       "      <td>2</td>\n",
       "      <td>17</td>\n",
       "      <td>2</td>\n",
       "      <td>3</td>\n",
       "      <td>14</td>\n",
       "      <td>12</td>\n",
       "      <td>86</td>\n",
       "      <td>...</td>\n",
       "      <td>18529.0</td>\n",
       "      <td>587.0</td>\n",
       "      <td>990.0</td>\n",
       "      <td>34.0</td>\n",
       "      <td>214.0</td>\n",
       "      <td>371.0</td>\n",
       "      <td>1043.0</td>\n",
       "      <td>1072.0</td>\n",
       "      <td>796.0</td>\n",
       "      <td>83334.0</td>\n",
       "    </tr>\n",
       "  </tbody>\n",
       "</table>\n",
       "<p>5 rows × 22 columns</p>\n",
       "</div>"
      ],
      "text/plain": [
       "            Month sin  Month cos  0_store_item_counts  1_store_item_counts  \\\n",
       "date                                                                         \n",
       "2013-01-31   0.818589  -0.574379                 5131                    0   \n",
       "2013-02-28   0.993664  -0.112389                 4953                    0   \n",
       "2013-03-31   0.972950  -0.231014                 5176                    0   \n",
       "2013-04-30   0.989209  -0.146513                 4509                    2   \n",
       "2013-05-31   0.964426  -0.264354                 4846                    2   \n",
       "\n",
       "            2_store_item_counts  3_store_item_counts  4_store_item_counts  \\\n",
       "date                                                                        \n",
       "2013-01-31                    5                    2                    0   \n",
       "2013-02-28                    5                    1                    0   \n",
       "2013-03-31                    5                    1                    0   \n",
       "2013-04-30                    9                    2                    0   \n",
       "2013-05-31                   17                    2                    3   \n",
       "\n",
       "            5_store_item_counts  6_store_item_counts  7_store_item_counts  \\\n",
       "date                                                                        \n",
       "2013-01-31                    8                    0                   96   \n",
       "2013-02-28                    8                    0                   96   \n",
       "2013-03-31                    8                    0                   95   \n",
       "2013-04-30                    9                    8                   90   \n",
       "2013-05-31                   14                   12                   86   \n",
       "\n",
       "            ...  0_total_units  1_total_units  2_total_units  3_total_units  \\\n",
       "date        ...                                                               \n",
       "2013-01-31  ...        23300.0            0.0          149.0           59.0   \n",
       "2013-02-28  ...        23869.0            0.0          159.0            6.0   \n",
       "2013-03-31  ...        29858.0            0.0          211.0            4.0   \n",
       "2013-04-30  ...        18250.0           12.0          239.0            3.0   \n",
       "2013-05-31  ...        18529.0          587.0          990.0           34.0   \n",
       "\n",
       "            4_total_units  5_total_units  6_total_units  7_total_units  \\\n",
       "date                                                                     \n",
       "2013-01-31            0.0          318.0            0.0         1175.0   \n",
       "2013-02-28            0.0          230.0            0.0         1047.0   \n",
       "2013-03-31            0.0          239.0            0.0         1229.0   \n",
       "2013-04-30            0.0          182.0          112.0          980.0   \n",
       "2013-05-31          214.0          371.0         1043.0         1072.0   \n",
       "\n",
       "            8_total_units  9_total_units  \n",
       "date                                      \n",
       "2013-01-31           72.0       106405.0  \n",
       "2013-02-28            0.0       102779.0  \n",
       "2013-03-31            0.0       115601.0  \n",
       "2013-04-30           23.0        87389.0  \n",
       "2013-05-31          796.0        83334.0  \n",
       "\n",
       "[5 rows x 22 columns]"
      ]
     },
     "execution_count": 3,
     "metadata": {},
     "output_type": "execute_result"
    }
   ],
   "source": [
    "train_input.head()"
   ]
  },
  {
   "cell_type": "code",
   "execution_count": 4,
   "id": "c3ccea77-9853-4e83-ab6f-5ec7c62317fc",
   "metadata": {},
   "outputs": [
    {
     "data": {
      "text/plain": [
       "[(0, 'Month sin'),\n",
       " (1, 'Month cos'),\n",
       " (2, '0_store_item_counts'),\n",
       " (3, '1_store_item_counts'),\n",
       " (4, '2_store_item_counts'),\n",
       " (5, '3_store_item_counts'),\n",
       " (6, '4_store_item_counts'),\n",
       " (7, '5_store_item_counts'),\n",
       " (8, '6_store_item_counts'),\n",
       " (9, '7_store_item_counts'),\n",
       " (10, '8_store_item_counts'),\n",
       " (11, '9_store_item_counts'),\n",
       " (12, '0_total_units'),\n",
       " (13, '1_total_units'),\n",
       " (14, '2_total_units'),\n",
       " (15, '3_total_units'),\n",
       " (16, '4_total_units'),\n",
       " (17, '5_total_units'),\n",
       " (18, '6_total_units'),\n",
       " (19, '7_total_units'),\n",
       " (20, '8_total_units'),\n",
       " (21, '9_total_units')]"
      ]
     },
     "execution_count": 4,
     "metadata": {},
     "output_type": "execute_result"
    }
   ],
   "source": [
    "[(i,j) for i,j in enumerate(train_input.columns)]"
   ]
  },
  {
   "cell_type": "code",
   "execution_count": 13,
   "id": "77032a0e-8125-4c93-a0a5-610dfc697fd9",
   "metadata": {},
   "outputs": [],
   "source": [
    "def sequence_generator(df, window_size):\n",
    "    df_as_np = df.to_numpy()\n",
    "    X = []\n",
    "    y = []\n",
    "    for i in range(len(df_as_np)-window_size):\n",
    "        row = [r for r in df_as_np[i:i+window_size]]\n",
    "        X.append(row)\n",
    "        label = [df_as_np[i+window_size][12:]]\n",
    "        y.append(label)\n",
    "    return np.array(X), np.array(y)"
   ]
  },
  {
   "cell_type": "code",
   "execution_count": 14,
   "id": "ceec1e2e-b657-49b5-a431-324d2af28013",
   "metadata": {},
   "outputs": [
    {
     "data": {
      "text/plain": [
       "((31, 3, 22), (31, 1, 10))"
      ]
     },
     "execution_count": 14,
     "metadata": {},
     "output_type": "execute_result"
    }
   ],
   "source": [
    "X, y = sequence_generator(train_input,window_size = 3)\n",
    "X.shape, y.shape"
   ]
  },
  {
   "cell_type": "code",
   "execution_count": 18,
   "id": "bc26e7bc-1f90-4d3c-aad3-753b11b66b67",
   "metadata": {},
   "outputs": [
    {
     "data": {
      "text/plain": [
       "((26, 3, 22), (26, 1, 10), (5, 3, 22), (5, 1, 10))"
      ]
     },
     "execution_count": 18,
     "metadata": {},
     "output_type": "execute_result"
    }
   ],
   "source": [
    "X_train, y_train = X[:26], y[:26]\n",
    "X_val, y_val = X[26:], y[26:]\n",
    "\n",
    "X_train.shape, y_train.shape, X_val.shape, y_val.shape"
   ]
  },
  {
   "cell_type": "code",
   "execution_count": 33,
   "id": "0ba0283b-edab-4326-8c88-e41e2ac97dd2",
   "metadata": {},
   "outputs": [],
   "source": [
    "# ss = StandardScaler()\n",
    "# X_train_sc = ss.fit_transform(X_train)\n",
    "# y_train_sc = ss.transform(y_train)\n",
    "# X_val_sc = ss.transform(X_val)\n",
    "# y_val_sc = ss.transform(y_val)\n",
    "\n",
    "ss = {}\n",
    "ss2 = {}\n",
    "X_train_sc = X_train.copy()\n",
    "X_val_sc = X_val.copy()\n",
    "y_train_sc = y_train.copy()\n",
    "y_val_sc = y_val.copy()\n",
    "\n",
    "for i in range(X_train.shape[1]):\n",
    "    ss[i] = StandardScaler()\n",
    "    X_train_sc[:, i, :] = ss[i].fit_transform(X_train[:, i, :]) \n",
    "\n",
    "for i in range(X_val.shape[1]):\n",
    "    X_val_sc[:, i, :] = ss[i].transform(X_val[:, i, :])\n",
    "    \n",
    "for i in range(y_train.shape[1]):\n",
    "    ss2[i] = StandardScaler()\n",
    "    y_train_sc[:, i, :] = ss2[i].fit_transform(y_train[:, i, :]) \n",
    "\n",
    "for i in range(y_val.shape[1]):\n",
    "    y_val_sc[:, i, :] = ss2[i].transform(y_val[:, i, :])"
   ]
  },
  {
   "cell_type": "code",
   "execution_count": null,
   "id": "fae27a51-250f-48a3-b665-51744978801a",
   "metadata": {},
   "outputs": [],
   "source": [
    "model1 = Sequential()\n",
    "model1.add(InputLayer((3, 22)))\n",
    "model1.add(LSTM(64))\n",
    "model1.add(Dense(8, 'relu'))\n",
    "model1.add(Dense(10, 'linear'))\n",
    "\n",
    "model1.summary()"
   ]
  },
  {
   "cell_type": "code",
   "execution_count": null,
   "id": "5dc51609-88b6-4975-a8c6-ec246967b497",
   "metadata": {},
   "outputs": [],
   "source": [
    "cp1 = ModelCheckpoint('model1/', save_best_only=True)\n",
    "model1.compile(loss=MeanSquaredError(), optimizer=Adam(learning_rate=0.001), metrics=[RootMeanSquaredError()])"
   ]
  },
  {
   "cell_type": "code",
   "execution_count": null,
   "id": "9bb2d849-5fbc-4158-a416-1ce6bde348a9",
   "metadata": {},
   "outputs": [],
   "source": [
    "history1 = model1.fit(X_train_sc, y_train_sc, validation_data=(X_val_sc, y_val_sc), epochs=150, callbacks=[cp1])"
   ]
  },
  {
   "cell_type": "code",
   "execution_count": null,
   "id": "e82f3b98-699c-460a-aff0-465d787c5ea3",
   "metadata": {},
   "outputs": [],
   "source": [
    "plt.plot(history1.history['loss'], label='Train loss')\n",
    "plt.plot(history1.history['val_loss'], label='Test loss')\n",
    "plt.legend(); "
   ]
  },
  {
   "cell_type": "code",
   "execution_count": 36,
   "id": "d8e635c4-2ed6-41a0-8e60-21702348ad29",
   "metadata": {},
   "outputs": [
    {
     "data": {
      "text/plain": [
       "['p0', 'p1', 'p2', 'p3', 'p4', 'p5', 'p6', 'p7', 'p8', 'p9']"
      ]
     },
     "execution_count": 36,
     "metadata": {},
     "output_type": "execute_result"
    }
   ],
   "source": [
    "[f\"p{a}\" for a in range(10)]"
   ]
  },
  {
   "cell_type": "code",
   "execution_count": 37,
   "id": "2b5c8897-5fe9-4f6e-83df-cbd38ff767cc",
   "metadata": {},
   "outputs": [
    {
     "data": {
      "text/plain": [
       "[(0, 'Month sin'),\n",
       " (1, 'Month cos'),\n",
       " (2, '0_store_item_counts'),\n",
       " (3, '1_store_item_counts'),\n",
       " (4, '2_store_item_counts'),\n",
       " (5, '3_store_item_counts'),\n",
       " (6, '4_store_item_counts'),\n",
       " (7, '5_store_item_counts'),\n",
       " (8, '6_store_item_counts'),\n",
       " (9, '7_store_item_counts'),\n",
       " (10, '8_store_item_counts'),\n",
       " (11, '9_store_item_counts'),\n",
       " (12, '0_total_units'),\n",
       " (13, '1_total_units'),\n",
       " (14, '2_total_units'),\n",
       " (15, '3_total_units'),\n",
       " (16, '4_total_units'),\n",
       " (17, '5_total_units'),\n",
       " (18, '6_total_units'),\n",
       " (19, '7_total_units'),\n",
       " (20, '8_total_units'),\n",
       " (21, '9_total_units')]"
      ]
     },
     "execution_count": 37,
     "metadata": {},
     "output_type": "execute_result"
    }
   ],
   "source": [
    "[(i,j) for i,j in enumerate(train_input.columns)]"
   ]
  },
  {
   "cell_type": "code",
   "execution_count": null,
   "id": "ff8962d6-16d2-491d-80ff-9432dd8717b5",
   "metadata": {},
   "outputs": [],
   "source": [
    "def plot_predictions(model, X, y):\n",
    "    predictions = model.predict(X)\n",
    "    preds_by_cluster = [f\"p{a}\" for a in range(10)]\n",
    "    actuals_by_cluster = \n",
    "    preds_dict = {}\n",
    "    for i in range(10):\n",
    "        preds_dict[preds_by_cluster[i]] = predictions[:,i]\n",
    "    for i in range(10):\n",
    "        preds_by_cluster[i] = predictions\n",
    "    p_preds, temp_preds = predictions[:, 0], predictions[:, 1]\n",
    "    \n",
    "    p_actuals, temp_actuals = y[:, 0], y[:, 1]\n",
    "    df = pd.DataFrame(data={'Temperature Predictions': temp_preds,\n",
    "                          'Temperature Actuals':temp_actuals,\n",
    "                          'Pressure Predictions': p_preds,\n",
    "                          'Pressure Actuals': p_actuals\n",
    "                          })\n",
    "    plt.plot(df['Temperature Predictions'][start:end])\n",
    "    plt.plot(df['Temperature Actuals'][start:end])\n",
    "    plt.plot(df['Pressure Predictions'][start:end])\n",
    "    plt.plot(df['Pressure Actuals'][start:end])\n",
    "    return df[start:end]"
   ]
  },
  {
   "cell_type": "code",
   "execution_count": 41,
   "id": "23107ac0-db7b-46fc-bc27-ca1f9ddb0428",
   "metadata": {},
   "outputs": [],
   "source": [
    "preds_by_cluster = [f\"p{a}\" for a in range(10)]\n",
    "preds_dict = {}\n",
    "for i in range(10):\n",
    "    preds_dict[preds_by_cluster[i]] = predictions[:,i]"
   ]
  },
  {
   "cell_type": "code",
   "execution_count": 44,
   "id": "4af14a3b-121e-4505-9c8f-66145dbeb96c",
   "metadata": {},
   "outputs": [
    {
     "ename": "KeyError",
     "evalue": "'0'",
     "output_type": "error",
     "traceback": [
      "\u001b[0;31m---------------------------------------------------------------------------\u001b[0m",
      "\u001b[0;31mKeyError\u001b[0m                                  Traceback (most recent call last)",
      "Input \u001b[0;32mIn [44]\u001b[0m, in \u001b[0;36m<cell line: 2>\u001b[0;34m()\u001b[0m\n\u001b[1;32m      1\u001b[0m results_dict \u001b[38;5;241m=\u001b[39m {}\n\u001b[1;32m      2\u001b[0m \u001b[38;5;28;01mfor\u001b[39;00m i \u001b[38;5;129;01min\u001b[39;00m \u001b[38;5;28mrange\u001b[39m(\u001b[38;5;241m10\u001b[39m):\n\u001b[0;32m----> 3\u001b[0m     \u001b[43mresults_dict\u001b[49m\u001b[43m[\u001b[49m\u001b[38;5;124;43mf\u001b[39;49m\u001b[38;5;124;43m\"\u001b[39;49m\u001b[38;5;132;43;01m{\u001b[39;49;00m\u001b[43mi\u001b[49m\u001b[38;5;132;43;01m}\u001b[39;49;00m\u001b[38;5;124;43m\"\u001b[39;49m\u001b[43m]\u001b[49m[\u001b[38;5;124m\"\u001b[39m\u001b[38;5;124mactuals\u001b[39m\u001b[38;5;124m\"\u001b[39m] \u001b[38;5;241m=\u001b[39m i\u001b[38;5;241m*\u001b[39m\u001b[38;5;241m10\u001b[39m\n\u001b[1;32m      4\u001b[0m     results_dict[\u001b[38;5;124mf\u001b[39m\u001b[38;5;124m\"\u001b[39m\u001b[38;5;132;01m{\u001b[39;00mi\u001b[38;5;132;01m}\u001b[39;00m\u001b[38;5;124m\"\u001b[39m][\u001b[38;5;124m\"\u001b[39m\u001b[38;5;124mpreds\u001b[39m\u001b[38;5;124m\"\u001b[39m] \u001b[38;5;241m=\u001b[39m i\u001b[38;5;241m*\u001b[39m\u001b[38;5;241m20\u001b[39m\n",
      "\u001b[0;31mKeyError\u001b[0m: '0'"
     ]
    }
   ],
   "source": [
    "results_dict = {}\n",
    "for i in range(10):\n",
    "    results_dict[f\"{i}\"][\"actuals\"] = i*10\n",
    "    results_dict[f\"{i}\"][\"preds\"] = i*20"
   ]
  },
  {
   "cell_type": "code",
   "execution_count": 50,
   "id": "ed458eb4-e473-4610-8f2f-73595c7a66b3",
   "metadata": {},
   "outputs": [],
   "source": [
    "results_dict = {}\n",
    "results_dict[\"Actuals\"] = {}\n",
    "results_dict[\"Preds\"] = {}\n",
    "for i in range(10):\n",
    "    results_dict[\"Actuals\"][i] = y[:, i]\n",
    "    results_dict[\"Preds\"][i] = predictions[:, i]\n"
   ]
  },
  {
   "cell_type": "code",
   "execution_count": 51,
   "id": "09952ee9-2c39-41eb-bd23-92ef76187448",
   "metadata": {},
   "outputs": [
    {
     "data": {
      "text/html": [
       "<div>\n",
       "<style scoped>\n",
       "    .dataframe tbody tr th:only-of-type {\n",
       "        vertical-align: middle;\n",
       "    }\n",
       "\n",
       "    .dataframe tbody tr th {\n",
       "        vertical-align: top;\n",
       "    }\n",
       "\n",
       "    .dataframe thead th {\n",
       "        text-align: right;\n",
       "    }\n",
       "</style>\n",
       "<table border=\"1\" class=\"dataframe\">\n",
       "  <thead>\n",
       "    <tr style=\"text-align: right;\">\n",
       "      <th></th>\n",
       "      <th>Actuals</th>\n",
       "      <th>Preds</th>\n",
       "    </tr>\n",
       "  </thead>\n",
       "  <tbody>\n",
       "    <tr>\n",
       "      <th>c1</th>\n",
       "      <td>10</td>\n",
       "      <td>20</td>\n",
       "    </tr>\n",
       "    <tr>\n",
       "      <th>c2</th>\n",
       "      <td>20</td>\n",
       "      <td>40</td>\n",
       "    </tr>\n",
       "    <tr>\n",
       "      <th>c3</th>\n",
       "      <td>30</td>\n",
       "      <td>60</td>\n",
       "    </tr>\n",
       "  </tbody>\n",
       "</table>\n",
       "</div>"
      ],
      "text/plain": [
       "    Actuals  Preds\n",
       "c1       10     20\n",
       "c2       20     40\n",
       "c3       30     60"
      ]
     },
     "execution_count": 51,
     "metadata": {},
     "output_type": "execute_result"
    }
   ],
   "source": [
    "new_df = pd.DataFrame.from_dict(results_dict)\n",
    "new_df"
   ]
  },
  {
   "cell_type": "code",
   "execution_count": null,
   "id": "e3c7dfcb-13ae-455e-87c7-8ca9f4a94315",
   "metadata": {},
   "outputs": [],
   "source": [
    "train_predictions = model1.predict(X_train).flatten()\n",
    "train_results = pd.DataFrame(data={'Train Predictions':train_predictions, 'Actuals':y_train.flatten()})\n",
    "plt.plot(train_results['Train Predictions'])\n",
    "plt.plot(train_results['Actuals'])"
   ]
  },
  {
   "cell_type": "code",
   "execution_count": 48,
   "id": "3bfbd92a-6d9d-4242-9b74-c2866b1e2c48",
   "metadata": {},
   "outputs": [
    {
     "data": {
      "text/plain": [
       "{'Actuals': {'1': 10, '2': 20, '3': 30}, 'Preds': {'1': 20, '2': 40, '3': 60}}"
      ]
     },
     "execution_count": 48,
     "metadata": {},
     "output_type": "execute_result"
    }
   ],
   "source": [
    "results_dict"
   ]
  }
 ],
 "metadata": {
  "kernelspec": {
   "display_name": "Python 3 (ipykernel)",
   "language": "python",
   "name": "python3"
  },
  "language_info": {
   "codemirror_mode": {
    "name": "ipython",
    "version": 3
   },
   "file_extension": ".py",
   "mimetype": "text/x-python",
   "name": "python",
   "nbconvert_exporter": "python",
   "pygments_lexer": "ipython3",
   "version": "3.8.13"
  }
 },
 "nbformat": 4,
 "nbformat_minor": 5
}
